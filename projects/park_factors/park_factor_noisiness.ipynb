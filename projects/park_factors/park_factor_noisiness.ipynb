{
 "cells": [
  {
   "cell_type": "code",
   "execution_count": 1,
   "metadata": {},
   "outputs": [],
   "source": [
    "# park factor stability\n",
    "\n",
    "# think about triples.  how much noise in a park factor?  how does this change as we add more years"
   ]
  },
  {
   "cell_type": "code",
   "execution_count": 2,
   "metadata": {},
   "outputs": [],
   "source": [
    "# Start with the baseline triples rate (per pa)\n",
    "# Assume a real park effect (e.g., 1.1) # for now do a neutral PF of 1\n",
    "# Compute expected triples rate at home and on road\n",
    "# Run many iterations of:\n",
    "    # Simulate a season's worth of at bats at home and on road\n",
    "    # Compute observed PF\n",
    "# Compute metrics on observations"
   ]
  },
  {
   "cell_type": "code",
   "execution_count": 3,
   "metadata": {},
   "outputs": [],
   "source": [
    "import pandas as pd\n",
    "from io import StringIO\n",
    "import numpy as np\n",
    "import pyretro.boxball_loader as bbl"
   ]
  },
  {
   "cell_type": "code",
   "execution_count": 4,
   "metadata": {},
   "outputs": [
    {
     "data": {
      "text/plain": [
       "Year       12111.000\n",
       "Tms          180.000\n",
       "#Bat        6924.000\n",
       "BatAge       169.200\n",
       "R/G           27.560\n",
       "G          24936.000\n",
       "PA        946364.000\n",
       "AB        845344.000\n",
       "R         114448.000\n",
       "H         211826.000\n",
       "2B         42198.000\n",
       "3B          4035.000\n",
       "HR         30859.000\n",
       "RBI       109240.000\n",
       "SB         12380.000\n",
       "CS          4562.000\n",
       "BB         80699.000\n",
       "SO        211128.000\n",
       "BA             1.497\n",
       "OBP            1.925\n",
       "SLG            2.513\n",
       "OPS            4.439\n",
       "TB        354671.000\n",
       "GDP        18172.000\n",
       "HBP         9770.000\n",
       "SH          4251.000\n",
       "SF          6028.000\n",
       "IBB         4294.000\n",
       "1B        134734.000\n",
       "dtype: float64"
      ]
     },
     "execution_count": 4,
     "metadata": {},
     "output_type": "execute_result"
    }
   ],
   "source": [
    "# Start with the baseline triples rate (per pa)\n",
    "csv_data = \"\"\"Year,Tms,#Bat,BatAge,R/G,G,PA,AB,R,H,2B,3B,HR,RBI,SB,CS,BB,SO,BA,OBP,SLG,OPS,TB,GDP,HBP,SH,SF,IBB\n",
    "2021,30,1272,28.5,4.50,3704,138327,123103,16681,29839,5929,494,4479,15882,1677,545,12109,32426,.242,.316,.408,.724,50193,2492,1629,576,859,508\n",
    "2020,30,618,28.0,4.65,1796,66506,59030,8344,14439,2823,241,2304,7978,885,292,6092,15586,.245,.322,.418,.740,24656,1237,821,126,402,202\n",
    "2019,30,1287,27.9,4.83,4858,186517,166651,23467,42039,8531,785,6776,22471,2280,832,15895,42823,.252,.323,.435,.758,72468,3463,1984,776,1150,753\n",
    "2018,30,1271,28.1,4.45,4862,185139,165432,21630,41018,8264,847,5585,20606,2474,958,15686,41207,.248,.318,.409,.728,67731,3457,1922,823,1235,929\n",
    "2017,30,1229,28.3,4.65,4860,185295,165567,22582,42215,8397,795,6105,21558,2527,934,15829,40104,.255,.324,.426,.750,70517,3804,1763,925,1168,970\n",
    "2016,30,1247,28.4,4.48,4856,184580,165561,21744,42276,8254,873,5610,20745,2537,1001,15088,38982,.255,.322,.417,.739,69106,3719,1651,1025,1214,932\"\"\"\n",
    "\n",
    "df = pd.read_csv(StringIO(csv_data))\n",
    "sums = df.sum()\n",
    "sums['1B'] = sums['H'] - sums['2B'] - sums['3B'] - sums['HR']\n",
    "sums"
   ]
  },
  {
   "cell_type": "code",
   "execution_count": 5,
   "metadata": {},
   "outputs": [
    {
     "data": {
      "text/plain": [
       "{'1B': 0.14237016623624738,\n",
       " '2B': 0.04458960822685563,\n",
       " '3B': 0.004263687122502547,\n",
       " 'HR': 0.03260796057331006,\n",
       " 'BB': 0.08527268577418413}"
      ]
     },
     "execution_count": 5,
     "metadata": {},
     "output_type": "execute_result"
    }
   ],
   "source": [
    "rates = {}\n",
    "stats = ['1B', '2B', '3B', 'HR', 'BB']\n",
    "for stat in stats:\n",
    "    rates[stat] = sums[stat]/sums['PA']\n",
    "rates"
   ]
  },
  {
   "cell_type": "code",
   "execution_count": 6,
   "metadata": {},
   "outputs": [
    {
     "data": {
      "text/plain": [
       "3074.0890279114533"
      ]
     },
     "execution_count": 6,
     "metadata": {},
     "output_type": "execute_result"
    }
   ],
   "source": [
    "# Simulate a season's worth of at bats at home and on road\n",
    "PA_season = sums['PA']/sums['G'] * 81 * 2\n",
    "PA_season_HA = PA_season/2\n",
    "PA_season_HA"
   ]
  },
  {
   "cell_type": "code",
   "execution_count": 7,
   "metadata": {},
   "outputs": [
    {
     "data": {
      "text/plain": [
       "37.95171639396856"
      ]
     },
     "execution_count": 7,
     "metadata": {},
     "output_type": "execute_result"
    }
   ],
   "source": [
    "sums['PA']/sums['G']"
   ]
  },
  {
   "cell_type": "code",
   "execution_count": 8,
   "metadata": {},
   "outputs": [],
   "source": [
    "def generate_series_values(n, p, iterations):\n",
    "    return pd.Series([np.random.binomial(n, p) for _ in range(iterations)])"
   ]
  },
  {
   "cell_type": "code",
   "execution_count": 9,
   "metadata": {},
   "outputs": [
    {
     "data": {
      "text/plain": [
       "0     0.900000\n",
       "1     0.235294\n",
       "2     0.736842\n",
       "3     0.666667\n",
       "4     0.750000\n",
       "        ...   \n",
       "95    1.294118\n",
       "96    1.875000\n",
       "97    1.166667\n",
       "98    0.666667\n",
       "99    0.789474\n",
       "Length: 100, dtype: float64"
      ]
     },
     "execution_count": 9,
     "metadata": {},
     "output_type": "execute_result"
    }
   ],
   "source": [
    "def generate_pfs(n, p, iterations):\n",
    "    stat_h = generate_series_values(n, p, iterations)\n",
    "    stat_a = generate_series_values(n, p, iterations)\n",
    "    pfs = stat_h/stat_a\n",
    "    return pfs\n",
    "\n",
    "generate_pfs(PA_season_HA, rates['3B'], 100)"
   ]
  },
  {
   "cell_type": "code",
   "execution_count": 10,
   "metadata": {},
   "outputs": [
    {
     "data": {
      "text/plain": [
       "count    1.000000e+05\n",
       "mean              inf\n",
       "std               NaN\n",
       "min      5.882353e-02\n",
       "25%      7.647059e-01\n",
       "50%      1.000000e+00\n",
       "75%      1.307692e+00\n",
       "max               inf\n",
       "dtype: float64"
      ]
     },
     "execution_count": 10,
     "metadata": {},
     "output_type": "execute_result"
    }
   ],
   "source": [
    "generate_pfs(PA_season_HA, rates['3B'], 100*1000).describe()"
   ]
  },
  {
   "cell_type": "code",
   "execution_count": 11,
   "metadata": {},
   "outputs": [
    {
     "data": {
      "text/plain": [
       "{'1B': 0.06285714422046633,\n",
       " '2B': 0.1200253549781364,\n",
       " '3B': 0.4866705331014393,\n",
       " 'HR': 0.1421361972236783,\n",
       " 'BB': 0.08422662311943024}"
      ]
     },
     "execution_count": 11,
     "metadata": {},
     "output_type": "execute_result"
    }
   ],
   "source": [
    "def run_sim(sample_size_in_seasons):\n",
    "    pfs = {}\n",
    "    for stat in stats:\n",
    "        pfs[stat] = generate_pfs(PA_season_HA * sample_size_in_seasons, rates[stat], 100*1000).std()\n",
    "    return pfs\n",
    "\n",
    "run_sim(1)"
   ]
  },
  {
   "cell_type": "code",
   "execution_count": 12,
   "metadata": {},
   "outputs": [],
   "source": [
    "output = {i: run_sim(i) for i in range (1, 20)}\n",
    "#pd.concat(output, axis=1)"
   ]
  },
  {
   "cell_type": "code",
   "execution_count": 13,
   "metadata": {},
   "outputs": [
    {
     "data": {
      "text/plain": [
       "{1: {'1B': 0.06278510336701283,\n",
       "  '2B': 0.11974378114988082,\n",
       "  '3B': 0.5000431324362724,\n",
       "  'HR': 0.14265361616393823,\n",
       "  'BB': 0.0841834335360671},\n",
       " 2: {'1B': 0.04454993254233398,\n",
       "  '2B': 0.08439107184743327,\n",
       "  '3B': 0.3043308016803164,\n",
       "  'HR': 0.09923196107695466,\n",
       "  'BB': 0.05929586616902091},\n",
       " 3: {'1B': 0.03645900341318967,\n",
       "  '2B': 0.0684686298258722,\n",
       "  '3B': 0.2390229189453656,\n",
       "  'HR': 0.08068834583321742,\n",
       "  'BB': 0.04836717311569398},\n",
       " 4: {'1B': 0.031352883301968705,\n",
       "  '2B': 0.05919271712150259,\n",
       "  '3B': 0.2049646532844548,\n",
       "  'HR': 0.0695661183279779,\n",
       "  'BB': 0.04194702020675885},\n",
       " 5: {'1B': 0.027814874101859812,\n",
       "  '2B': 0.052899654994668616,\n",
       "  '3B': 0.18094616817225448,\n",
       "  'HR': 0.06275196167612138,\n",
       "  'BB': 0.037414831416711675},\n",
       " 6: {'1B': 0.025484775353102996,\n",
       "  '2B': 0.04844180238009275,\n",
       "  '3B': 0.16403991001125456,\n",
       "  'HR': 0.05683592453053782,\n",
       "  'BB': 0.03437200820827584},\n",
       " 7: {'1B': 0.023666980161177992,\n",
       "  '2B': 0.044775084756066785,\n",
       "  '3B': 0.1507166442925948,\n",
       "  'HR': 0.05275505769684603,\n",
       "  'BB': 0.031631795826007246},\n",
       " 8: {'1B': 0.022119219039661676,\n",
       "  '2B': 0.041912400971097344,\n",
       "  '3B': 0.1405319122721454,\n",
       "  'HR': 0.0491008630431801,\n",
       "  'BB': 0.029635944015357796},\n",
       " 9: {'1B': 0.02091468098481975,\n",
       "  '2B': 0.03952062546629955,\n",
       "  '3B': 0.13237614583677682,\n",
       "  'HR': 0.0466417750770944,\n",
       "  'BB': 0.02789485056582002},\n",
       " 10: {'1B': 0.01980309996132165,\n",
       "  '2B': 0.03744090836620053,\n",
       "  '3B': 0.12614152145474666,\n",
       "  'HR': 0.04412311803484258,\n",
       "  'BB': 0.026524601670044994},\n",
       " 11: {'1B': 0.018869999737428568,\n",
       "  '2B': 0.03570146314849314,\n",
       "  '3B': 0.11959124344547493,\n",
       "  'HR': 0.041965697159499556,\n",
       "  'BB': 0.025174918332586484},\n",
       " 12: {'1B': 0.01807784505776315,\n",
       "  '2B': 0.03415807651525429,\n",
       "  '3B': 0.1141836191774866,\n",
       "  'HR': 0.04017694433057463,\n",
       "  'BB': 0.02417483469638374},\n",
       " 13: {'1B': 0.017328606677155557,\n",
       "  '2B': 0.032922696166041474,\n",
       "  '3B': 0.10926328498650466,\n",
       "  'HR': 0.03861399752764266,\n",
       "  'BB': 0.023176375214962706},\n",
       " 14: {'1B': 0.016752228396670774,\n",
       "  '2B': 0.031570946862718344,\n",
       "  '3B': 0.1054982877369027,\n",
       "  'HR': 0.03727664376559283,\n",
       "  'BB': 0.022310359521156665},\n",
       " 15: {'1B': 0.01625023329454588,\n",
       "  '2B': 0.03044891419905311,\n",
       "  '3B': 0.10184266620539809,\n",
       "  'HR': 0.035912251667596255,\n",
       "  'BB': 0.021541564653024505},\n",
       " 16: {'1B': 0.0157081743341472,\n",
       "  '2B': 0.029546440794309004,\n",
       "  '3B': 0.09852926569624534,\n",
       "  'HR': 0.03480350367005855,\n",
       "  'BB': 0.02093740220824305},\n",
       " 17: {'1B': 0.015189407422851593,\n",
       "  '2B': 0.028637969413428045,\n",
       "  '3B': 0.09553825024276577,\n",
       "  'HR': 0.03375149900696124,\n",
       "  'BB': 0.020277649399293916},\n",
       " 18: {'1B': 0.014739976116680008,\n",
       "  '2B': 0.02788707882014684,\n",
       "  '3B': 0.09280947686345048,\n",
       "  'HR': 0.032810981436791245,\n",
       "  'BB': 0.019675464668229576},\n",
       " 19: {'1B': 0.014317557654651616,\n",
       "  '2B': 0.0270546528568319,\n",
       "  '3B': 0.09041473555226659,\n",
       "  'HR': 0.03205012277104264,\n",
       "  'BB': 0.019167693909259865}}"
      ]
     },
     "execution_count": 13,
     "metadata": {},
     "output_type": "execute_result"
    }
   ],
   "source": [
    "output"
   ]
  },
  {
   "cell_type": "code",
   "execution_count": 14,
   "metadata": {},
   "outputs": [
    {
     "data": {
      "text/html": [
       "<div>\n",
       "<style scoped>\n",
       "    .dataframe tbody tr th:only-of-type {\n",
       "        vertical-align: middle;\n",
       "    }\n",
       "\n",
       "    .dataframe tbody tr th {\n",
       "        vertical-align: top;\n",
       "    }\n",
       "\n",
       "    .dataframe thead th {\n",
       "        text-align: right;\n",
       "    }\n",
       "</style>\n",
       "<table border=\"1\" class=\"dataframe\">\n",
       "  <thead>\n",
       "    <tr style=\"text-align: right;\">\n",
       "      <th></th>\n",
       "      <th>1B</th>\n",
       "      <th>2B</th>\n",
       "      <th>3B</th>\n",
       "      <th>HR</th>\n",
       "      <th>BB</th>\n",
       "    </tr>\n",
       "  </thead>\n",
       "  <tbody>\n",
       "    <tr>\n",
       "      <th>1</th>\n",
       "      <td>0.062785</td>\n",
       "      <td>0.119744</td>\n",
       "      <td>0.500043</td>\n",
       "      <td>0.142654</td>\n",
       "      <td>0.084183</td>\n",
       "    </tr>\n",
       "    <tr>\n",
       "      <th>2</th>\n",
       "      <td>0.044550</td>\n",
       "      <td>0.084391</td>\n",
       "      <td>0.304331</td>\n",
       "      <td>0.099232</td>\n",
       "      <td>0.059296</td>\n",
       "    </tr>\n",
       "    <tr>\n",
       "      <th>3</th>\n",
       "      <td>0.036459</td>\n",
       "      <td>0.068469</td>\n",
       "      <td>0.239023</td>\n",
       "      <td>0.080688</td>\n",
       "      <td>0.048367</td>\n",
       "    </tr>\n",
       "    <tr>\n",
       "      <th>4</th>\n",
       "      <td>0.031353</td>\n",
       "      <td>0.059193</td>\n",
       "      <td>0.204965</td>\n",
       "      <td>0.069566</td>\n",
       "      <td>0.041947</td>\n",
       "    </tr>\n",
       "    <tr>\n",
       "      <th>5</th>\n",
       "      <td>0.027815</td>\n",
       "      <td>0.052900</td>\n",
       "      <td>0.180946</td>\n",
       "      <td>0.062752</td>\n",
       "      <td>0.037415</td>\n",
       "    </tr>\n",
       "    <tr>\n",
       "      <th>6</th>\n",
       "      <td>0.025485</td>\n",
       "      <td>0.048442</td>\n",
       "      <td>0.164040</td>\n",
       "      <td>0.056836</td>\n",
       "      <td>0.034372</td>\n",
       "    </tr>\n",
       "    <tr>\n",
       "      <th>7</th>\n",
       "      <td>0.023667</td>\n",
       "      <td>0.044775</td>\n",
       "      <td>0.150717</td>\n",
       "      <td>0.052755</td>\n",
       "      <td>0.031632</td>\n",
       "    </tr>\n",
       "    <tr>\n",
       "      <th>8</th>\n",
       "      <td>0.022119</td>\n",
       "      <td>0.041912</td>\n",
       "      <td>0.140532</td>\n",
       "      <td>0.049101</td>\n",
       "      <td>0.029636</td>\n",
       "    </tr>\n",
       "    <tr>\n",
       "      <th>9</th>\n",
       "      <td>0.020915</td>\n",
       "      <td>0.039521</td>\n",
       "      <td>0.132376</td>\n",
       "      <td>0.046642</td>\n",
       "      <td>0.027895</td>\n",
       "    </tr>\n",
       "    <tr>\n",
       "      <th>10</th>\n",
       "      <td>0.019803</td>\n",
       "      <td>0.037441</td>\n",
       "      <td>0.126142</td>\n",
       "      <td>0.044123</td>\n",
       "      <td>0.026525</td>\n",
       "    </tr>\n",
       "    <tr>\n",
       "      <th>11</th>\n",
       "      <td>0.018870</td>\n",
       "      <td>0.035701</td>\n",
       "      <td>0.119591</td>\n",
       "      <td>0.041966</td>\n",
       "      <td>0.025175</td>\n",
       "    </tr>\n",
       "    <tr>\n",
       "      <th>12</th>\n",
       "      <td>0.018078</td>\n",
       "      <td>0.034158</td>\n",
       "      <td>0.114184</td>\n",
       "      <td>0.040177</td>\n",
       "      <td>0.024175</td>\n",
       "    </tr>\n",
       "    <tr>\n",
       "      <th>13</th>\n",
       "      <td>0.017329</td>\n",
       "      <td>0.032923</td>\n",
       "      <td>0.109263</td>\n",
       "      <td>0.038614</td>\n",
       "      <td>0.023176</td>\n",
       "    </tr>\n",
       "    <tr>\n",
       "      <th>14</th>\n",
       "      <td>0.016752</td>\n",
       "      <td>0.031571</td>\n",
       "      <td>0.105498</td>\n",
       "      <td>0.037277</td>\n",
       "      <td>0.022310</td>\n",
       "    </tr>\n",
       "    <tr>\n",
       "      <th>15</th>\n",
       "      <td>0.016250</td>\n",
       "      <td>0.030449</td>\n",
       "      <td>0.101843</td>\n",
       "      <td>0.035912</td>\n",
       "      <td>0.021542</td>\n",
       "    </tr>\n",
       "    <tr>\n",
       "      <th>16</th>\n",
       "      <td>0.015708</td>\n",
       "      <td>0.029546</td>\n",
       "      <td>0.098529</td>\n",
       "      <td>0.034804</td>\n",
       "      <td>0.020937</td>\n",
       "    </tr>\n",
       "    <tr>\n",
       "      <th>17</th>\n",
       "      <td>0.015189</td>\n",
       "      <td>0.028638</td>\n",
       "      <td>0.095538</td>\n",
       "      <td>0.033751</td>\n",
       "      <td>0.020278</td>\n",
       "    </tr>\n",
       "    <tr>\n",
       "      <th>18</th>\n",
       "      <td>0.014740</td>\n",
       "      <td>0.027887</td>\n",
       "      <td>0.092809</td>\n",
       "      <td>0.032811</td>\n",
       "      <td>0.019675</td>\n",
       "    </tr>\n",
       "    <tr>\n",
       "      <th>19</th>\n",
       "      <td>0.014318</td>\n",
       "      <td>0.027055</td>\n",
       "      <td>0.090415</td>\n",
       "      <td>0.032050</td>\n",
       "      <td>0.019168</td>\n",
       "    </tr>\n",
       "  </tbody>\n",
       "</table>\n",
       "</div>"
      ],
      "text/plain": [
       "          1B        2B        3B        HR        BB\n",
       "1   0.062785  0.119744  0.500043  0.142654  0.084183\n",
       "2   0.044550  0.084391  0.304331  0.099232  0.059296\n",
       "3   0.036459  0.068469  0.239023  0.080688  0.048367\n",
       "4   0.031353  0.059193  0.204965  0.069566  0.041947\n",
       "5   0.027815  0.052900  0.180946  0.062752  0.037415\n",
       "6   0.025485  0.048442  0.164040  0.056836  0.034372\n",
       "7   0.023667  0.044775  0.150717  0.052755  0.031632\n",
       "8   0.022119  0.041912  0.140532  0.049101  0.029636\n",
       "9   0.020915  0.039521  0.132376  0.046642  0.027895\n",
       "10  0.019803  0.037441  0.126142  0.044123  0.026525\n",
       "11  0.018870  0.035701  0.119591  0.041966  0.025175\n",
       "12  0.018078  0.034158  0.114184  0.040177  0.024175\n",
       "13  0.017329  0.032923  0.109263  0.038614  0.023176\n",
       "14  0.016752  0.031571  0.105498  0.037277  0.022310\n",
       "15  0.016250  0.030449  0.101843  0.035912  0.021542\n",
       "16  0.015708  0.029546  0.098529  0.034804  0.020937\n",
       "17  0.015189  0.028638  0.095538  0.033751  0.020278\n",
       "18  0.014740  0.027887  0.092809  0.032811  0.019675\n",
       "19  0.014318  0.027055  0.090415  0.032050  0.019168"
      ]
     },
     "execution_count": 14,
     "metadata": {},
     "output_type": "execute_result"
    }
   ],
   "source": [
    "std_devs = pd.DataFrame(output).T\n",
    "std_devs"
   ]
  },
  {
   "cell_type": "code",
   "execution_count": 15,
   "metadata": {},
   "outputs": [
    {
     "name": "stdout",
     "output_type": "stream",
     "text": [
      "|    |    1B |    2B |    3B |    HR |    BB |\n",
      "|---:|------:|------:|------:|------:|------:|\n",
      "|  1 | 0.063 | 0.12  | 0.5   | 0.143 | 0.084 |\n",
      "|  2 | 0.045 | 0.084 | 0.304 | 0.099 | 0.059 |\n",
      "|  3 | 0.036 | 0.068 | 0.239 | 0.081 | 0.048 |\n",
      "|  4 | 0.031 | 0.059 | 0.205 | 0.07  | 0.042 |\n",
      "|  5 | 0.028 | 0.053 | 0.181 | 0.063 | 0.037 |\n",
      "|  6 | 0.025 | 0.048 | 0.164 | 0.057 | 0.034 |\n",
      "|  7 | 0.024 | 0.045 | 0.151 | 0.053 | 0.032 |\n",
      "|  8 | 0.022 | 0.042 | 0.141 | 0.049 | 0.03  |\n",
      "|  9 | 0.021 | 0.04  | 0.132 | 0.047 | 0.028 |\n",
      "| 10 | 0.02  | 0.037 | 0.126 | 0.044 | 0.027 |\n",
      "| 11 | 0.019 | 0.036 | 0.12  | 0.042 | 0.025 |\n",
      "| 12 | 0.018 | 0.034 | 0.114 | 0.04  | 0.024 |\n",
      "| 13 | 0.017 | 0.033 | 0.109 | 0.039 | 0.023 |\n",
      "| 14 | 0.017 | 0.032 | 0.105 | 0.037 | 0.022 |\n",
      "| 15 | 0.016 | 0.03  | 0.102 | 0.036 | 0.022 |\n",
      "| 16 | 0.016 | 0.03  | 0.099 | 0.035 | 0.021 |\n",
      "| 17 | 0.015 | 0.029 | 0.096 | 0.034 | 0.02  |\n",
      "| 18 | 0.015 | 0.028 | 0.093 | 0.033 | 0.02  |\n",
      "| 19 | 0.014 | 0.027 | 0.09  | 0.032 | 0.019 |\n"
     ]
    }
   ],
   "source": [
    "print(std_devs.apply(lambda x: round(x, 3)).to_markdown())"
   ]
  },
  {
   "cell_type": "code",
   "execution_count": 16,
   "metadata": {},
   "outputs": [
    {
     "data": {
      "text/plain": [
       "Index(['game_id', 'date', 'double_header', 'yr', 'game_type', 'park_id',\n",
       "       'team', 'team_league', 'team_game_number', 'runs_scored', 'line_score',\n",
       "       'ab', 'h', 'd', 't', 'hr', 'rbi', 'sh', 'sf', 'hbp', 'bb', 'ibb', 'k',\n",
       "       'sb', 'cs', 'gdp', 'ci', 'lob', 'pitchers', 'er', 'ter', 'wp', 'balks',\n",
       "       'po', 'a', 'e', 'passed', 'db', 'tp', 'manager_id', 'manager_name',\n",
       "       'starting_pitcher_id', 'starting_pitcher_name', 'batting_1_player_id',\n",
       "       'batting_1_name', 'batting_1_position', 'batting_2_player_id',\n",
       "       'batting_2_name', 'batting_2_position', 'batting_3_player_id',\n",
       "       'batting_3_name', 'batting_3_position', 'batting_4_player_id',\n",
       "       'batting_4_name', 'batting_4_position', 'batting_5_player_id',\n",
       "       'batting_5_name', 'batting_5_position', 'batting_6_player_id',\n",
       "       'batting_6_name', 'batting_6_position', 'batting_7_player_id',\n",
       "       'batting_7_name', 'batting_7_position', 'batting_8_player_id',\n",
       "       'batting_8_name', 'batting_8_position', 'batting_9_player_id',\n",
       "       'batting_9_name', 'batting_9_position', 'HA', 'opp', 'runs_allowed',\n",
       "       'W', 'L', 'linescore_parsed', '1b'],\n",
       "      dtype='object')"
      ]
     },
     "execution_count": 16,
     "metadata": {},
     "output_type": "execute_result"
    }
   ],
   "source": [
    "# How do these compare to observed component PFs?\n",
    "\n",
    "glt = bbl.load_gamelog_teams(game_types=bbl.GameType.RS, seasons=bbl.Seasons(2010,2019))\n",
    "glt['1b'] = glt['h'] - glt['d'] - glt['t'] - glt['hr']\n",
    "glt.columns"
   ]
  },
  {
   "cell_type": "code",
   "execution_count": 17,
   "metadata": {},
   "outputs": [],
   "source": [
    "stats_glt = ['1b', 'd', 't', 'hr', 'bb']\n"
   ]
  },
  {
   "cell_type": "code",
   "execution_count": 18,
   "metadata": {},
   "outputs": [
    {
     "data": {
      "text/html": [
       "<div>\n",
       "<style scoped>\n",
       "    .dataframe tbody tr th:only-of-type {\n",
       "        vertical-align: middle;\n",
       "    }\n",
       "\n",
       "    .dataframe tbody tr th {\n",
       "        vertical-align: top;\n",
       "    }\n",
       "\n",
       "    .dataframe thead th {\n",
       "        text-align: right;\n",
       "    }\n",
       "</style>\n",
       "<table border=\"1\" class=\"dataframe\">\n",
       "  <thead>\n",
       "    <tr style=\"text-align: right;\">\n",
       "      <th></th>\n",
       "      <th></th>\n",
       "      <th>1b</th>\n",
       "      <th>d</th>\n",
       "      <th>t</th>\n",
       "      <th>hr</th>\n",
       "      <th>bb</th>\n",
       "    </tr>\n",
       "    <tr>\n",
       "      <th>team</th>\n",
       "      <th>yr</th>\n",
       "      <th></th>\n",
       "      <th></th>\n",
       "      <th></th>\n",
       "      <th></th>\n",
       "      <th></th>\n",
       "    </tr>\n",
       "  </thead>\n",
       "  <tbody>\n",
       "    <tr>\n",
       "      <th rowspan=\"5\" valign=\"top\">ANA</th>\n",
       "      <th>2010</th>\n",
       "      <td>0.997812</td>\n",
       "      <td>0.903448</td>\n",
       "      <td>0.461538</td>\n",
       "      <td>0.802326</td>\n",
       "      <td>0.991453</td>\n",
       "    </tr>\n",
       "    <tr>\n",
       "      <th>2011</th>\n",
       "      <td>1.000000</td>\n",
       "      <td>0.817610</td>\n",
       "      <td>0.700000</td>\n",
       "      <td>0.666667</td>\n",
       "      <td>0.982063</td>\n",
       "    </tr>\n",
       "    <tr>\n",
       "      <th>2012</th>\n",
       "      <td>0.876812</td>\n",
       "      <td>1.068182</td>\n",
       "      <td>1.444444</td>\n",
       "      <td>0.780952</td>\n",
       "      <td>0.753906</td>\n",
       "    </tr>\n",
       "    <tr>\n",
       "      <th>2013</th>\n",
       "      <td>1.076605</td>\n",
       "      <td>0.862069</td>\n",
       "      <td>0.950000</td>\n",
       "      <td>0.885057</td>\n",
       "      <td>0.958801</td>\n",
       "    </tr>\n",
       "    <tr>\n",
       "      <th>2014</th>\n",
       "      <td>0.979675</td>\n",
       "      <td>0.798817</td>\n",
       "      <td>0.550000</td>\n",
       "      <td>0.890244</td>\n",
       "      <td>0.975904</td>\n",
       "    </tr>\n",
       "    <tr>\n",
       "      <th>...</th>\n",
       "      <th>...</th>\n",
       "      <td>...</td>\n",
       "      <td>...</td>\n",
       "      <td>...</td>\n",
       "      <td>...</td>\n",
       "      <td>...</td>\n",
       "    </tr>\n",
       "    <tr>\n",
       "      <th rowspan=\"5\" valign=\"top\">WAS</th>\n",
       "      <th>2015</th>\n",
       "      <td>0.969631</td>\n",
       "      <td>1.120000</td>\n",
       "      <td>0.300000</td>\n",
       "      <td>1.058140</td>\n",
       "      <td>1.081081</td>\n",
       "    </tr>\n",
       "    <tr>\n",
       "      <th>2016</th>\n",
       "      <td>0.929487</td>\n",
       "      <td>0.848276</td>\n",
       "      <td>0.933333</td>\n",
       "      <td>1.009901</td>\n",
       "      <td>1.038023</td>\n",
       "    </tr>\n",
       "    <tr>\n",
       "      <th>2017</th>\n",
       "      <td>1.254902</td>\n",
       "      <td>1.059603</td>\n",
       "      <td>0.631579</td>\n",
       "      <td>0.990741</td>\n",
       "      <td>1.029963</td>\n",
       "    </tr>\n",
       "    <tr>\n",
       "      <th>2018</th>\n",
       "      <td>1.036117</td>\n",
       "      <td>1.272000</td>\n",
       "      <td>0.785714</td>\n",
       "      <td>1.010526</td>\n",
       "      <td>1.055375</td>\n",
       "    </tr>\n",
       "    <tr>\n",
       "      <th>2019</th>\n",
       "      <td>0.935760</td>\n",
       "      <td>1.207407</td>\n",
       "      <td>0.928571</td>\n",
       "      <td>1.287129</td>\n",
       "      <td>1.063604</td>\n",
       "    </tr>\n",
       "  </tbody>\n",
       "</table>\n",
       "<p>300 rows × 5 columns</p>\n",
       "</div>"
      ],
      "text/plain": [
       "                 1b         d         t        hr        bb\n",
       "team yr                                                    \n",
       "ANA  2010  0.997812  0.903448  0.461538  0.802326  0.991453\n",
       "     2011  1.000000  0.817610  0.700000  0.666667  0.982063\n",
       "     2012  0.876812  1.068182  1.444444  0.780952  0.753906\n",
       "     2013  1.076605  0.862069  0.950000  0.885057  0.958801\n",
       "     2014  0.979675  0.798817  0.550000  0.890244  0.975904\n",
       "...             ...       ...       ...       ...       ...\n",
       "WAS  2015  0.969631  1.120000  0.300000  1.058140  1.081081\n",
       "     2016  0.929487  0.848276  0.933333  1.009901  1.038023\n",
       "     2017  1.254902  1.059603  0.631579  0.990741  1.029963\n",
       "     2018  1.036117  1.272000  0.785714  1.010526  1.055375\n",
       "     2019  0.935760  1.207407  0.928571  1.287129  1.063604\n",
       "\n",
       "[300 rows x 5 columns]"
      ]
     },
     "execution_count": 18,
     "metadata": {},
     "output_type": "execute_result"
    }
   ],
   "source": [
    "totals = glt.groupby(['HA', 'team', 'yr'])[stats_glt].sum().stack().unstack(level=['HA'])\n",
    "pfs = totals['H']/totals['A']\n",
    "pfs.unstack(level=-1)"
   ]
  },
  {
   "cell_type": "code",
   "execution_count": null,
   "metadata": {},
   "outputs": [],
   "source": []
  }
 ],
 "metadata": {
  "interpreter": {
   "hash": "344443636c3027c5042750c9c609acdda283a9c43681b128a8c1053e7ad2aa7d"
  },
  "kernelspec": {
   "display_name": "Python 3.8.8 64-bit ('base': conda)",
   "name": "python3"
  },
  "language_info": {
   "codemirror_mode": {
    "name": "ipython",
    "version": 3
   },
   "file_extension": ".py",
   "mimetype": "text/x-python",
   "name": "python",
   "nbconvert_exporter": "python",
   "pygments_lexer": "ipython3",
   "version": "3.9.16"
  },
  "orig_nbformat": 4
 },
 "nbformat": 4,
 "nbformat_minor": 2
}
