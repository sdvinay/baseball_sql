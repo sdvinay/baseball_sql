{
 "cells": [
  {
   "attachments": {},
   "cell_type": "markdown",
   "metadata": {},
   "source": [
    "## How to measure run support\n",
    "\n",
    "* Model the run environment, based on:\n",
    "** year\n",
    "** park\n",
    "** DH presence\n",
    "** home/away?\n",
    "* Predict RE for each game\n",
    "* Bucket games by run environment\n",
    "* Compute the RS distribution by run environment bucket\n",
    "** Convert these to winning percentages\n",
    "* Merge in the winning percentage based on RS and RE"
   ]
  },
  {
   "cell_type": "code",
   "execution_count": 2,
   "metadata": {},
   "outputs": [],
   "source": [
    "import pandas as pd\n",
    "import numpy as np\n",
    "import plotly.express as px\n",
    "from sklearn.linear_model import LinearRegression\n",
    "from sklearn.metrics import mean_squared_error\n",
    "\n",
    "import pyretro.boxball_loader as bbl"
   ]
  },
  {
   "cell_type": "code",
   "execution_count": 3,
   "metadata": {},
   "outputs": [
    {
     "data": {
      "text/html": [
       "<div>\n",
       "<style scoped>\n",
       "    .dataframe tbody tr th:only-of-type {\n",
       "        vertical-align: middle;\n",
       "    }\n",
       "\n",
       "    .dataframe tbody tr th {\n",
       "        vertical-align: top;\n",
       "    }\n",
       "\n",
       "    .dataframe thead th {\n",
       "        text-align: right;\n",
       "    }\n",
       "</style>\n",
       "<table border=\"1\" class=\"dataframe\">\n",
       "  <thead>\n",
       "    <tr style=\"text-align: right;\">\n",
       "      <th></th>\n",
       "      <th>game_id</th>\n",
       "      <th>date</th>\n",
       "      <th>double_header</th>\n",
       "      <th>yr</th>\n",
       "      <th>game_type</th>\n",
       "      <th>park_id</th>\n",
       "      <th>team</th>\n",
       "      <th>team_league</th>\n",
       "      <th>team_game_number</th>\n",
       "      <th>runs_scored</th>\n",
       "      <th>...</th>\n",
       "      <th>batting_9_name</th>\n",
       "      <th>batting_9_position</th>\n",
       "      <th>HA</th>\n",
       "      <th>opp</th>\n",
       "      <th>runs_allowed</th>\n",
       "      <th>W</th>\n",
       "      <th>L</th>\n",
       "      <th>linescore_parsed</th>\n",
       "      <th>runs_scored_9</th>\n",
       "      <th>dh_fl</th>\n",
       "    </tr>\n",
       "  </thead>\n",
       "  <tbody>\n",
       "    <tr>\n",
       "      <th>0</th>\n",
       "      <td>TBA199803310</td>\n",
       "      <td>1998-03-31</td>\n",
       "      <td>0</td>\n",
       "      <td>1998</td>\n",
       "      <td>RS</td>\n",
       "      <td>STP01</td>\n",
       "      <td>DET</td>\n",
       "      <td>AL</td>\n",
       "      <td>1</td>\n",
       "      <td>11</td>\n",
       "      <td>...</td>\n",
       "      <td>Billy Ripken</td>\n",
       "      <td>6.0</td>\n",
       "      <td>A</td>\n",
       "      <td>TBA</td>\n",
       "      <td>6</td>\n",
       "      <td>True</td>\n",
       "      <td>False</td>\n",
       "      <td>[0.0, 4.0, 2.0, 0.0, 5.0, 0.0, 0.0, 0.0, 0.0]</td>\n",
       "      <td>11</td>\n",
       "      <td>True</td>\n",
       "    </tr>\n",
       "    <tr>\n",
       "      <th>1</th>\n",
       "      <td>SEA199803310</td>\n",
       "      <td>1998-03-31</td>\n",
       "      <td>0</td>\n",
       "      <td>1998</td>\n",
       "      <td>RS</td>\n",
       "      <td>SEA02</td>\n",
       "      <td>CLE</td>\n",
       "      <td>AL</td>\n",
       "      <td>1</td>\n",
       "      <td>10</td>\n",
       "      <td>...</td>\n",
       "      <td>Enrique Wilson</td>\n",
       "      <td>4.0</td>\n",
       "      <td>A</td>\n",
       "      <td>SEA</td>\n",
       "      <td>9</td>\n",
       "      <td>True</td>\n",
       "      <td>False</td>\n",
       "      <td>[0.0, 0.0, 2.0, 1.0, 0.0, 3.0, 0.0, 4.0, 0.0]</td>\n",
       "      <td>10</td>\n",
       "      <td>True</td>\n",
       "    </tr>\n",
       "    <tr>\n",
       "      <th>2</th>\n",
       "      <td>TEX199803310</td>\n",
       "      <td>1998-03-31</td>\n",
       "      <td>0</td>\n",
       "      <td>1998</td>\n",
       "      <td>RS</td>\n",
       "      <td>ARL02</td>\n",
       "      <td>CHA</td>\n",
       "      <td>AL</td>\n",
       "      <td>1</td>\n",
       "      <td>9</td>\n",
       "      <td>...</td>\n",
       "      <td>Mike Caruso</td>\n",
       "      <td>6.0</td>\n",
       "      <td>A</td>\n",
       "      <td>TEX</td>\n",
       "      <td>2</td>\n",
       "      <td>True</td>\n",
       "      <td>False</td>\n",
       "      <td>[0.0, 0.0, 0.0, 0.0, 7.0, 0.0, 1.0, 0.0, 1.0]</td>\n",
       "      <td>9</td>\n",
       "      <td>True</td>\n",
       "    </tr>\n",
       "    <tr>\n",
       "      <th>3</th>\n",
       "      <td>ARI199803310</td>\n",
       "      <td>1998-03-31</td>\n",
       "      <td>0</td>\n",
       "      <td>1998</td>\n",
       "      <td>RS</td>\n",
       "      <td>PHO01</td>\n",
       "      <td>COL</td>\n",
       "      <td>NL</td>\n",
       "      <td>1</td>\n",
       "      <td>9</td>\n",
       "      <td>...</td>\n",
       "      <td>Darryl Kile</td>\n",
       "      <td>1.0</td>\n",
       "      <td>A</td>\n",
       "      <td>ARI</td>\n",
       "      <td>2</td>\n",
       "      <td>True</td>\n",
       "      <td>False</td>\n",
       "      <td>[0.0, 1.0, 0.0, 0.0, 0.0, 2.0, 5.0, 1.0, 0.0]</td>\n",
       "      <td>9</td>\n",
       "      <td>False</td>\n",
       "    </tr>\n",
       "    <tr>\n",
       "      <th>4</th>\n",
       "      <td>ATL199803310</td>\n",
       "      <td>1998-03-31</td>\n",
       "      <td>0</td>\n",
       "      <td>1998</td>\n",
       "      <td>RS</td>\n",
       "      <td>ATL02</td>\n",
       "      <td>MIL</td>\n",
       "      <td>NL</td>\n",
       "      <td>1</td>\n",
       "      <td>1</td>\n",
       "      <td>...</td>\n",
       "      <td>Cal Eldred</td>\n",
       "      <td>1.0</td>\n",
       "      <td>A</td>\n",
       "      <td>ATL</td>\n",
       "      <td>2</td>\n",
       "      <td>False</td>\n",
       "      <td>True</td>\n",
       "      <td>[0.0, 0.0, 1.0, 0.0, 0.0, 0.0, 0.0, 0.0, 0.0]</td>\n",
       "      <td>1</td>\n",
       "      <td>False</td>\n",
       "    </tr>\n",
       "    <tr>\n",
       "      <th>...</th>\n",
       "      <td>...</td>\n",
       "      <td>...</td>\n",
       "      <td>...</td>\n",
       "      <td>...</td>\n",
       "      <td>...</td>\n",
       "      <td>...</td>\n",
       "      <td>...</td>\n",
       "      <td>...</td>\n",
       "      <td>...</td>\n",
       "      <td>...</td>\n",
       "      <td>...</td>\n",
       "      <td>...</td>\n",
       "      <td>...</td>\n",
       "      <td>...</td>\n",
       "      <td>...</td>\n",
       "      <td>...</td>\n",
       "      <td>...</td>\n",
       "      <td>...</td>\n",
       "      <td>...</td>\n",
       "      <td>...</td>\n",
       "      <td>...</td>\n",
       "    </tr>\n",
       "    <tr>\n",
       "      <th>118405</th>\n",
       "      <td>CIN202210050</td>\n",
       "      <td>2022-10-05</td>\n",
       "      <td>0</td>\n",
       "      <td>2022</td>\n",
       "      <td>RS</td>\n",
       "      <td>CIN09</td>\n",
       "      <td>CIN</td>\n",
       "      <td>NL</td>\n",
       "      <td>162</td>\n",
       "      <td>2</td>\n",
       "      <td>...</td>\n",
       "      <td>Austin Romine</td>\n",
       "      <td>2.0</td>\n",
       "      <td>H</td>\n",
       "      <td>CHN</td>\n",
       "      <td>15</td>\n",
       "      <td>False</td>\n",
       "      <td>True</td>\n",
       "      <td>[0.0, 1.0, 1.0, 0.0, 0.0, 0.0, 0.0, 0.0, 0.0]</td>\n",
       "      <td>2</td>\n",
       "      <td>True</td>\n",
       "    </tr>\n",
       "    <tr>\n",
       "      <th>118406</th>\n",
       "      <td>MIA202210050</td>\n",
       "      <td>2022-10-05</td>\n",
       "      <td>0</td>\n",
       "      <td>2022</td>\n",
       "      <td>RS</td>\n",
       "      <td>MIA02</td>\n",
       "      <td>MIA</td>\n",
       "      <td>NL</td>\n",
       "      <td>162</td>\n",
       "      <td>12</td>\n",
       "      <td>...</td>\n",
       "      <td>Lewin Diaz</td>\n",
       "      <td>3.0</td>\n",
       "      <td>H</td>\n",
       "      <td>ATL</td>\n",
       "      <td>9</td>\n",
       "      <td>True</td>\n",
       "      <td>False</td>\n",
       "      <td>[0.0, 3.0, 0.0, 0.0, 2.0, 5.0, 2.0, 0.0, nan]</td>\n",
       "      <td>12</td>\n",
       "      <td>True</td>\n",
       "    </tr>\n",
       "    <tr>\n",
       "      <th>118407</th>\n",
       "      <td>OAK202210050</td>\n",
       "      <td>2022-10-05</td>\n",
       "      <td>0</td>\n",
       "      <td>2022</td>\n",
       "      <td>RS</td>\n",
       "      <td>OAK01</td>\n",
       "      <td>ANA</td>\n",
       "      <td>AL</td>\n",
       "      <td>162</td>\n",
       "      <td>2</td>\n",
       "      <td>...</td>\n",
       "      <td>Max Stassi</td>\n",
       "      <td>2.0</td>\n",
       "      <td>A</td>\n",
       "      <td>OAK</td>\n",
       "      <td>3</td>\n",
       "      <td>False</td>\n",
       "      <td>True</td>\n",
       "      <td>[0.0, 0.0, 0.0, 0.0, 0.0, 0.0, 0.0, 2.0, 0.0]</td>\n",
       "      <td>2</td>\n",
       "      <td>True</td>\n",
       "    </tr>\n",
       "    <tr>\n",
       "      <th>118408</th>\n",
       "      <td>MIA202210050</td>\n",
       "      <td>2022-10-05</td>\n",
       "      <td>0</td>\n",
       "      <td>2022</td>\n",
       "      <td>RS</td>\n",
       "      <td>MIA02</td>\n",
       "      <td>ATL</td>\n",
       "      <td>NL</td>\n",
       "      <td>162</td>\n",
       "      <td>9</td>\n",
       "      <td>...</td>\n",
       "      <td>Ehire Adrianza</td>\n",
       "      <td>5.0</td>\n",
       "      <td>A</td>\n",
       "      <td>MIA</td>\n",
       "      <td>12</td>\n",
       "      <td>False</td>\n",
       "      <td>True</td>\n",
       "      <td>[0.0, 0.0, 2.0, 1.0, 0.0, 3.0, 2.0, 0.0, 1.0]</td>\n",
       "      <td>9</td>\n",
       "      <td>True</td>\n",
       "    </tr>\n",
       "    <tr>\n",
       "      <th>118409</th>\n",
       "      <td>MIL202210050</td>\n",
       "      <td>2022-10-05</td>\n",
       "      <td>0</td>\n",
       "      <td>2022</td>\n",
       "      <td>RS</td>\n",
       "      <td>MIL06</td>\n",
       "      <td>MIL</td>\n",
       "      <td>NL</td>\n",
       "      <td>162</td>\n",
       "      <td>2</td>\n",
       "      <td>...</td>\n",
       "      <td>Tyrone Taylor</td>\n",
       "      <td>9.0</td>\n",
       "      <td>H</td>\n",
       "      <td>ARI</td>\n",
       "      <td>4</td>\n",
       "      <td>False</td>\n",
       "      <td>True</td>\n",
       "      <td>[0.0, 0.0, 0.0, 0.0, 1.0, 0.0, 0.0, 1.0, 0.0]</td>\n",
       "      <td>2</td>\n",
       "      <td>True</td>\n",
       "    </tr>\n",
       "  </tbody>\n",
       "</table>\n",
       "<p>118410 rows × 78 columns</p>\n",
       "</div>"
      ],
      "text/plain": [
       "             game_id       date double_header    yr game_type park_id team  \\\n",
       "0       TBA199803310 1998-03-31             0  1998        RS   STP01  DET   \n",
       "1       SEA199803310 1998-03-31             0  1998        RS   SEA02  CLE   \n",
       "2       TEX199803310 1998-03-31             0  1998        RS   ARL02  CHA   \n",
       "3       ARI199803310 1998-03-31             0  1998        RS   PHO01  COL   \n",
       "4       ATL199803310 1998-03-31             0  1998        RS   ATL02  MIL   \n",
       "...              ...        ...           ...   ...       ...     ...  ...   \n",
       "118405  CIN202210050 2022-10-05             0  2022        RS   CIN09  CIN   \n",
       "118406  MIA202210050 2022-10-05             0  2022        RS   MIA02  MIA   \n",
       "118407  OAK202210050 2022-10-05             0  2022        RS   OAK01  ANA   \n",
       "118408  MIA202210050 2022-10-05             0  2022        RS   MIA02  ATL   \n",
       "118409  MIL202210050 2022-10-05             0  2022        RS   MIL06  MIL   \n",
       "\n",
       "       team_league  team_game_number  runs_scored  ...  batting_9_name  \\\n",
       "0               AL                 1           11  ...    Billy Ripken   \n",
       "1               AL                 1           10  ...  Enrique Wilson   \n",
       "2               AL                 1            9  ...     Mike Caruso   \n",
       "3               NL                 1            9  ...     Darryl Kile   \n",
       "4               NL                 1            1  ...      Cal Eldred   \n",
       "...            ...               ...          ...  ...             ...   \n",
       "118405          NL               162            2  ...   Austin Romine   \n",
       "118406          NL               162           12  ...      Lewin Diaz   \n",
       "118407          AL               162            2  ...      Max Stassi   \n",
       "118408          NL               162            9  ...  Ehire Adrianza   \n",
       "118409          NL               162            2  ...   Tyrone Taylor   \n",
       "\n",
       "        batting_9_position  HA  opp  runs_allowed      W      L  \\\n",
       "0                      6.0   A  TBA             6   True  False   \n",
       "1                      4.0   A  SEA             9   True  False   \n",
       "2                      6.0   A  TEX             2   True  False   \n",
       "3                      1.0   A  ARI             2   True  False   \n",
       "4                      1.0   A  ATL             2  False   True   \n",
       "...                    ...  ..  ...           ...    ...    ...   \n",
       "118405                 2.0   H  CHN            15  False   True   \n",
       "118406                 3.0   H  ATL             9   True  False   \n",
       "118407                 2.0   A  OAK             3  False   True   \n",
       "118408                 5.0   A  MIA            12  False   True   \n",
       "118409                 9.0   H  ARI             4  False   True   \n",
       "\n",
       "                                     linescore_parsed  runs_scored_9  dh_fl  \n",
       "0       [0.0, 4.0, 2.0, 0.0, 5.0, 0.0, 0.0, 0.0, 0.0]             11   True  \n",
       "1       [0.0, 0.0, 2.0, 1.0, 0.0, 3.0, 0.0, 4.0, 0.0]             10   True  \n",
       "2       [0.0, 0.0, 0.0, 0.0, 7.0, 0.0, 1.0, 0.0, 1.0]              9   True  \n",
       "3       [0.0, 1.0, 0.0, 0.0, 0.0, 2.0, 5.0, 1.0, 0.0]              9  False  \n",
       "4       [0.0, 0.0, 1.0, 0.0, 0.0, 0.0, 0.0, 0.0, 0.0]              1  False  \n",
       "...                                               ...            ...    ...  \n",
       "118405  [0.0, 1.0, 1.0, 0.0, 0.0, 0.0, 0.0, 0.0, 0.0]              2   True  \n",
       "118406  [0.0, 3.0, 0.0, 0.0, 2.0, 5.0, 2.0, 0.0, nan]             12   True  \n",
       "118407  [0.0, 0.0, 0.0, 0.0, 0.0, 0.0, 0.0, 2.0, 0.0]              2   True  \n",
       "118408  [0.0, 0.0, 2.0, 1.0, 0.0, 3.0, 2.0, 0.0, 1.0]              9   True  \n",
       "118409  [0.0, 0.0, 0.0, 0.0, 1.0, 0.0, 0.0, 1.0, 0.0]              2   True  \n",
       "\n",
       "[118410 rows x 78 columns]"
      ]
     },
     "execution_count": 3,
     "metadata": {},
     "output_type": "execute_result"
    }
   ],
   "source": [
    "glt = bbl.load_gamelog_teams(game_types=bbl.GameType.RS, seasons=bbl.Eras.ThirtyTeams).reset_index(drop=True)\n",
    "\n",
    "# Add 'runs_scored_9' (runs scored through 9 innings; eliminate zombie runners)\n",
    "by_inning = glt['linescore_parsed'].apply(lambda x: pd.Series(x)).fillna(0)\n",
    "glt['runs_scored_9'] = by_inning.iloc[:, 0:9].sum(axis=1).astype(int)\n",
    "\n",
    "# Merge in the DH flag\n",
    "g = bbl.load_games().set_index('game_id')\n",
    "dh_fl = g['dh_fl']=='T'\n",
    "glt = pd.merge(left=glt, right=dh_fl, left_on='game_id', right_index=True).sort_index()\n",
    "\n",
    "glt\n"
   ]
  },
  {
   "cell_type": "code",
   "execution_count": 4,
   "metadata": {},
   "outputs": [
    {
     "data": {
      "text/plain": [
       "(runs_scored      4.590491\n",
       " runs_scored_9    4.507010\n",
       " dtype: float64,\n",
       "                runs_scored  runs_scored_9\n",
       " runs_scored       1.000000       0.990301\n",
       " runs_scored_9     0.990301       1.000000)"
      ]
     },
     "execution_count": 4,
     "metadata": {},
     "output_type": "execute_result"
    }
   ],
   "source": [
    "# Compare overall runs scored with runs scored through 9\n",
    "# Verify that the merge worked properly by looking for a correlation ~1\n",
    "tmp = glt[['runs_scored', 'runs_scored_9']]\n",
    "tmp.mean(), tmp.corr()"
   ]
  },
  {
   "cell_type": "code",
   "execution_count": 5,
   "metadata": {},
   "outputs": [
    {
     "data": {
      "text/plain": [
       "(4.409795256493723,\n",
       " {'dh_fl': 0.2027621538571567,\n",
       "  'yr_1999': 0.33137423899415414,\n",
       "  'yr_2000': 0.3963458022841933,\n",
       "  'yr_2001': 0.022800629030101494,\n",
       "  'yr_2002': -0.13559943383897016,\n",
       "  'yr_2003': -0.032059313464395,\n",
       "  'yr_2004': 0.04078087626480584,\n",
       "  'yr_2005': -0.17135506229966999,\n",
       "  'yr_2006': 0.0979170139633877,\n",
       "  'yr_2007': 0.02402599971383644,\n",
       "  'yr_2008': -0.13638628948935203,\n",
       "  'yr_2009': -0.17694495344194128,\n",
       "  'yr_2010': -0.40982940914505617,\n",
       "  'yr_2011': -0.5300228100001713,\n",
       "  'yr_2012': -0.46446110156011766,\n",
       "  'yr_2013': -0.6461847545904832,\n",
       "  'yr_2014': -0.7419731387732392,\n",
       "  'yr_2015': -0.5464718492891066,\n",
       "  'yr_2016': -0.30639132791255846,\n",
       "  'yr_2017': -0.159891419941133,\n",
       "  'yr_2018': -0.364677619556024,\n",
       "  'yr_2019': 0.005776503355530482,\n",
       "  'yr_2020': -0.2857398535251919,\n",
       "  'yr_2021': -0.31669246472475876,\n",
       "  'yr_2022': -0.6493392955257623,\n",
       "  'ARL02': 0.7953700182797323,\n",
       "  'ARL03': 0.08007298685333697,\n",
       "  'ATL02': 0.03134550131963437,\n",
       "  'ATL03': 0.46837363144942706,\n",
       "  'BAL12': 0.24280122422726874,\n",
       "  'BOS07': 0.5915346559083084,\n",
       "  'BUF05': 0.9764240444365055,\n",
       "  'CHI11': 0.2949102623098865,\n",
       "  'CHI12': 0.4087998207106868,\n",
       "  'CIN08': 0.2840599102597227,\n",
       "  'CIN09': 0.4883215933643038,\n",
       "  'CLE08': 0.23391301801129694,\n",
       "  'DEN02': 1.6708189461860707,\n",
       "  'DET04': 0.1588285001263644,\n",
       "  'DET05': 0.22732353531238814,\n",
       "  'DUN01': 0.8112881647364957,\n",
       "  'DYE01': 1.6641508136507914,\n",
       "  'FTB01': -0.522701328806896,\n",
       "  'HOU02': -0.1855849231890282,\n",
       "  'HOU03': 0.1481445673195267,\n",
       "  'KAN06': 0.5291657714301861,\n",
       "  'LBV01': 0.748201976817013,\n",
       "  'LON01': 7.7916279105677955,\n",
       "  'LOS03': -0.12293790099968646,\n",
       "  'MIA01': -0.10613236522459135,\n",
       "  'MIA02': -0.06977979823548053,\n",
       "  'MIL05': 0.15493643338848095,\n",
       "  'MIL06': 0.2679216557817963,\n",
       "  'MIN03': 0.06620687437836259,\n",
       "  'MIN04': 0.4638040519684954,\n",
       "  'MNT01': 0.55104640762693,\n",
       "  'MON02': 0.28513062740346073,\n",
       "  'NYC16': 0.15722124556480033,\n",
       "  'NYC17': -0.33458469551608844,\n",
       "  'NYC20': -0.26508148564055034,\n",
       "  'NYC21': 0.21242431056085193,\n",
       "  'OAK01': -0.12981714990408397,\n",
       "  'OMA01': 0.4965046238869047,\n",
       "  'PHI12': -0.05378914914272115,\n",
       "  'PHI13': 0.2632535506435326,\n",
       "  'PHO01': 0.62496272665972,\n",
       "  'PIT07': 0.02680277049944252,\n",
       "  'PIT08': 0.12678000156518268,\n",
       "  'SAN01': -0.4737291774466018,\n",
       "  'SAN02': -0.40320924001270697,\n",
       "  'SEA02': 1.0328295602131883,\n",
       "  'SEA03': -0.35102235468366894,\n",
       "  'SFO02': -0.010291158654995802,\n",
       "  'SFO03': -0.11052276724941118,\n",
       "  'SJU01': -0.12113084150999248,\n",
       "  'STL09': 0.10044994215068029,\n",
       "  'STL10': -0.06121061340540947,\n",
       "  'STP01': -0.03879626118687313,\n",
       "  'SYD01': 0.5996851924889662,\n",
       "  'TOK01': -0.6203526696475545,\n",
       "  'TOR02': 0.35545497339906695,\n",
       "  'WAS10': -0.2940616100586734,\n",
       "  'WAS11': 0.19099293599467504,\n",
       "  'WIL02': -0.5550565767154478,\n",
       "  'tm_bat__ARI': -0.32350625490946733,\n",
       "  'tm_bat__ATL': 0.028179177623884836,\n",
       "  'tm_bat__BAL': -0.22379613069847618,\n",
       "  'tm_bat__BOS': 0.189757749970436,\n",
       "  'tm_bat__CHA': -0.2658709179923888,\n",
       "  'tm_bat__CHN': -0.20536581103838875,\n",
       "  'tm_bat__CIN': -0.27381585570428285,\n",
       "  'tm_bat__CLE': -0.029821684704766982,\n",
       "  'tm_bat__COL': -0.32507951351580006,\n",
       "  'tm_bat__DET': -0.2882891844065837,\n",
       "  'tm_bat__FLO': -0.0896469214866597,\n",
       "  'tm_bat__HOU': -0.002499266481089432,\n",
       "  'tm_bat__KCA': -0.5132155767981459,\n",
       "  'tm_bat__LAN': 0.01839564084857087,\n",
       "  'tm_bat__MIA': -0.4201688920853499,\n",
       "  'tm_bat__MIL': -0.21386409975931853,\n",
       "  'tm_bat__MIN': -0.2375969904048252,\n",
       "  'tm_bat__MON': -0.5929870049583182,\n",
       "  'tm_bat__NYA': 0.42094818859912403,\n",
       "  'tm_bat__NYN': 0.024298860870199057,\n",
       "  'tm_bat__OAK': 0.05838680132695993,\n",
       "  'tm_bat__PHI': -0.024291345032889378,\n",
       "  'tm_bat__PIT': -0.38825120998269297,\n",
       "  'tm_bat__SDN': -0.1332619568092525,\n",
       "  'tm_bat__SEA': -0.06688411256386054,\n",
       "  'tm_bat__SFN': -0.04945012129711546,\n",
       "  'tm_bat__SLN': 0.17912254901857516,\n",
       "  'tm_bat__TBA': -0.20619699572474862,\n",
       "  'tm_bat__TEX': 0.007823114642988377,\n",
       "  'tm_bat__TOR': -0.029454894218910593,\n",
       "  'tm_bat__WAS': -0.09065623410159693,\n",
       "  'tm_pit__ARI': 0.01961984393246119,\n",
       "  'tm_pit__ATL': -0.1508722705312956,\n",
       "  'tm_pit__BAL': 0.33539075567641763,\n",
       "  'tm_pit__BOS': -0.23377989243850722,\n",
       "  'tm_pit__CHA': 0.028913565800682384,\n",
       "  'tm_pit__CHN': 0.07598553843530569,\n",
       "  'tm_pit__CIN': 0.24128561107969987,\n",
       "  'tm_pit__CLE': -0.03232157709020245,\n",
       "  'tm_pit__COL': 0.14186792396673337,\n",
       "  'tm_pit__DET': 0.2982274148917966,\n",
       "  'tm_pit__FLO': 0.4155036298826218,\n",
       "  'tm_pit__HOU': -0.044033369689444705,\n",
       "  'tm_pit__KCA': 0.27360027112579466,\n",
       "  'tm_pit__LAN': -0.2495238502879645,\n",
       "  'tm_pit__MIA': 0.3814567854448986,\n",
       "  'tm_pit__MIL': 0.23030188122721626,\n",
       "  'tm_pit__MIN': 0.09636410244252636,\n",
       "  'tm_pit__MON': 0.2213380912079467,\n",
       "  'tm_pit__NYA': -0.19684969468493463,\n",
       "  'tm_pit__NYN': 0.19508622324116254,\n",
       "  'tm_pit__OAK': -0.05900056811807055,\n",
       "  'tm_pit__PHI': 0.22362106735504003,\n",
       "  'tm_pit__PIT': 0.3853656991045177,\n",
       "  'tm_pit__SDN': 0.3625319417047121,\n",
       "  'tm_pit__SEA': 0.16890264569761498,\n",
       "  'tm_pit__SFN': 0.049150747610018794,\n",
       "  'tm_pit__SLN': 0.02699345649346191,\n",
       "  'tm_pit__TBA': 0.03328538584851909,\n",
       "  'tm_pit__TEX': 0.20663459482631366,\n",
       "  'tm_pit__TOR': -0.05749656461860829,\n",
       "  'tm_pit__WAS': 0.21418498273709285})"
      ]
     },
     "execution_count": 5,
     "metadata": {},
     "output_type": "execute_result"
    }
   ],
   "source": [
    "# Model the run environment\n",
    "\n",
    "yr_dummies = pd.get_dummies(glt['yr'], prefix='yr', drop_first=True)\n",
    "park_dummies = pd.get_dummies(glt['park_id'], drop_first=True)\n",
    "team_bat_dummies = pd.get_dummies(glt['team'], drop_first=True, prefix='tm_bat_') \n",
    "team_pit_dummies = pd.get_dummies(glt['opp'], drop_first=True, prefix='tm_pit_') \n",
    "park_dummies\n",
    "\n",
    "X = pd.concat([glt['dh_fl'], yr_dummies, park_dummies, team_bat_dummies, team_pit_dummies], axis=1)\n",
    "y = glt['runs_scored_9']\n",
    "model = LinearRegression()\n",
    "model.fit(X, y)\n",
    "\n",
    "model.intercept_, dict(zip(X.columns, model.coef_))"
   ]
  },
  {
   "cell_type": "code",
   "execution_count": 6,
   "metadata": {},
   "outputs": [
    {
     "data": {
      "text/plain": [
       "0.1597253566175219"
      ]
     },
     "execution_count": 6,
     "metadata": {},
     "output_type": "execute_result"
    }
   ],
   "source": [
    "np.mean([v for (k, v) in dict(zip(X.columns, model.coef_)).items() if 'yr' not in k and 'dh' not in k])"
   ]
  },
  {
   "cell_type": "code",
   "execution_count": 7,
   "metadata": {},
   "outputs": [],
   "source": [
    "for col in team_bat_dummies+team_pit_dummies:\n",
    "    X[col] = 0"
   ]
  },
  {
   "cell_type": "code",
   "execution_count": 8,
   "metadata": {},
   "outputs": [
    {
     "data": {
      "text/html": [
       "<div>\n",
       "<style scoped>\n",
       "    .dataframe tbody tr th:only-of-type {\n",
       "        vertical-align: middle;\n",
       "    }\n",
       "\n",
       "    .dataframe tbody tr th {\n",
       "        vertical-align: top;\n",
       "    }\n",
       "\n",
       "    .dataframe thead th {\n",
       "        text-align: right;\n",
       "    }\n",
       "</style>\n",
       "<table border=\"1\" class=\"dataframe\">\n",
       "  <thead>\n",
       "    <tr style=\"text-align: right;\">\n",
       "      <th></th>\n",
       "      <th>game_id</th>\n",
       "      <th>date</th>\n",
       "      <th>double_header</th>\n",
       "      <th>yr</th>\n",
       "      <th>game_type</th>\n",
       "      <th>park_id</th>\n",
       "      <th>team</th>\n",
       "      <th>team_league</th>\n",
       "      <th>team_game_number</th>\n",
       "      <th>runs_scored</th>\n",
       "      <th>...</th>\n",
       "      <th>batting_9_position</th>\n",
       "      <th>HA</th>\n",
       "      <th>opp</th>\n",
       "      <th>runs_allowed</th>\n",
       "      <th>W</th>\n",
       "      <th>L</th>\n",
       "      <th>linescore_parsed</th>\n",
       "      <th>runs_scored_9</th>\n",
       "      <th>dh_fl</th>\n",
       "      <th>re_pred</th>\n",
       "    </tr>\n",
       "  </thead>\n",
       "  <tbody>\n",
       "    <tr>\n",
       "      <th>37436</th>\n",
       "      <td>FLO200508120</td>\n",
       "      <td>2005-08-12</td>\n",
       "      <td>0</td>\n",
       "      <td>2005</td>\n",
       "      <td>RS</td>\n",
       "      <td>MIA01</td>\n",
       "      <td>SFN</td>\n",
       "      <td>NL</td>\n",
       "      <td>114</td>\n",
       "      <td>1</td>\n",
       "      <td>...</td>\n",
       "      <td>1.0</td>\n",
       "      <td>A</td>\n",
       "      <td>FLO</td>\n",
       "      <td>0</td>\n",
       "      <td>True</td>\n",
       "      <td>False</td>\n",
       "      <td>[0.0, 0.0, 0.0, 0.0, 0.0, 1.0, 0.0, 0.0, 0.0]</td>\n",
       "      <td>1</td>\n",
       "      <td>False</td>\n",
       "      <td>4.132308</td>\n",
       "    </tr>\n",
       "    <tr>\n",
       "      <th>2975</th>\n",
       "      <td>CHN199807220</td>\n",
       "      <td>1998-07-22</td>\n",
       "      <td>0</td>\n",
       "      <td>1998</td>\n",
       "      <td>RS</td>\n",
       "      <td>CHI11</td>\n",
       "      <td>MON</td>\n",
       "      <td>NL</td>\n",
       "      <td>100</td>\n",
       "      <td>5</td>\n",
       "      <td>...</td>\n",
       "      <td>1.0</td>\n",
       "      <td>A</td>\n",
       "      <td>CHN</td>\n",
       "      <td>9</td>\n",
       "      <td>False</td>\n",
       "      <td>True</td>\n",
       "      <td>[0.0, 0.0, 2.0, 0.0, 0.0, 1.0, 0.0, 0.0, 2.0]</td>\n",
       "      <td>5</td>\n",
       "      <td>False</td>\n",
       "      <td>4.704706</td>\n",
       "    </tr>\n",
       "    <tr>\n",
       "      <th>101164</th>\n",
       "      <td>BAL201808290</td>\n",
       "      <td>2018-08-29</td>\n",
       "      <td>0</td>\n",
       "      <td>2018</td>\n",
       "      <td>RS</td>\n",
       "      <td>BAL12</td>\n",
       "      <td>TOR</td>\n",
       "      <td>AL</td>\n",
       "      <td>133</td>\n",
       "      <td>5</td>\n",
       "      <td>...</td>\n",
       "      <td>4.0</td>\n",
       "      <td>A</td>\n",
       "      <td>BAL</td>\n",
       "      <td>10</td>\n",
       "      <td>False</td>\n",
       "      <td>True</td>\n",
       "      <td>[1.0, 3.0, 0.0, 0.0, 0.0, 1.0, 0.0, 0.0, 0.0]</td>\n",
       "      <td>5</td>\n",
       "      <td>True</td>\n",
       "      <td>4.490681</td>\n",
       "    </tr>\n",
       "    <tr>\n",
       "      <th>93154</th>\n",
       "      <td>SEA201705040</td>\n",
       "      <td>2017-05-04</td>\n",
       "      <td>0</td>\n",
       "      <td>2017</td>\n",
       "      <td>RS</td>\n",
       "      <td>SEA03</td>\n",
       "      <td>SEA</td>\n",
       "      <td>AL</td>\n",
       "      <td>29</td>\n",
       "      <td>11</td>\n",
       "      <td>...</td>\n",
       "      <td>8.0</td>\n",
       "      <td>H</td>\n",
       "      <td>ANA</td>\n",
       "      <td>3</td>\n",
       "      <td>True</td>\n",
       "      <td>False</td>\n",
       "      <td>[1.0, 0.0, 3.0, 2.0, 0.0, 1.0, 1.0, 3.0, nan]</td>\n",
       "      <td>11</td>\n",
       "      <td>True</td>\n",
       "      <td>4.101644</td>\n",
       "    </tr>\n",
       "    <tr>\n",
       "      <th>8834</th>\n",
       "      <td>BOS199909010</td>\n",
       "      <td>1999-09-01</td>\n",
       "      <td>0</td>\n",
       "      <td>1999</td>\n",
       "      <td>RS</td>\n",
       "      <td>BOS07</td>\n",
       "      <td>BOS</td>\n",
       "      <td>AL</td>\n",
       "      <td>133</td>\n",
       "      <td>4</td>\n",
       "      <td>...</td>\n",
       "      <td>5.0</td>\n",
       "      <td>H</td>\n",
       "      <td>KCA</td>\n",
       "      <td>3</td>\n",
       "      <td>True</td>\n",
       "      <td>False</td>\n",
       "      <td>[1.0, 0.0, 1.0, 2.0, 0.0, 0.0, 0.0, 0.0, nan]</td>\n",
       "      <td>4</td>\n",
       "      <td>True</td>\n",
       "      <td>5.535466</td>\n",
       "    </tr>\n",
       "    <tr>\n",
       "      <th>27580</th>\n",
       "      <td>ANA200308030</td>\n",
       "      <td>2003-08-03</td>\n",
       "      <td>0</td>\n",
       "      <td>2003</td>\n",
       "      <td>RS</td>\n",
       "      <td>ANA01</td>\n",
       "      <td>TOR</td>\n",
       "      <td>AL</td>\n",
       "      <td>111</td>\n",
       "      <td>4</td>\n",
       "      <td>...</td>\n",
       "      <td>4.0</td>\n",
       "      <td>A</td>\n",
       "      <td>ANA</td>\n",
       "      <td>0</td>\n",
       "      <td>True</td>\n",
       "      <td>False</td>\n",
       "      <td>[0.0, 0.0, 0.0, 1.0, 0.0, 3.0, 0.0, 0.0, 0.0]</td>\n",
       "      <td>4</td>\n",
       "      <td>True</td>\n",
       "      <td>4.580498</td>\n",
       "    </tr>\n",
       "    <tr>\n",
       "      <th>80847</th>\n",
       "      <td>TBA201407260</td>\n",
       "      <td>2014-07-26</td>\n",
       "      <td>0</td>\n",
       "      <td>2014</td>\n",
       "      <td>RS</td>\n",
       "      <td>STP01</td>\n",
       "      <td>BOS</td>\n",
       "      <td>AL</td>\n",
       "      <td>104</td>\n",
       "      <td>0</td>\n",
       "      <td>...</td>\n",
       "      <td>2.0</td>\n",
       "      <td>A</td>\n",
       "      <td>TBA</td>\n",
       "      <td>3</td>\n",
       "      <td>False</td>\n",
       "      <td>True</td>\n",
       "      <td>[0.0, 0.0, 0.0, 0.0, 0.0, 0.0, 0.0, 0.0, 0.0]</td>\n",
       "      <td>0</td>\n",
       "      <td>True</td>\n",
       "      <td>3.831788</td>\n",
       "    </tr>\n",
       "    <tr>\n",
       "      <th>49931</th>\n",
       "      <td>OAK200805200</td>\n",
       "      <td>2008-05-20</td>\n",
       "      <td>0</td>\n",
       "      <td>2008</td>\n",
       "      <td>RS</td>\n",
       "      <td>OAK01</td>\n",
       "      <td>TBA</td>\n",
       "      <td>AL</td>\n",
       "      <td>46</td>\n",
       "      <td>3</td>\n",
       "      <td>...</td>\n",
       "      <td>4.0</td>\n",
       "      <td>A</td>\n",
       "      <td>OAK</td>\n",
       "      <td>2</td>\n",
       "      <td>True</td>\n",
       "      <td>False</td>\n",
       "      <td>[0.0, 0.0, 0.0, 0.0, 0.0, 0.0, 0.0, 3.0, 0.0]</td>\n",
       "      <td>3</td>\n",
       "      <td>True</td>\n",
       "      <td>4.346354</td>\n",
       "    </tr>\n",
       "    <tr>\n",
       "      <th>85012</th>\n",
       "      <td>CIN201507040</td>\n",
       "      <td>2015-07-04</td>\n",
       "      <td>0</td>\n",
       "      <td>2015</td>\n",
       "      <td>RS</td>\n",
       "      <td>CIN09</td>\n",
       "      <td>MIL</td>\n",
       "      <td>NL</td>\n",
       "      <td>83</td>\n",
       "      <td>7</td>\n",
       "      <td>...</td>\n",
       "      <td>1.0</td>\n",
       "      <td>A</td>\n",
       "      <td>CIN</td>\n",
       "      <td>3</td>\n",
       "      <td>True</td>\n",
       "      <td>False</td>\n",
       "      <td>[0.0, 0.0, 0.0, 1.0, 6.0, 0.0, 0.0, 0.0, 0.0]</td>\n",
       "      <td>7</td>\n",
       "      <td>False</td>\n",
       "      <td>4.351645</td>\n",
       "    </tr>\n",
       "    <tr>\n",
       "      <th>72387</th>\n",
       "      <td>HOU201209160</td>\n",
       "      <td>2012-09-16</td>\n",
       "      <td>0</td>\n",
       "      <td>2012</td>\n",
       "      <td>RS</td>\n",
       "      <td>HOU03</td>\n",
       "      <td>HOU</td>\n",
       "      <td>NL</td>\n",
       "      <td>147</td>\n",
       "      <td>7</td>\n",
       "      <td>...</td>\n",
       "      <td>1.0</td>\n",
       "      <td>H</td>\n",
       "      <td>PHI</td>\n",
       "      <td>6</td>\n",
       "      <td>True</td>\n",
       "      <td>False</td>\n",
       "      <td>[0.0, 0.0, 2.0, 0.0, 0.0, 1.0, 4.0, 0.0, nan]</td>\n",
       "      <td>7</td>\n",
       "      <td>False</td>\n",
       "      <td>4.093479</td>\n",
       "    </tr>\n",
       "    <tr>\n",
       "      <th>52349</th>\n",
       "      <td>TOR200808190</td>\n",
       "      <td>2008-08-19</td>\n",
       "      <td>0</td>\n",
       "      <td>2008</td>\n",
       "      <td>RS</td>\n",
       "      <td>TOR02</td>\n",
       "      <td>NYA</td>\n",
       "      <td>AL</td>\n",
       "      <td>125</td>\n",
       "      <td>1</td>\n",
       "      <td>...</td>\n",
       "      <td>2.0</td>\n",
       "      <td>A</td>\n",
       "      <td>TOR</td>\n",
       "      <td>2</td>\n",
       "      <td>False</td>\n",
       "      <td>True</td>\n",
       "      <td>[1.0, 0.0, 0.0, 0.0, 0.0, 0.0, 0.0, 0.0, 0.0]</td>\n",
       "      <td>1</td>\n",
       "      <td>True</td>\n",
       "      <td>4.831626</td>\n",
       "    </tr>\n",
       "    <tr>\n",
       "      <th>55310</th>\n",
       "      <td>MIL200906140</td>\n",
       "      <td>2009-06-14</td>\n",
       "      <td>0</td>\n",
       "      <td>2009</td>\n",
       "      <td>RS</td>\n",
       "      <td>MIL06</td>\n",
       "      <td>CHA</td>\n",
       "      <td>AL</td>\n",
       "      <td>64</td>\n",
       "      <td>5</td>\n",
       "      <td>...</td>\n",
       "      <td>1.0</td>\n",
       "      <td>A</td>\n",
       "      <td>MIL</td>\n",
       "      <td>4</td>\n",
       "      <td>True</td>\n",
       "      <td>False</td>\n",
       "      <td>[0.0, 0.0, 1.0, 3.0, 0.0, 0.0, 0.0, 0.0, 1.0]</td>\n",
       "      <td>5</td>\n",
       "      <td>False</td>\n",
       "      <td>4.500772</td>\n",
       "    </tr>\n",
       "    <tr>\n",
       "      <th>5193</th>\n",
       "      <td>KCA199904170</td>\n",
       "      <td>1999-04-17</td>\n",
       "      <td>0</td>\n",
       "      <td>1999</td>\n",
       "      <td>RS</td>\n",
       "      <td>KAN06</td>\n",
       "      <td>CHA</td>\n",
       "      <td>AL</td>\n",
       "      <td>10</td>\n",
       "      <td>6</td>\n",
       "      <td>...</td>\n",
       "      <td>2.0</td>\n",
       "      <td>A</td>\n",
       "      <td>KCA</td>\n",
       "      <td>5</td>\n",
       "      <td>True</td>\n",
       "      <td>False</td>\n",
       "      <td>[0.0, 0.0, 0.0, 0.0, 3.0, 0.0, 0.0, 0.0, 3.0]</td>\n",
       "      <td>6</td>\n",
       "      <td>True</td>\n",
       "      <td>5.473097</td>\n",
       "    </tr>\n",
       "    <tr>\n",
       "      <th>116233</th>\n",
       "      <td>ANA202207140</td>\n",
       "      <td>2022-07-14</td>\n",
       "      <td>0</td>\n",
       "      <td>2022</td>\n",
       "      <td>RS</td>\n",
       "      <td>ANA01</td>\n",
       "      <td>HOU</td>\n",
       "      <td>AL</td>\n",
       "      <td>88</td>\n",
       "      <td>3</td>\n",
       "      <td>...</td>\n",
       "      <td>2.0</td>\n",
       "      <td>A</td>\n",
       "      <td>ANA</td>\n",
       "      <td>2</td>\n",
       "      <td>True</td>\n",
       "      <td>False</td>\n",
       "      <td>[2.0, 0.0, 0.0, 0.0, 0.0, 0.0, 0.0, 0.0, 0.0, ...</td>\n",
       "      <td>2</td>\n",
       "      <td>True</td>\n",
       "      <td>3.963218</td>\n",
       "    </tr>\n",
       "    <tr>\n",
       "      <th>68221</th>\n",
       "      <td>KCA201204130</td>\n",
       "      <td>2012-04-13</td>\n",
       "      <td>0</td>\n",
       "      <td>2012</td>\n",
       "      <td>RS</td>\n",
       "      <td>KAN06</td>\n",
       "      <td>KCA</td>\n",
       "      <td>AL</td>\n",
       "      <td>7</td>\n",
       "      <td>3</td>\n",
       "      <td>...</td>\n",
       "      <td>6.0</td>\n",
       "      <td>H</td>\n",
       "      <td>CLE</td>\n",
       "      <td>8</td>\n",
       "      <td>False</td>\n",
       "      <td>True</td>\n",
       "      <td>[1.0, 0.0, 0.0, 2.0, 0.0, 0.0, 0.0, 0.0, 0.0]</td>\n",
       "      <td>3</td>\n",
       "      <td>True</td>\n",
       "      <td>4.677262</td>\n",
       "    </tr>\n",
       "    <tr>\n",
       "      <th>2457</th>\n",
       "      <td>SLN199807010</td>\n",
       "      <td>1998-07-01</td>\n",
       "      <td>0</td>\n",
       "      <td>1998</td>\n",
       "      <td>RS</td>\n",
       "      <td>STL09</td>\n",
       "      <td>KCA</td>\n",
       "      <td>AL</td>\n",
       "      <td>82</td>\n",
       "      <td>6</td>\n",
       "      <td>...</td>\n",
       "      <td>1.0</td>\n",
       "      <td>A</td>\n",
       "      <td>SLN</td>\n",
       "      <td>4</td>\n",
       "      <td>True</td>\n",
       "      <td>False</td>\n",
       "      <td>[3.0, 2.0, 0.0, 0.0, 0.0, 0.0, 0.0, 0.0, 1.0]</td>\n",
       "      <td>6</td>\n",
       "      <td>False</td>\n",
       "      <td>4.510245</td>\n",
       "    </tr>\n",
       "    <tr>\n",
       "      <th>65708</th>\n",
       "      <td>CHA201107040</td>\n",
       "      <td>2011-07-04</td>\n",
       "      <td>0</td>\n",
       "      <td>2011</td>\n",
       "      <td>RS</td>\n",
       "      <td>CHI12</td>\n",
       "      <td>CHA</td>\n",
       "      <td>AL</td>\n",
       "      <td>86</td>\n",
       "      <td>5</td>\n",
       "      <td>...</td>\n",
       "      <td>4.0</td>\n",
       "      <td>H</td>\n",
       "      <td>KCA</td>\n",
       "      <td>4</td>\n",
       "      <td>True</td>\n",
       "      <td>False</td>\n",
       "      <td>[0.0, 0.0, 0.0, 1.0, 1.0, 0.0, 0.0, 2.0, 1.0]</td>\n",
       "      <td>5</td>\n",
       "      <td>True</td>\n",
       "      <td>4.491334</td>\n",
       "    </tr>\n",
       "    <tr>\n",
       "      <th>55706</th>\n",
       "      <td>CLE200906290</td>\n",
       "      <td>2009-06-29</td>\n",
       "      <td>0</td>\n",
       "      <td>2009</td>\n",
       "      <td>RS</td>\n",
       "      <td>CLE08</td>\n",
       "      <td>CHA</td>\n",
       "      <td>AL</td>\n",
       "      <td>76</td>\n",
       "      <td>6</td>\n",
       "      <td>...</td>\n",
       "      <td>8.0</td>\n",
       "      <td>A</td>\n",
       "      <td>CLE</td>\n",
       "      <td>3</td>\n",
       "      <td>True</td>\n",
       "      <td>False</td>\n",
       "      <td>[1.0, 1.0, 0.0, 0.0, 0.0, 0.0, 0.0, 0.0, 4.0]</td>\n",
       "      <td>6</td>\n",
       "      <td>True</td>\n",
       "      <td>4.669525</td>\n",
       "    </tr>\n",
       "    <tr>\n",
       "      <th>41870</th>\n",
       "      <td>MIL200607260</td>\n",
       "      <td>2006-07-26</td>\n",
       "      <td>0</td>\n",
       "      <td>2006</td>\n",
       "      <td>RS</td>\n",
       "      <td>MIL06</td>\n",
       "      <td>MIL</td>\n",
       "      <td>NL</td>\n",
       "      <td>102</td>\n",
       "      <td>4</td>\n",
       "      <td>...</td>\n",
       "      <td>1.0</td>\n",
       "      <td>H</td>\n",
       "      <td>PIT</td>\n",
       "      <td>8</td>\n",
       "      <td>False</td>\n",
       "      <td>True</td>\n",
       "      <td>[3.0, 0.0, 1.0, 0.0, 0.0, 0.0, 0.0, 0.0, 0.0]</td>\n",
       "      <td>4</td>\n",
       "      <td>False</td>\n",
       "      <td>4.775634</td>\n",
       "    </tr>\n",
       "    <tr>\n",
       "      <th>67627</th>\n",
       "      <td>NYN201109150</td>\n",
       "      <td>2011-09-15</td>\n",
       "      <td>0</td>\n",
       "      <td>2011</td>\n",
       "      <td>RS</td>\n",
       "      <td>NYC20</td>\n",
       "      <td>NYN</td>\n",
       "      <td>NL</td>\n",
       "      <td>150</td>\n",
       "      <td>1</td>\n",
       "      <td>...</td>\n",
       "      <td>1.0</td>\n",
       "      <td>H</td>\n",
       "      <td>WAS</td>\n",
       "      <td>10</td>\n",
       "      <td>False</td>\n",
       "      <td>True</td>\n",
       "      <td>[0.0, 0.0, 0.0, 0.0, 0.0, 1.0, 0.0, 0.0, 0.0]</td>\n",
       "      <td>1</td>\n",
       "      <td>False</td>\n",
       "      <td>3.614691</td>\n",
       "    </tr>\n",
       "  </tbody>\n",
       "</table>\n",
       "<p>20 rows × 79 columns</p>\n",
       "</div>"
      ],
      "text/plain": [
       "             game_id       date double_header    yr game_type park_id team  \\\n",
       "37436   FLO200508120 2005-08-12             0  2005        RS   MIA01  SFN   \n",
       "2975    CHN199807220 1998-07-22             0  1998        RS   CHI11  MON   \n",
       "101164  BAL201808290 2018-08-29             0  2018        RS   BAL12  TOR   \n",
       "93154   SEA201705040 2017-05-04             0  2017        RS   SEA03  SEA   \n",
       "8834    BOS199909010 1999-09-01             0  1999        RS   BOS07  BOS   \n",
       "27580   ANA200308030 2003-08-03             0  2003        RS   ANA01  TOR   \n",
       "80847   TBA201407260 2014-07-26             0  2014        RS   STP01  BOS   \n",
       "49931   OAK200805200 2008-05-20             0  2008        RS   OAK01  TBA   \n",
       "85012   CIN201507040 2015-07-04             0  2015        RS   CIN09  MIL   \n",
       "72387   HOU201209160 2012-09-16             0  2012        RS   HOU03  HOU   \n",
       "52349   TOR200808190 2008-08-19             0  2008        RS   TOR02  NYA   \n",
       "55310   MIL200906140 2009-06-14             0  2009        RS   MIL06  CHA   \n",
       "5193    KCA199904170 1999-04-17             0  1999        RS   KAN06  CHA   \n",
       "116233  ANA202207140 2022-07-14             0  2022        RS   ANA01  HOU   \n",
       "68221   KCA201204130 2012-04-13             0  2012        RS   KAN06  KCA   \n",
       "2457    SLN199807010 1998-07-01             0  1998        RS   STL09  KCA   \n",
       "65708   CHA201107040 2011-07-04             0  2011        RS   CHI12  CHA   \n",
       "55706   CLE200906290 2009-06-29             0  2009        RS   CLE08  CHA   \n",
       "41870   MIL200607260 2006-07-26             0  2006        RS   MIL06  MIL   \n",
       "67627   NYN201109150 2011-09-15             0  2011        RS   NYC20  NYN   \n",
       "\n",
       "       team_league  team_game_number  runs_scored  ... batting_9_position  HA  \\\n",
       "37436           NL               114            1  ...                1.0   A   \n",
       "2975            NL               100            5  ...                1.0   A   \n",
       "101164          AL               133            5  ...                4.0   A   \n",
       "93154           AL                29           11  ...                8.0   H   \n",
       "8834            AL               133            4  ...                5.0   H   \n",
       "27580           AL               111            4  ...                4.0   A   \n",
       "80847           AL               104            0  ...                2.0   A   \n",
       "49931           AL                46            3  ...                4.0   A   \n",
       "85012           NL                83            7  ...                1.0   A   \n",
       "72387           NL               147            7  ...                1.0   H   \n",
       "52349           AL               125            1  ...                2.0   A   \n",
       "55310           AL                64            5  ...                1.0   A   \n",
       "5193            AL                10            6  ...                2.0   A   \n",
       "116233          AL                88            3  ...                2.0   A   \n",
       "68221           AL                 7            3  ...                6.0   H   \n",
       "2457            AL                82            6  ...                1.0   A   \n",
       "65708           AL                86            5  ...                4.0   H   \n",
       "55706           AL                76            6  ...                8.0   A   \n",
       "41870           NL               102            4  ...                1.0   H   \n",
       "67627           NL               150            1  ...                1.0   H   \n",
       "\n",
       "        opp  runs_allowed      W      L  \\\n",
       "37436   FLO             0   True  False   \n",
       "2975    CHN             9  False   True   \n",
       "101164  BAL            10  False   True   \n",
       "93154   ANA             3   True  False   \n",
       "8834    KCA             3   True  False   \n",
       "27580   ANA             0   True  False   \n",
       "80847   TBA             3  False   True   \n",
       "49931   OAK             2   True  False   \n",
       "85012   CIN             3   True  False   \n",
       "72387   PHI             6   True  False   \n",
       "52349   TOR             2  False   True   \n",
       "55310   MIL             4   True  False   \n",
       "5193    KCA             5   True  False   \n",
       "116233  ANA             2   True  False   \n",
       "68221   CLE             8  False   True   \n",
       "2457    SLN             4   True  False   \n",
       "65708   KCA             4   True  False   \n",
       "55706   CLE             3   True  False   \n",
       "41870   PIT             8  False   True   \n",
       "67627   WAS            10  False   True   \n",
       "\n",
       "                                         linescore_parsed  runs_scored_9  \\\n",
       "37436       [0.0, 0.0, 0.0, 0.0, 0.0, 1.0, 0.0, 0.0, 0.0]              1   \n",
       "2975        [0.0, 0.0, 2.0, 0.0, 0.0, 1.0, 0.0, 0.0, 2.0]              5   \n",
       "101164      [1.0, 3.0, 0.0, 0.0, 0.0, 1.0, 0.0, 0.0, 0.0]              5   \n",
       "93154       [1.0, 0.0, 3.0, 2.0, 0.0, 1.0, 1.0, 3.0, nan]             11   \n",
       "8834        [1.0, 0.0, 1.0, 2.0, 0.0, 0.0, 0.0, 0.0, nan]              4   \n",
       "27580       [0.0, 0.0, 0.0, 1.0, 0.0, 3.0, 0.0, 0.0, 0.0]              4   \n",
       "80847       [0.0, 0.0, 0.0, 0.0, 0.0, 0.0, 0.0, 0.0, 0.0]              0   \n",
       "49931       [0.0, 0.0, 0.0, 0.0, 0.0, 0.0, 0.0, 3.0, 0.0]              3   \n",
       "85012       [0.0, 0.0, 0.0, 1.0, 6.0, 0.0, 0.0, 0.0, 0.0]              7   \n",
       "72387       [0.0, 0.0, 2.0, 0.0, 0.0, 1.0, 4.0, 0.0, nan]              7   \n",
       "52349       [1.0, 0.0, 0.0, 0.0, 0.0, 0.0, 0.0, 0.0, 0.0]              1   \n",
       "55310       [0.0, 0.0, 1.0, 3.0, 0.0, 0.0, 0.0, 0.0, 1.0]              5   \n",
       "5193        [0.0, 0.0, 0.0, 0.0, 3.0, 0.0, 0.0, 0.0, 3.0]              6   \n",
       "116233  [2.0, 0.0, 0.0, 0.0, 0.0, 0.0, 0.0, 0.0, 0.0, ...              2   \n",
       "68221       [1.0, 0.0, 0.0, 2.0, 0.0, 0.0, 0.0, 0.0, 0.0]              3   \n",
       "2457        [3.0, 2.0, 0.0, 0.0, 0.0, 0.0, 0.0, 0.0, 1.0]              6   \n",
       "65708       [0.0, 0.0, 0.0, 1.0, 1.0, 0.0, 0.0, 2.0, 1.0]              5   \n",
       "55706       [1.0, 1.0, 0.0, 0.0, 0.0, 0.0, 0.0, 0.0, 4.0]              6   \n",
       "41870       [3.0, 0.0, 1.0, 0.0, 0.0, 0.0, 0.0, 0.0, 0.0]              4   \n",
       "67627       [0.0, 0.0, 0.0, 0.0, 0.0, 1.0, 0.0, 0.0, 0.0]              1   \n",
       "\n",
       "        dh_fl   re_pred  \n",
       "37436   False  4.132308  \n",
       "2975    False  4.704706  \n",
       "101164   True  4.490681  \n",
       "93154    True  4.101644  \n",
       "8834     True  5.535466  \n",
       "27580    True  4.580498  \n",
       "80847    True  3.831788  \n",
       "49931    True  4.346354  \n",
       "85012   False  4.351645  \n",
       "72387   False  4.093479  \n",
       "52349    True  4.831626  \n",
       "55310   False  4.500772  \n",
       "5193     True  5.473097  \n",
       "116233   True  3.963218  \n",
       "68221    True  4.677262  \n",
       "2457    False  4.510245  \n",
       "65708    True  4.491334  \n",
       "55706    True  4.669525  \n",
       "41870   False  4.775634  \n",
       "67627   False  3.614691  \n",
       "\n",
       "[20 rows x 79 columns]"
      ]
     },
     "execution_count": 8,
     "metadata": {},
     "output_type": "execute_result"
    }
   ],
   "source": [
    "# Predict RE for each game (ignoring the identity of the batting/pitching teams)\n",
    "for col in team_bat_dummies+team_pit_dummies:\n",
    "    X[col] = 0\n",
    "re_pred = model.predict(X)\n",
    "glt['re_pred'] = re_pred\n",
    "glt.sample(20)"
   ]
  },
  {
   "cell_type": "code",
   "execution_count": 9,
   "metadata": {},
   "outputs": [
    {
     "data": {
      "text/plain": [
       "(runs_scored_9    4.507010\n",
       " re_pred          4.518767\n",
       " dtype: float64,\n",
       "                runs_scored_9   re_pred\n",
       " runs_scored_9       1.000000  0.149627\n",
       " re_pred             0.149627  1.000000)"
      ]
     },
     "execution_count": 9,
     "metadata": {},
     "output_type": "execute_result"
    }
   ],
   "source": [
    "glt[['runs_scored_9', 're_pred']].mean(), glt[['runs_scored_9', 're_pred']].corr()"
   ]
  },
  {
   "cell_type": "code",
   "execution_count": 10,
   "metadata": {},
   "outputs": [],
   "source": [
    "# Add RSI\n",
    "glt['rsi'] = glt['runs_scored_9']/glt['re_pred']"
   ]
  },
  {
   "cell_type": "code",
   "execution_count": 11,
   "metadata": {},
   "outputs": [
    {
     "data": {
      "text/html": [
       "<div>\n",
       "<style scoped>\n",
       "    .dataframe tbody tr th:only-of-type {\n",
       "        vertical-align: middle;\n",
       "    }\n",
       "\n",
       "    .dataframe tbody tr th {\n",
       "        vertical-align: top;\n",
       "    }\n",
       "\n",
       "    .dataframe thead th {\n",
       "        text-align: right;\n",
       "    }\n",
       "</style>\n",
       "<table border=\"1\" class=\"dataframe\">\n",
       "  <thead>\n",
       "    <tr style=\"text-align: right;\">\n",
       "      <th>runs_scored_9</th>\n",
       "      <th>0</th>\n",
       "      <th>1</th>\n",
       "      <th>2</th>\n",
       "      <th>3</th>\n",
       "      <th>4</th>\n",
       "      <th>5</th>\n",
       "      <th>6</th>\n",
       "      <th>7</th>\n",
       "      <th>8</th>\n",
       "      <th>9</th>\n",
       "      <th>...</th>\n",
       "      <th>20</th>\n",
       "      <th>21</th>\n",
       "      <th>22</th>\n",
       "      <th>23</th>\n",
       "      <th>24</th>\n",
       "      <th>25</th>\n",
       "      <th>26</th>\n",
       "      <th>28</th>\n",
       "      <th>29</th>\n",
       "      <th>30</th>\n",
       "    </tr>\n",
       "    <tr>\n",
       "      <th>re_pred</th>\n",
       "      <th></th>\n",
       "      <th></th>\n",
       "      <th></th>\n",
       "      <th></th>\n",
       "      <th></th>\n",
       "      <th></th>\n",
       "      <th></th>\n",
       "      <th></th>\n",
       "      <th></th>\n",
       "      <th></th>\n",
       "      <th></th>\n",
       "      <th></th>\n",
       "      <th></th>\n",
       "      <th></th>\n",
       "      <th></th>\n",
       "      <th></th>\n",
       "      <th></th>\n",
       "      <th></th>\n",
       "      <th></th>\n",
       "      <th></th>\n",
       "      <th></th>\n",
       "    </tr>\n",
       "  </thead>\n",
       "  <tbody>\n",
       "    <tr>\n",
       "      <th>(3.2640000000000002, 3.774]</th>\n",
       "      <td>545.0</td>\n",
       "      <td>810.0</td>\n",
       "      <td>1008.0</td>\n",
       "      <td>917.0</td>\n",
       "      <td>750.0</td>\n",
       "      <td>578.0</td>\n",
       "      <td>500.0</td>\n",
       "      <td>297.0</td>\n",
       "      <td>222.0</td>\n",
       "      <td>148.0</td>\n",
       "      <td>...</td>\n",
       "      <td>0.0</td>\n",
       "      <td>0.0</td>\n",
       "      <td>0.0</td>\n",
       "      <td>0.0</td>\n",
       "      <td>0.0</td>\n",
       "      <td>0.0</td>\n",
       "      <td>0.0</td>\n",
       "      <td>0.0</td>\n",
       "      <td>0.0</td>\n",
       "      <td>0.0</td>\n",
       "    </tr>\n",
       "    <tr>\n",
       "      <th>(3.774, 3.911]</th>\n",
       "      <td>500.0</td>\n",
       "      <td>845.0</td>\n",
       "      <td>958.0</td>\n",
       "      <td>885.0</td>\n",
       "      <td>735.0</td>\n",
       "      <td>635.0</td>\n",
       "      <td>447.0</td>\n",
       "      <td>324.0</td>\n",
       "      <td>231.0</td>\n",
       "      <td>152.0</td>\n",
       "      <td>...</td>\n",
       "      <td>1.0</td>\n",
       "      <td>0.0</td>\n",
       "      <td>0.0</td>\n",
       "      <td>0.0</td>\n",
       "      <td>0.0</td>\n",
       "      <td>0.0</td>\n",
       "      <td>0.0</td>\n",
       "      <td>0.0</td>\n",
       "      <td>0.0</td>\n",
       "      <td>0.0</td>\n",
       "    </tr>\n",
       "    <tr>\n",
       "      <th>(3.911, 4.023]</th>\n",
       "      <td>433.0</td>\n",
       "      <td>733.0</td>\n",
       "      <td>828.0</td>\n",
       "      <td>898.0</td>\n",
       "      <td>786.0</td>\n",
       "      <td>621.0</td>\n",
       "      <td>454.0</td>\n",
       "      <td>349.0</td>\n",
       "      <td>236.0</td>\n",
       "      <td>167.0</td>\n",
       "      <td>...</td>\n",
       "      <td>1.0</td>\n",
       "      <td>1.0</td>\n",
       "      <td>1.0</td>\n",
       "      <td>0.0</td>\n",
       "      <td>0.0</td>\n",
       "      <td>0.0</td>\n",
       "      <td>0.0</td>\n",
       "      <td>0.0</td>\n",
       "      <td>0.0</td>\n",
       "      <td>0.0</td>\n",
       "    </tr>\n",
       "    <tr>\n",
       "      <th>(4.023, 4.115]</th>\n",
       "      <td>453.0</td>\n",
       "      <td>726.0</td>\n",
       "      <td>885.0</td>\n",
       "      <td>942.0</td>\n",
       "      <td>828.0</td>\n",
       "      <td>654.0</td>\n",
       "      <td>475.0</td>\n",
       "      <td>383.0</td>\n",
       "      <td>260.0</td>\n",
       "      <td>153.0</td>\n",
       "      <td>...</td>\n",
       "      <td>0.0</td>\n",
       "      <td>0.0</td>\n",
       "      <td>0.0</td>\n",
       "      <td>0.0</td>\n",
       "      <td>0.0</td>\n",
       "      <td>0.0</td>\n",
       "      <td>0.0</td>\n",
       "      <td>0.0</td>\n",
       "      <td>0.0</td>\n",
       "      <td>0.0</td>\n",
       "    </tr>\n",
       "    <tr>\n",
       "      <th>(4.115, 4.173]</th>\n",
       "      <td>444.0</td>\n",
       "      <td>654.0</td>\n",
       "      <td>825.0</td>\n",
       "      <td>866.0</td>\n",
       "      <td>794.0</td>\n",
       "      <td>594.0</td>\n",
       "      <td>517.0</td>\n",
       "      <td>372.0</td>\n",
       "      <td>264.0</td>\n",
       "      <td>197.0</td>\n",
       "      <td>...</td>\n",
       "      <td>1.0</td>\n",
       "      <td>1.0</td>\n",
       "      <td>0.0</td>\n",
       "      <td>0.0</td>\n",
       "      <td>0.0</td>\n",
       "      <td>0.0</td>\n",
       "      <td>0.0</td>\n",
       "      <td>0.0</td>\n",
       "      <td>0.0</td>\n",
       "      <td>0.0</td>\n",
       "    </tr>\n",
       "    <tr>\n",
       "      <th>(4.173, 4.258]</th>\n",
       "      <td>416.0</td>\n",
       "      <td>712.0</td>\n",
       "      <td>780.0</td>\n",
       "      <td>919.0</td>\n",
       "      <td>830.0</td>\n",
       "      <td>634.0</td>\n",
       "      <td>492.0</td>\n",
       "      <td>387.0</td>\n",
       "      <td>266.0</td>\n",
       "      <td>170.0</td>\n",
       "      <td>...</td>\n",
       "      <td>1.0</td>\n",
       "      <td>1.0</td>\n",
       "      <td>0.0</td>\n",
       "      <td>0.0</td>\n",
       "      <td>0.0</td>\n",
       "      <td>1.0</td>\n",
       "      <td>0.0</td>\n",
       "      <td>0.0</td>\n",
       "      <td>0.0</td>\n",
       "      <td>0.0</td>\n",
       "    </tr>\n",
       "    <tr>\n",
       "      <th>(4.258, 4.311]</th>\n",
       "      <td>366.0</td>\n",
       "      <td>667.0</td>\n",
       "      <td>802.0</td>\n",
       "      <td>838.0</td>\n",
       "      <td>798.0</td>\n",
       "      <td>686.0</td>\n",
       "      <td>527.0</td>\n",
       "      <td>374.0</td>\n",
       "      <td>274.0</td>\n",
       "      <td>212.0</td>\n",
       "      <td>...</td>\n",
       "      <td>2.0</td>\n",
       "      <td>0.0</td>\n",
       "      <td>1.0</td>\n",
       "      <td>0.0</td>\n",
       "      <td>2.0</td>\n",
       "      <td>0.0</td>\n",
       "      <td>0.0</td>\n",
       "      <td>0.0</td>\n",
       "      <td>0.0</td>\n",
       "      <td>0.0</td>\n",
       "    </tr>\n",
       "    <tr>\n",
       "      <th>(4.311, 4.375]</th>\n",
       "      <td>367.0</td>\n",
       "      <td>624.0</td>\n",
       "      <td>794.0</td>\n",
       "      <td>847.0</td>\n",
       "      <td>811.0</td>\n",
       "      <td>653.0</td>\n",
       "      <td>533.0</td>\n",
       "      <td>392.0</td>\n",
       "      <td>288.0</td>\n",
       "      <td>200.0</td>\n",
       "      <td>...</td>\n",
       "      <td>1.0</td>\n",
       "      <td>1.0</td>\n",
       "      <td>0.0</td>\n",
       "      <td>0.0</td>\n",
       "      <td>0.0</td>\n",
       "      <td>0.0</td>\n",
       "      <td>0.0</td>\n",
       "      <td>0.0</td>\n",
       "      <td>0.0</td>\n",
       "      <td>0.0</td>\n",
       "    </tr>\n",
       "    <tr>\n",
       "      <th>(4.375, 4.436]</th>\n",
       "      <td>324.0</td>\n",
       "      <td>634.0</td>\n",
       "      <td>802.0</td>\n",
       "      <td>884.0</td>\n",
       "      <td>767.0</td>\n",
       "      <td>647.0</td>\n",
       "      <td>543.0</td>\n",
       "      <td>384.0</td>\n",
       "      <td>284.0</td>\n",
       "      <td>189.0</td>\n",
       "      <td>...</td>\n",
       "      <td>0.0</td>\n",
       "      <td>0.0</td>\n",
       "      <td>0.0</td>\n",
       "      <td>0.0</td>\n",
       "      <td>0.0</td>\n",
       "      <td>0.0</td>\n",
       "      <td>0.0</td>\n",
       "      <td>0.0</td>\n",
       "      <td>0.0</td>\n",
       "      <td>0.0</td>\n",
       "    </tr>\n",
       "    <tr>\n",
       "      <th>(4.436, 4.496]</th>\n",
       "      <td>358.0</td>\n",
       "      <td>629.0</td>\n",
       "      <td>838.0</td>\n",
       "      <td>849.0</td>\n",
       "      <td>806.0</td>\n",
       "      <td>668.0</td>\n",
       "      <td>531.0</td>\n",
       "      <td>402.0</td>\n",
       "      <td>267.0</td>\n",
       "      <td>179.0</td>\n",
       "      <td>...</td>\n",
       "      <td>3.0</td>\n",
       "      <td>1.0</td>\n",
       "      <td>0.0</td>\n",
       "      <td>1.0</td>\n",
       "      <td>0.0</td>\n",
       "      <td>0.0</td>\n",
       "      <td>0.0</td>\n",
       "      <td>0.0</td>\n",
       "      <td>0.0</td>\n",
       "      <td>0.0</td>\n",
       "    </tr>\n",
       "    <tr>\n",
       "      <th>(4.496, 4.542]</th>\n",
       "      <td>300.0</td>\n",
       "      <td>609.0</td>\n",
       "      <td>790.0</td>\n",
       "      <td>814.0</td>\n",
       "      <td>751.0</td>\n",
       "      <td>657.0</td>\n",
       "      <td>527.0</td>\n",
       "      <td>438.0</td>\n",
       "      <td>290.0</td>\n",
       "      <td>167.0</td>\n",
       "      <td>...</td>\n",
       "      <td>2.0</td>\n",
       "      <td>0.0</td>\n",
       "      <td>2.0</td>\n",
       "      <td>0.0</td>\n",
       "      <td>0.0</td>\n",
       "      <td>0.0</td>\n",
       "      <td>0.0</td>\n",
       "      <td>0.0</td>\n",
       "      <td>0.0</td>\n",
       "      <td>0.0</td>\n",
       "    </tr>\n",
       "    <tr>\n",
       "      <th>(4.542, 4.599]</th>\n",
       "      <td>343.0</td>\n",
       "      <td>626.0</td>\n",
       "      <td>781.0</td>\n",
       "      <td>807.0</td>\n",
       "      <td>790.0</td>\n",
       "      <td>723.0</td>\n",
       "      <td>587.0</td>\n",
       "      <td>431.0</td>\n",
       "      <td>302.0</td>\n",
       "      <td>211.0</td>\n",
       "      <td>...</td>\n",
       "      <td>4.0</td>\n",
       "      <td>0.0</td>\n",
       "      <td>0.0</td>\n",
       "      <td>1.0</td>\n",
       "      <td>0.0</td>\n",
       "      <td>0.0</td>\n",
       "      <td>0.0</td>\n",
       "      <td>1.0</td>\n",
       "      <td>0.0</td>\n",
       "      <td>0.0</td>\n",
       "    </tr>\n",
       "    <tr>\n",
       "      <th>(4.599, 4.673]</th>\n",
       "      <td>315.0</td>\n",
       "      <td>601.0</td>\n",
       "      <td>799.0</td>\n",
       "      <td>818.0</td>\n",
       "      <td>723.0</td>\n",
       "      <td>634.0</td>\n",
       "      <td>579.0</td>\n",
       "      <td>396.0</td>\n",
       "      <td>336.0</td>\n",
       "      <td>244.0</td>\n",
       "      <td>...</td>\n",
       "      <td>1.0</td>\n",
       "      <td>1.0</td>\n",
       "      <td>2.0</td>\n",
       "      <td>0.0</td>\n",
       "      <td>0.0</td>\n",
       "      <td>0.0</td>\n",
       "      <td>0.0</td>\n",
       "      <td>0.0</td>\n",
       "      <td>0.0</td>\n",
       "      <td>0.0</td>\n",
       "    </tr>\n",
       "    <tr>\n",
       "      <th>(4.673, 4.718]</th>\n",
       "      <td>314.0</td>\n",
       "      <td>574.0</td>\n",
       "      <td>740.0</td>\n",
       "      <td>804.0</td>\n",
       "      <td>781.0</td>\n",
       "      <td>684.0</td>\n",
       "      <td>502.0</td>\n",
       "      <td>420.0</td>\n",
       "      <td>294.0</td>\n",
       "      <td>224.0</td>\n",
       "      <td>...</td>\n",
       "      <td>1.0</td>\n",
       "      <td>2.0</td>\n",
       "      <td>1.0</td>\n",
       "      <td>0.0</td>\n",
       "      <td>0.0</td>\n",
       "      <td>0.0</td>\n",
       "      <td>0.0</td>\n",
       "      <td>0.0</td>\n",
       "      <td>0.0</td>\n",
       "      <td>0.0</td>\n",
       "    </tr>\n",
       "    <tr>\n",
       "      <th>(4.718, 4.797]</th>\n",
       "      <td>279.0</td>\n",
       "      <td>568.0</td>\n",
       "      <td>776.0</td>\n",
       "      <td>854.0</td>\n",
       "      <td>768.0</td>\n",
       "      <td>689.0</td>\n",
       "      <td>538.0</td>\n",
       "      <td>428.0</td>\n",
       "      <td>319.0</td>\n",
       "      <td>234.0</td>\n",
       "      <td>...</td>\n",
       "      <td>1.0</td>\n",
       "      <td>3.0</td>\n",
       "      <td>1.0</td>\n",
       "      <td>0.0</td>\n",
       "      <td>0.0</td>\n",
       "      <td>0.0</td>\n",
       "      <td>0.0</td>\n",
       "      <td>0.0</td>\n",
       "      <td>1.0</td>\n",
       "      <td>0.0</td>\n",
       "    </tr>\n",
       "    <tr>\n",
       "      <th>(4.797, 4.878]</th>\n",
       "      <td>294.0</td>\n",
       "      <td>565.0</td>\n",
       "      <td>759.0</td>\n",
       "      <td>764.0</td>\n",
       "      <td>769.0</td>\n",
       "      <td>692.0</td>\n",
       "      <td>570.0</td>\n",
       "      <td>458.0</td>\n",
       "      <td>334.0</td>\n",
       "      <td>219.0</td>\n",
       "      <td>...</td>\n",
       "      <td>2.0</td>\n",
       "      <td>1.0</td>\n",
       "      <td>1.0</td>\n",
       "      <td>1.0</td>\n",
       "      <td>0.0</td>\n",
       "      <td>0.0</td>\n",
       "      <td>0.0</td>\n",
       "      <td>0.0</td>\n",
       "      <td>0.0</td>\n",
       "      <td>0.0</td>\n",
       "    </tr>\n",
       "    <tr>\n",
       "      <th>(4.878, 4.992]</th>\n",
       "      <td>286.0</td>\n",
       "      <td>564.0</td>\n",
       "      <td>680.0</td>\n",
       "      <td>758.0</td>\n",
       "      <td>772.0</td>\n",
       "      <td>690.0</td>\n",
       "      <td>524.0</td>\n",
       "      <td>468.0</td>\n",
       "      <td>349.0</td>\n",
       "      <td>283.0</td>\n",
       "      <td>...</td>\n",
       "      <td>2.0</td>\n",
       "      <td>2.0</td>\n",
       "      <td>0.0</td>\n",
       "      <td>1.0</td>\n",
       "      <td>0.0</td>\n",
       "      <td>0.0</td>\n",
       "      <td>1.0</td>\n",
       "      <td>0.0</td>\n",
       "      <td>0.0</td>\n",
       "      <td>1.0</td>\n",
       "    </tr>\n",
       "    <tr>\n",
       "      <th>(4.992, 5.103]</th>\n",
       "      <td>280.0</td>\n",
       "      <td>514.0</td>\n",
       "      <td>644.0</td>\n",
       "      <td>789.0</td>\n",
       "      <td>745.0</td>\n",
       "      <td>689.0</td>\n",
       "      <td>584.0</td>\n",
       "      <td>429.0</td>\n",
       "      <td>345.0</td>\n",
       "      <td>252.0</td>\n",
       "      <td>...</td>\n",
       "      <td>2.0</td>\n",
       "      <td>2.0</td>\n",
       "      <td>1.0</td>\n",
       "      <td>0.0</td>\n",
       "      <td>0.0</td>\n",
       "      <td>0.0</td>\n",
       "      <td>0.0</td>\n",
       "      <td>0.0</td>\n",
       "      <td>0.0</td>\n",
       "      <td>0.0</td>\n",
       "    </tr>\n",
       "    <tr>\n",
       "      <th>(5.103, 5.418]</th>\n",
       "      <td>243.0</td>\n",
       "      <td>500.0</td>\n",
       "      <td>580.0</td>\n",
       "      <td>747.0</td>\n",
       "      <td>732.0</td>\n",
       "      <td>662.0</td>\n",
       "      <td>592.0</td>\n",
       "      <td>511.0</td>\n",
       "      <td>390.0</td>\n",
       "      <td>294.0</td>\n",
       "      <td>...</td>\n",
       "      <td>3.0</td>\n",
       "      <td>0.0</td>\n",
       "      <td>1.0</td>\n",
       "      <td>1.0</td>\n",
       "      <td>0.0</td>\n",
       "      <td>1.0</td>\n",
       "      <td>0.0</td>\n",
       "      <td>0.0</td>\n",
       "      <td>0.0</td>\n",
       "      <td>0.0</td>\n",
       "    </tr>\n",
       "    <tr>\n",
       "      <th>(5.418, 12.41]</th>\n",
       "      <td>180.0</td>\n",
       "      <td>353.0</td>\n",
       "      <td>553.0</td>\n",
       "      <td>716.0</td>\n",
       "      <td>665.0</td>\n",
       "      <td>689.0</td>\n",
       "      <td>626.0</td>\n",
       "      <td>517.0</td>\n",
       "      <td>401.0</td>\n",
       "      <td>286.0</td>\n",
       "      <td>...</td>\n",
       "      <td>5.0</td>\n",
       "      <td>2.0</td>\n",
       "      <td>3.0</td>\n",
       "      <td>1.0</td>\n",
       "      <td>1.0</td>\n",
       "      <td>0.0</td>\n",
       "      <td>0.0</td>\n",
       "      <td>0.0</td>\n",
       "      <td>0.0</td>\n",
       "      <td>0.0</td>\n",
       "    </tr>\n",
       "  </tbody>\n",
       "</table>\n",
       "<p>20 rows × 30 columns</p>\n",
       "</div>"
      ],
      "text/plain": [
       "runs_scored_9                   0      1       2      3      4      5      6   \\\n",
       "re_pred                                                                         \n",
       "(3.2640000000000002, 3.774]  545.0  810.0  1008.0  917.0  750.0  578.0  500.0   \n",
       "(3.774, 3.911]               500.0  845.0   958.0  885.0  735.0  635.0  447.0   \n",
       "(3.911, 4.023]               433.0  733.0   828.0  898.0  786.0  621.0  454.0   \n",
       "(4.023, 4.115]               453.0  726.0   885.0  942.0  828.0  654.0  475.0   \n",
       "(4.115, 4.173]               444.0  654.0   825.0  866.0  794.0  594.0  517.0   \n",
       "(4.173, 4.258]               416.0  712.0   780.0  919.0  830.0  634.0  492.0   \n",
       "(4.258, 4.311]               366.0  667.0   802.0  838.0  798.0  686.0  527.0   \n",
       "(4.311, 4.375]               367.0  624.0   794.0  847.0  811.0  653.0  533.0   \n",
       "(4.375, 4.436]               324.0  634.0   802.0  884.0  767.0  647.0  543.0   \n",
       "(4.436, 4.496]               358.0  629.0   838.0  849.0  806.0  668.0  531.0   \n",
       "(4.496, 4.542]               300.0  609.0   790.0  814.0  751.0  657.0  527.0   \n",
       "(4.542, 4.599]               343.0  626.0   781.0  807.0  790.0  723.0  587.0   \n",
       "(4.599, 4.673]               315.0  601.0   799.0  818.0  723.0  634.0  579.0   \n",
       "(4.673, 4.718]               314.0  574.0   740.0  804.0  781.0  684.0  502.0   \n",
       "(4.718, 4.797]               279.0  568.0   776.0  854.0  768.0  689.0  538.0   \n",
       "(4.797, 4.878]               294.0  565.0   759.0  764.0  769.0  692.0  570.0   \n",
       "(4.878, 4.992]               286.0  564.0   680.0  758.0  772.0  690.0  524.0   \n",
       "(4.992, 5.103]               280.0  514.0   644.0  789.0  745.0  689.0  584.0   \n",
       "(5.103, 5.418]               243.0  500.0   580.0  747.0  732.0  662.0  592.0   \n",
       "(5.418, 12.41]               180.0  353.0   553.0  716.0  665.0  689.0  626.0   \n",
       "\n",
       "runs_scored_9                   7      8      9   ...   20   21   22   23  \\\n",
       "re_pred                                           ...                       \n",
       "(3.2640000000000002, 3.774]  297.0  222.0  148.0  ...  0.0  0.0  0.0  0.0   \n",
       "(3.774, 3.911]               324.0  231.0  152.0  ...  1.0  0.0  0.0  0.0   \n",
       "(3.911, 4.023]               349.0  236.0  167.0  ...  1.0  1.0  1.0  0.0   \n",
       "(4.023, 4.115]               383.0  260.0  153.0  ...  0.0  0.0  0.0  0.0   \n",
       "(4.115, 4.173]               372.0  264.0  197.0  ...  1.0  1.0  0.0  0.0   \n",
       "(4.173, 4.258]               387.0  266.0  170.0  ...  1.0  1.0  0.0  0.0   \n",
       "(4.258, 4.311]               374.0  274.0  212.0  ...  2.0  0.0  1.0  0.0   \n",
       "(4.311, 4.375]               392.0  288.0  200.0  ...  1.0  1.0  0.0  0.0   \n",
       "(4.375, 4.436]               384.0  284.0  189.0  ...  0.0  0.0  0.0  0.0   \n",
       "(4.436, 4.496]               402.0  267.0  179.0  ...  3.0  1.0  0.0  1.0   \n",
       "(4.496, 4.542]               438.0  290.0  167.0  ...  2.0  0.0  2.0  0.0   \n",
       "(4.542, 4.599]               431.0  302.0  211.0  ...  4.0  0.0  0.0  1.0   \n",
       "(4.599, 4.673]               396.0  336.0  244.0  ...  1.0  1.0  2.0  0.0   \n",
       "(4.673, 4.718]               420.0  294.0  224.0  ...  1.0  2.0  1.0  0.0   \n",
       "(4.718, 4.797]               428.0  319.0  234.0  ...  1.0  3.0  1.0  0.0   \n",
       "(4.797, 4.878]               458.0  334.0  219.0  ...  2.0  1.0  1.0  1.0   \n",
       "(4.878, 4.992]               468.0  349.0  283.0  ...  2.0  2.0  0.0  1.0   \n",
       "(4.992, 5.103]               429.0  345.0  252.0  ...  2.0  2.0  1.0  0.0   \n",
       "(5.103, 5.418]               511.0  390.0  294.0  ...  3.0  0.0  1.0  1.0   \n",
       "(5.418, 12.41]               517.0  401.0  286.0  ...  5.0  2.0  3.0  1.0   \n",
       "\n",
       "runs_scored_9                 24   25   26   28   29   30  \n",
       "re_pred                                                    \n",
       "(3.2640000000000002, 3.774]  0.0  0.0  0.0  0.0  0.0  0.0  \n",
       "(3.774, 3.911]               0.0  0.0  0.0  0.0  0.0  0.0  \n",
       "(3.911, 4.023]               0.0  0.0  0.0  0.0  0.0  0.0  \n",
       "(4.023, 4.115]               0.0  0.0  0.0  0.0  0.0  0.0  \n",
       "(4.115, 4.173]               0.0  0.0  0.0  0.0  0.0  0.0  \n",
       "(4.173, 4.258]               0.0  1.0  0.0  0.0  0.0  0.0  \n",
       "(4.258, 4.311]               2.0  0.0  0.0  0.0  0.0  0.0  \n",
       "(4.311, 4.375]               0.0  0.0  0.0  0.0  0.0  0.0  \n",
       "(4.375, 4.436]               0.0  0.0  0.0  0.0  0.0  0.0  \n",
       "(4.436, 4.496]               0.0  0.0  0.0  0.0  0.0  0.0  \n",
       "(4.496, 4.542]               0.0  0.0  0.0  0.0  0.0  0.0  \n",
       "(4.542, 4.599]               0.0  0.0  0.0  1.0  0.0  0.0  \n",
       "(4.599, 4.673]               0.0  0.0  0.0  0.0  0.0  0.0  \n",
       "(4.673, 4.718]               0.0  0.0  0.0  0.0  0.0  0.0  \n",
       "(4.718, 4.797]               0.0  0.0  0.0  0.0  1.0  0.0  \n",
       "(4.797, 4.878]               0.0  0.0  0.0  0.0  0.0  0.0  \n",
       "(4.878, 4.992]               0.0  0.0  1.0  0.0  0.0  1.0  \n",
       "(4.992, 5.103]               0.0  0.0  0.0  0.0  0.0  0.0  \n",
       "(5.103, 5.418]               0.0  1.0  0.0  0.0  0.0  0.0  \n",
       "(5.418, 12.41]               1.0  0.0  0.0  0.0  0.0  0.0  \n",
       "\n",
       "[20 rows x 30 columns]"
      ]
     },
     "execution_count": 11,
     "metadata": {},
     "output_type": "execute_result"
    }
   ],
   "source": [
    "# Bucket games by RE\n",
    "bin_ids, bins = pd.qcut(glt['re_pred'], 20, retbins=True)\n",
    "score_dists = glt.groupby(bin_ids)['runs_scored_9'].value_counts().unstack().fillna(0)\n",
    "score_dists"
   ]
  },
  {
   "cell_type": "code",
   "execution_count": 12,
   "metadata": {},
   "outputs": [
    {
     "data": {
      "text/html": [
       "<div>\n",
       "<style scoped>\n",
       "    .dataframe tbody tr th:only-of-type {\n",
       "        vertical-align: middle;\n",
       "    }\n",
       "\n",
       "    .dataframe tbody tr th {\n",
       "        vertical-align: top;\n",
       "    }\n",
       "\n",
       "    .dataframe thead th {\n",
       "        text-align: right;\n",
       "    }\n",
       "</style>\n",
       "<table border=\"1\" class=\"dataframe\">\n",
       "  <thead>\n",
       "    <tr style=\"text-align: right;\">\n",
       "      <th>runs_scored_9</th>\n",
       "      <th>0</th>\n",
       "      <th>1</th>\n",
       "      <th>2</th>\n",
       "      <th>3</th>\n",
       "      <th>4</th>\n",
       "      <th>5</th>\n",
       "      <th>6</th>\n",
       "      <th>7</th>\n",
       "      <th>8</th>\n",
       "      <th>9</th>\n",
       "      <th>...</th>\n",
       "      <th>20</th>\n",
       "      <th>21</th>\n",
       "      <th>22</th>\n",
       "      <th>23</th>\n",
       "      <th>24</th>\n",
       "      <th>25</th>\n",
       "      <th>26</th>\n",
       "      <th>28</th>\n",
       "      <th>29</th>\n",
       "      <th>30</th>\n",
       "    </tr>\n",
       "    <tr>\n",
       "      <th>re_pred</th>\n",
       "      <th></th>\n",
       "      <th></th>\n",
       "      <th></th>\n",
       "      <th></th>\n",
       "      <th></th>\n",
       "      <th></th>\n",
       "      <th></th>\n",
       "      <th></th>\n",
       "      <th></th>\n",
       "      <th></th>\n",
       "      <th></th>\n",
       "      <th></th>\n",
       "      <th></th>\n",
       "      <th></th>\n",
       "      <th></th>\n",
       "      <th></th>\n",
       "      <th></th>\n",
       "      <th></th>\n",
       "      <th></th>\n",
       "      <th></th>\n",
       "      <th></th>\n",
       "    </tr>\n",
       "  </thead>\n",
       "  <tbody>\n",
       "    <tr>\n",
       "      <th>(3.2640000000000002, 3.774]</th>\n",
       "      <td>545.0</td>\n",
       "      <td>1355.0</td>\n",
       "      <td>2363.0</td>\n",
       "      <td>3280.0</td>\n",
       "      <td>4030.0</td>\n",
       "      <td>4608.0</td>\n",
       "      <td>5108.0</td>\n",
       "      <td>5405.0</td>\n",
       "      <td>5627.0</td>\n",
       "      <td>5775.0</td>\n",
       "      <td>...</td>\n",
       "      <td>6002.0</td>\n",
       "      <td>6002.0</td>\n",
       "      <td>6002.0</td>\n",
       "      <td>6002.0</td>\n",
       "      <td>6002.0</td>\n",
       "      <td>6002.0</td>\n",
       "      <td>6002.0</td>\n",
       "      <td>6002.0</td>\n",
       "      <td>6002.0</td>\n",
       "      <td>6002.0</td>\n",
       "    </tr>\n",
       "    <tr>\n",
       "      <th>(3.774, 3.911]</th>\n",
       "      <td>500.0</td>\n",
       "      <td>1345.0</td>\n",
       "      <td>2303.0</td>\n",
       "      <td>3188.0</td>\n",
       "      <td>3923.0</td>\n",
       "      <td>4558.0</td>\n",
       "      <td>5005.0</td>\n",
       "      <td>5329.0</td>\n",
       "      <td>5560.0</td>\n",
       "      <td>5712.0</td>\n",
       "      <td>...</td>\n",
       "      <td>5998.0</td>\n",
       "      <td>5998.0</td>\n",
       "      <td>5998.0</td>\n",
       "      <td>5998.0</td>\n",
       "      <td>5998.0</td>\n",
       "      <td>5998.0</td>\n",
       "      <td>5998.0</td>\n",
       "      <td>5998.0</td>\n",
       "      <td>5998.0</td>\n",
       "      <td>5998.0</td>\n",
       "    </tr>\n",
       "    <tr>\n",
       "      <th>(3.911, 4.023]</th>\n",
       "      <td>433.0</td>\n",
       "      <td>1166.0</td>\n",
       "      <td>1994.0</td>\n",
       "      <td>2892.0</td>\n",
       "      <td>3678.0</td>\n",
       "      <td>4299.0</td>\n",
       "      <td>4753.0</td>\n",
       "      <td>5102.0</td>\n",
       "      <td>5338.0</td>\n",
       "      <td>5505.0</td>\n",
       "      <td>...</td>\n",
       "      <td>5782.0</td>\n",
       "      <td>5783.0</td>\n",
       "      <td>5784.0</td>\n",
       "      <td>5784.0</td>\n",
       "      <td>5784.0</td>\n",
       "      <td>5784.0</td>\n",
       "      <td>5784.0</td>\n",
       "      <td>5784.0</td>\n",
       "      <td>5784.0</td>\n",
       "      <td>5784.0</td>\n",
       "    </tr>\n",
       "    <tr>\n",
       "      <th>(4.023, 4.115]</th>\n",
       "      <td>453.0</td>\n",
       "      <td>1179.0</td>\n",
       "      <td>2064.0</td>\n",
       "      <td>3006.0</td>\n",
       "      <td>3834.0</td>\n",
       "      <td>4488.0</td>\n",
       "      <td>4963.0</td>\n",
       "      <td>5346.0</td>\n",
       "      <td>5606.0</td>\n",
       "      <td>5759.0</td>\n",
       "      <td>...</td>\n",
       "      <td>6056.0</td>\n",
       "      <td>6056.0</td>\n",
       "      <td>6056.0</td>\n",
       "      <td>6056.0</td>\n",
       "      <td>6056.0</td>\n",
       "      <td>6056.0</td>\n",
       "      <td>6056.0</td>\n",
       "      <td>6056.0</td>\n",
       "      <td>6056.0</td>\n",
       "      <td>6056.0</td>\n",
       "    </tr>\n",
       "    <tr>\n",
       "      <th>(4.115, 4.173]</th>\n",
       "      <td>444.0</td>\n",
       "      <td>1098.0</td>\n",
       "      <td>1923.0</td>\n",
       "      <td>2789.0</td>\n",
       "      <td>3583.0</td>\n",
       "      <td>4177.0</td>\n",
       "      <td>4694.0</td>\n",
       "      <td>5066.0</td>\n",
       "      <td>5330.0</td>\n",
       "      <td>5527.0</td>\n",
       "      <td>...</td>\n",
       "      <td>5831.0</td>\n",
       "      <td>5832.0</td>\n",
       "      <td>5832.0</td>\n",
       "      <td>5832.0</td>\n",
       "      <td>5832.0</td>\n",
       "      <td>5832.0</td>\n",
       "      <td>5832.0</td>\n",
       "      <td>5832.0</td>\n",
       "      <td>5832.0</td>\n",
       "      <td>5832.0</td>\n",
       "    </tr>\n",
       "    <tr>\n",
       "      <th>(4.173, 4.258]</th>\n",
       "      <td>416.0</td>\n",
       "      <td>1128.0</td>\n",
       "      <td>1908.0</td>\n",
       "      <td>2827.0</td>\n",
       "      <td>3657.0</td>\n",
       "      <td>4291.0</td>\n",
       "      <td>4783.0</td>\n",
       "      <td>5170.0</td>\n",
       "      <td>5436.0</td>\n",
       "      <td>5606.0</td>\n",
       "      <td>...</td>\n",
       "      <td>5956.0</td>\n",
       "      <td>5957.0</td>\n",
       "      <td>5957.0</td>\n",
       "      <td>5957.0</td>\n",
       "      <td>5957.0</td>\n",
       "      <td>5958.0</td>\n",
       "      <td>5958.0</td>\n",
       "      <td>5958.0</td>\n",
       "      <td>5958.0</td>\n",
       "      <td>5958.0</td>\n",
       "    </tr>\n",
       "    <tr>\n",
       "      <th>(4.258, 4.311]</th>\n",
       "      <td>366.0</td>\n",
       "      <td>1033.0</td>\n",
       "      <td>1835.0</td>\n",
       "      <td>2673.0</td>\n",
       "      <td>3471.0</td>\n",
       "      <td>4157.0</td>\n",
       "      <td>4684.0</td>\n",
       "      <td>5058.0</td>\n",
       "      <td>5332.0</td>\n",
       "      <td>5544.0</td>\n",
       "      <td>...</td>\n",
       "      <td>5937.0</td>\n",
       "      <td>5937.0</td>\n",
       "      <td>5938.0</td>\n",
       "      <td>5938.0</td>\n",
       "      <td>5940.0</td>\n",
       "      <td>5940.0</td>\n",
       "      <td>5940.0</td>\n",
       "      <td>5940.0</td>\n",
       "      <td>5940.0</td>\n",
       "      <td>5940.0</td>\n",
       "    </tr>\n",
       "    <tr>\n",
       "      <th>(4.311, 4.375]</th>\n",
       "      <td>367.0</td>\n",
       "      <td>991.0</td>\n",
       "      <td>1785.0</td>\n",
       "      <td>2632.0</td>\n",
       "      <td>3443.0</td>\n",
       "      <td>4096.0</td>\n",
       "      <td>4629.0</td>\n",
       "      <td>5021.0</td>\n",
       "      <td>5309.0</td>\n",
       "      <td>5509.0</td>\n",
       "      <td>...</td>\n",
       "      <td>5927.0</td>\n",
       "      <td>5928.0</td>\n",
       "      <td>5928.0</td>\n",
       "      <td>5928.0</td>\n",
       "      <td>5928.0</td>\n",
       "      <td>5928.0</td>\n",
       "      <td>5928.0</td>\n",
       "      <td>5928.0</td>\n",
       "      <td>5928.0</td>\n",
       "      <td>5928.0</td>\n",
       "    </tr>\n",
       "    <tr>\n",
       "      <th>(4.375, 4.436]</th>\n",
       "      <td>324.0</td>\n",
       "      <td>958.0</td>\n",
       "      <td>1760.0</td>\n",
       "      <td>2644.0</td>\n",
       "      <td>3411.0</td>\n",
       "      <td>4058.0</td>\n",
       "      <td>4601.0</td>\n",
       "      <td>4985.0</td>\n",
       "      <td>5269.0</td>\n",
       "      <td>5458.0</td>\n",
       "      <td>...</td>\n",
       "      <td>5882.0</td>\n",
       "      <td>5882.0</td>\n",
       "      <td>5882.0</td>\n",
       "      <td>5882.0</td>\n",
       "      <td>5882.0</td>\n",
       "      <td>5882.0</td>\n",
       "      <td>5882.0</td>\n",
       "      <td>5882.0</td>\n",
       "      <td>5882.0</td>\n",
       "      <td>5882.0</td>\n",
       "    </tr>\n",
       "    <tr>\n",
       "      <th>(4.436, 4.496]</th>\n",
       "      <td>358.0</td>\n",
       "      <td>987.0</td>\n",
       "      <td>1825.0</td>\n",
       "      <td>2674.0</td>\n",
       "      <td>3480.0</td>\n",
       "      <td>4148.0</td>\n",
       "      <td>4679.0</td>\n",
       "      <td>5081.0</td>\n",
       "      <td>5348.0</td>\n",
       "      <td>5527.0</td>\n",
       "      <td>...</td>\n",
       "      <td>5938.0</td>\n",
       "      <td>5939.0</td>\n",
       "      <td>5939.0</td>\n",
       "      <td>5940.0</td>\n",
       "      <td>5940.0</td>\n",
       "      <td>5940.0</td>\n",
       "      <td>5940.0</td>\n",
       "      <td>5940.0</td>\n",
       "      <td>5940.0</td>\n",
       "      <td>5940.0</td>\n",
       "    </tr>\n",
       "    <tr>\n",
       "      <th>(4.496, 4.542]</th>\n",
       "      <td>300.0</td>\n",
       "      <td>909.0</td>\n",
       "      <td>1699.0</td>\n",
       "      <td>2513.0</td>\n",
       "      <td>3264.0</td>\n",
       "      <td>3921.0</td>\n",
       "      <td>4448.0</td>\n",
       "      <td>4886.0</td>\n",
       "      <td>5176.0</td>\n",
       "      <td>5343.0</td>\n",
       "      <td>...</td>\n",
       "      <td>5806.0</td>\n",
       "      <td>5806.0</td>\n",
       "      <td>5808.0</td>\n",
       "      <td>5808.0</td>\n",
       "      <td>5808.0</td>\n",
       "      <td>5808.0</td>\n",
       "      <td>5808.0</td>\n",
       "      <td>5808.0</td>\n",
       "      <td>5808.0</td>\n",
       "      <td>5808.0</td>\n",
       "    </tr>\n",
       "    <tr>\n",
       "      <th>(4.542, 4.599]</th>\n",
       "      <td>343.0</td>\n",
       "      <td>969.0</td>\n",
       "      <td>1750.0</td>\n",
       "      <td>2557.0</td>\n",
       "      <td>3347.0</td>\n",
       "      <td>4070.0</td>\n",
       "      <td>4657.0</td>\n",
       "      <td>5088.0</td>\n",
       "      <td>5390.0</td>\n",
       "      <td>5601.0</td>\n",
       "      <td>...</td>\n",
       "      <td>6048.0</td>\n",
       "      <td>6048.0</td>\n",
       "      <td>6048.0</td>\n",
       "      <td>6049.0</td>\n",
       "      <td>6049.0</td>\n",
       "      <td>6049.0</td>\n",
       "      <td>6049.0</td>\n",
       "      <td>6050.0</td>\n",
       "      <td>6050.0</td>\n",
       "      <td>6050.0</td>\n",
       "    </tr>\n",
       "    <tr>\n",
       "      <th>(4.599, 4.673]</th>\n",
       "      <td>315.0</td>\n",
       "      <td>916.0</td>\n",
       "      <td>1715.0</td>\n",
       "      <td>2533.0</td>\n",
       "      <td>3256.0</td>\n",
       "      <td>3890.0</td>\n",
       "      <td>4469.0</td>\n",
       "      <td>4865.0</td>\n",
       "      <td>5201.0</td>\n",
       "      <td>5445.0</td>\n",
       "      <td>...</td>\n",
       "      <td>5903.0</td>\n",
       "      <td>5904.0</td>\n",
       "      <td>5906.0</td>\n",
       "      <td>5906.0</td>\n",
       "      <td>5906.0</td>\n",
       "      <td>5906.0</td>\n",
       "      <td>5906.0</td>\n",
       "      <td>5906.0</td>\n",
       "      <td>5906.0</td>\n",
       "      <td>5906.0</td>\n",
       "    </tr>\n",
       "    <tr>\n",
       "      <th>(4.673, 4.718]</th>\n",
       "      <td>314.0</td>\n",
       "      <td>888.0</td>\n",
       "      <td>1628.0</td>\n",
       "      <td>2432.0</td>\n",
       "      <td>3213.0</td>\n",
       "      <td>3897.0</td>\n",
       "      <td>4399.0</td>\n",
       "      <td>4819.0</td>\n",
       "      <td>5113.0</td>\n",
       "      <td>5337.0</td>\n",
       "      <td>...</td>\n",
       "      <td>5823.0</td>\n",
       "      <td>5825.0</td>\n",
       "      <td>5826.0</td>\n",
       "      <td>5826.0</td>\n",
       "      <td>5826.0</td>\n",
       "      <td>5826.0</td>\n",
       "      <td>5826.0</td>\n",
       "      <td>5826.0</td>\n",
       "      <td>5826.0</td>\n",
       "      <td>5826.0</td>\n",
       "    </tr>\n",
       "    <tr>\n",
       "      <th>(4.718, 4.797]</th>\n",
       "      <td>279.0</td>\n",
       "      <td>847.0</td>\n",
       "      <td>1623.0</td>\n",
       "      <td>2477.0</td>\n",
       "      <td>3245.0</td>\n",
       "      <td>3934.0</td>\n",
       "      <td>4472.0</td>\n",
       "      <td>4900.0</td>\n",
       "      <td>5219.0</td>\n",
       "      <td>5453.0</td>\n",
       "      <td>...</td>\n",
       "      <td>5967.0</td>\n",
       "      <td>5970.0</td>\n",
       "      <td>5971.0</td>\n",
       "      <td>5971.0</td>\n",
       "      <td>5971.0</td>\n",
       "      <td>5971.0</td>\n",
       "      <td>5971.0</td>\n",
       "      <td>5971.0</td>\n",
       "      <td>5972.0</td>\n",
       "      <td>5972.0</td>\n",
       "    </tr>\n",
       "    <tr>\n",
       "      <th>(4.797, 4.878]</th>\n",
       "      <td>294.0</td>\n",
       "      <td>859.0</td>\n",
       "      <td>1618.0</td>\n",
       "      <td>2382.0</td>\n",
       "      <td>3151.0</td>\n",
       "      <td>3843.0</td>\n",
       "      <td>4413.0</td>\n",
       "      <td>4871.0</td>\n",
       "      <td>5205.0</td>\n",
       "      <td>5424.0</td>\n",
       "      <td>...</td>\n",
       "      <td>5937.0</td>\n",
       "      <td>5938.0</td>\n",
       "      <td>5939.0</td>\n",
       "      <td>5940.0</td>\n",
       "      <td>5940.0</td>\n",
       "      <td>5940.0</td>\n",
       "      <td>5940.0</td>\n",
       "      <td>5940.0</td>\n",
       "      <td>5940.0</td>\n",
       "      <td>5940.0</td>\n",
       "    </tr>\n",
       "    <tr>\n",
       "      <th>(4.878, 4.992]</th>\n",
       "      <td>286.0</td>\n",
       "      <td>850.0</td>\n",
       "      <td>1530.0</td>\n",
       "      <td>2288.0</td>\n",
       "      <td>3060.0</td>\n",
       "      <td>3750.0</td>\n",
       "      <td>4274.0</td>\n",
       "      <td>4742.0</td>\n",
       "      <td>5091.0</td>\n",
       "      <td>5374.0</td>\n",
       "      <td>...</td>\n",
       "      <td>5953.0</td>\n",
       "      <td>5955.0</td>\n",
       "      <td>5955.0</td>\n",
       "      <td>5956.0</td>\n",
       "      <td>5956.0</td>\n",
       "      <td>5956.0</td>\n",
       "      <td>5957.0</td>\n",
       "      <td>5957.0</td>\n",
       "      <td>5957.0</td>\n",
       "      <td>5958.0</td>\n",
       "    </tr>\n",
       "    <tr>\n",
       "      <th>(4.992, 5.103]</th>\n",
       "      <td>280.0</td>\n",
       "      <td>794.0</td>\n",
       "      <td>1438.0</td>\n",
       "      <td>2227.0</td>\n",
       "      <td>2972.0</td>\n",
       "      <td>3661.0</td>\n",
       "      <td>4245.0</td>\n",
       "      <td>4674.0</td>\n",
       "      <td>5019.0</td>\n",
       "      <td>5271.0</td>\n",
       "      <td>...</td>\n",
       "      <td>5831.0</td>\n",
       "      <td>5833.0</td>\n",
       "      <td>5834.0</td>\n",
       "      <td>5834.0</td>\n",
       "      <td>5834.0</td>\n",
       "      <td>5834.0</td>\n",
       "      <td>5834.0</td>\n",
       "      <td>5834.0</td>\n",
       "      <td>5834.0</td>\n",
       "      <td>5834.0</td>\n",
       "    </tr>\n",
       "    <tr>\n",
       "      <th>(5.103, 5.418]</th>\n",
       "      <td>243.0</td>\n",
       "      <td>743.0</td>\n",
       "      <td>1323.0</td>\n",
       "      <td>2070.0</td>\n",
       "      <td>2802.0</td>\n",
       "      <td>3464.0</td>\n",
       "      <td>4056.0</td>\n",
       "      <td>4567.0</td>\n",
       "      <td>4957.0</td>\n",
       "      <td>5251.0</td>\n",
       "      <td>...</td>\n",
       "      <td>5975.0</td>\n",
       "      <td>5975.0</td>\n",
       "      <td>5976.0</td>\n",
       "      <td>5977.0</td>\n",
       "      <td>5977.0</td>\n",
       "      <td>5978.0</td>\n",
       "      <td>5978.0</td>\n",
       "      <td>5978.0</td>\n",
       "      <td>5978.0</td>\n",
       "      <td>5978.0</td>\n",
       "    </tr>\n",
       "    <tr>\n",
       "      <th>(5.418, 12.41]</th>\n",
       "      <td>180.0</td>\n",
       "      <td>533.0</td>\n",
       "      <td>1086.0</td>\n",
       "      <td>1802.0</td>\n",
       "      <td>2467.0</td>\n",
       "      <td>3156.0</td>\n",
       "      <td>3782.0</td>\n",
       "      <td>4299.0</td>\n",
       "      <td>4700.0</td>\n",
       "      <td>4986.0</td>\n",
       "      <td>...</td>\n",
       "      <td>5811.0</td>\n",
       "      <td>5813.0</td>\n",
       "      <td>5816.0</td>\n",
       "      <td>5817.0</td>\n",
       "      <td>5818.0</td>\n",
       "      <td>5818.0</td>\n",
       "      <td>5818.0</td>\n",
       "      <td>5818.0</td>\n",
       "      <td>5818.0</td>\n",
       "      <td>5818.0</td>\n",
       "    </tr>\n",
       "  </tbody>\n",
       "</table>\n",
       "<p>20 rows × 30 columns</p>\n",
       "</div>"
      ],
      "text/plain": [
       "runs_scored_9                   0       1       2       3       4       5   \\\n",
       "re_pred                                                                      \n",
       "(3.2640000000000002, 3.774]  545.0  1355.0  2363.0  3280.0  4030.0  4608.0   \n",
       "(3.774, 3.911]               500.0  1345.0  2303.0  3188.0  3923.0  4558.0   \n",
       "(3.911, 4.023]               433.0  1166.0  1994.0  2892.0  3678.0  4299.0   \n",
       "(4.023, 4.115]               453.0  1179.0  2064.0  3006.0  3834.0  4488.0   \n",
       "(4.115, 4.173]               444.0  1098.0  1923.0  2789.0  3583.0  4177.0   \n",
       "(4.173, 4.258]               416.0  1128.0  1908.0  2827.0  3657.0  4291.0   \n",
       "(4.258, 4.311]               366.0  1033.0  1835.0  2673.0  3471.0  4157.0   \n",
       "(4.311, 4.375]               367.0   991.0  1785.0  2632.0  3443.0  4096.0   \n",
       "(4.375, 4.436]               324.0   958.0  1760.0  2644.0  3411.0  4058.0   \n",
       "(4.436, 4.496]               358.0   987.0  1825.0  2674.0  3480.0  4148.0   \n",
       "(4.496, 4.542]               300.0   909.0  1699.0  2513.0  3264.0  3921.0   \n",
       "(4.542, 4.599]               343.0   969.0  1750.0  2557.0  3347.0  4070.0   \n",
       "(4.599, 4.673]               315.0   916.0  1715.0  2533.0  3256.0  3890.0   \n",
       "(4.673, 4.718]               314.0   888.0  1628.0  2432.0  3213.0  3897.0   \n",
       "(4.718, 4.797]               279.0   847.0  1623.0  2477.0  3245.0  3934.0   \n",
       "(4.797, 4.878]               294.0   859.0  1618.0  2382.0  3151.0  3843.0   \n",
       "(4.878, 4.992]               286.0   850.0  1530.0  2288.0  3060.0  3750.0   \n",
       "(4.992, 5.103]               280.0   794.0  1438.0  2227.0  2972.0  3661.0   \n",
       "(5.103, 5.418]               243.0   743.0  1323.0  2070.0  2802.0  3464.0   \n",
       "(5.418, 12.41]               180.0   533.0  1086.0  1802.0  2467.0  3156.0   \n",
       "\n",
       "runs_scored_9                    6       7       8       9   ...      20  \\\n",
       "re_pred                                                      ...           \n",
       "(3.2640000000000002, 3.774]  5108.0  5405.0  5627.0  5775.0  ...  6002.0   \n",
       "(3.774, 3.911]               5005.0  5329.0  5560.0  5712.0  ...  5998.0   \n",
       "(3.911, 4.023]               4753.0  5102.0  5338.0  5505.0  ...  5782.0   \n",
       "(4.023, 4.115]               4963.0  5346.0  5606.0  5759.0  ...  6056.0   \n",
       "(4.115, 4.173]               4694.0  5066.0  5330.0  5527.0  ...  5831.0   \n",
       "(4.173, 4.258]               4783.0  5170.0  5436.0  5606.0  ...  5956.0   \n",
       "(4.258, 4.311]               4684.0  5058.0  5332.0  5544.0  ...  5937.0   \n",
       "(4.311, 4.375]               4629.0  5021.0  5309.0  5509.0  ...  5927.0   \n",
       "(4.375, 4.436]               4601.0  4985.0  5269.0  5458.0  ...  5882.0   \n",
       "(4.436, 4.496]               4679.0  5081.0  5348.0  5527.0  ...  5938.0   \n",
       "(4.496, 4.542]               4448.0  4886.0  5176.0  5343.0  ...  5806.0   \n",
       "(4.542, 4.599]               4657.0  5088.0  5390.0  5601.0  ...  6048.0   \n",
       "(4.599, 4.673]               4469.0  4865.0  5201.0  5445.0  ...  5903.0   \n",
       "(4.673, 4.718]               4399.0  4819.0  5113.0  5337.0  ...  5823.0   \n",
       "(4.718, 4.797]               4472.0  4900.0  5219.0  5453.0  ...  5967.0   \n",
       "(4.797, 4.878]               4413.0  4871.0  5205.0  5424.0  ...  5937.0   \n",
       "(4.878, 4.992]               4274.0  4742.0  5091.0  5374.0  ...  5953.0   \n",
       "(4.992, 5.103]               4245.0  4674.0  5019.0  5271.0  ...  5831.0   \n",
       "(5.103, 5.418]               4056.0  4567.0  4957.0  5251.0  ...  5975.0   \n",
       "(5.418, 12.41]               3782.0  4299.0  4700.0  4986.0  ...  5811.0   \n",
       "\n",
       "runs_scored_9                    21      22      23      24      25      26  \\\n",
       "re_pred                                                                       \n",
       "(3.2640000000000002, 3.774]  6002.0  6002.0  6002.0  6002.0  6002.0  6002.0   \n",
       "(3.774, 3.911]               5998.0  5998.0  5998.0  5998.0  5998.0  5998.0   \n",
       "(3.911, 4.023]               5783.0  5784.0  5784.0  5784.0  5784.0  5784.0   \n",
       "(4.023, 4.115]               6056.0  6056.0  6056.0  6056.0  6056.0  6056.0   \n",
       "(4.115, 4.173]               5832.0  5832.0  5832.0  5832.0  5832.0  5832.0   \n",
       "(4.173, 4.258]               5957.0  5957.0  5957.0  5957.0  5958.0  5958.0   \n",
       "(4.258, 4.311]               5937.0  5938.0  5938.0  5940.0  5940.0  5940.0   \n",
       "(4.311, 4.375]               5928.0  5928.0  5928.0  5928.0  5928.0  5928.0   \n",
       "(4.375, 4.436]               5882.0  5882.0  5882.0  5882.0  5882.0  5882.0   \n",
       "(4.436, 4.496]               5939.0  5939.0  5940.0  5940.0  5940.0  5940.0   \n",
       "(4.496, 4.542]               5806.0  5808.0  5808.0  5808.0  5808.0  5808.0   \n",
       "(4.542, 4.599]               6048.0  6048.0  6049.0  6049.0  6049.0  6049.0   \n",
       "(4.599, 4.673]               5904.0  5906.0  5906.0  5906.0  5906.0  5906.0   \n",
       "(4.673, 4.718]               5825.0  5826.0  5826.0  5826.0  5826.0  5826.0   \n",
       "(4.718, 4.797]               5970.0  5971.0  5971.0  5971.0  5971.0  5971.0   \n",
       "(4.797, 4.878]               5938.0  5939.0  5940.0  5940.0  5940.0  5940.0   \n",
       "(4.878, 4.992]               5955.0  5955.0  5956.0  5956.0  5956.0  5957.0   \n",
       "(4.992, 5.103]               5833.0  5834.0  5834.0  5834.0  5834.0  5834.0   \n",
       "(5.103, 5.418]               5975.0  5976.0  5977.0  5977.0  5978.0  5978.0   \n",
       "(5.418, 12.41]               5813.0  5816.0  5817.0  5818.0  5818.0  5818.0   \n",
       "\n",
       "runs_scored_9                    28      29      30  \n",
       "re_pred                                              \n",
       "(3.2640000000000002, 3.774]  6002.0  6002.0  6002.0  \n",
       "(3.774, 3.911]               5998.0  5998.0  5998.0  \n",
       "(3.911, 4.023]               5784.0  5784.0  5784.0  \n",
       "(4.023, 4.115]               6056.0  6056.0  6056.0  \n",
       "(4.115, 4.173]               5832.0  5832.0  5832.0  \n",
       "(4.173, 4.258]               5958.0  5958.0  5958.0  \n",
       "(4.258, 4.311]               5940.0  5940.0  5940.0  \n",
       "(4.311, 4.375]               5928.0  5928.0  5928.0  \n",
       "(4.375, 4.436]               5882.0  5882.0  5882.0  \n",
       "(4.436, 4.496]               5940.0  5940.0  5940.0  \n",
       "(4.496, 4.542]               5808.0  5808.0  5808.0  \n",
       "(4.542, 4.599]               6050.0  6050.0  6050.0  \n",
       "(4.599, 4.673]               5906.0  5906.0  5906.0  \n",
       "(4.673, 4.718]               5826.0  5826.0  5826.0  \n",
       "(4.718, 4.797]               5971.0  5972.0  5972.0  \n",
       "(4.797, 4.878]               5940.0  5940.0  5940.0  \n",
       "(4.878, 4.992]               5957.0  5957.0  5958.0  \n",
       "(4.992, 5.103]               5834.0  5834.0  5834.0  \n",
       "(5.103, 5.418]               5978.0  5978.0  5978.0  \n",
       "(5.418, 12.41]               5818.0  5818.0  5818.0  \n",
       "\n",
       "[20 rows x 30 columns]"
      ]
     },
     "execution_count": 12,
     "metadata": {},
     "output_type": "execute_result"
    }
   ],
   "source": [
    "score_dists_cum = score_dists.stack().groupby('re_pred').cumsum().unstack()\n",
    "score_dists_cum\n"
   ]
  },
  {
   "cell_type": "code",
   "execution_count": 13,
   "metadata": {},
   "outputs": [
    {
     "data": {
      "text/html": [
       "<div>\n",
       "<style scoped>\n",
       "    .dataframe tbody tr th:only-of-type {\n",
       "        vertical-align: middle;\n",
       "    }\n",
       "\n",
       "    .dataframe tbody tr th {\n",
       "        vertical-align: top;\n",
       "    }\n",
       "\n",
       "    .dataframe thead th {\n",
       "        text-align: right;\n",
       "    }\n",
       "</style>\n",
       "<table border=\"1\" class=\"dataframe\">\n",
       "  <thead>\n",
       "    <tr style=\"text-align: right;\">\n",
       "      <th>runs_scored_9</th>\n",
       "      <th>0</th>\n",
       "      <th>1</th>\n",
       "      <th>2</th>\n",
       "      <th>3</th>\n",
       "      <th>4</th>\n",
       "      <th>5</th>\n",
       "      <th>6</th>\n",
       "      <th>7</th>\n",
       "      <th>8</th>\n",
       "      <th>9</th>\n",
       "      <th>...</th>\n",
       "      <th>20</th>\n",
       "      <th>21</th>\n",
       "      <th>22</th>\n",
       "      <th>23</th>\n",
       "      <th>24</th>\n",
       "      <th>25</th>\n",
       "      <th>26</th>\n",
       "      <th>28</th>\n",
       "      <th>29</th>\n",
       "      <th>30</th>\n",
       "    </tr>\n",
       "    <tr>\n",
       "      <th>re_pred</th>\n",
       "      <th></th>\n",
       "      <th></th>\n",
       "      <th></th>\n",
       "      <th></th>\n",
       "      <th></th>\n",
       "      <th></th>\n",
       "      <th></th>\n",
       "      <th></th>\n",
       "      <th></th>\n",
       "      <th></th>\n",
       "      <th></th>\n",
       "      <th></th>\n",
       "      <th></th>\n",
       "      <th></th>\n",
       "      <th></th>\n",
       "      <th></th>\n",
       "      <th></th>\n",
       "      <th></th>\n",
       "      <th></th>\n",
       "      <th></th>\n",
       "      <th></th>\n",
       "    </tr>\n",
       "  </thead>\n",
       "  <tbody>\n",
       "    <tr>\n",
       "      <th>(3.2640000000000002, 3.774]</th>\n",
       "      <td>0.045402</td>\n",
       "      <td>0.158281</td>\n",
       "      <td>0.309730</td>\n",
       "      <td>0.470093</td>\n",
       "      <td>0.608964</td>\n",
       "      <td>0.719593</td>\n",
       "      <td>0.809397</td>\n",
       "      <td>0.875791</td>\n",
       "      <td>0.919027</td>\n",
       "      <td>0.949850</td>\n",
       "      <td>...</td>\n",
       "      <td>1.000000</td>\n",
       "      <td>1.000000</td>\n",
       "      <td>1.000000</td>\n",
       "      <td>1.000000</td>\n",
       "      <td>1.000000</td>\n",
       "      <td>1.000000</td>\n",
       "      <td>1.000000</td>\n",
       "      <td>1.000000</td>\n",
       "      <td>1.000000</td>\n",
       "      <td>1.000000</td>\n",
       "    </tr>\n",
       "    <tr>\n",
       "      <th>(3.774, 3.911]</th>\n",
       "      <td>0.041681</td>\n",
       "      <td>0.153801</td>\n",
       "      <td>0.304101</td>\n",
       "      <td>0.457736</td>\n",
       "      <td>0.592781</td>\n",
       "      <td>0.706986</td>\n",
       "      <td>0.797182</td>\n",
       "      <td>0.861454</td>\n",
       "      <td>0.907719</td>\n",
       "      <td>0.939647</td>\n",
       "      <td>...</td>\n",
       "      <td>0.999917</td>\n",
       "      <td>1.000000</td>\n",
       "      <td>1.000000</td>\n",
       "      <td>1.000000</td>\n",
       "      <td>1.000000</td>\n",
       "      <td>1.000000</td>\n",
       "      <td>1.000000</td>\n",
       "      <td>1.000000</td>\n",
       "      <td>1.000000</td>\n",
       "      <td>1.000000</td>\n",
       "    </tr>\n",
       "    <tr>\n",
       "      <th>(3.911, 4.023]</th>\n",
       "      <td>0.037431</td>\n",
       "      <td>0.138226</td>\n",
       "      <td>0.273167</td>\n",
       "      <td>0.422372</td>\n",
       "      <td>0.567946</td>\n",
       "      <td>0.689575</td>\n",
       "      <td>0.782503</td>\n",
       "      <td>0.851919</td>\n",
       "      <td>0.902490</td>\n",
       "      <td>0.937327</td>\n",
       "      <td>...</td>\n",
       "      <td>0.999568</td>\n",
       "      <td>0.999741</td>\n",
       "      <td>0.999914</td>\n",
       "      <td>1.000000</td>\n",
       "      <td>1.000000</td>\n",
       "      <td>1.000000</td>\n",
       "      <td>1.000000</td>\n",
       "      <td>1.000000</td>\n",
       "      <td>1.000000</td>\n",
       "      <td>1.000000</td>\n",
       "    </tr>\n",
       "    <tr>\n",
       "      <th>(4.023, 4.115]</th>\n",
       "      <td>0.037401</td>\n",
       "      <td>0.134742</td>\n",
       "      <td>0.267751</td>\n",
       "      <td>0.418593</td>\n",
       "      <td>0.564729</td>\n",
       "      <td>0.687087</td>\n",
       "      <td>0.780301</td>\n",
       "      <td>0.851139</td>\n",
       "      <td>0.904227</td>\n",
       "      <td>0.938326</td>\n",
       "      <td>...</td>\n",
       "      <td>1.000000</td>\n",
       "      <td>1.000000</td>\n",
       "      <td>1.000000</td>\n",
       "      <td>1.000000</td>\n",
       "      <td>1.000000</td>\n",
       "      <td>1.000000</td>\n",
       "      <td>1.000000</td>\n",
       "      <td>1.000000</td>\n",
       "      <td>1.000000</td>\n",
       "      <td>1.000000</td>\n",
       "    </tr>\n",
       "    <tr>\n",
       "      <th>(4.115, 4.173]</th>\n",
       "      <td>0.038066</td>\n",
       "      <td>0.132202</td>\n",
       "      <td>0.259002</td>\n",
       "      <td>0.403978</td>\n",
       "      <td>0.546296</td>\n",
       "      <td>0.665295</td>\n",
       "      <td>0.760545</td>\n",
       "      <td>0.836763</td>\n",
       "      <td>0.891289</td>\n",
       "      <td>0.930813</td>\n",
       "      <td>...</td>\n",
       "      <td>0.999743</td>\n",
       "      <td>0.999914</td>\n",
       "      <td>1.000000</td>\n",
       "      <td>1.000000</td>\n",
       "      <td>1.000000</td>\n",
       "      <td>1.000000</td>\n",
       "      <td>1.000000</td>\n",
       "      <td>1.000000</td>\n",
       "      <td>1.000000</td>\n",
       "      <td>1.000000</td>\n",
       "    </tr>\n",
       "    <tr>\n",
       "      <th>(4.173, 4.258]</th>\n",
       "      <td>0.034911</td>\n",
       "      <td>0.129574</td>\n",
       "      <td>0.254783</td>\n",
       "      <td>0.397365</td>\n",
       "      <td>0.544142</td>\n",
       "      <td>0.667002</td>\n",
       "      <td>0.761497</td>\n",
       "      <td>0.835264</td>\n",
       "      <td>0.890064</td>\n",
       "      <td>0.926653</td>\n",
       "      <td>...</td>\n",
       "      <td>0.999580</td>\n",
       "      <td>0.999748</td>\n",
       "      <td>0.999832</td>\n",
       "      <td>0.999832</td>\n",
       "      <td>0.999832</td>\n",
       "      <td>0.999916</td>\n",
       "      <td>1.000000</td>\n",
       "      <td>1.000000</td>\n",
       "      <td>1.000000</td>\n",
       "      <td>1.000000</td>\n",
       "    </tr>\n",
       "    <tr>\n",
       "      <th>(4.258, 4.311]</th>\n",
       "      <td>0.030808</td>\n",
       "      <td>0.117761</td>\n",
       "      <td>0.241414</td>\n",
       "      <td>0.379461</td>\n",
       "      <td>0.517172</td>\n",
       "      <td>0.642088</td>\n",
       "      <td>0.744192</td>\n",
       "      <td>0.820034</td>\n",
       "      <td>0.874579</td>\n",
       "      <td>0.915488</td>\n",
       "      <td>...</td>\n",
       "      <td>0.999327</td>\n",
       "      <td>0.999495</td>\n",
       "      <td>0.999579</td>\n",
       "      <td>0.999663</td>\n",
       "      <td>0.999832</td>\n",
       "      <td>1.000000</td>\n",
       "      <td>1.000000</td>\n",
       "      <td>1.000000</td>\n",
       "      <td>1.000000</td>\n",
       "      <td>1.000000</td>\n",
       "    </tr>\n",
       "    <tr>\n",
       "      <th>(4.311, 4.375]</th>\n",
       "      <td>0.030955</td>\n",
       "      <td>0.114541</td>\n",
       "      <td>0.234143</td>\n",
       "      <td>0.372554</td>\n",
       "      <td>0.512399</td>\n",
       "      <td>0.635881</td>\n",
       "      <td>0.735914</td>\n",
       "      <td>0.813934</td>\n",
       "      <td>0.871289</td>\n",
       "      <td>0.912449</td>\n",
       "      <td>...</td>\n",
       "      <td>0.999747</td>\n",
       "      <td>0.999916</td>\n",
       "      <td>1.000000</td>\n",
       "      <td>1.000000</td>\n",
       "      <td>1.000000</td>\n",
       "      <td>1.000000</td>\n",
       "      <td>1.000000</td>\n",
       "      <td>1.000000</td>\n",
       "      <td>1.000000</td>\n",
       "      <td>1.000000</td>\n",
       "    </tr>\n",
       "    <tr>\n",
       "      <th>(4.375, 4.436]</th>\n",
       "      <td>0.027542</td>\n",
       "      <td>0.108977</td>\n",
       "      <td>0.231044</td>\n",
       "      <td>0.374362</td>\n",
       "      <td>0.514706</td>\n",
       "      <td>0.634903</td>\n",
       "      <td>0.736059</td>\n",
       "      <td>0.814859</td>\n",
       "      <td>0.871642</td>\n",
       "      <td>0.911850</td>\n",
       "      <td>...</td>\n",
       "      <td>1.000000</td>\n",
       "      <td>1.000000</td>\n",
       "      <td>1.000000</td>\n",
       "      <td>1.000000</td>\n",
       "      <td>1.000000</td>\n",
       "      <td>1.000000</td>\n",
       "      <td>1.000000</td>\n",
       "      <td>1.000000</td>\n",
       "      <td>1.000000</td>\n",
       "      <td>1.000000</td>\n",
       "    </tr>\n",
       "    <tr>\n",
       "      <th>(4.436, 4.496]</th>\n",
       "      <td>0.030135</td>\n",
       "      <td>0.113215</td>\n",
       "      <td>0.236700</td>\n",
       "      <td>0.378704</td>\n",
       "      <td>0.518013</td>\n",
       "      <td>0.642088</td>\n",
       "      <td>0.743013</td>\n",
       "      <td>0.821549</td>\n",
       "      <td>0.877862</td>\n",
       "      <td>0.915404</td>\n",
       "      <td>...</td>\n",
       "      <td>0.999411</td>\n",
       "      <td>0.999747</td>\n",
       "      <td>0.999832</td>\n",
       "      <td>0.999916</td>\n",
       "      <td>1.000000</td>\n",
       "      <td>1.000000</td>\n",
       "      <td>1.000000</td>\n",
       "      <td>1.000000</td>\n",
       "      <td>1.000000</td>\n",
       "      <td>1.000000</td>\n",
       "    </tr>\n",
       "    <tr>\n",
       "      <th>(4.496, 4.542]</th>\n",
       "      <td>0.025826</td>\n",
       "      <td>0.104081</td>\n",
       "      <td>0.224518</td>\n",
       "      <td>0.362603</td>\n",
       "      <td>0.497331</td>\n",
       "      <td>0.618543</td>\n",
       "      <td>0.720472</td>\n",
       "      <td>0.803547</td>\n",
       "      <td>0.866219</td>\n",
       "      <td>0.905561</td>\n",
       "      <td>...</td>\n",
       "      <td>0.999483</td>\n",
       "      <td>0.999656</td>\n",
       "      <td>0.999828</td>\n",
       "      <td>1.000000</td>\n",
       "      <td>1.000000</td>\n",
       "      <td>1.000000</td>\n",
       "      <td>1.000000</td>\n",
       "      <td>1.000000</td>\n",
       "      <td>1.000000</td>\n",
       "      <td>1.000000</td>\n",
       "    </tr>\n",
       "    <tr>\n",
       "      <th>(4.542, 4.599]</th>\n",
       "      <td>0.028347</td>\n",
       "      <td>0.108430</td>\n",
       "      <td>0.224711</td>\n",
       "      <td>0.355950</td>\n",
       "      <td>0.487934</td>\n",
       "      <td>0.612975</td>\n",
       "      <td>0.721240</td>\n",
       "      <td>0.805372</td>\n",
       "      <td>0.865950</td>\n",
       "      <td>0.908347</td>\n",
       "      <td>...</td>\n",
       "      <td>0.999339</td>\n",
       "      <td>0.999669</td>\n",
       "      <td>0.999669</td>\n",
       "      <td>0.999752</td>\n",
       "      <td>0.999835</td>\n",
       "      <td>0.999835</td>\n",
       "      <td>0.999835</td>\n",
       "      <td>0.999917</td>\n",
       "      <td>1.000000</td>\n",
       "      <td>1.000000</td>\n",
       "    </tr>\n",
       "    <tr>\n",
       "      <th>(4.599, 4.673]</th>\n",
       "      <td>0.026668</td>\n",
       "      <td>0.104216</td>\n",
       "      <td>0.222740</td>\n",
       "      <td>0.359634</td>\n",
       "      <td>0.490095</td>\n",
       "      <td>0.604978</td>\n",
       "      <td>0.707670</td>\n",
       "      <td>0.790213</td>\n",
       "      <td>0.852184</td>\n",
       "      <td>0.901287</td>\n",
       "      <td>...</td>\n",
       "      <td>0.999407</td>\n",
       "      <td>0.999577</td>\n",
       "      <td>0.999831</td>\n",
       "      <td>1.000000</td>\n",
       "      <td>1.000000</td>\n",
       "      <td>1.000000</td>\n",
       "      <td>1.000000</td>\n",
       "      <td>1.000000</td>\n",
       "      <td>1.000000</td>\n",
       "      <td>1.000000</td>\n",
       "    </tr>\n",
       "    <tr>\n",
       "      <th>(4.673, 4.718]</th>\n",
       "      <td>0.026948</td>\n",
       "      <td>0.103158</td>\n",
       "      <td>0.215929</td>\n",
       "      <td>0.348438</td>\n",
       "      <td>0.484466</td>\n",
       "      <td>0.610196</td>\n",
       "      <td>0.711981</td>\n",
       "      <td>0.791109</td>\n",
       "      <td>0.852386</td>\n",
       "      <td>0.896842</td>\n",
       "      <td>...</td>\n",
       "      <td>0.999399</td>\n",
       "      <td>0.999657</td>\n",
       "      <td>0.999914</td>\n",
       "      <td>1.000000</td>\n",
       "      <td>1.000000</td>\n",
       "      <td>1.000000</td>\n",
       "      <td>1.000000</td>\n",
       "      <td>1.000000</td>\n",
       "      <td>1.000000</td>\n",
       "      <td>1.000000</td>\n",
       "    </tr>\n",
       "    <tr>\n",
       "      <th>(4.718, 4.797]</th>\n",
       "      <td>0.023359</td>\n",
       "      <td>0.094273</td>\n",
       "      <td>0.206798</td>\n",
       "      <td>0.343269</td>\n",
       "      <td>0.479069</td>\n",
       "      <td>0.601055</td>\n",
       "      <td>0.703784</td>\n",
       "      <td>0.784662</td>\n",
       "      <td>0.847204</td>\n",
       "      <td>0.893503</td>\n",
       "      <td>...</td>\n",
       "      <td>0.999079</td>\n",
       "      <td>0.999414</td>\n",
       "      <td>0.999749</td>\n",
       "      <td>0.999833</td>\n",
       "      <td>0.999833</td>\n",
       "      <td>0.999833</td>\n",
       "      <td>0.999833</td>\n",
       "      <td>0.999833</td>\n",
       "      <td>0.999916</td>\n",
       "      <td>1.000000</td>\n",
       "    </tr>\n",
       "    <tr>\n",
       "      <th>(4.797, 4.878]</th>\n",
       "      <td>0.024747</td>\n",
       "      <td>0.097054</td>\n",
       "      <td>0.208502</td>\n",
       "      <td>0.336700</td>\n",
       "      <td>0.465741</td>\n",
       "      <td>0.588721</td>\n",
       "      <td>0.694949</td>\n",
       "      <td>0.781481</td>\n",
       "      <td>0.848148</td>\n",
       "      <td>0.894697</td>\n",
       "      <td>...</td>\n",
       "      <td>0.999327</td>\n",
       "      <td>0.999579</td>\n",
       "      <td>0.999747</td>\n",
       "      <td>0.999916</td>\n",
       "      <td>1.000000</td>\n",
       "      <td>1.000000</td>\n",
       "      <td>1.000000</td>\n",
       "      <td>1.000000</td>\n",
       "      <td>1.000000</td>\n",
       "      <td>1.000000</td>\n",
       "    </tr>\n",
       "    <tr>\n",
       "      <th>(4.878, 4.992]</th>\n",
       "      <td>0.024001</td>\n",
       "      <td>0.095334</td>\n",
       "      <td>0.199731</td>\n",
       "      <td>0.320410</td>\n",
       "      <td>0.448808</td>\n",
       "      <td>0.571501</td>\n",
       "      <td>0.673380</td>\n",
       "      <td>0.756630</td>\n",
       "      <td>0.825193</td>\n",
       "      <td>0.878231</td>\n",
       "      <td>...</td>\n",
       "      <td>0.998993</td>\n",
       "      <td>0.999329</td>\n",
       "      <td>0.999496</td>\n",
       "      <td>0.999580</td>\n",
       "      <td>0.999664</td>\n",
       "      <td>0.999664</td>\n",
       "      <td>0.999748</td>\n",
       "      <td>0.999832</td>\n",
       "      <td>0.999832</td>\n",
       "      <td>0.999916</td>\n",
       "    </tr>\n",
       "    <tr>\n",
       "      <th>(4.992, 5.103]</th>\n",
       "      <td>0.023997</td>\n",
       "      <td>0.092047</td>\n",
       "      <td>0.191292</td>\n",
       "      <td>0.314107</td>\n",
       "      <td>0.445578</td>\n",
       "      <td>0.568478</td>\n",
       "      <td>0.677580</td>\n",
       "      <td>0.764398</td>\n",
       "      <td>0.830734</td>\n",
       "      <td>0.881899</td>\n",
       "      <td>...</td>\n",
       "      <td>0.999314</td>\n",
       "      <td>0.999657</td>\n",
       "      <td>0.999914</td>\n",
       "      <td>1.000000</td>\n",
       "      <td>1.000000</td>\n",
       "      <td>1.000000</td>\n",
       "      <td>1.000000</td>\n",
       "      <td>1.000000</td>\n",
       "      <td>1.000000</td>\n",
       "      <td>1.000000</td>\n",
       "    </tr>\n",
       "    <tr>\n",
       "      <th>(5.103, 5.418]</th>\n",
       "      <td>0.020325</td>\n",
       "      <td>0.082469</td>\n",
       "      <td>0.172800</td>\n",
       "      <td>0.283791</td>\n",
       "      <td>0.407494</td>\n",
       "      <td>0.524088</td>\n",
       "      <td>0.628973</td>\n",
       "      <td>0.721228</td>\n",
       "      <td>0.796587</td>\n",
       "      <td>0.853797</td>\n",
       "      <td>...</td>\n",
       "      <td>0.999247</td>\n",
       "      <td>0.999498</td>\n",
       "      <td>0.999582</td>\n",
       "      <td>0.999749</td>\n",
       "      <td>0.999833</td>\n",
       "      <td>0.999916</td>\n",
       "      <td>1.000000</td>\n",
       "      <td>1.000000</td>\n",
       "      <td>1.000000</td>\n",
       "      <td>1.000000</td>\n",
       "    </tr>\n",
       "    <tr>\n",
       "      <th>(5.418, 12.41]</th>\n",
       "      <td>0.015469</td>\n",
       "      <td>0.061275</td>\n",
       "      <td>0.139137</td>\n",
       "      <td>0.248195</td>\n",
       "      <td>0.366879</td>\n",
       "      <td>0.483242</td>\n",
       "      <td>0.596253</td>\n",
       "      <td>0.694483</td>\n",
       "      <td>0.773376</td>\n",
       "      <td>0.832417</td>\n",
       "      <td>...</td>\n",
       "      <td>0.998367</td>\n",
       "      <td>0.998969</td>\n",
       "      <td>0.999398</td>\n",
       "      <td>0.999742</td>\n",
       "      <td>0.999914</td>\n",
       "      <td>1.000000</td>\n",
       "      <td>1.000000</td>\n",
       "      <td>1.000000</td>\n",
       "      <td>1.000000</td>\n",
       "      <td>1.000000</td>\n",
       "    </tr>\n",
       "  </tbody>\n",
       "</table>\n",
       "<p>20 rows × 30 columns</p>\n",
       "</div>"
      ],
      "text/plain": [
       "runs_scored_9                      0         1         2         3         4   \\\n",
       "re_pred                                                                         \n",
       "(3.2640000000000002, 3.774]  0.045402  0.158281  0.309730  0.470093  0.608964   \n",
       "(3.774, 3.911]               0.041681  0.153801  0.304101  0.457736  0.592781   \n",
       "(3.911, 4.023]               0.037431  0.138226  0.273167  0.422372  0.567946   \n",
       "(4.023, 4.115]               0.037401  0.134742  0.267751  0.418593  0.564729   \n",
       "(4.115, 4.173]               0.038066  0.132202  0.259002  0.403978  0.546296   \n",
       "(4.173, 4.258]               0.034911  0.129574  0.254783  0.397365  0.544142   \n",
       "(4.258, 4.311]               0.030808  0.117761  0.241414  0.379461  0.517172   \n",
       "(4.311, 4.375]               0.030955  0.114541  0.234143  0.372554  0.512399   \n",
       "(4.375, 4.436]               0.027542  0.108977  0.231044  0.374362  0.514706   \n",
       "(4.436, 4.496]               0.030135  0.113215  0.236700  0.378704  0.518013   \n",
       "(4.496, 4.542]               0.025826  0.104081  0.224518  0.362603  0.497331   \n",
       "(4.542, 4.599]               0.028347  0.108430  0.224711  0.355950  0.487934   \n",
       "(4.599, 4.673]               0.026668  0.104216  0.222740  0.359634  0.490095   \n",
       "(4.673, 4.718]               0.026948  0.103158  0.215929  0.348438  0.484466   \n",
       "(4.718, 4.797]               0.023359  0.094273  0.206798  0.343269  0.479069   \n",
       "(4.797, 4.878]               0.024747  0.097054  0.208502  0.336700  0.465741   \n",
       "(4.878, 4.992]               0.024001  0.095334  0.199731  0.320410  0.448808   \n",
       "(4.992, 5.103]               0.023997  0.092047  0.191292  0.314107  0.445578   \n",
       "(5.103, 5.418]               0.020325  0.082469  0.172800  0.283791  0.407494   \n",
       "(5.418, 12.41]               0.015469  0.061275  0.139137  0.248195  0.366879   \n",
       "\n",
       "runs_scored_9                      5         6         7         8         9   \\\n",
       "re_pred                                                                         \n",
       "(3.2640000000000002, 3.774]  0.719593  0.809397  0.875791  0.919027  0.949850   \n",
       "(3.774, 3.911]               0.706986  0.797182  0.861454  0.907719  0.939647   \n",
       "(3.911, 4.023]               0.689575  0.782503  0.851919  0.902490  0.937327   \n",
       "(4.023, 4.115]               0.687087  0.780301  0.851139  0.904227  0.938326   \n",
       "(4.115, 4.173]               0.665295  0.760545  0.836763  0.891289  0.930813   \n",
       "(4.173, 4.258]               0.667002  0.761497  0.835264  0.890064  0.926653   \n",
       "(4.258, 4.311]               0.642088  0.744192  0.820034  0.874579  0.915488   \n",
       "(4.311, 4.375]               0.635881  0.735914  0.813934  0.871289  0.912449   \n",
       "(4.375, 4.436]               0.634903  0.736059  0.814859  0.871642  0.911850   \n",
       "(4.436, 4.496]               0.642088  0.743013  0.821549  0.877862  0.915404   \n",
       "(4.496, 4.542]               0.618543  0.720472  0.803547  0.866219  0.905561   \n",
       "(4.542, 4.599]               0.612975  0.721240  0.805372  0.865950  0.908347   \n",
       "(4.599, 4.673]               0.604978  0.707670  0.790213  0.852184  0.901287   \n",
       "(4.673, 4.718]               0.610196  0.711981  0.791109  0.852386  0.896842   \n",
       "(4.718, 4.797]               0.601055  0.703784  0.784662  0.847204  0.893503   \n",
       "(4.797, 4.878]               0.588721  0.694949  0.781481  0.848148  0.894697   \n",
       "(4.878, 4.992]               0.571501  0.673380  0.756630  0.825193  0.878231   \n",
       "(4.992, 5.103]               0.568478  0.677580  0.764398  0.830734  0.881899   \n",
       "(5.103, 5.418]               0.524088  0.628973  0.721228  0.796587  0.853797   \n",
       "(5.418, 12.41]               0.483242  0.596253  0.694483  0.773376  0.832417   \n",
       "\n",
       "runs_scored_9                ...        20        21        22        23  \\\n",
       "re_pred                      ...                                           \n",
       "(3.2640000000000002, 3.774]  ...  1.000000  1.000000  1.000000  1.000000   \n",
       "(3.774, 3.911]               ...  0.999917  1.000000  1.000000  1.000000   \n",
       "(3.911, 4.023]               ...  0.999568  0.999741  0.999914  1.000000   \n",
       "(4.023, 4.115]               ...  1.000000  1.000000  1.000000  1.000000   \n",
       "(4.115, 4.173]               ...  0.999743  0.999914  1.000000  1.000000   \n",
       "(4.173, 4.258]               ...  0.999580  0.999748  0.999832  0.999832   \n",
       "(4.258, 4.311]               ...  0.999327  0.999495  0.999579  0.999663   \n",
       "(4.311, 4.375]               ...  0.999747  0.999916  1.000000  1.000000   \n",
       "(4.375, 4.436]               ...  1.000000  1.000000  1.000000  1.000000   \n",
       "(4.436, 4.496]               ...  0.999411  0.999747  0.999832  0.999916   \n",
       "(4.496, 4.542]               ...  0.999483  0.999656  0.999828  1.000000   \n",
       "(4.542, 4.599]               ...  0.999339  0.999669  0.999669  0.999752   \n",
       "(4.599, 4.673]               ...  0.999407  0.999577  0.999831  1.000000   \n",
       "(4.673, 4.718]               ...  0.999399  0.999657  0.999914  1.000000   \n",
       "(4.718, 4.797]               ...  0.999079  0.999414  0.999749  0.999833   \n",
       "(4.797, 4.878]               ...  0.999327  0.999579  0.999747  0.999916   \n",
       "(4.878, 4.992]               ...  0.998993  0.999329  0.999496  0.999580   \n",
       "(4.992, 5.103]               ...  0.999314  0.999657  0.999914  1.000000   \n",
       "(5.103, 5.418]               ...  0.999247  0.999498  0.999582  0.999749   \n",
       "(5.418, 12.41]               ...  0.998367  0.998969  0.999398  0.999742   \n",
       "\n",
       "runs_scored_9                      24        25        26        28        29  \\\n",
       "re_pred                                                                         \n",
       "(3.2640000000000002, 3.774]  1.000000  1.000000  1.000000  1.000000  1.000000   \n",
       "(3.774, 3.911]               1.000000  1.000000  1.000000  1.000000  1.000000   \n",
       "(3.911, 4.023]               1.000000  1.000000  1.000000  1.000000  1.000000   \n",
       "(4.023, 4.115]               1.000000  1.000000  1.000000  1.000000  1.000000   \n",
       "(4.115, 4.173]               1.000000  1.000000  1.000000  1.000000  1.000000   \n",
       "(4.173, 4.258]               0.999832  0.999916  1.000000  1.000000  1.000000   \n",
       "(4.258, 4.311]               0.999832  1.000000  1.000000  1.000000  1.000000   \n",
       "(4.311, 4.375]               1.000000  1.000000  1.000000  1.000000  1.000000   \n",
       "(4.375, 4.436]               1.000000  1.000000  1.000000  1.000000  1.000000   \n",
       "(4.436, 4.496]               1.000000  1.000000  1.000000  1.000000  1.000000   \n",
       "(4.496, 4.542]               1.000000  1.000000  1.000000  1.000000  1.000000   \n",
       "(4.542, 4.599]               0.999835  0.999835  0.999835  0.999917  1.000000   \n",
       "(4.599, 4.673]               1.000000  1.000000  1.000000  1.000000  1.000000   \n",
       "(4.673, 4.718]               1.000000  1.000000  1.000000  1.000000  1.000000   \n",
       "(4.718, 4.797]               0.999833  0.999833  0.999833  0.999833  0.999916   \n",
       "(4.797, 4.878]               1.000000  1.000000  1.000000  1.000000  1.000000   \n",
       "(4.878, 4.992]               0.999664  0.999664  0.999748  0.999832  0.999832   \n",
       "(4.992, 5.103]               1.000000  1.000000  1.000000  1.000000  1.000000   \n",
       "(5.103, 5.418]               0.999833  0.999916  1.000000  1.000000  1.000000   \n",
       "(5.418, 12.41]               0.999914  1.000000  1.000000  1.000000  1.000000   \n",
       "\n",
       "runs_scored_9                      30  \n",
       "re_pred                                \n",
       "(3.2640000000000002, 3.774]  1.000000  \n",
       "(3.774, 3.911]               1.000000  \n",
       "(3.911, 4.023]               1.000000  \n",
       "(4.023, 4.115]               1.000000  \n",
       "(4.115, 4.173]               1.000000  \n",
       "(4.173, 4.258]               1.000000  \n",
       "(4.258, 4.311]               1.000000  \n",
       "(4.311, 4.375]               1.000000  \n",
       "(4.375, 4.436]               1.000000  \n",
       "(4.436, 4.496]               1.000000  \n",
       "(4.496, 4.542]               1.000000  \n",
       "(4.542, 4.599]               1.000000  \n",
       "(4.599, 4.673]               1.000000  \n",
       "(4.673, 4.718]               1.000000  \n",
       "(4.718, 4.797]               1.000000  \n",
       "(4.797, 4.878]               1.000000  \n",
       "(4.878, 4.992]               0.999916  \n",
       "(4.992, 5.103]               1.000000  \n",
       "(5.103, 5.418]               1.000000  \n",
       "(5.418, 12.41]               1.000000  \n",
       "\n",
       "[20 rows x 30 columns]"
      ]
     },
     "execution_count": 13,
     "metadata": {},
     "output_type": "execute_result"
    }
   ],
   "source": [
    "wps = (score_dists_cum - score_dists/2).divide(score_dists_cum.max(axis=1), axis=0)\n",
    "wps\n"
   ]
  },
  {
   "cell_type": "code",
   "execution_count": 14,
   "metadata": {},
   "outputs": [
    {
     "data": {
      "text/html": [
       "<div>\n",
       "<style scoped>\n",
       "    .dataframe tbody tr th:only-of-type {\n",
       "        vertical-align: middle;\n",
       "    }\n",
       "\n",
       "    .dataframe tbody tr th {\n",
       "        vertical-align: top;\n",
       "    }\n",
       "\n",
       "    .dataframe thead th {\n",
       "        text-align: right;\n",
       "    }\n",
       "</style>\n",
       "<table border=\"1\" class=\"dataframe\">\n",
       "  <thead>\n",
       "    <tr style=\"text-align: right;\">\n",
       "      <th></th>\n",
       "      <th>re_pred</th>\n",
       "      <th>runs_scored_9</th>\n",
       "      <th>rs_wp</th>\n",
       "    </tr>\n",
       "  </thead>\n",
       "  <tbody>\n",
       "    <tr>\n",
       "      <th>0</th>\n",
       "      <td>(3.2640000000000002, 3.774]</td>\n",
       "      <td>0</td>\n",
       "      <td>0.045402</td>\n",
       "    </tr>\n",
       "    <tr>\n",
       "      <th>1</th>\n",
       "      <td>(3.2640000000000002, 3.774]</td>\n",
       "      <td>1</td>\n",
       "      <td>0.158281</td>\n",
       "    </tr>\n",
       "    <tr>\n",
       "      <th>2</th>\n",
       "      <td>(3.2640000000000002, 3.774]</td>\n",
       "      <td>2</td>\n",
       "      <td>0.309730</td>\n",
       "    </tr>\n",
       "    <tr>\n",
       "      <th>3</th>\n",
       "      <td>(3.2640000000000002, 3.774]</td>\n",
       "      <td>3</td>\n",
       "      <td>0.470093</td>\n",
       "    </tr>\n",
       "    <tr>\n",
       "      <th>4</th>\n",
       "      <td>(3.2640000000000002, 3.774]</td>\n",
       "      <td>4</td>\n",
       "      <td>0.608964</td>\n",
       "    </tr>\n",
       "    <tr>\n",
       "      <th>...</th>\n",
       "      <td>...</td>\n",
       "      <td>...</td>\n",
       "      <td>...</td>\n",
       "    </tr>\n",
       "    <tr>\n",
       "      <th>595</th>\n",
       "      <td>(5.418, 12.41]</td>\n",
       "      <td>25</td>\n",
       "      <td>1.000000</td>\n",
       "    </tr>\n",
       "    <tr>\n",
       "      <th>596</th>\n",
       "      <td>(5.418, 12.41]</td>\n",
       "      <td>26</td>\n",
       "      <td>1.000000</td>\n",
       "    </tr>\n",
       "    <tr>\n",
       "      <th>597</th>\n",
       "      <td>(5.418, 12.41]</td>\n",
       "      <td>28</td>\n",
       "      <td>1.000000</td>\n",
       "    </tr>\n",
       "    <tr>\n",
       "      <th>598</th>\n",
       "      <td>(5.418, 12.41]</td>\n",
       "      <td>29</td>\n",
       "      <td>1.000000</td>\n",
       "    </tr>\n",
       "    <tr>\n",
       "      <th>599</th>\n",
       "      <td>(5.418, 12.41]</td>\n",
       "      <td>30</td>\n",
       "      <td>1.000000</td>\n",
       "    </tr>\n",
       "  </tbody>\n",
       "</table>\n",
       "<p>600 rows × 3 columns</p>\n",
       "</div>"
      ],
      "text/plain": [
       "                         re_pred  runs_scored_9     rs_wp\n",
       "0    (3.2640000000000002, 3.774]              0  0.045402\n",
       "1    (3.2640000000000002, 3.774]              1  0.158281\n",
       "2    (3.2640000000000002, 3.774]              2  0.309730\n",
       "3    (3.2640000000000002, 3.774]              3  0.470093\n",
       "4    (3.2640000000000002, 3.774]              4  0.608964\n",
       "..                           ...            ...       ...\n",
       "595               (5.418, 12.41]             25  1.000000\n",
       "596               (5.418, 12.41]             26  1.000000\n",
       "597               (5.418, 12.41]             28  1.000000\n",
       "598               (5.418, 12.41]             29  1.000000\n",
       "599               (5.418, 12.41]             30  1.000000\n",
       "\n",
       "[600 rows x 3 columns]"
      ]
     },
     "execution_count": 14,
     "metadata": {},
     "output_type": "execute_result"
    }
   ],
   "source": [
    "wps.stack().rename('rs_wp').reset_index()"
   ]
  },
  {
   "cell_type": "code",
   "execution_count": 15,
   "metadata": {},
   "outputs": [
    {
     "data": {
      "text/html": [
       "<div>\n",
       "<style scoped>\n",
       "    .dataframe tbody tr th:only-of-type {\n",
       "        vertical-align: middle;\n",
       "    }\n",
       "\n",
       "    .dataframe tbody tr th {\n",
       "        vertical-align: top;\n",
       "    }\n",
       "\n",
       "    .dataframe thead th {\n",
       "        text-align: right;\n",
       "    }\n",
       "</style>\n",
       "<table border=\"1\" class=\"dataframe\">\n",
       "  <thead>\n",
       "    <tr style=\"text-align: right;\">\n",
       "      <th></th>\n",
       "      <th>re_pred</th>\n",
       "      <th>runs_scored_9</th>\n",
       "    </tr>\n",
       "  </thead>\n",
       "  <tbody>\n",
       "    <tr>\n",
       "      <th>0</th>\n",
       "      <td>(4.542, 4.599]</td>\n",
       "      <td>11</td>\n",
       "    </tr>\n",
       "    <tr>\n",
       "      <th>1</th>\n",
       "      <td>(5.418, 12.41]</td>\n",
       "      <td>10</td>\n",
       "    </tr>\n",
       "    <tr>\n",
       "      <th>2</th>\n",
       "      <td>(5.103, 5.418]</td>\n",
       "      <td>9</td>\n",
       "    </tr>\n",
       "    <tr>\n",
       "      <th>3</th>\n",
       "      <td>(4.992, 5.103]</td>\n",
       "      <td>9</td>\n",
       "    </tr>\n",
       "    <tr>\n",
       "      <th>4</th>\n",
       "      <td>(4.436, 4.496]</td>\n",
       "      <td>1</td>\n",
       "    </tr>\n",
       "    <tr>\n",
       "      <th>...</th>\n",
       "      <td>...</td>\n",
       "      <td>...</td>\n",
       "    </tr>\n",
       "    <tr>\n",
       "      <th>118405</th>\n",
       "      <td>(4.436, 4.496]</td>\n",
       "      <td>2</td>\n",
       "    </tr>\n",
       "    <tr>\n",
       "      <th>118406</th>\n",
       "      <td>(3.774, 3.911]</td>\n",
       "      <td>12</td>\n",
       "    </tr>\n",
       "    <tr>\n",
       "      <th>118407</th>\n",
       "      <td>(3.774, 3.911]</td>\n",
       "      <td>2</td>\n",
       "    </tr>\n",
       "    <tr>\n",
       "      <th>118408</th>\n",
       "      <td>(3.774, 3.911]</td>\n",
       "      <td>9</td>\n",
       "    </tr>\n",
       "    <tr>\n",
       "      <th>118409</th>\n",
       "      <td>(4.173, 4.258]</td>\n",
       "      <td>2</td>\n",
       "    </tr>\n",
       "  </tbody>\n",
       "</table>\n",
       "<p>118410 rows × 2 columns</p>\n",
       "</div>"
      ],
      "text/plain": [
       "               re_pred  runs_scored_9\n",
       "0       (4.542, 4.599]             11\n",
       "1       (5.418, 12.41]             10\n",
       "2       (5.103, 5.418]              9\n",
       "3       (4.992, 5.103]              9\n",
       "4       (4.436, 4.496]              1\n",
       "...                ...            ...\n",
       "118405  (4.436, 4.496]              2\n",
       "118406  (3.774, 3.911]             12\n",
       "118407  (3.774, 3.911]              2\n",
       "118408  (3.774, 3.911]              9\n",
       "118409  (4.173, 4.258]              2\n",
       "\n",
       "[118410 rows x 2 columns]"
      ]
     },
     "execution_count": 15,
     "metadata": {},
     "output_type": "execute_result"
    }
   ],
   "source": [
    "left=pd.concat([bin_ids, glt['runs_scored_9']], axis=1)\n",
    "left"
   ]
  },
  {
   "cell_type": "code",
   "execution_count": 16,
   "metadata": {},
   "outputs": [
    {
     "data": {
      "text/html": [
       "<div>\n",
       "<style scoped>\n",
       "    .dataframe tbody tr th:only-of-type {\n",
       "        vertical-align: middle;\n",
       "    }\n",
       "\n",
       "    .dataframe tbody tr th {\n",
       "        vertical-align: top;\n",
       "    }\n",
       "\n",
       "    .dataframe thead th {\n",
       "        text-align: right;\n",
       "    }\n",
       "</style>\n",
       "<table border=\"1\" class=\"dataframe\">\n",
       "  <thead>\n",
       "    <tr style=\"text-align: right;\">\n",
       "      <th></th>\n",
       "      <th>re_pred</th>\n",
       "      <th>runs_scored_9</th>\n",
       "      <th>rs_wp</th>\n",
       "    </tr>\n",
       "  </thead>\n",
       "  <tbody>\n",
       "    <tr>\n",
       "      <th>0</th>\n",
       "      <td>(3.2640000000000002, 3.774]</td>\n",
       "      <td>0</td>\n",
       "      <td>0.045402</td>\n",
       "    </tr>\n",
       "    <tr>\n",
       "      <th>1</th>\n",
       "      <td>(3.2640000000000002, 3.774]</td>\n",
       "      <td>1</td>\n",
       "      <td>0.158281</td>\n",
       "    </tr>\n",
       "    <tr>\n",
       "      <th>2</th>\n",
       "      <td>(3.2640000000000002, 3.774]</td>\n",
       "      <td>2</td>\n",
       "      <td>0.309730</td>\n",
       "    </tr>\n",
       "    <tr>\n",
       "      <th>3</th>\n",
       "      <td>(3.2640000000000002, 3.774]</td>\n",
       "      <td>3</td>\n",
       "      <td>0.470093</td>\n",
       "    </tr>\n",
       "    <tr>\n",
       "      <th>4</th>\n",
       "      <td>(3.2640000000000002, 3.774]</td>\n",
       "      <td>4</td>\n",
       "      <td>0.608964</td>\n",
       "    </tr>\n",
       "    <tr>\n",
       "      <th>...</th>\n",
       "      <td>...</td>\n",
       "      <td>...</td>\n",
       "      <td>...</td>\n",
       "    </tr>\n",
       "    <tr>\n",
       "      <th>595</th>\n",
       "      <td>(5.418, 12.41]</td>\n",
       "      <td>25</td>\n",
       "      <td>1.000000</td>\n",
       "    </tr>\n",
       "    <tr>\n",
       "      <th>596</th>\n",
       "      <td>(5.418, 12.41]</td>\n",
       "      <td>26</td>\n",
       "      <td>1.000000</td>\n",
       "    </tr>\n",
       "    <tr>\n",
       "      <th>597</th>\n",
       "      <td>(5.418, 12.41]</td>\n",
       "      <td>28</td>\n",
       "      <td>1.000000</td>\n",
       "    </tr>\n",
       "    <tr>\n",
       "      <th>598</th>\n",
       "      <td>(5.418, 12.41]</td>\n",
       "      <td>29</td>\n",
       "      <td>1.000000</td>\n",
       "    </tr>\n",
       "    <tr>\n",
       "      <th>599</th>\n",
       "      <td>(5.418, 12.41]</td>\n",
       "      <td>30</td>\n",
       "      <td>1.000000</td>\n",
       "    </tr>\n",
       "  </tbody>\n",
       "</table>\n",
       "<p>600 rows × 3 columns</p>\n",
       "</div>"
      ],
      "text/plain": [
       "                         re_pred  runs_scored_9     rs_wp\n",
       "0    (3.2640000000000002, 3.774]              0  0.045402\n",
       "1    (3.2640000000000002, 3.774]              1  0.158281\n",
       "2    (3.2640000000000002, 3.774]              2  0.309730\n",
       "3    (3.2640000000000002, 3.774]              3  0.470093\n",
       "4    (3.2640000000000002, 3.774]              4  0.608964\n",
       "..                           ...            ...       ...\n",
       "595               (5.418, 12.41]             25  1.000000\n",
       "596               (5.418, 12.41]             26  1.000000\n",
       "597               (5.418, 12.41]             28  1.000000\n",
       "598               (5.418, 12.41]             29  1.000000\n",
       "599               (5.418, 12.41]             30  1.000000\n",
       "\n",
       "[600 rows x 3 columns]"
      ]
     },
     "execution_count": 16,
     "metadata": {},
     "output_type": "execute_result"
    }
   ],
   "source": [
    "right=wps.stack().rename('rs_wp').reset_index().rename(columns={'level_1': 'runs_scored_9'})\n",
    "right"
   ]
  },
  {
   "cell_type": "code",
   "execution_count": 17,
   "metadata": {},
   "outputs": [
    {
     "data": {
      "text/html": [
       "<div>\n",
       "<style scoped>\n",
       "    .dataframe tbody tr th:only-of-type {\n",
       "        vertical-align: middle;\n",
       "    }\n",
       "\n",
       "    .dataframe tbody tr th {\n",
       "        vertical-align: top;\n",
       "    }\n",
       "\n",
       "    .dataframe thead th {\n",
       "        text-align: right;\n",
       "    }\n",
       "</style>\n",
       "<table border=\"1\" class=\"dataframe\">\n",
       "  <thead>\n",
       "    <tr style=\"text-align: right;\">\n",
       "      <th></th>\n",
       "      <th>re_pred</th>\n",
       "      <th>runs_scored_9</th>\n",
       "      <th>rs_wp</th>\n",
       "    </tr>\n",
       "  </thead>\n",
       "  <tbody>\n",
       "    <tr>\n",
       "      <th>0</th>\n",
       "      <td>(4.542, 4.599]</td>\n",
       "      <td>11</td>\n",
       "      <td>0.958843</td>\n",
       "    </tr>\n",
       "    <tr>\n",
       "      <th>1</th>\n",
       "      <td>(5.418, 12.41]</td>\n",
       "      <td>10</td>\n",
       "      <td>0.880028</td>\n",
       "    </tr>\n",
       "    <tr>\n",
       "      <th>2</th>\n",
       "      <td>(5.103, 5.418]</td>\n",
       "      <td>9</td>\n",
       "      <td>0.853797</td>\n",
       "    </tr>\n",
       "    <tr>\n",
       "      <th>3</th>\n",
       "      <td>(4.992, 5.103]</td>\n",
       "      <td>9</td>\n",
       "      <td>0.881899</td>\n",
       "    </tr>\n",
       "    <tr>\n",
       "      <th>4</th>\n",
       "      <td>(4.436, 4.496]</td>\n",
       "      <td>1</td>\n",
       "      <td>0.113215</td>\n",
       "    </tr>\n",
       "    <tr>\n",
       "      <th>...</th>\n",
       "      <td>...</td>\n",
       "      <td>...</td>\n",
       "      <td>...</td>\n",
       "    </tr>\n",
       "    <tr>\n",
       "      <th>118405</th>\n",
       "      <td>(4.436, 4.496]</td>\n",
       "      <td>2</td>\n",
       "      <td>0.236700</td>\n",
       "    </tr>\n",
       "    <tr>\n",
       "      <th>118406</th>\n",
       "      <td>(3.774, 3.911]</td>\n",
       "      <td>12</td>\n",
       "      <td>0.985829</td>\n",
       "    </tr>\n",
       "    <tr>\n",
       "      <th>118407</th>\n",
       "      <td>(3.774, 3.911]</td>\n",
       "      <td>2</td>\n",
       "      <td>0.304101</td>\n",
       "    </tr>\n",
       "    <tr>\n",
       "      <th>118408</th>\n",
       "      <td>(3.774, 3.911]</td>\n",
       "      <td>9</td>\n",
       "      <td>0.939647</td>\n",
       "    </tr>\n",
       "    <tr>\n",
       "      <th>118409</th>\n",
       "      <td>(4.173, 4.258]</td>\n",
       "      <td>2</td>\n",
       "      <td>0.254783</td>\n",
       "    </tr>\n",
       "  </tbody>\n",
       "</table>\n",
       "<p>118410 rows × 3 columns</p>\n",
       "</div>"
      ],
      "text/plain": [
       "               re_pred  runs_scored_9     rs_wp\n",
       "0       (4.542, 4.599]             11  0.958843\n",
       "1       (5.418, 12.41]             10  0.880028\n",
       "2       (5.103, 5.418]              9  0.853797\n",
       "3       (4.992, 5.103]              9  0.881899\n",
       "4       (4.436, 4.496]              1  0.113215\n",
       "...                ...            ...       ...\n",
       "118405  (4.436, 4.496]              2  0.236700\n",
       "118406  (3.774, 3.911]             12  0.985829\n",
       "118407  (3.774, 3.911]              2  0.304101\n",
       "118408  (3.774, 3.911]              9  0.939647\n",
       "118409  (4.173, 4.258]              2  0.254783\n",
       "\n",
       "[118410 rows x 3 columns]"
      ]
     },
     "execution_count": 17,
     "metadata": {},
     "output_type": "execute_result"
    }
   ],
   "source": [
    "pd.merge(left, right, on=['re_pred', 'runs_scored_9'], how='left')"
   ]
  },
  {
   "cell_type": "code",
   "execution_count": 18,
   "metadata": {},
   "outputs": [
    {
     "data": {
      "text/plain": [
       "0         0.958843\n",
       "1         0.880028\n",
       "2         0.853797\n",
       "3         0.881899\n",
       "4         0.113215\n",
       "            ...   \n",
       "118405    0.236700\n",
       "118406    0.985829\n",
       "118407    0.304101\n",
       "118408    0.939647\n",
       "118409    0.254783\n",
       "Name: rs_wp, Length: 118410, dtype: float64"
      ]
     },
     "execution_count": 18,
     "metadata": {},
     "output_type": "execute_result"
    }
   ],
   "source": [
    "rs_wp = pd.merge(left, right, on=['re_pred', 'runs_scored_9'], how='left')['rs_wp']\n",
    "rs_wp.index = left.index\n",
    "rs_wp"
   ]
  },
  {
   "cell_type": "code",
   "execution_count": 19,
   "metadata": {},
   "outputs": [
    {
     "data": {
      "text/html": [
       "<div>\n",
       "<style scoped>\n",
       "    .dataframe tbody tr th:only-of-type {\n",
       "        vertical-align: middle;\n",
       "    }\n",
       "\n",
       "    .dataframe tbody tr th {\n",
       "        vertical-align: top;\n",
       "    }\n",
       "\n",
       "    .dataframe thead th {\n",
       "        text-align: right;\n",
       "    }\n",
       "</style>\n",
       "<table border=\"1\" class=\"dataframe\">\n",
       "  <thead>\n",
       "    <tr style=\"text-align: right;\">\n",
       "      <th></th>\n",
       "      <th>game_id</th>\n",
       "      <th>date</th>\n",
       "      <th>double_header</th>\n",
       "      <th>yr</th>\n",
       "      <th>game_type</th>\n",
       "      <th>park_id</th>\n",
       "      <th>team</th>\n",
       "      <th>team_league</th>\n",
       "      <th>team_game_number</th>\n",
       "      <th>runs_scored</th>\n",
       "      <th>...</th>\n",
       "      <th>opp</th>\n",
       "      <th>runs_allowed</th>\n",
       "      <th>W</th>\n",
       "      <th>L</th>\n",
       "      <th>linescore_parsed</th>\n",
       "      <th>runs_scored_9</th>\n",
       "      <th>dh_fl</th>\n",
       "      <th>re_pred</th>\n",
       "      <th>rsi</th>\n",
       "      <th>rs_wp</th>\n",
       "    </tr>\n",
       "  </thead>\n",
       "  <tbody>\n",
       "    <tr>\n",
       "      <th>0</th>\n",
       "      <td>TBA199803310</td>\n",
       "      <td>1998-03-31</td>\n",
       "      <td>0</td>\n",
       "      <td>1998</td>\n",
       "      <td>RS</td>\n",
       "      <td>STP01</td>\n",
       "      <td>DET</td>\n",
       "      <td>AL</td>\n",
       "      <td>1</td>\n",
       "      <td>11</td>\n",
       "      <td>...</td>\n",
       "      <td>TBA</td>\n",
       "      <td>6</td>\n",
       "      <td>True</td>\n",
       "      <td>False</td>\n",
       "      <td>[0.0, 4.0, 2.0, 0.0, 5.0, 0.0, 0.0, 0.0, 0.0]</td>\n",
       "      <td>11</td>\n",
       "      <td>True</td>\n",
       "      <td>4.573761</td>\n",
       "      <td>2.405023</td>\n",
       "      <td>0.958843</td>\n",
       "    </tr>\n",
       "    <tr>\n",
       "      <th>1</th>\n",
       "      <td>SEA199803310</td>\n",
       "      <td>1998-03-31</td>\n",
       "      <td>0</td>\n",
       "      <td>1998</td>\n",
       "      <td>RS</td>\n",
       "      <td>SEA02</td>\n",
       "      <td>CLE</td>\n",
       "      <td>AL</td>\n",
       "      <td>1</td>\n",
       "      <td>10</td>\n",
       "      <td>...</td>\n",
       "      <td>SEA</td>\n",
       "      <td>9</td>\n",
       "      <td>True</td>\n",
       "      <td>False</td>\n",
       "      <td>[0.0, 0.0, 2.0, 1.0, 0.0, 3.0, 0.0, 4.0, 0.0]</td>\n",
       "      <td>10</td>\n",
       "      <td>True</td>\n",
       "      <td>5.645387</td>\n",
       "      <td>1.771358</td>\n",
       "      <td>0.880028</td>\n",
       "    </tr>\n",
       "    <tr>\n",
       "      <th>2</th>\n",
       "      <td>TEX199803310</td>\n",
       "      <td>1998-03-31</td>\n",
       "      <td>0</td>\n",
       "      <td>1998</td>\n",
       "      <td>RS</td>\n",
       "      <td>ARL02</td>\n",
       "      <td>CHA</td>\n",
       "      <td>AL</td>\n",
       "      <td>1</td>\n",
       "      <td>9</td>\n",
       "      <td>...</td>\n",
       "      <td>TEX</td>\n",
       "      <td>2</td>\n",
       "      <td>True</td>\n",
       "      <td>False</td>\n",
       "      <td>[0.0, 0.0, 0.0, 0.0, 7.0, 0.0, 1.0, 0.0, 1.0]</td>\n",
       "      <td>9</td>\n",
       "      <td>True</td>\n",
       "      <td>5.407927</td>\n",
       "      <td>1.664224</td>\n",
       "      <td>0.853797</td>\n",
       "    </tr>\n",
       "    <tr>\n",
       "      <th>3</th>\n",
       "      <td>ARI199803310</td>\n",
       "      <td>1998-03-31</td>\n",
       "      <td>0</td>\n",
       "      <td>1998</td>\n",
       "      <td>RS</td>\n",
       "      <td>PHO01</td>\n",
       "      <td>COL</td>\n",
       "      <td>NL</td>\n",
       "      <td>1</td>\n",
       "      <td>9</td>\n",
       "      <td>...</td>\n",
       "      <td>ARI</td>\n",
       "      <td>2</td>\n",
       "      <td>True</td>\n",
       "      <td>False</td>\n",
       "      <td>[0.0, 1.0, 0.0, 0.0, 0.0, 2.0, 5.0, 1.0, 0.0]</td>\n",
       "      <td>9</td>\n",
       "      <td>False</td>\n",
       "      <td>5.034758</td>\n",
       "      <td>1.787574</td>\n",
       "      <td>0.881899</td>\n",
       "    </tr>\n",
       "    <tr>\n",
       "      <th>4</th>\n",
       "      <td>ATL199803310</td>\n",
       "      <td>1998-03-31</td>\n",
       "      <td>0</td>\n",
       "      <td>1998</td>\n",
       "      <td>RS</td>\n",
       "      <td>ATL02</td>\n",
       "      <td>MIL</td>\n",
       "      <td>NL</td>\n",
       "      <td>1</td>\n",
       "      <td>1</td>\n",
       "      <td>...</td>\n",
       "      <td>ATL</td>\n",
       "      <td>2</td>\n",
       "      <td>False</td>\n",
       "      <td>True</td>\n",
       "      <td>[0.0, 0.0, 1.0, 0.0, 0.0, 0.0, 0.0, 0.0, 0.0]</td>\n",
       "      <td>1</td>\n",
       "      <td>False</td>\n",
       "      <td>4.441141</td>\n",
       "      <td>0.225167</td>\n",
       "      <td>0.113215</td>\n",
       "    </tr>\n",
       "    <tr>\n",
       "      <th>...</th>\n",
       "      <td>...</td>\n",
       "      <td>...</td>\n",
       "      <td>...</td>\n",
       "      <td>...</td>\n",
       "      <td>...</td>\n",
       "      <td>...</td>\n",
       "      <td>...</td>\n",
       "      <td>...</td>\n",
       "      <td>...</td>\n",
       "      <td>...</td>\n",
       "      <td>...</td>\n",
       "      <td>...</td>\n",
       "      <td>...</td>\n",
       "      <td>...</td>\n",
       "      <td>...</td>\n",
       "      <td>...</td>\n",
       "      <td>...</td>\n",
       "      <td>...</td>\n",
       "      <td>...</td>\n",
       "      <td>...</td>\n",
       "      <td>...</td>\n",
       "    </tr>\n",
       "    <tr>\n",
       "      <th>118405</th>\n",
       "      <td>CIN202210050</td>\n",
       "      <td>2022-10-05</td>\n",
       "      <td>0</td>\n",
       "      <td>2022</td>\n",
       "      <td>RS</td>\n",
       "      <td>CIN09</td>\n",
       "      <td>CIN</td>\n",
       "      <td>NL</td>\n",
       "      <td>162</td>\n",
       "      <td>2</td>\n",
       "      <td>...</td>\n",
       "      <td>CHN</td>\n",
       "      <td>15</td>\n",
       "      <td>False</td>\n",
       "      <td>True</td>\n",
       "      <td>[0.0, 1.0, 1.0, 0.0, 0.0, 0.0, 0.0, 0.0, 0.0]</td>\n",
       "      <td>2</td>\n",
       "      <td>True</td>\n",
       "      <td>4.451540</td>\n",
       "      <td>0.449283</td>\n",
       "      <td>0.236700</td>\n",
       "    </tr>\n",
       "    <tr>\n",
       "      <th>118406</th>\n",
       "      <td>MIA202210050</td>\n",
       "      <td>2022-10-05</td>\n",
       "      <td>0</td>\n",
       "      <td>2022</td>\n",
       "      <td>RS</td>\n",
       "      <td>MIA02</td>\n",
       "      <td>MIA</td>\n",
       "      <td>NL</td>\n",
       "      <td>162</td>\n",
       "      <td>12</td>\n",
       "      <td>...</td>\n",
       "      <td>ATL</td>\n",
       "      <td>9</td>\n",
       "      <td>True</td>\n",
       "      <td>False</td>\n",
       "      <td>[0.0, 3.0, 0.0, 0.0, 2.0, 5.0, 2.0, 0.0, nan]</td>\n",
       "      <td>12</td>\n",
       "      <td>True</td>\n",
       "      <td>3.893438</td>\n",
       "      <td>3.082109</td>\n",
       "      <td>0.985829</td>\n",
       "    </tr>\n",
       "    <tr>\n",
       "      <th>118407</th>\n",
       "      <td>OAK202210050</td>\n",
       "      <td>2022-10-05</td>\n",
       "      <td>0</td>\n",
       "      <td>2022</td>\n",
       "      <td>RS</td>\n",
       "      <td>OAK01</td>\n",
       "      <td>ANA</td>\n",
       "      <td>AL</td>\n",
       "      <td>162</td>\n",
       "      <td>2</td>\n",
       "      <td>...</td>\n",
       "      <td>OAK</td>\n",
       "      <td>3</td>\n",
       "      <td>False</td>\n",
       "      <td>True</td>\n",
       "      <td>[0.0, 0.0, 0.0, 0.0, 0.0, 0.0, 0.0, 2.0, 0.0]</td>\n",
       "      <td>2</td>\n",
       "      <td>True</td>\n",
       "      <td>3.833401</td>\n",
       "      <td>0.521730</td>\n",
       "      <td>0.304101</td>\n",
       "    </tr>\n",
       "    <tr>\n",
       "      <th>118408</th>\n",
       "      <td>MIA202210050</td>\n",
       "      <td>2022-10-05</td>\n",
       "      <td>0</td>\n",
       "      <td>2022</td>\n",
       "      <td>RS</td>\n",
       "      <td>MIA02</td>\n",
       "      <td>ATL</td>\n",
       "      <td>NL</td>\n",
       "      <td>162</td>\n",
       "      <td>9</td>\n",
       "      <td>...</td>\n",
       "      <td>MIA</td>\n",
       "      <td>12</td>\n",
       "      <td>False</td>\n",
       "      <td>True</td>\n",
       "      <td>[0.0, 0.0, 2.0, 1.0, 0.0, 3.0, 2.0, 0.0, 1.0]</td>\n",
       "      <td>9</td>\n",
       "      <td>True</td>\n",
       "      <td>3.893438</td>\n",
       "      <td>2.311582</td>\n",
       "      <td>0.939647</td>\n",
       "    </tr>\n",
       "    <tr>\n",
       "      <th>118409</th>\n",
       "      <td>MIL202210050</td>\n",
       "      <td>2022-10-05</td>\n",
       "      <td>0</td>\n",
       "      <td>2022</td>\n",
       "      <td>RS</td>\n",
       "      <td>MIL06</td>\n",
       "      <td>MIL</td>\n",
       "      <td>NL</td>\n",
       "      <td>162</td>\n",
       "      <td>2</td>\n",
       "      <td>...</td>\n",
       "      <td>ARI</td>\n",
       "      <td>4</td>\n",
       "      <td>False</td>\n",
       "      <td>True</td>\n",
       "      <td>[0.0, 0.0, 0.0, 0.0, 1.0, 0.0, 0.0, 1.0, 0.0]</td>\n",
       "      <td>2</td>\n",
       "      <td>True</td>\n",
       "      <td>4.231140</td>\n",
       "      <td>0.472686</td>\n",
       "      <td>0.254783</td>\n",
       "    </tr>\n",
       "  </tbody>\n",
       "</table>\n",
       "<p>118410 rows × 81 columns</p>\n",
       "</div>"
      ],
      "text/plain": [
       "             game_id       date double_header    yr game_type park_id team  \\\n",
       "0       TBA199803310 1998-03-31             0  1998        RS   STP01  DET   \n",
       "1       SEA199803310 1998-03-31             0  1998        RS   SEA02  CLE   \n",
       "2       TEX199803310 1998-03-31             0  1998        RS   ARL02  CHA   \n",
       "3       ARI199803310 1998-03-31             0  1998        RS   PHO01  COL   \n",
       "4       ATL199803310 1998-03-31             0  1998        RS   ATL02  MIL   \n",
       "...              ...        ...           ...   ...       ...     ...  ...   \n",
       "118405  CIN202210050 2022-10-05             0  2022        RS   CIN09  CIN   \n",
       "118406  MIA202210050 2022-10-05             0  2022        RS   MIA02  MIA   \n",
       "118407  OAK202210050 2022-10-05             0  2022        RS   OAK01  ANA   \n",
       "118408  MIA202210050 2022-10-05             0  2022        RS   MIA02  ATL   \n",
       "118409  MIL202210050 2022-10-05             0  2022        RS   MIL06  MIL   \n",
       "\n",
       "       team_league  team_game_number  runs_scored  ...  opp  runs_allowed  \\\n",
       "0               AL                 1           11  ...  TBA             6   \n",
       "1               AL                 1           10  ...  SEA             9   \n",
       "2               AL                 1            9  ...  TEX             2   \n",
       "3               NL                 1            9  ...  ARI             2   \n",
       "4               NL                 1            1  ...  ATL             2   \n",
       "...            ...               ...          ...  ...  ...           ...   \n",
       "118405          NL               162            2  ...  CHN            15   \n",
       "118406          NL               162           12  ...  ATL             9   \n",
       "118407          AL               162            2  ...  OAK             3   \n",
       "118408          NL               162            9  ...  MIA            12   \n",
       "118409          NL               162            2  ...  ARI             4   \n",
       "\n",
       "            W      L                               linescore_parsed  \\\n",
       "0        True  False  [0.0, 4.0, 2.0, 0.0, 5.0, 0.0, 0.0, 0.0, 0.0]   \n",
       "1        True  False  [0.0, 0.0, 2.0, 1.0, 0.0, 3.0, 0.0, 4.0, 0.0]   \n",
       "2        True  False  [0.0, 0.0, 0.0, 0.0, 7.0, 0.0, 1.0, 0.0, 1.0]   \n",
       "3        True  False  [0.0, 1.0, 0.0, 0.0, 0.0, 2.0, 5.0, 1.0, 0.0]   \n",
       "4       False   True  [0.0, 0.0, 1.0, 0.0, 0.0, 0.0, 0.0, 0.0, 0.0]   \n",
       "...       ...    ...                                            ...   \n",
       "118405  False   True  [0.0, 1.0, 1.0, 0.0, 0.0, 0.0, 0.0, 0.0, 0.0]   \n",
       "118406   True  False  [0.0, 3.0, 0.0, 0.0, 2.0, 5.0, 2.0, 0.0, nan]   \n",
       "118407  False   True  [0.0, 0.0, 0.0, 0.0, 0.0, 0.0, 0.0, 2.0, 0.0]   \n",
       "118408  False   True  [0.0, 0.0, 2.0, 1.0, 0.0, 3.0, 2.0, 0.0, 1.0]   \n",
       "118409  False   True  [0.0, 0.0, 0.0, 0.0, 1.0, 0.0, 0.0, 1.0, 0.0]   \n",
       "\n",
       "        runs_scored_9  dh_fl   re_pred       rsi     rs_wp  \n",
       "0                  11   True  4.573761  2.405023  0.958843  \n",
       "1                  10   True  5.645387  1.771358  0.880028  \n",
       "2                   9   True  5.407927  1.664224  0.853797  \n",
       "3                   9  False  5.034758  1.787574  0.881899  \n",
       "4                   1  False  4.441141  0.225167  0.113215  \n",
       "...               ...    ...       ...       ...       ...  \n",
       "118405              2   True  4.451540  0.449283  0.236700  \n",
       "118406             12   True  3.893438  3.082109  0.985829  \n",
       "118407              2   True  3.833401  0.521730  0.304101  \n",
       "118408              9   True  3.893438  2.311582  0.939647  \n",
       "118409              2   True  4.231140  0.472686  0.254783  \n",
       "\n",
       "[118410 rows x 81 columns]"
      ]
     },
     "execution_count": 19,
     "metadata": {},
     "output_type": "execute_result"
    }
   ],
   "source": [
    "glt['rs_wp'] = rs_wp\n",
    "glt"
   ]
  },
  {
   "cell_type": "code",
   "execution_count": 20,
   "metadata": {},
   "outputs": [
    {
     "data": {
      "text/plain": [
       "(runs_scored_9    4.50701\n",
       " rs_wp            0.50000\n",
       " dtype: float64,\n",
       "                runs_scored_9     rs_wp\n",
       " runs_scored_9       1.000000  0.937966\n",
       " rs_wp               0.937966  1.000000)"
      ]
     },
     "execution_count": 20,
     "metadata": {},
     "output_type": "execute_result"
    }
   ],
   "source": [
    "glt[['runs_scored_9', 'rs_wp']].mean(), glt[['runs_scored_9', 'rs_wp']].corr()"
   ]
  },
  {
   "cell_type": "code",
   "execution_count": 21,
   "metadata": {},
   "outputs": [
    {
     "data": {
      "text/html": [
       "<div>\n",
       "<style scoped>\n",
       "    .dataframe tbody tr th:only-of-type {\n",
       "        vertical-align: middle;\n",
       "    }\n",
       "\n",
       "    .dataframe tbody tr th {\n",
       "        vertical-align: top;\n",
       "    }\n",
       "\n",
       "    .dataframe thead th {\n",
       "        text-align: right;\n",
       "    }\n",
       "</style>\n",
       "<table border=\"1\" class=\"dataframe\">\n",
       "  <thead>\n",
       "    <tr style=\"text-align: right;\">\n",
       "      <th></th>\n",
       "      <th>W</th>\n",
       "      <th>rs_wp</th>\n",
       "      <th>rsi</th>\n",
       "      <th>game_id</th>\n",
       "      <th>runs_scored_9</th>\n",
       "      <th>re_pred</th>\n",
       "      <th>rsi_agg2</th>\n",
       "      <th>rsi_wp</th>\n",
       "    </tr>\n",
       "    <tr>\n",
       "      <th>starting_pitcher_id</th>\n",
       "      <th></th>\n",
       "      <th></th>\n",
       "      <th></th>\n",
       "      <th></th>\n",
       "      <th></th>\n",
       "      <th></th>\n",
       "      <th></th>\n",
       "      <th></th>\n",
       "    </tr>\n",
       "  </thead>\n",
       "  <tbody>\n",
       "    <tr>\n",
       "      <th>alcas001</th>\n",
       "      <td>0.463636</td>\n",
       "      <td>0.401308</td>\n",
       "      <td>0.748374</td>\n",
       "      <td>110</td>\n",
       "      <td>3.145455</td>\n",
       "      <td>4.229584</td>\n",
       "      <td>0.743679</td>\n",
       "      <td>0.370417</td>\n",
       "    </tr>\n",
       "    <tr>\n",
       "      <th>kellb003</th>\n",
       "      <td>0.419048</td>\n",
       "      <td>0.413334</td>\n",
       "      <td>0.817653</td>\n",
       "      <td>105</td>\n",
       "      <td>3.809524</td>\n",
       "      <td>4.655621</td>\n",
       "      <td>0.818263</td>\n",
       "      <td>0.408925</td>\n",
       "    </tr>\n",
       "    <tr>\n",
       "      <th>urenj001</th>\n",
       "      <td>0.406015</td>\n",
       "      <td>0.429107</td>\n",
       "      <td>0.850689</td>\n",
       "      <td>133</td>\n",
       "      <td>3.676692</td>\n",
       "      <td>4.363844</td>\n",
       "      <td>0.842535</td>\n",
       "      <td>0.426554</td>\n",
       "    </tr>\n",
       "    <tr>\n",
       "      <th>ruscg001</th>\n",
       "      <td>0.404145</td>\n",
       "      <td>0.435610</td>\n",
       "      <td>0.829644</td>\n",
       "      <td>193</td>\n",
       "      <td>3.834197</td>\n",
       "      <td>4.628504</td>\n",
       "      <td>0.828388</td>\n",
       "      <td>0.415380</td>\n",
       "    </tr>\n",
       "    <tr>\n",
       "      <th>wellk001</th>\n",
       "      <td>0.410959</td>\n",
       "      <td>0.446021</td>\n",
       "      <td>0.872531</td>\n",
       "      <td>219</td>\n",
       "      <td>4.095890</td>\n",
       "      <td>4.641631</td>\n",
       "      <td>0.882425</td>\n",
       "      <td>0.437938</td>\n",
       "    </tr>\n",
       "    <tr>\n",
       "      <th>...</th>\n",
       "      <td>...</td>\n",
       "      <td>...</td>\n",
       "      <td>...</td>\n",
       "      <td>...</td>\n",
       "      <td>...</td>\n",
       "      <td>...</td>\n",
       "      <td>...</td>\n",
       "      <td>...</td>\n",
       "    </tr>\n",
       "    <tr>\n",
       "      <th>friem001</th>\n",
       "      <td>0.694444</td>\n",
       "      <td>0.569883</td>\n",
       "      <td>1.187413</td>\n",
       "      <td>108</td>\n",
       "      <td>5.351852</td>\n",
       "      <td>4.487338</td>\n",
       "      <td>1.192656</td>\n",
       "      <td>0.577947</td>\n",
       "    </tr>\n",
       "    <tr>\n",
       "      <th>ramih002</th>\n",
       "      <td>0.495238</td>\n",
       "      <td>0.572547</td>\n",
       "      <td>1.204295</td>\n",
       "      <td>105</td>\n",
       "      <td>5.342857</td>\n",
       "      <td>4.459820</td>\n",
       "      <td>1.197998</td>\n",
       "      <td>0.584236</td>\n",
       "    </tr>\n",
       "    <tr>\n",
       "      <th>selea001</th>\n",
       "      <td>0.581967</td>\n",
       "      <td>0.575218</td>\n",
       "      <td>1.171817</td>\n",
       "      <td>244</td>\n",
       "      <td>5.659836</td>\n",
       "      <td>4.821059</td>\n",
       "      <td>1.173982</td>\n",
       "      <td>0.572035</td>\n",
       "    </tr>\n",
       "    <tr>\n",
       "      <th>mainj001</th>\n",
       "      <td>0.561905</td>\n",
       "      <td>0.588510</td>\n",
       "      <td>1.205890</td>\n",
       "      <td>105</td>\n",
       "      <td>5.104762</td>\n",
       "      <td>4.294381</td>\n",
       "      <td>1.188707</td>\n",
       "      <td>0.584824</td>\n",
       "    </tr>\n",
       "    <tr>\n",
       "      <th>uriaj001</th>\n",
       "      <td>0.693069</td>\n",
       "      <td>0.595452</td>\n",
       "      <td>1.235250</td>\n",
       "      <td>101</td>\n",
       "      <td>5.237624</td>\n",
       "      <td>4.240920</td>\n",
       "      <td>1.235021</td>\n",
       "      <td>0.595471</td>\n",
       "    </tr>\n",
       "  </tbody>\n",
       "</table>\n",
       "<p>390 rows × 8 columns</p>\n",
       "</div>"
      ],
      "text/plain": [
       "                            W     rs_wp       rsi  game_id  runs_scored_9  \\\n",
       "starting_pitcher_id                                                         \n",
       "alcas001             0.463636  0.401308  0.748374      110       3.145455   \n",
       "kellb003             0.419048  0.413334  0.817653      105       3.809524   \n",
       "urenj001             0.406015  0.429107  0.850689      133       3.676692   \n",
       "ruscg001             0.404145  0.435610  0.829644      193       3.834197   \n",
       "wellk001             0.410959  0.446021  0.872531      219       4.095890   \n",
       "...                       ...       ...       ...      ...            ...   \n",
       "friem001             0.694444  0.569883  1.187413      108       5.351852   \n",
       "ramih002             0.495238  0.572547  1.204295      105       5.342857   \n",
       "selea001             0.581967  0.575218  1.171817      244       5.659836   \n",
       "mainj001             0.561905  0.588510  1.205890      105       5.104762   \n",
       "uriaj001             0.693069  0.595452  1.235250      101       5.237624   \n",
       "\n",
       "                      re_pred  rsi_agg2    rsi_wp  \n",
       "starting_pitcher_id                                \n",
       "alcas001             4.229584  0.743679  0.370417  \n",
       "kellb003             4.655621  0.818263  0.408925  \n",
       "urenj001             4.363844  0.842535  0.426554  \n",
       "ruscg001             4.628504  0.828388  0.415380  \n",
       "wellk001             4.641631  0.882425  0.437938  \n",
       "...                       ...       ...       ...  \n",
       "friem001             4.487338  1.192656  0.577947  \n",
       "ramih002             4.459820  1.197998  0.584236  \n",
       "selea001             4.821059  1.173982  0.572035  \n",
       "mainj001             4.294381  1.188707  0.584824  \n",
       "uriaj001             4.240920  1.235021  0.595471  \n",
       "\n",
       "[390 rows x 8 columns]"
      ]
     },
     "execution_count": 21,
     "metadata": {},
     "output_type": "execute_result"
    }
   ],
   "source": [
    "agg = {'W': np.mean, 'rs_wp': np.mean, 'rsi': np.mean, 'game_id': len, 'runs_scored_9': np.mean, 're_pred': np.mean}\n",
    "pit_careers = glt.groupby(['starting_pitcher_id']).agg(agg)\n",
    "pit_seasons = glt.groupby(['starting_pitcher_id', 'yr']).agg(agg)\n",
    "for df in [pit_careers, pit_seasons]:\n",
    "    df['rsi_agg2'] = df['runs_scored_9']/df['re_pred']\n",
    "    df['rsi_wp'] = (df['rsi']**1.83)/(df['rsi']**1.83 +1)\n",
    "pit_careers.query('game_id>=100').sort_values('rs_wp')"
   ]
  },
  {
   "cell_type": "code",
   "execution_count": 22,
   "metadata": {},
   "outputs": [],
   "source": [
    "for df_name in ['glt', 'pit_careers', 'pit_seasons']:\n",
    "    locals()[df_name].to_parquet(f'output/{df_name}.parquet')"
   ]
  },
  {
   "cell_type": "code",
   "execution_count": 23,
   "metadata": {},
   "outputs": [
    {
     "data": {
      "application/vnd.plotly.v1+json": {
       "config": {
        "plotlyServerURL": "https://plot.ly"
       },
       "data": [
        {
         "customdata": [
          [
           "alcas001",
           0.7483739799278956,
           3.1454545454545455
          ],
          [
           "andeb002",
           1.009445962952934,
           5
          ],
          [
           "andeb004",
           0.9568055354636574,
           4.161904761904762
          ],
          [
           "andec001",
           1.0015370601604618,
           4.409836065573771
          ],
          [
           "andet002",
           1.0008859931164207,
           4.652482269503546
          ],
          [
           "appik001",
           1.0117060421820117,
           4.848101265822785
          ],
          [
           "archc001",
           0.9480115344831204,
           4.1
          ],
          [
           "armat002",
           0.9685294669644985,
           4.440476190476191
          ],
          [
           "arrij001",
           1.0831816496985633,
           4.67741935483871
          ],
          [
           "arrob001",
           0.980343866704966,
           4.446475195822455
          ],
          [
           "arror001",
           0.9127530810784968,
           4.647619047619048
          ],
          [
           "ashba002",
           0.9260056329825442,
           4.179856115107913
          ],
          [
           "astap001",
           1.0249285307603295,
           5.2254901960784315
          ],
          [
           "bailh001",
           1.0198058720679568,
           4.448979591836735
          ],
          [
           "bakes002",
           1.0333810133746637,
           4.72093023255814
          ],
          [
           "baldj002",
           0.9752783090778295,
           4.86231884057971
          ],
          [
           "bannb001",
           0.889972599970008,
           4.2368421052631575
          ],
          [
           "bassc001",
           1.07742378872013,
           4.6016260162601625
          ],
          [
           "batim001",
           0.9633112937923833,
           4.570247933884297
          ],
          [
           "bauet001",
           0.9609915990993029,
           4.320754716981132
          ],
          [
           "beckj002",
           1.0401752657583023,
           4.75
          ],
          [
           "bedae001",
           0.9507102965080347,
           4.265217391304348
          ],
          [
           "bellr003",
           1.1186284493514111,
           5.472222222222222
          ],
          [
           "benea001",
           1.0752822571939908,
           5.1937984496124034
          ],
          [
           "bensk001",
           0.9850757229788643,
           4.525
          ],
          [
           "berej002",
           1.0337457051188823,
           5.017094017094017
          ],
          [
           "berrj001",
           1.0200425183968092,
           4.715083798882682
          ],
          [
           "biebs001",
           0.9562357558130337,
           4.36036036036036
          ],
          [
           "billc001",
           1.0421470356632518,
           4.365482233502538
          ],
          [
           "blacn001",
           0.9502122881252213,
           4.321167883211679
          ],
          [
           "blanj001",
           1.0294854757360732,
           4.5436507936507935
          ],
          [
           "bondj001",
           1.008247713127647,
           4.77
          ],
          [
           "boydm001",
           0.8951482049426227,
           4.158620689655172
          ],
          [
           "browk001",
           0.9414033425280312,
           4.316582914572864
          ],
          [
           "buchc001",
           1.008396998541121,
           4.598173515981735
          ],
          [
           "buehm001",
           1.0416291745403186,
           4.83367139959432
          ],
          [
           "buehw001",
           1.2088459419268256,
           5.179245283018868
          ],
          [
           "bumgm001",
           1.0099922787360043,
           4.182336182336182
          ],
          [
           "bundd001",
           1.0247601115197589,
           4.654320987654321
          ],
          [
           "burbd001",
           1.1211941275269024,
           5.605442176870748
          ],
          [
           "burkj001",
           1.022288967034759,
           5.0813953488372094
          ],
          [
           "burna001",
           0.9486177521619326,
           4.169767441860465
          ],
          [
           "bushd001",
           0.996971363192988,
           4.598930481283422
          ],
          [
           "byrdp001",
           1.052718757889801,
           4.992063492063492
          ],
          [
           "cabrd001",
           1.027882427738973,
           4.916129032258064
          ],
          [
           "cahit001",
           1.012319538223287,
           4.351931330472103
          ],
          [
           "cainm001",
           0.9065445312217323,
           3.788519637462236
          ],
          [
           "capuc001",
           0.9668863819429366,
           4.155555555555556
          ],
          [
           "carmf001",
           0.9981350331502399,
           4.424657534246576
          ],
          [
           "carpc002",
           1.026255002923277,
           4.724137931034483
          ],
          [
           "carrc003",
           1.058698808197362,
           4.627118644067797
          ],
          [
           "casha001",
           0.9266101911536385,
           3.9468085106382977
          ],
          [
           "castl003",
           0.8931545112811184,
           4
          ],
          [
           "chacj001",
           0.8946765659053366,
           4.1233480176211454
          ],
          [
           "chacs001",
           0.8869318141095697,
           4.455223880597015
          ],
          [
           "chatt001",
           0.945939361849075,
           4.363636363636363
          ],
          [
           "chenb001",
           0.9606088110738245,
           4.422907488986784
          ],
          [
           "chenw001",
           0.9995890663143395,
           4.176470588235294
          ],
          [
           "clemm001",
           1.0143709333627364,
           4.703389830508475
          ],
          [
           "clemr001",
           0.9756985411588478,
           4.701030927835052
          ],
          [
           "clevm001",
           1.0585073158114477,
           4.745614035087719
          ],
          [
           "cobba001",
           0.9731830927067323,
           4.173267326732673
          ],
          [
           "coleg001",
           1.1088719154929403,
           4.790262172284645
          ],
          [
           "colob001",
           1.0683519058120534,
           4.839252336448598
          ],
          [
           "coned001",
           1.02467141218269,
           5.141666666666667
          ],
          [
           "contj002",
           0.9627263976320412,
           4.714285714285714
          ],
          [
           "cooka002",
           0.9143288258326964,
           4.642857142857143
          ],
          [
           "corbp001",
           0.9828734270418621,
           4.334615384615384
          ],
          [
           "corrk001",
           1.0097079512214426,
           4.1855203619909505
          ],
          [
           "cuetj001",
           0.9465147839563007,
           4.0821529745042495
          ],
          [
           "daalo001",
           0.9189661702295084,
           4.4
          ],
          [
           "dankj001",
           0.8827346209135079,
           3.979757085020243
          ],
          [
           "darvy001",
           0.9609399183615634,
           4.231404958677686
          ],
          [
           "david002",
           0.95971569178086,
           4.520979020979021
          ],
          [
           "davik002",
           0.9859456894558755,
           4.590277777777778
          ],
          [
           "daviz001",
           0.9959441120820057,
           4.4010989010989015
          ],
          [
           "degrj001",
           1.0031075263908549,
           4.100478468899522
          ],
          [
           "delaj001",
           1.0200352461887598,
           5.024896265560166
          ],
          [
           "dempr002",
           1.0525399374797846,
           4.700854700854701
          ],
          [
           "desca001",
           1.0045838174152462,
           4.3841059602649
          ],
          [
           "desse001",
           0.9704892855881998,
           4.642335766423358
          ],
          [
           "detwr001",
           0.8996859966740041,
           3.88
          ],
          [
           "dickr001",
           1.002905470743135,
           4.3133333333333335
          ],
          [
           "dreid001",
           1.024661739949518,
           4.787610619469026
          ],
          [
           "duffd001",
           0.919323565664997,
           4.240196078431373
          ],
          [
           "dukez001",
           0.9725896409054999,
           4.27810650887574
          ],
          [
           "eatoa001",
           1.0585717143731148,
           4.756218905472637
          ],
          [
           "efliz001",
           1.0417261107667977,
           4.6173913043478265
          ],
          [
           "elars001",
           1.0716410421849776,
           5.311764705882353
          ],
          [
           "eovan001",
           1.0237051861453428,
           4.411764705882353
          ],
          [
           "erics001",
           0.9634784886788884,
           4.7578125
          ],
          [
           "escok001",
           0.9579607402445903,
           4.693069306930693
          ],
          [
           "estes001",
           1.0174157981753604,
           4.812765957446809
          ],
          [
           "estrm001",
           0.9653500980310172,
           4.216494845360825
          ],
          [
           "fassj001",
           0.9844455418481184,
           5.149532710280374
          ],
          [
           "felds001",
           0.9488713464990829,
           4.259803921568627
          ],
          [
           "fierm001",
           1.0250154996030993,
           4.5125628140703515
          ],
          [
           "finlc001",
           0.9573903332514724,
           4.7612903225806456
          ],
          [
           "fistd001",
           0.9328502294721623,
           3.9690265486725664
          ],
          [
           "floyg001",
           0.9740074164439113,
           4.454081632653061
          ],
          [
           "foggj001",
           0.9709672618747485,
           4.639175257731959
          ],
          [
           "foltm001",
           1.0232170337730606,
           4.52112676056338
          ],
          [
           "fossc001",
           1.003178172035526,
           4.816666666666666
          ],
          [
           "franj003",
           0.9610837966288988,
           4.847926267281106
          ],
          [
           "franr001",
           0.8566316966796493,
           3.8867924528301887
          ],
          [
           "freek001",
           0.8671452057539898,
           4.426666666666667
          ],
          [
           "friem001",
           1.1874131295037644,
           5.351851851851852
          ],
          [
           "gally001",
           1.0375810339100624,
           4.472312703583062
          ],
          [
           "garcf002",
           1.0771619663251166,
           5.0476190476190474
          ],
          [
           "garcj004",
           1.0414181206754092,
           4.308510638297872
          ],
          [
           "garlj001",
           0.9704418344300095,
           4.576023391812866
          ],
          [
           "garzm001",
           0.964934118478265,
           4.179577464788732
          ],
          [
           "gausk001",
           0.9453864239611223,
           4.18859649122807
          ],
          [
           "gee-d001",
           1.0068791089809142,
           4.015625
          ],
          [
           "gibsk002",
           1.0443726936683333,
           4.697318007662835
          ],
          [
           "gioll001",
           0.9468281196347552,
           4.3310344827586205
          ],
          [
           "glavt001",
           1.0411282500463772,
           4.646723646723647
          ],
          [
           "gonzg003",
           1.0635167668772958,
           4.460365853658536
          ],
          [
           "gonzm003",
           0.9137733321996493,
           4
          ],
          [
           "gonzm005",
           1.0690740076716136,
           4.448275862068965
          ],
          [
           "gorzt001",
           0.9672998065896875,
           4.239669421487603
          ],
          [
           "grayj003",
           0.9823764862697189,
           4.857142857142857
          ],
          [
           "grays001",
           1.0095202138755692,
           4.369747899159663
          ],
          [
           "greiz001",
           0.9632596158866741,
           4.28988326848249
          ],
          [
           "guthj001",
           0.8996654155524103,
           4.073260073260073
          ],
          [
           "halaj001",
           1.1407437498846893,
           5.394957983193278
          ],
          [
           "hallr001",
           1.0352611138493557,
           4.833333333333333
          ],
          [
           "hamec001",
           0.9852733690156947,
           4.343601895734597
          ],
          [
           "hamij002",
           0.9471322164657202,
           4.475247524752476
          ],
          [
           "hammj002",
           0.9474373085252419,
           4.298657718120805
          ],
          [
           "hampm001",
           1.1181077766797654,
           5.228464419475656
          ],
          [
           "hanst001",
           1.0637514795076237,
           4.363636363636363
          ],
          [
           "happj001",
           1.0161380180115407,
           4.4817073170731705
          ],
          [
           "haraa001",
           0.9782192056821646,
           4.230971128608924
          ],
          [
           "hardr001",
           1.05787739906995,
           4.75625
          ],
          [
           "hared001",
           0.9602176806858459,
           4.197368421052632
          ],
          [
           "harrm001",
           1.0752637662780369,
           5.048543689320389
          ],
          [
           "harvm001",
           0.9723248447714262,
           4.058139534883721
          ],
          [
           "haynj001",
           0.955615263869885,
           4.545454545454546
          ],
          [
           "heana001",
           1.1136737549890998,
           4.809523809523809
          ],
          [
           "hellj001",
           0.9729430392890045,
           4.151785714285714
          ],
          [
           "hellr001",
           1.043331027472891,
           5.335
          ],
          [
           "hendk001",
           1.0176303870120524,
           4.414414414414415
          ],
          [
           "hendm001",
           1.004455132393567,
           4.650602409638554
          ],
          [
           "hentp001",
           0.935510324248151,
           4.680272108843537
          ],
          [
           "hermd001",
           0.9533133389747757,
           4.532894736842105
          ],
          [
           "hernf002",
           0.9360511622443544,
           3.930622009569378
          ],
          [
           "hernl003",
           0.9727731149049691,
           4.380743982494529
          ],
          [
           "herno001",
           1.0082520870448164,
           4.867298578199052
          ],
          [
           "hillr001",
           0.9992206700277627,
           4.34841628959276
          ],
          [
           "hochl001",
           0.8911943446363595,
           4.15625
          ],
          [
           "holld003",
           1.0354423095035157,
           4.741228070175438
          ],
          [
           "hudst001",
           1.091376271235244,
           4.774530271398747
          ],
          [
           "hughp001",
           1.1280747338480137,
           5.023696682464455
          ],
          [
           "ishik001",
           1.0430710219718236,
           4.588235294117647
          ],
          [
           "iwakh001",
           1.0540291644089734,
           4.257352941176471
          ],
          [
           "jacke001",
           0.9601016383561591,
           4.176100628930818
          ],
          [
           "jennj001",
           0.9058314567600292,
           4.677777777777778
          ],
          [
           "jimeu001",
           0.9491750148855108,
           4.396825396825397
          ],
          [
           "johnj007",
           0.9006459460478706,
           4.361990950226244
          ],
          [
           "johnj009",
           1.035124078742254,
           4.3375
          ],
          [
           "johnr005",
           0.971825496286659,
           4.702857142857143
          ],
          [
           "joneb003",
           1.038680934245963,
           4.615384615384615
          ],
          [
           "junij001",
           0.8923255037449594,
           4.160377358490566
          ],
          [
           "jurrj001",
           1.0509653451470344,
           4.46875
          ],
          [
           "kazms001",
           1.047156428865658,
           4.574750830564784
          ],
          [
           "kellb003",
           0.8176532324987471,
           3.8095238095238093
          ],
          [
           "kendk001",
           1.1215004793494436,
           4.7981220657277
          ],
          [
           "kenni001",
           0.9554300645621183,
           4.041379310344827
          ],
          [
           "kennj001",
           0.8699663505845068,
           4.266187050359712
          ],
          [
           "kersc001",
           1.1089109863858067,
           4.540201005025126
          ],
          [
           "keucd001",
           1.0267869351235501,
           4.5136186770428015
          ],
          [
           "kiled001",
           0.9333866542317518,
           4.76510067114094
          ],
          [
           "klubc001",
           1.036715060730757,
           4.553784860557769
          ],
          [
           "koeht001",
           0.9876725393619626,
           3.8947368421052633
          ],
          [
           "kuhlc001",
           0.9598969281334746,
           4.252252252252252
          ],
          [
           "kuroh001",
           0.9310026326563873,
           3.881516587677725
          ],
          [
           "lackj001",
           1.014808765411964,
           4.5874439461883405
          ],
          [
           "lannj001",
           0.9064398309674644,
           3.824324324324324
          ],
          [
           "latom001",
           0.9630592383692853,
           3.9576719576719577
          ],
          [
           "lauee001",
           0.9699985606078411,
           4.155339805825243
          ],
          [
           "lawrb001",
           0.9714978372160514,
           4.203947368421052
          ],
          [
           "leakm001",
           1.042639177571329,
           4.422297297297297
          ],
          [
           "leblw001",
           1.0006648500370812,
           4.1395348837209305
          ],
          [
           "lee-c003",
           1.04350876142692,
           4.709876543209877
          ],
          [
           "leita001",
           0.9419885757395611,
           4.175732217573222
          ],
          [
           "lestj001",
           1.1046681101911944,
           4.9490022172949
          ],
          [
           "lewic001",
           1.1091863027555002,
           5.112820512820512
          ],
          [
           "lidlc001",
           1.0512767098886138,
           4.9238578680203045
          ],
          [
           "liebj001",
           1.013299708280035,
           4.756972111553785
          ],
          [
           "lillt001",
           0.9693505421524453,
           4.425981873111782
          ],
          [
           "limaj001",
           0.9898154226578757,
           4.672897196261682
          ],
          [
           "linct001",
           0.979080526925613,
           3.9814814814814814
          ],
          [
           "lirif001",
           0.9725300114720618,
           4.24
          ],
          [
           "loaie001",
           0.9937387385617068,
           4.788461538461538
          ],
          [
           "lockj001",
           0.9859672257607607,
           3.9572649572649574
          ],
          [
           "lohsk001",
           1.021390828628536,
           4.44976076555024
          ],
          [
           "loper001",
           0.9811767123498749,
           4.6465116279069765
          ],
          [
           "lowed001",
           1.0757783434674457,
           4.853260869565218
          ],
          [
           "lowrn001",
           1.0809923986325738,
           4.83
          ],
          [
           "lylej001",
           1.0110716226126688,
           4.409302325581395
          ],
          [
           "lynnl001",
           1.0245665431874476,
           4.382456140350877
          ],
          [
           "maddg002",
           0.9665064642966311,
           4.437333333333333
          ],
          [
           "maedk001",
           1.087103471119725,
           4.7555555555555555
          ],
          [
           "mahlt001",
           0.9421014179694652,
           4.230769230769231
          ],
          [
           "mahop002",
           0.8999305712383572,
           3.86
          ],
          [
           "mainj001",
           1.2058899306941229,
           5.104761904761904
          ],
          [
           "manas001",
           1.0488409525541629,
           4.4743589743589745
          ],
          [
           "marcs001",
           0.9481012563145118,
           4.227544910179641
          ],
          [
           "marom001",
           0.948453702950085,
           4.566666666666666
          ],
          [
           "marqg001",
           1.019156364518679,
           5.230769230769231
          ],
          [
           "marqj001",
           1.0592443761964354,
           4.685534591194968
          ],
          [
           "martc006",
           1.0153118776257026,
           4.223021582733813
          ],
          [
           "martp001",
           1.0100536690853337,
           4.837370242214533
          ],
          [
           "mastj001",
           0.9038398121690024,
           3.9239130434782608
          ],
          [
           "matsd001",
           1.0378691738637278,
           4.825757575757576
          ],
          [
           "matzs001",
           1.0624590270439096,
           4.527397260273973
          ],
          [
           "maysj001",
           0.8853269125131183,
           4.2756410256410255
          ],
          [
           "mccab001",
           1.0098269360865697,
           4.467005076142132
          ],
          [
           "mccul002",
           1.0073361631897662,
           4.440944881889764
          ],
          [
           "mchuc001",
           1.0472670549574876,
           4.5396825396825395
          ],
          [
           "meadb001",
           0.9013415216573675,
           4.262295081967213
          ],
          [
           "mechg001",
           0.9506639187639557,
           4.448559670781893
          ],
          [
           "mikom001",
           1.046594623792623,
           4.478260869565218
          ],
          [
           "milew001",
           1.0753190121358105,
           4.747368421052632
          ],
          [
           "millk004",
           0.9671742503247259,
           4.510344827586207
          ],
          [
           "mills001",
           0.9266418813378023,
           3.787878787878788
          ],
          [
           "millw001",
           1.0603514759519936,
           4.959183673469388
          ],
          [
           "milot001",
           1.184094058229863,
           5.0479452054794525
          ],
          [
           "milte001",
           1.011049078355021,
           4.845018450184502
          ],
          [
           "minom001",
           1.005791200815905,
           4.31140350877193
          ],
          [
           "mlicd001",
           0.9307278566967121,
           4.425196850393701
          ],
          [
           "moehb001",
           0.956211848691335,
           4.4840182648401825
          ],
          [
           "montj004",
           1.0138285325334786,
           4.518518518518518
          ],
          [
           "moorm003",
           1.095486433753384,
           4.689024390243903
          ],
          [
           "morrb001",
           1.0334586177154597,
           4.539823008849558
          ],
          [
           "morrm001",
           1.138429325296813,
           5.1193415637860085
          ],
          [
           "mortc002",
           0.9851569252370637,
           4.260869565217392
          ],
          [
           "moyej001",
           1.0672565810251189,
           4.8951219512195125
          ],
          [
           "muldm001",
           1.0958394741360804,
           5.078817733990148
          ],
          [
           "musgj001",
           0.9748474039929493,
           4.111111111111111
          ],
          [
           "mussm001",
           1.0456585503242324,
           5.043859649122807
          ],
          [
           "myerb001",
           1.0657891354927755,
           4.7063492063492065
          ],
          [
           "neagd001",
           1.049553880854306,
           5.331081081081081
          ],
          [
           "nelsj004",
           0.9034662779293687,
           3.8518518518518516
          ],
          [
           "niesj001",
           1.1159533745091677,
           4.411167512690355
          ],
          [
           "nolaa001",
           1.030274013665296,
           4.497536945812808
          ],
          [
           "nolar001",
           1.0078798945562017,
           4.246794871794871
          ],
          [
           "nomoh001",
           0.9514183834496196,
           4.477678571428571
          ],
          [
           "norrb001",
           1.0233855764492927,
           4.25
          ],
          [
           "novai001",
           0.9999610135295103,
           4.400881057268722
          ],
          [
           "odorj001",
           0.9852828688410912,
           4.3164556962025316
          ],
          [
           "ohkat001",
           0.9408183124642158,
           4.331460674157303
          ],
          [
           "olivd001",
           1.0646751676167787,
           5.35625
          ],
          [
           "olses001",
           1.0299431437097963,
           4.488188976377953
          ],
          [
           "ortir001",
           1.1285880702378737,
           5.135338345864661
          ],
          [
           "ortir002",
           1.081315616263524,
           5.036697247706422
          ],
          [
           "oswar001",
           1.0070573691366775,
           4.523391812865497
          ],
          [
           "padiv001",
           1.1243860085710484,
           5.181434599156118
          ],
          [
           "parkc002",
           1.08659461585768,
           5.080971659919029
          ],
          [
           "parrs001",
           0.9228187682194834,
           4.490909090909091
          ],
          [
           "pavac001",
           0.9895570596674362,
           4.517605633802817
          ],
          [
           "paxtj001",
           1.1368443665895316,
           4.927007299270073
          ],
          [
           "peavj001",
           1.0133535296516485,
           4.326259946949602
          ],
          [
           "pelfm001",
           0.9735836097176195,
           4.11328125
          ],
          [
           "pennb002",
           1.0353132022812905,
           4.623824451410658
          ],
          [
           "peraw001",
           0.9758582697662309,
           4.100719424460432
          ],
          [
           "perem004",
           1.025975329140393,
           4.766816143497758
          ],
          [
           "pereo001",
           0.929963510812252,
           4.280542986425339
          ],
          [
           "pereo002",
           1.0349112053466945,
           4.492307692307692
          ],
          [
           "petta001",
           1.093379743508515,
           5.154929577464789
          ],
          [
           "pinej001",
           1.0919745166807542,
           4.779467680608365
          ],
          [
           "pinem001",
           0.9849787099192737,
           4.433333333333334
          ],
          [
           "piven001",
           1.0145122878646846,
           4.602941176470588
          ],
          [
           "pomed001",
           0.9113375932697482,
           4.1571428571428575
          ],
          [
           "ponss001",
           1.0276365921875354,
           4.996402877697841
          ],
          [
           "porcr001",
           1.1014833155815618,
           5.042735042735043
          ],
          [
           "pricd001",
           1.0594155026543668,
           4.6770186335403725
          ],
          [
           "priom001",
           0.9453466800345435,
           4.415094339622642
          ],
          [
           "quinj001",
           0.9708646219793439,
           4.311418685121107
          ],
          [
           "radkb001",
           0.9234650705499234,
           4.448028673835125
          ],
          [
           "ramih002",
           1.2042951570116562,
           5.3428571428571425
          ],
          [
           "rappp001",
           1.0009456139844162,
           5.112068965517241
          ],
          [
           "ray-r002",
           1.0511681431139468,
           4.782805429864253
          ],
          [
           "reddt001",
           0.9498013595457636,
           4.25
          ],
          [
           "redmm002",
           0.8877991438657485,
           4.221674876847291
          ],
          [
           "reedr002",
           1.0057957104597954,
           4.674418604651163
          ],
          [
           "reyns001",
           1.1469620746458138,
           5.208588957055214
          ],
          [
           "richc002",
           0.9849401565294242,
           4.033333333333333
          ],
          [
           "richg002",
           1.0383342736318997,
           4.434210526315789
          ],
          [
           "ritct001",
           0.9397853966064068,
           4.5
          ],
          [
           "roart001",
           1.039395159628192,
           4.489130434782608
          ],
          [
           "roben001",
           0.9604882531201241,
           4.524064171122995
          ],
          [
           "rodoc001",
           0.8763803860935728,
           3.9047619047619047
          ],
          [
           "rodre004",
           1.0732586871281473,
           5.052941176470588
          ],
          [
           "rodrw002",
           0.981223797900191,
           4.269961977186312
          ],
          [
           "rogek001",
           1.0433695332197106,
           5.133540372670807
          ],
          [
           "romer002",
           1.0089676098031952,
           4.488188976377953
          ],
          [
           "rosst001",
           0.9114377888616642,
           3.6619718309859155
          ],
          [
           "ruetk001",
           1.134604589429111,
           5.202479338842975
          ],
          [
           "ruscg001",
           0.8296438052245331,
           3.8341968911917097
          ],
          [
           "ryu-h001",
           1.0965069729185075,
           4.672413793103448
          ],
          [
           "sabac001",
           1.0616984059056582,
           4.848214285714286
          ],
          [
           "salad001",
           0.9901662196114551,
           4.390476190476191
          ],
          [
           "salec001",
           0.9444627059206877,
           4.325102880658436
          ],
          [
           "samaj001",
           0.8869162672993494,
           3.763485477178423
          ],
          [
           "sanca004",
           1.0437659356225464,
           4.475073313782991
          ],
          [
           "sanca006",
           1.0233558724009817,
           4.716814159292035
          ],
          [
           "sancj002",
           0.9957216128774689,
           4.233576642335766
          ],
          [
           "sante001",
           0.9672348460373595,
           4.310880829015544
          ],
          [
           "santh001",
           1.0083390897586884,
           4.421428571428572
          ],
          [
           "santj003",
           0.9857141880877772,
           4.409893992932862
          ],
          [
           "saunj001",
           0.9878221603781757,
           4.3406113537117905
          ],
          [
           "schem001",
           1.0879292550848967,
           4.676959619952494
          ],
          [
           "schic002",
           1.0192813936447027,
           4.960714285714285
          ],
          [
           "schmj001",
           0.9781365826148898,
           4.437262357414449
          ],
          [
           "selea001",
           1.1718172441425914,
           5.659836065573771
          ],
          [
           "senza001",
           0.9098259316507606,
           4.760683760683761
          ],
          [
           "seo-j001",
           0.9991318056369668,
           4.401960784313726
          ],
          [
           "sevel001",
           1.1200943314051885,
           5
          ],
          [
           "sheeb001",
           0.9340679156116072,
           4.224
          ],
          [
           "shiej002",
           0.9803717638202604,
           4.283950617283951
          ],
          [
           "shoem001",
           1.0510917561703397,
           4.565217391304348
          ],
          [
           "silvc001",
           1.0050707780387467,
           4.677777777777778
          ],
          [
           "slowk001",
           1.0743029565684405,
           4.7924528301886795
          ],
          [
           "smolj001",
           1.0453223151437643,
           4.733333333333333
          ],
          [
           "smyld001",
           1.0240633514367898,
           4.519230769230769
          ],
          [
           "snelb001",
           0.9505019748666561,
           4.125
          ],
          [
           "sneli001",
           0.9353650562714865,
           4.176470588235294
          ],
          [
           "spars001",
           0.9124233995717045,
           4.464788732394366
          ],
          [
           "strad003",
           1.060099014656364,
           4.55
          ],
          [
           "stras001",
           1.119817645316934,
           4.720647773279352
          ],
          [
           "strir001",
           1.0513757632820115,
           4.615384615384615
          ],
          [
           "strom001",
           0.9374737827997309,
           4.196969696969697
          ],
          [
           "stule002",
           0.9525311450356849,
           3.7589285714285716
          ],
          [
           "suppj001",
           0.9800511756456837,
           4.631443298969073
          ],
          [
           "syndn001",
           1.0316030098594393,
           4.201388888888889
          ],
          [
           "tailj001",
           1.0897763919589938,
           4.685314685314685
          ],
          [
           "tanam001",
           1.1354777621000616,
           5.161849710982659
          ],
          [
           "tapak001",
           0.9767011881805335,
           4.681034482758621
          ],
          [
           "tehej001",
           0.9616047751218476,
           4.055084745762712
          ],
          [
           "thomj005",
           1.006345384212281,
           4.935135135135135
          ],
          [
           "tillc001",
           1.0292609232896817,
           4.46829268292683
          ],
          [
           "tomkb001",
           1.0457513805703844,
           4.720647773279352
          ],
          [
           "tomlj001",
           1.0179162102847634,
           4.546666666666667
          ],
          [
           "towej001",
           0.950904568950939,
           4.580357142857143
          ],
          [
           "tracs001",
           0.967497099694181,
           4.429530201342282
          ],
          [
           "urenj001",
           0.850689437210942,
           3.6766917293233083
          ],
          [
           "uriaj001",
           1.2352503402263317,
           5.237623762376238
          ],
          [
           "valdi001",
           0.8957746638481707,
           4.243654822335025
          ],
          [
           "vargc001",
           1.014227475049285,
           4.728070175438597
          ],
          [
           "vargj001",
           0.9216917240562608,
           3.9783393501805056
          ],
          [
           "vazqj001",
           0.949307475103667,
           4.376975169300226
          ],
          [
           "velav001",
           0.9522931817110402,
           4.176470588235294
          ],
          [
           "verlj001",
           1.023877806451267,
           4.614107883817427
          ],
          [
           "voger001",
           0.9693702271036656,
           3.9441340782122905
          ],
          [
           "volqe001",
           0.9981087009890023,
           4.302919708029197
          ],
          [
           "volsc001",
           0.969452070490866,
           3.9761904761904763
          ],
          [
           "wachm001",
           1.1397306479796203,
           4.769607843137255
          ],
          [
           "waina001",
           1.1658577810626145,
           4.869230769230769
          ],
          [
           "waket001",
           1.0778461135710078,
           5.318713450292398
          ],
          [
           "walkt004",
           1.036618547464877,
           4.337423312883436
          ],
          [
           "wangc001",
           1.1040035168407092,
           5.174603174603175
          ],
          [
           "washj001",
           0.9706502386942523,
           4.483333333333333
          ],
          [
           "weavj002",
           0.9723235271362599,
           4.554744525547445
          ],
          [
           "weavj003",
           1.0054283453298536,
           4.359516616314199
          ],
          [
           "webbb001",
           0.8963630156613366,
           4.3232323232323235
          ],
          [
           "welld001",
           1.1574179408922833,
           5.580645161290323
          ],
          [
           "wellk001",
           0.8725306763703017,
           4.095890410958904
          ],
          [
           "westj001",
           1.0674835085012309,
           4.791208791208791
          ],
          [
           "wheez001",
           1.070841000331115,
           4.4
          ],
          [
           "willd003",
           0.9851625519452597,
           4.341584158415841
          ],
          [
           "willj003",
           0.953480100486601,
           4.026845637583893
          ],
          [
           "willt002",
           1.0032483553171812,
           4.406779661016949
          ],
          [
           "willw001",
           1.042114552053822,
           4.7377622377622375
          ],
          [
           "wilsc004",
           1.120042947832807,
           4.807291666666667
          ],
          [
           "wilsp001",
           0.9311821771467146,
           4.393700787401575
          ],
          [
           "wolfr001",
           1.0247063842960065,
           4.514511873350924
          ],
          [
           "wooda002",
           1.004280567782999,
           4.173684210526316
          ],
          [
           "woodb005",
           0.9411168314802023,
           4.201923076923077
          ],
          [
           "woodk002",
           0.9699138980292937,
           4.52808988764045
          ],
          [
           "woodt004",
           1.0061873975597226,
           4.129251700680272
          ],
          [
           "wrigj001",
           0.9132072947073899,
           4.545893719806763
          ],
          [
           "wrigj002",
           1.131489438736127,
           5.451612903225806
          ],
          [
           "yoshm001",
           0.9826233282423283,
           4.703389830508475
          ],
          [
           "younc003",
           0.9206617481591303,
           4.076923076923077
          ],
          [
           "zambc001",
           1.0538365849128044,
           4.748344370860927
          ],
          [
           "zambv001",
           1.0629748252687883,
           4.85
          ],
          [
           "zimmj003",
           1.0384772200203376,
           4.3963636363636365
          ],
          [
           "zitob001",
           1.0025016159204094,
           4.451306413301663
          ]
         ],
         "hovertemplate": "rsi_wp=%{x}<br>rs_wp=%{y}<br>starting_pitcher_id=%{customdata[0]}<br>rsi=%{customdata[1]}<br>runs_scored_9=%{customdata[2]}<extra></extra>",
         "legendgroup": "",
         "marker": {
          "color": "#636efa",
          "symbol": "circle"
         },
         "mode": "markers",
         "name": "",
         "orientation": "v",
         "showlegend": false,
         "type": "scatter",
         "x": [
          0.3704166056031394,
          0.5043011390831696,
          0.47981002126480843,
          0.5007026646797708,
          0.5004051623030294,
          0.505324209607947,
          0.4755941219000087,
          0.48537498318418343,
          0.5364904838138342,
          0.4909187616120979,
          0.45833174420728884,
          0.4648875958497489,
          0.5112630638239392,
          0.5089716585816294,
          0.5150179348015216,
          0.48854967769237445,
          0.44687299250011886,
          0.5340642108611817,
          0.4829059253555028,
          0.4818042913586226,
          0.5180127712159238,
          0.47689172781751227,
          0.551108156376044,
          0.5331580737770171,
          0.4931211142278753,
          0.5151792159942231,
          0.5090777747273343,
          0.4795379483036663,
          0.5188780139303741,
          0.4766525311972705,
          0.5132914241211665,
          0.5037577823699312,
          0.44949736580958477,
          0.47240257950824105,
          0.5038255128419526,
          0.5186509379344939,
          0.5859114991278137,
          0.5045486533587941,
          0.5111879178107319,
          0.5521450989560874,
          0.5100838532892707,
          0.47588589390832015,
          0.4986122997360943,
          0.5234872721199709,
          0.5125789568589234,
          0.5056015192807628,
          0.45523253490637966,
          0.4845988877445523,
          0.49914598189046927,
          0.511854465519083,
          0.5260724115583749,
          0.46518472479772616,
          0.4484878918465727,
          0.4492587244628359,
          0.44532536532931,
          0.4745955036820779,
          0.481622264678925,
          0.4998119592088795,
          0.506527536620914,
          0.4887466631951969,
          0.5259898779719389,
          0.48756632257798316,
          0.5471391038165394,
          0.5302117641366945,
          0.5111483363945454,
          0.48262838963526555,
          0.4591154970571334,
          0.49209737810470466,
          0.5044198526850431,
          0.47487300938631083,
          0.46141538572140894,
          0.443182196479639,
          0.48177971963741073,
          0.4811972977160454,
          0.4935249035406801,
          0.49814066665289947,
          0.5014194851011291,
          0.5090745141272105,
          0.5234097230662477,
          0.5020922925384756,
          0.4862990564130221,
          0.4517881737953525,
          0.5013273224266538,
          0.5111440200171438,
          0.46159222309266185,
          0.4872874282195233,
          0.5260176357007231,
          0.5186934525028005,
          0.5316127298741844,
          0.5107169342014225,
          0.4829852310170681,
          0.48036117763007496,
          0.5078984835777719,
          0.48387211207999387,
          0.492828402534479,
          0.47600789821019435,
          0.5113018629187102,
          0.480089109481372,
          0.468241704608376,
          0.48795344659655665,
          0.486524158174118,
          0.5104988221634851,
          0.5014517039581184,
          0.4818481238153755,
          0.42967251701389997,
          0.43515123902567915,
          0.5779472007186113,
          0.5168717164682691,
          0.5339535356872199,
          0.5185583587049785,
          0.48627670365910747,
          0.48367513568382453,
          0.4743286970252063,
          0.5031363756713326,
          0.5198525661166349,
          0.4750240556844131,
          0.5184311736718452,
          0.5281435844332061,
          0.45883933346546385,
          0.5305197449865109,
          0.48479428216273895,
          0.4918660671304101,
          0.5043347872582178,
          0.48288141032947324,
          0.4517778052813928,
          0.5599539691016626,
          0.5158487469444085,
          0.4932128808847419,
          0.47517060489126534,
          0.47531759073421187,
          0.55089737679209,
          0.5282442201678577,
          0.5073236780562699,
          0.4899265282224373,
          0.5257182672634548,
          0.48143620106992235,
          0.5331502409765315,
          0.48716293415941214,
          0.47924148930067895,
          0.5490976651079351,
          0.48745352833964045,
          0.519396727351471,
          0.5079949429059284,
          0.5020336850185025,
          0.4695394008902119,
          0.4781401197799032,
          0.4698028418604746,
          0.4873736696780358,
          0.5037597669513504,
          0.4996433175934771,
          0.4474936094754379,
          0.5159287326157462,
          0.5399184484776798,
          0.5549120426453555,
          0.5192828714907031,
          0.5240551197738915,
          0.4813809852878427,
          0.4548754396549395,
          0.4761539540221347,
          0.45227156734756996,
          0.5157882453413277,
          0.48692807724167264,
          0.5173558701068842,
          0.4480675987506691,
          0.522726251834958,
          0.5210683525537786,
          0.4089252714406553,
          0.5522687251900549,
          0.4791529701902668,
          0.4366128025695453,
          0.5471550801327161,
          0.5120914011947284,
          0.46850365676601263,
          0.5164901491719925,
          0.49432537977454094,
          0.4812835639880522,
          0.4673384490142117,
          0.5067249296693981,
          0.455180117550644,
          0.482786343348075,
          0.48606784110390466,
          0.486773907988428,
          0.5190937005866927,
          0.5003040677859252,
          0.5194745391912324,
          0.4726860434807055,
          0.5454162835518306,
          0.5472676398920825,
          0.522861491566067,
          0.5060442154984599,
          0.485762343568085,
          0.4953168032479336,
          0.4903290223800176,
          0.4872593962249564,
          0.4971264991416728,
          0.4935348950667352,
          0.509681894240423,
          0.49130714042071943,
          0.5333681608448223,
          0.5355696876982491,
          0.5050372618146894,
          0.5111015347885277,
          0.4844192600131805,
          0.5381347301165306,
          0.4727406816005919,
          0.4519113724764035,
          0.584824048836553,
          0.5218023737004747,
          0.47563731565013445,
          0.47580695394732925,
          0.5086802778871174,
          0.5263074627667026,
          0.5069516460328979,
          0.5045764584155921,
          0.45387681535552066,
          0.5169986024808704,
          0.5276897622967928,
          0.4445068267779674,
          0.5044737574435052,
          0.5033439935190699,
          0.5211165962550353,
          0.45262156688521643,
          0.47686945713196544,
          0.5208232663340371,
          0.5331736428182539,
          0.48473494959325497,
          0.46520029526150347,
          0.5267840351990184,
          0.5766972268318982,
          0.5050270616786067,
          0.5026418074616805,
          0.4672039812450186,
          0.4795265292404898,
          0.5062828785764791,
          0.541626736550074,
          0.5150522595571437,
          0.5590379728814983,
          0.4931588184452243,
          0.5297441599392343,
          0.5417731251309588,
          0.48834760471277694,
          0.520414591752744,
          0.5291168594103933,
          0.522112644843046,
          0.4536893188245877,
          0.5500239896151699,
          0.5136414595713891,
          0.5035908604859083,
          0.47723162908216427,
          0.5105741411653906,
          0.4999821633420621,
          0.4932172911824341,
          0.4721190555516642,
          0.5286400241757505,
          0.5134946191878322,
          0.5551176632294503,
          0.535705765303372,
          0.5032173620677239,
          0.5534311887533002,
          0.5379217708062025,
          0.46331851678359465,
          0.4951973811245325,
          0.5584093747244753,
          0.5060685113813189,
          0.4877544549616839,
          0.5158717419941116,
          0.4888215152996416,
          0.5117298405341629,
          0.4668297477039783,
          0.5156942439956796,
          0.5407520643907082,
          0.5401675535348904,
          0.4930760646920022,
          0.5065912746952609,
          0.45762672244927294,
          0.5124695935332729,
          0.5441059776765537,
          0.5263811631413001,
          0.47430951411735267,
          0.48647582904705905,
          0.4636371088648235,
          0.5842359149035158,
          0.5004324138739179,
          0.5228143410544173,
          0.47645507321207686,
          0.445767231688388,
          0.5026438586824626,
          0.5624038404326427,
          0.49305816061986363,
          0.5172033360168563,
          0.4716180854428818,
          0.5176699656739664,
          0.48156492190393735,
          0.439922216048313,
          0.5322999876495452,
          0.4913290881773997,
          0.5194135863536669,
          0.5040843042567649,
          0.457676658007351,
          0.5575192585593728,
          0.4153799169098122,
          0.5420497556843943,
          0.5273631109001627,
          0.49547890173064996,
          0.4738826639958995,
          0.44531744175861465,
          0.5195871047984298,
          0.5105608678408194,
          0.4980384487969901,
          0.48476358546682957,
          0.5037992409585048,
          0.49341748763280113,
          0.4943946716894757,
          0.5384800845224869,
          0.5087363830820253,
          0.48988790063577753,
          0.5720345715004017,
          0.4568727764316211,
          0.4996026286397795,
          0.5517009520317313,
          0.46883614501021553,
          0.4909317759685924,
          0.522781163069532,
          0.5023140024392787,
          0.5327430315973208,
          0.520267700879075,
          0.5108768978017468,
          0.4767916835489076,
          0.469468618125075,
          0.45816762018349255,
          0.5266754064415532,
          0.5515891321179515,
          0.5229045058164538,
          0.4704951508525817,
          0.47776531695902535,
          0.4907821959528813,
          0.5142307705938789,
          0.5392515010808363,
          0.5578665216599854,
          0.4892163295738152,
          0.482095733128874,
          0.502893809376029,
          0.513191692855417,
          0.5204551375091222,
          0.5081233901495005,
          0.4769850070252886,
          0.48488749983030416,
          0.42655372548491116,
          0.5954713674657408,
          0.4498141849288165,
          0.5064628406192548,
          0.46276248270922465,
          0.47621765024263735,
          0.4776512362808259,
          0.5107940370562274,
          0.4857716265630781,
          0.4991339122940406,
          0.48581022020909276,
          0.5595532853577505,
          0.5697488420193686,
          0.5342426684340262,
          0.5164476023135349,
          0.5451432163177101,
          0.48637486864602436,
          0.4871623145916549,
          0.5024767314646765,
          0.45011156749132847,
          0.5664865825668385,
          0.43793816068791347,
          0.5298410810779487,
          0.5312724033686255,
          0.49316143095279125,
          0.4782199900940414,
          0.5014837096899516,
          0.5188637737962151,
          0.5516801883586903,
          0.46742629425807874,
          0.5111639428645615,
          0.5019541702876247,
          0.4722637470354334,
          0.4860279393339654,
          0.502821982936378,
          0.45855778128032587,
          0.5562777162451604,
          0.49198097883291236,
          0.4622538240168177,
          0.5239717160767395,
          0.5279111271470955,
          0.5172662403971663,
          0.5011430581389084
         ],
         "xaxis": "x",
         "y": [
          0.40130796627291965,
          0.5075430698486787,
          0.47967181665921327,
          0.5033106067652097,
          0.5047677820669546,
          0.5113487820830165,
          0.47678694169838703,
          0.48459395629007274,
          0.5378933304974315,
          0.4971287034912244,
          0.4684218645296381,
          0.46190791501937345,
          0.5289595136417792,
          0.5095096260022249,
          0.5041587612391404,
          0.5051822577814481,
          0.4685906552831572,
          0.5281262733326871,
          0.49155269329989854,
          0.48537372567165443,
          0.5105417811998809,
          0.48530679026755214,
          0.5564121392954413,
          0.5448813753636185,
          0.4867717560946289,
          0.5228960175712388,
          0.51461217678786,
          0.4927146221377399,
          0.5167403770504407,
          0.4789319116452172,
          0.5122314402750296,
          0.5081324974213572,
          0.4544129122133154,
          0.4796929912725558,
          0.5039815829610766,
          0.5214144144842076,
          0.5669467961909025,
          0.49868526689700043,
          0.5088680938238862,
          0.5625606269038796,
          0.512090854804106,
          0.485010527693364,
          0.5120248255572895,
          0.5218362361390938,
          0.5158352323366381,
          0.50404663205442,
          0.4636724622524153,
          0.4822322230945148,
          0.49809479320571076,
          0.5246869334856338,
          0.5149066528172515,
          0.46453839039148404,
          0.45989405330800615,
          0.45675231191122556,
          0.457184944514258,
          0.4762644411595405,
          0.4946198753468759,
          0.5030036694426834,
          0.5094466094170499,
          0.500741326304862,
          0.5218024503729373,
          0.4942493830882807,
          0.5302713191103112,
          0.5287860561298361,
          0.5068129373962795,
          0.4972493818535348,
          0.4759112246443876,
          0.49309535179168784,
          0.5049928080951676,
          0.48301614116121666,
          0.4681478290190966,
          0.44923876915667765,
          0.4867591735639068,
          0.4843597367596684,
          0.49381832508395007,
          0.5026149515471116,
          0.4952890648665571,
          0.5034483898869166,
          0.5142862806653588,
          0.502973147426752,
          0.5022602391451398,
          0.45523883910956753,
          0.5055826276838622,
          0.5063649010102255,
          0.466453242784022,
          0.4731814502397754,
          0.5321467742514674,
          0.5083924696695727,
          0.5391936293495001,
          0.4886732652118892,
          0.4873618907055006,
          0.47915094349358844,
          0.5081784485042002,
          0.4781492980768232,
          0.5068035091526297,
          0.48942679896125657,
          0.517446583025746,
          0.4895719785299345,
          0.4740047509556005,
          0.4966471654756349,
          0.4917823058204048,
          0.5091557773746923,
          0.511540768458886,
          0.4920782483618918,
          0.4505671078960944,
          0.4557071051602065,
          0.569883025880364,
          0.5131337883053309,
          0.531893015285305,
          0.5215158109301435,
          0.4874276616611157,
          0.4833073677851305,
          0.46954047111577496,
          0.514782128992701,
          0.5127741775370689,
          0.48943932039714644,
          0.5209880550478875,
          0.5181753503297992,
          0.46807997771590737,
          0.5217585208531179,
          0.4944225095289461,
          0.49765083149185124,
          0.5053802534273575,
          0.48522919627483335,
          0.46745583905229,
          0.5464098095698247,
          0.5172458213668201,
          0.4953081185628821,
          0.4804492326749736,
          0.4843291219750386,
          0.5452380521813049,
          0.5275498525114084,
          0.51244835097076,
          0.48189422102997465,
          0.5290991297297089,
          0.488374433496464,
          0.5229607734501571,
          0.48853551667942613,
          0.48596448362612715,
          0.532052531603656,
          0.48699218838219677,
          0.5209273621164938,
          0.49385401665491874,
          0.5167040182897991,
          0.47538286997757556,
          0.4892036828895289,
          0.47025514874314495,
          0.4913788848658311,
          0.5063871646740294,
          0.4936456391717298,
          0.45217972935728035,
          0.5165183233353107,
          0.5328241440805341,
          0.5449331225001262,
          0.5119630769435284,
          0.5161818985909544,
          0.4803627569533265,
          0.48063179163537834,
          0.48721644803508996,
          0.45986045630163447,
          0.5134838167937625,
          0.49328296058504584,
          0.5278039979844158,
          0.45590550239990396,
          0.5031826275635853,
          0.5147918150184966,
          0.41333391689810883,
          0.5432300949926585,
          0.4657987630335647,
          0.45208524217696094,
          0.5347734985427652,
          0.4999791106955622,
          0.48740239528856505,
          0.5127027449569661,
          0.5025426111607758,
          0.47276046345044775,
          0.46960235297958125,
          0.5114938504310904,
          0.461868610016129,
          0.4918031096865778,
          0.5018472844589267,
          0.4978589086489829,
          0.5205544224465072,
          0.513796805048859,
          0.5131296184009461,
          0.48361168504969426,
          0.5368424930911478,
          0.5254747747601677,
          0.5228218780389368,
          0.5058138808385358,
          0.49424724360253625,
          0.5126273547529022,
          0.4920551706791582,
          0.4912434581375935,
          0.5001698407873998,
          0.4981867797305986,
          0.5170847961512283,
          0.48420124548970483,
          0.5308579424448078,
          0.5426498525893131,
          0.505533617474803,
          0.5138840283240715,
          0.49273816205618753,
          0.5239742589589107,
          0.4774615555089074,
          0.4598280437114503,
          0.5885099056014073,
          0.5193257542446094,
          0.4837499305112846,
          0.46697897075872824,
          0.5190566738342594,
          0.5204592126143609,
          0.5094371121135275,
          0.5042235654753962,
          0.45993310069403515,
          0.5292106519663,
          0.5224191345811511,
          0.4497650264601019,
          0.49422597120315825,
          0.5115382492238456,
          0.515603719571617,
          0.4652766529898275,
          0.48044080804308403,
          0.511029813298463,
          0.5221175021299327,
          0.48260410760532196,
          0.46176318068800676,
          0.5356333452637273,
          0.5536071083963756,
          0.5127153073906606,
          0.49846578574771006,
          0.4685330414590434,
          0.4956514117398787,
          0.512589382413261,
          0.5402578384881154,
          0.5312151101845395,
          0.5612660768125575,
          0.49547824096429977,
          0.5286014628484555,
          0.5375811474468184,
          0.493945519466696,
          0.5120057420947811,
          0.5327138843796695,
          0.524553943085291,
          0.46525278302576617,
          0.5360700370063041,
          0.4995169799892999,
          0.5135401666877443,
          0.4753811950349854,
          0.5048456510616197,
          0.50767614090631,
          0.4910921629698868,
          0.47634364778759986,
          0.5380950451160781,
          0.5272602264499305,
          0.5565691529276849,
          0.5221578587872391,
          0.5012630713849426,
          0.5402459119341582,
          0.5456325556156696,
          0.47647806451310865,
          0.4948739442380669,
          0.5656754589713313,
          0.5040566140271588,
          0.4849424147521531,
          0.518192493800656,
          0.48242204025301716,
          0.5024578331100114,
          0.4691670675997582,
          0.5176610050861815,
          0.5386764871865902,
          0.5416343197196872,
          0.4997520201772235,
          0.48994052693735324,
          0.45816757308733064,
          0.5090505826129873,
          0.5477303558696935,
          0.527352472357368,
          0.489837906949477,
          0.48135003003339083,
          0.46902830721032385,
          0.5725473667165449,
          0.4949538945614457,
          0.49848156326513743,
          0.4898081579593509,
          0.4563730342038019,
          0.5035189666471037,
          0.5541603268603277,
          0.48885163722832353,
          0.5277728235617954,
          0.4706820802184515,
          0.49853076902560506,
          0.4786335369920914,
          0.4627816846533692,
          0.5427347290526565,
          0.49905583108666923,
          0.5227219367194824,
          0.49584128163588853,
          0.4537096690212267,
          0.5650013378628305,
          0.4356100028796774,
          0.5311133816591954,
          0.5316641607382488,
          0.4925285677550717,
          0.4702239279982371,
          0.4483459954458414,
          0.5095231767067357,
          0.5024711539000609,
          0.4893817834735981,
          0.49376202402688296,
          0.4927107495971493,
          0.5072705308232047,
          0.5089573205956569,
          0.526243619439102,
          0.5066716868306198,
          0.5017276090525578,
          0.5752175391221317,
          0.48155097059642044,
          0.4947572346167627,
          0.5427346133288936,
          0.47054981982166183,
          0.49236921783861404,
          0.5225776949952623,
          0.5004796032833319,
          0.5301402637172922,
          0.522807072654509,
          0.5126389311210988,
          0.4687583830269584,
          0.4738744551647995,
          0.4669416938176267,
          0.5278046250918221,
          0.5453719001924255,
          0.5299011768565648,
          0.4715330920452047,
          0.45747666601488396,
          0.49905371061404713,
          0.5067248917995314,
          0.5278728951744847,
          0.5495100963739012,
          0.4969043232884551,
          0.48595033567627915,
          0.5069776245125037,
          0.5069410749454741,
          0.5269507001524333,
          0.5049318124826653,
          0.48504029352289263,
          0.49796276307908843,
          0.42910681835412917,
          0.5954515606557372,
          0.45943846542684674,
          0.5121721464703769,
          0.47867265139687604,
          0.48556225845417195,
          0.4696624876491757,
          0.5163619715785892,
          0.4837765631831559,
          0.4939202704807783,
          0.49341414429049574,
          0.5507777376318613,
          0.5540502753708474,
          0.527397942890765,
          0.5057956862640259,
          0.5545903622877129,
          0.4879378494584886,
          0.48813368479937636,
          0.5065907288972943,
          0.46108219562571967,
          0.5689017437148155,
          0.4460206086010478,
          0.5229945055137806,
          0.5216293257918683,
          0.5013946811447192,
          0.49281120246080473,
          0.4823229342765624,
          0.5185710588614224,
          0.544468021393786,
          0.4959138405508557,
          0.5090299671275701,
          0.5004856757611096,
          0.47082999890666055,
          0.4931225559623174,
          0.5038059402965143,
          0.4681280947074686,
          0.5489385412413347,
          0.49234133396895435,
          0.4734009294958657,
          0.5160577393115672,
          0.5184138865941359,
          0.5043903168103405,
          0.49640319009464035
         ],
         "yaxis": "y"
        },
        {
         "hovertemplate": "<b>OLS trendline</b><br>rs_wp = 0.848996 * rsi_wp + 0.0771555<br>R<sup>2</sup>=0.924876<br><br>rsi_wp=%{x}<br>rs_wp=%{y} <b>(trend)</b><extra></extra>",
         "legendgroup": "",
         "marker": {
          "color": "#636efa",
          "symbol": "circle"
         },
         "mode": "lines",
         "name": "",
         "showlegend": false,
         "type": "scatter",
         "x": [
          0.3704166056031394,
          0.4089252714406553,
          0.4153799169098122,
          0.42655372548491116,
          0.42967251701389997,
          0.43515123902567915,
          0.4366128025695453,
          0.43793816068791347,
          0.439922216048313,
          0.443182196479639,
          0.4445068267779674,
          0.44531744175861465,
          0.44532536532931,
          0.445767231688388,
          0.44687299250011886,
          0.4474936094754379,
          0.4480675987506691,
          0.4484878918465727,
          0.4492587244628359,
          0.44949736580958477,
          0.4498141849288165,
          0.45011156749132847,
          0.4517778052813928,
          0.4517881737953525,
          0.4519113724764035,
          0.45227156734756996,
          0.45262156688521643,
          0.4536893188245877,
          0.45387681535552066,
          0.4548754396549395,
          0.455180117550644,
          0.45523253490637966,
          0.4568727764316211,
          0.45762672244927294,
          0.457676658007351,
          0.45816762018349255,
          0.45833174420728884,
          0.45855778128032587,
          0.45883933346546385,
          0.4591154970571334,
          0.46141538572140894,
          0.46159222309266185,
          0.4622538240168177,
          0.46276248270922465,
          0.46331851678359465,
          0.4636371088648235,
          0.4648875958497489,
          0.46518472479772616,
          0.46520029526150347,
          0.4668297477039783,
          0.4672039812450186,
          0.4673384490142117,
          0.46742629425807874,
          0.468241704608376,
          0.46850365676601263,
          0.46883614501021553,
          0.469468618125075,
          0.4695394008902119,
          0.4698028418604746,
          0.4704951508525817,
          0.4716180854428818,
          0.4721190555516642,
          0.4722637470354334,
          0.47240257950824105,
          0.4726860434807055,
          0.4727406816005919,
          0.4738826639958995,
          0.47430951411735267,
          0.4743286970252063,
          0.4745955036820779,
          0.47487300938631083,
          0.4750240556844131,
          0.47517060489126534,
          0.47531759073421187,
          0.4755941219000087,
          0.47563731565013445,
          0.47580695394732925,
          0.47588589390832015,
          0.47600789821019435,
          0.4761539540221347,
          0.47621765024263735,
          0.47645507321207686,
          0.4766525311972705,
          0.4767916835489076,
          0.47686945713196544,
          0.47689172781751227,
          0.4769850070252886,
          0.47723162908216427,
          0.4776512362808259,
          0.47776531695902535,
          0.4781401197799032,
          0.4782199900940414,
          0.4791529701902668,
          0.47924148930067895,
          0.4795265292404898,
          0.4795379483036663,
          0.47981002126480843,
          0.480089109481372,
          0.48036117763007496,
          0.4811972977160454,
          0.4812835639880522,
          0.4813809852878427,
          0.48143620106992235,
          0.48156492190393735,
          0.481622264678925,
          0.48177971963741073,
          0.4818042913586226,
          0.4818481238153755,
          0.482095733128874,
          0.48262838963526555,
          0.482786343348075,
          0.48288141032947324,
          0.4829059253555028,
          0.4829852310170681,
          0.48367513568382453,
          0.48387211207999387,
          0.4844192600131805,
          0.4845988877445523,
          0.48473494959325497,
          0.48476358546682957,
          0.48479428216273895,
          0.48488749983030416,
          0.48537498318418343,
          0.485762343568085,
          0.4857716265630781,
          0.48581022020909276,
          0.4860279393339654,
          0.48606784110390466,
          0.48627670365910747,
          0.4862990564130221,
          0.48637486864602436,
          0.48647582904705905,
          0.486524158174118,
          0.486773907988428,
          0.48692807724167264,
          0.4871623145916549,
          0.48716293415941214,
          0.4872593962249564,
          0.4872874282195233,
          0.4873736696780358,
          0.48745352833964045,
          0.48756632257798316,
          0.4877544549616839,
          0.48795344659655665,
          0.48834760471277694,
          0.48854967769237445,
          0.4887466631951969,
          0.4888215152996416,
          0.4892163295738152,
          0.48988790063577753,
          0.4899265282224373,
          0.4903290223800176,
          0.4907821959528813,
          0.4909187616120979,
          0.4909317759685924,
          0.49130714042071943,
          0.4913290881773997,
          0.4918660671304101,
          0.49198097883291236,
          0.49209737810470466,
          0.492828402534479,
          0.49305816061986363,
          0.4930760646920022,
          0.4931211142278753,
          0.4931588184452243,
          0.49316143095279125,
          0.4932128808847419,
          0.4932172911824341,
          0.49341748763280113,
          0.4935249035406801,
          0.4935348950667352,
          0.49432537977454094,
          0.4943946716894757,
          0.4951973811245325,
          0.4953168032479336,
          0.49547890173064996,
          0.4971264991416728,
          0.4980384487969901,
          0.49814066665289947,
          0.4986122997360943,
          0.4991339122940406,
          0.49914598189046927,
          0.4996026286397795,
          0.4996433175934771,
          0.4998119592088795,
          0.4999821633420621,
          0.5003040677859252,
          0.5004051623030294,
          0.5004324138739179,
          0.5007026646797708,
          0.5011430581389084,
          0.5013273224266538,
          0.5014194851011291,
          0.5014517039581184,
          0.5014837096899516,
          0.5019541702876247,
          0.5020336850185025,
          0.5020922925384756,
          0.5023140024392787,
          0.5024767314646765,
          0.5026418074616805,
          0.5026438586824626,
          0.502821982936378,
          0.502893809376029,
          0.5031363756713326,
          0.5032173620677239,
          0.5033439935190699,
          0.5035908604859083,
          0.5037577823699312,
          0.5037597669513504,
          0.5037992409585048,
          0.5038255128419526,
          0.5040843042567649,
          0.5043011390831696,
          0.5043347872582178,
          0.5044198526850431,
          0.5044737574435052,
          0.5045486533587941,
          0.5045764584155921,
          0.5050270616786067,
          0.5050372618146894,
          0.505324209607947,
          0.5056015192807628,
          0.5060442154984599,
          0.5060685113813189,
          0.5062828785764791,
          0.5064628406192548,
          0.506527536620914,
          0.5065912746952609,
          0.5067249296693981,
          0.5069516460328979,
          0.5073236780562699,
          0.5078984835777719,
          0.5079949429059284,
          0.5081233901495005,
          0.5086802778871174,
          0.5087363830820253,
          0.5089716585816294,
          0.5090745141272105,
          0.5090777747273343,
          0.509681894240423,
          0.5100838532892707,
          0.5104988221634851,
          0.5105608678408194,
          0.5105741411653906,
          0.5107169342014225,
          0.5107940370562274,
          0.5108768978017468,
          0.5111015347885277,
          0.5111440200171438,
          0.5111483363945454,
          0.5111639428645615,
          0.5111879178107319,
          0.5112630638239392,
          0.5113018629187102,
          0.5117298405341629,
          0.511854465519083,
          0.5120914011947284,
          0.5124695935332729,
          0.5125789568589234,
          0.513191692855417,
          0.5132914241211665,
          0.5134946191878322,
          0.5136414595713891,
          0.5142307705938789,
          0.5150179348015216,
          0.5150522595571437,
          0.5151792159942231,
          0.5156942439956796,
          0.5157882453413277,
          0.5158487469444085,
          0.5158717419941116,
          0.5159287326157462,
          0.5164476023135349,
          0.5164901491719925,
          0.5168717164682691,
          0.5169986024808704,
          0.5172033360168563,
          0.5172662403971663,
          0.5173558701068842,
          0.5176699656739664,
          0.5180127712159238,
          0.5184311736718452,
          0.5185583587049785,
          0.5186509379344939,
          0.5186934525028005,
          0.5188637737962151,
          0.5188780139303741,
          0.5190937005866927,
          0.5192828714907031,
          0.519396727351471,
          0.5194135863536669,
          0.5194745391912324,
          0.5195871047984298,
          0.5198525661166349,
          0.520267700879075,
          0.520414591752744,
          0.5204551375091222,
          0.5208232663340371,
          0.5210683525537786,
          0.5211165962550353,
          0.5218023737004747,
          0.522112644843046,
          0.522726251834958,
          0.522781163069532,
          0.5228143410544173,
          0.522861491566067,
          0.5229045058164538,
          0.5234097230662477,
          0.5234872721199709,
          0.5239717160767395,
          0.5240551197738915,
          0.5257182672634548,
          0.5259898779719389,
          0.5260176357007231,
          0.5260724115583749,
          0.5263074627667026,
          0.5263811631413001,
          0.5266754064415532,
          0.5267840351990184,
          0.5273631109001627,
          0.5276897622967928,
          0.5279111271470955,
          0.5281435844332061,
          0.5282442201678577,
          0.5286400241757505,
          0.5291168594103933,
          0.5297441599392343,
          0.5298410810779487,
          0.5302117641366945,
          0.5305197449865109,
          0.5312724033686255,
          0.5316127298741844,
          0.5322999876495452,
          0.5327430315973208,
          0.5331502409765315,
          0.5331580737770171,
          0.5331736428182539,
          0.5333681608448223,
          0.5339535356872199,
          0.5340642108611817,
          0.5342426684340262,
          0.5355696876982491,
          0.535705765303372,
          0.5364904838138342,
          0.5379217708062025,
          0.5381347301165306,
          0.5384800845224869,
          0.5392515010808363,
          0.5399184484776798,
          0.5401675535348904,
          0.5407520643907082,
          0.541626736550074,
          0.5417731251309588,
          0.5420497556843943,
          0.5441059776765537,
          0.5451432163177101,
          0.5454162835518306,
          0.5471391038165394,
          0.5471550801327161,
          0.5472676398920825,
          0.5490976651079351,
          0.5500239896151699,
          0.55089737679209,
          0.551108156376044,
          0.5515891321179515,
          0.5516801883586903,
          0.5517009520317313,
          0.5521450989560874,
          0.5522687251900549,
          0.5534311887533002,
          0.5549120426453555,
          0.5551176632294503,
          0.5562777162451604,
          0.5575192585593728,
          0.5578665216599854,
          0.5584093747244753,
          0.5590379728814983,
          0.5595532853577505,
          0.5599539691016626,
          0.5624038404326427,
          0.5664865825668385,
          0.5697488420193686,
          0.5720345715004017,
          0.5766972268318982,
          0.5779472007186113,
          0.5842359149035158,
          0.584824048836553,
          0.5859114991278137,
          0.5954713674657408
         ],
         "xaxis": "x",
         "y": [
          0.39163767081912904,
          0.42433136814963973,
          0.42981133534026567,
          0.4392978524043665,
          0.44194569345697404,
          0.44659710568628613,
          0.44783796706367296,
          0.44896319060061124,
          0.4506476453597965,
          0.4534153552039877,
          0.4545399608247355,
          0.45522816957599904,
          0.45523489665460476,
          0.4556100393579429,
          0.45654882569375643,
          0.4570757269277506,
          0.45756304143806237,
          0.45791986853058103,
          0.458574302219739,
          0.4587769077318093,
          0.4590458858479659,
          0.4592983624082072,
          0.46071299137039656,
          0.46072179419567744,
          0.4608263893641207,
          0.4611321933134864,
          0.4614293414670453,
          0.46233585842811487,
          0.4624950422040137,
          0.4633428700859209,
          0.4636015403537378,
          0.46364604247101493,
          0.4650386007123585,
          0.46567869774944254,
          0.4657210928308178,
          0.4661379176788982,
          0.4662772582933277,
          0.46646916282937495,
          0.4667081994649854,
          0.46694266120712535,
          0.4688952571293254,
          0.46904539132293416,
          0.4696070877592429,
          0.4700389368761211,
          0.4705110074954878,
          0.4707814908490151,
          0.47184314910467623,
          0.47209541034723107,
          0.47210862960629807,
          0.47349202796119083,
          0.47380975068296266,
          0.47392391326042654,
          0.4739984935075593,
          0.4746907735077356,
          0.4749131698014161,
          0.47519545093958354,
          0.47573241798679705,
          0.4757925122603656,
          0.4760161725497812,
          0.4766039400082188,
          0.47755730681069747,
          0.4779826283520169,
          0.47810547082068644,
          0.4782233390133881,
          0.47846399874849704,
          0.4785103862853131,
          0.4794799245951183,
          0.47984231857509063,
          0.4798586047841723,
          0.48008512252753766,
          0.4803207237176688,
          0.4804489613973092,
          0.4805733810651593,
          0.48069817143523963,
          0.48093294524628677,
          0.4809696165607161,
          0.48111363877035457,
          0.4811806584693181,
          0.48128423961480177,
          0.4814082403924212,
          0.48146231821903296,
          0.48166388933382875,
          0.4818315303430149,
          0.48194967011151396,
          0.48201569956045753,
          0.48203460727997405,
          0.48211380093989303,
          0.48232318204170893,
          0.48267942681031845,
          0.482776280832217,
          0.4830944868702062,
          0.4831622964351271,
          0.48395439266121,
          0.48402954501824025,
          0.4842715427430797,
          0.4842812374802816,
          0.4845122262940964,
          0.4847491710306225,
          0.48498015575869635,
          0.48569001823843067,
          0.4857632579450131,
          0.4858459682238458,
          0.4858928461934643,
          0.48600212964683487,
          0.48605081342459666,
          0.48618449203028097,
          0.4862053533195186,
          0.4862425668932211,
          0.48645278617180876,
          0.48690500933307257,
          0.4870391113791058,
          0.4871198228514034,
          0.4871406360066667,
          0.4872079661838988,
          0.4877936923801013,
          0.48796092452220635,
          0.4884254508446216,
          0.4885779540423801,
          0.48869346998672586,
          0.48871778172443686,
          0.4887438430917494,
          0.48882298450428474,
          0.48923685584671556,
          0.4895657232035475,
          0.48957360442773495,
          0.48960637027288284,
          0.4897912129054914,
          0.4898250893424173,
          0.4900024127841665,
          0.4900213901793864,
          0.4900857544502802,
          0.49017146941136774,
          0.4902125006394809,
          0.49042453719436585,
          0.4905554262499493,
          0.49075429278705895,
          0.4907548187975112,
          0.4908367146904535,
          0.4908605137373955,
          0.4909337323774244,
          0.49100153204939273,
          0.4910972938891968,
          0.4912570175014542,
          0.4914259605728471,
          0.49176059917617976,
          0.491932158296444,
          0.4920993981700597,
          0.49216294729579657,
          0.49249814297450595,
          0.4930683040163963,
          0.4931010986770109,
          0.49344281454483013,
          0.493827557025702,
          0.49394350070308124,
          0.4939545498376832,
          0.4942732326982699,
          0.49429186625252014,
          0.49474775915300784,
          0.49484531871108745,
          0.4949441412093149,
          0.4955647779135075,
          0.4957598415735807,
          0.4957750420564526,
          0.4958132889252725,
          0.4958452996491779,
          0.4958475176572499,
          0.49589119843575225,
          0.4958949427601725,
          0.4960649087149152,
          0.49615610437449725,
          0.4961645871386131,
          0.49683570537185556,
          0.4968945339197956,
          0.49757603089569247,
          0.49767741978237884,
          0.49781504072084565,
          0.4992138440786612,
          0.49998808554777385,
          0.5000748680828265,
          0.5004752826112884,
          0.500918129506199,
          0.5009283765434296,
          0.5013160677366769,
          0.5013506124893438,
          0.5014937885202807,
          0.5016382911223224,
          0.5019115866579665,
          0.50199741548304,
          0.5020205519535209,
          0.5022499937650643,
          0.5026238859824715,
          0.502780325597331,
          0.5028585713251155,
          0.5028859250008618,
          0.5029130977342359,
          0.5033125168273604,
          0.5033800245035703,
          0.5034297820445711,
          0.5036180128293668,
          0.5037561690959509,
          0.5038963179316793,
          0.5038980594096025,
          0.504049286161246,
          0.5041102665101417,
          0.5043162042872307,
          0.5043849614013483,
          0.504492470977512,
          0.504702060006869,
          0.5048437759930087,
          0.5048454608943895,
          0.5048789741624881,
          0.5049012788824015,
          0.5051209917185538,
          0.5053050835854366,
          0.5053336507462776,
          0.5054058709402892,
          0.5054516358563024,
          0.505515222177264,
          0.5055388285549829,
          0.5059213888534699,
          0.5059300487266327,
          0.5061736662111233,
          0.5064091009713956,
          0.5067849482212541,
          0.5068055753248759,
          0.5069875721830827,
          0.5071403592098344,
          0.5071952858464949,
          0.5072493992068465,
          0.5073628717246843,
          0.5075553529755127,
          0.5078712066179293,
          0.5083592141179343,
          0.5084411076868457,
          0.5085501588630668,
          0.509022954238984,
          0.509070587316399,
          0.5092703352382252,
          0.5093576591691601,
          0.5093604274051207,
          0.509873322362212,
          0.5102145839249402,
          0.5105668907753617,
          0.5106195672976799,
          0.5106308362951032,
          0.51075206698953,
          0.510817526992973,
          0.5108878754217143,
          0.511078591290346,
          0.5111146610729569,
          0.5111183256594405,
          0.5111315754876546,
          0.5111519301173612,
          0.5112157287704165,
          0.5112486690407051,
          0.5116120202583995,
          0.5117178263529026,
          0.5119189837572915,
          0.5122400674816995,
          0.51233291649088,
          0.512853126806589,
          0.5129377982369252,
          0.5131103100044493,
          0.513234976880112,
          0.5137352994901996,
          0.514403598632597,
          0.5144327402075347,
          0.5145405256952363,
          0.5149777823290393,
          0.5150575890810116,
          0.5151089546907027,
          0.5151284773923789,
          0.5151768621934069,
          0.5156173804114373,
          0.5156535025175276,
          0.5159774515670306,
          0.5160851772646428,
          0.5162589951862288,
          0.5163124007438062,
          0.5163884959950338,
          0.5166551618267291,
          0.5169462023078318,
          0.5173014242548595,
          0.5174094038196612,
          0.5174880032009443,
          0.5175240978928306,
          0.5176686999634225,
          0.5176807897781698,
          0.5178639068534189,
          0.518024512165105,
          0.5181211753179382,
          0.51813548854077,
          0.5181872372466642,
          0.5182828049795756,
          0.5185081805360017,
          0.5188606282248377,
          0.5189853379663958,
          0.5190197611451334,
          0.5193323009882738,
          0.5195403781707427,
          0.5195813368727046,
          0.5201635590751534,
          0.5204269779863258,
          0.520947927773527,
          0.5209945471835783,
          0.521022715154924,
          0.5210627457434508,
          0.5210992646633473,
          0.5215281920097429,
          0.521594030834214,
          0.5220053217411236,
          0.5220761311335455,
          0.5234881364434466,
          0.5237187328066748,
          0.5237422990031066,
          0.5237888034787134,
          0.5239883609781775,
          0.5240509322900584,
          0.5243007436296825,
          0.524392968993525,
          0.524884601858308,
          0.5251619275371323,
          0.5253498653754867,
          0.5255472206457638,
          0.5256326599664406,
          0.5259686959249662,
          0.5263735270583977,
          0.5269061026015684,
          0.5269883882457252,
          0.5273030966227777,
          0.5275645710849151,
          0.5282035749247769,
          0.5284925107142753,
          0.5290759897106782,
          0.5294521321819289,
          0.5297978512533252,
          0.5298045012683998,
          0.5298177193197359,
          0.5299828643162618,
          0.5304798451258022,
          0.5305738078887494,
          0.5307253176267792,
          0.5318519514696477,
          0.5319674807911287,
          0.5326337035467794,
          0.5338488602577137,
          0.5340296618275463,
          0.5343228662835962,
          0.5349777957371595,
          0.5355440313065708,
          0.5357555204653567,
          0.5362517677538796,
          0.5369943607837807,
          0.5371186440808516,
          0.5373535022715912,
          0.5390992262013594,
          0.5399798374989974,
          0.5402116704464405,
          0.5416743376945586,
          0.5416879015206267,
          0.541783464288754,
          0.5433371480950624,
          0.5441235937537396,
          0.5448650958388822,
          0.5450440468300778,
          0.5454523932369771,
          0.5455296996071155,
          0.5455473278792747,
          0.5459244067730605,
          0.5460293649321538,
          0.5470162916684591,
          0.5482735304713261,
          0.5484481014930718,
          0.549432981684533,
          0.5504870459519151,
          0.5507818708817994,
          0.551242750878532,
          0.5517764281026389,
          0.5522139262543618,
          0.5525541050884973,
          0.5546340356716993,
          0.5581002667838633,
          0.5608699115075896,
          0.5628104863420342,
          0.5667690613497388,
          0.5678302839871491,
          0.5731693762067257,
          0.5736686994727577,
          0.5745919402527542,
          0.5827082287598265
         ],
         "yaxis": "y"
        }
       ],
       "layout": {
        "legend": {
         "tracegroupgap": 0
        },
        "margin": {
         "t": 60
        },
        "template": {
         "data": {
          "bar": [
           {
            "error_x": {
             "color": "#2a3f5f"
            },
            "error_y": {
             "color": "#2a3f5f"
            },
            "marker": {
             "line": {
              "color": "#E5ECF6",
              "width": 0.5
             },
             "pattern": {
              "fillmode": "overlay",
              "size": 10,
              "solidity": 0.2
             }
            },
            "type": "bar"
           }
          ],
          "barpolar": [
           {
            "marker": {
             "line": {
              "color": "#E5ECF6",
              "width": 0.5
             },
             "pattern": {
              "fillmode": "overlay",
              "size": 10,
              "solidity": 0.2
             }
            },
            "type": "barpolar"
           }
          ],
          "carpet": [
           {
            "aaxis": {
             "endlinecolor": "#2a3f5f",
             "gridcolor": "white",
             "linecolor": "white",
             "minorgridcolor": "white",
             "startlinecolor": "#2a3f5f"
            },
            "baxis": {
             "endlinecolor": "#2a3f5f",
             "gridcolor": "white",
             "linecolor": "white",
             "minorgridcolor": "white",
             "startlinecolor": "#2a3f5f"
            },
            "type": "carpet"
           }
          ],
          "choropleth": [
           {
            "colorbar": {
             "outlinewidth": 0,
             "ticks": ""
            },
            "type": "choropleth"
           }
          ],
          "contour": [
           {
            "colorbar": {
             "outlinewidth": 0,
             "ticks": ""
            },
            "colorscale": [
             [
              0,
              "#0d0887"
             ],
             [
              0.1111111111111111,
              "#46039f"
             ],
             [
              0.2222222222222222,
              "#7201a8"
             ],
             [
              0.3333333333333333,
              "#9c179e"
             ],
             [
              0.4444444444444444,
              "#bd3786"
             ],
             [
              0.5555555555555556,
              "#d8576b"
             ],
             [
              0.6666666666666666,
              "#ed7953"
             ],
             [
              0.7777777777777778,
              "#fb9f3a"
             ],
             [
              0.8888888888888888,
              "#fdca26"
             ],
             [
              1,
              "#f0f921"
             ]
            ],
            "type": "contour"
           }
          ],
          "contourcarpet": [
           {
            "colorbar": {
             "outlinewidth": 0,
             "ticks": ""
            },
            "type": "contourcarpet"
           }
          ],
          "heatmap": [
           {
            "colorbar": {
             "outlinewidth": 0,
             "ticks": ""
            },
            "colorscale": [
             [
              0,
              "#0d0887"
             ],
             [
              0.1111111111111111,
              "#46039f"
             ],
             [
              0.2222222222222222,
              "#7201a8"
             ],
             [
              0.3333333333333333,
              "#9c179e"
             ],
             [
              0.4444444444444444,
              "#bd3786"
             ],
             [
              0.5555555555555556,
              "#d8576b"
             ],
             [
              0.6666666666666666,
              "#ed7953"
             ],
             [
              0.7777777777777778,
              "#fb9f3a"
             ],
             [
              0.8888888888888888,
              "#fdca26"
             ],
             [
              1,
              "#f0f921"
             ]
            ],
            "type": "heatmap"
           }
          ],
          "heatmapgl": [
           {
            "colorbar": {
             "outlinewidth": 0,
             "ticks": ""
            },
            "colorscale": [
             [
              0,
              "#0d0887"
             ],
             [
              0.1111111111111111,
              "#46039f"
             ],
             [
              0.2222222222222222,
              "#7201a8"
             ],
             [
              0.3333333333333333,
              "#9c179e"
             ],
             [
              0.4444444444444444,
              "#bd3786"
             ],
             [
              0.5555555555555556,
              "#d8576b"
             ],
             [
              0.6666666666666666,
              "#ed7953"
             ],
             [
              0.7777777777777778,
              "#fb9f3a"
             ],
             [
              0.8888888888888888,
              "#fdca26"
             ],
             [
              1,
              "#f0f921"
             ]
            ],
            "type": "heatmapgl"
           }
          ],
          "histogram": [
           {
            "marker": {
             "pattern": {
              "fillmode": "overlay",
              "size": 10,
              "solidity": 0.2
             }
            },
            "type": "histogram"
           }
          ],
          "histogram2d": [
           {
            "colorbar": {
             "outlinewidth": 0,
             "ticks": ""
            },
            "colorscale": [
             [
              0,
              "#0d0887"
             ],
             [
              0.1111111111111111,
              "#46039f"
             ],
             [
              0.2222222222222222,
              "#7201a8"
             ],
             [
              0.3333333333333333,
              "#9c179e"
             ],
             [
              0.4444444444444444,
              "#bd3786"
             ],
             [
              0.5555555555555556,
              "#d8576b"
             ],
             [
              0.6666666666666666,
              "#ed7953"
             ],
             [
              0.7777777777777778,
              "#fb9f3a"
             ],
             [
              0.8888888888888888,
              "#fdca26"
             ],
             [
              1,
              "#f0f921"
             ]
            ],
            "type": "histogram2d"
           }
          ],
          "histogram2dcontour": [
           {
            "colorbar": {
             "outlinewidth": 0,
             "ticks": ""
            },
            "colorscale": [
             [
              0,
              "#0d0887"
             ],
             [
              0.1111111111111111,
              "#46039f"
             ],
             [
              0.2222222222222222,
              "#7201a8"
             ],
             [
              0.3333333333333333,
              "#9c179e"
             ],
             [
              0.4444444444444444,
              "#bd3786"
             ],
             [
              0.5555555555555556,
              "#d8576b"
             ],
             [
              0.6666666666666666,
              "#ed7953"
             ],
             [
              0.7777777777777778,
              "#fb9f3a"
             ],
             [
              0.8888888888888888,
              "#fdca26"
             ],
             [
              1,
              "#f0f921"
             ]
            ],
            "type": "histogram2dcontour"
           }
          ],
          "mesh3d": [
           {
            "colorbar": {
             "outlinewidth": 0,
             "ticks": ""
            },
            "type": "mesh3d"
           }
          ],
          "parcoords": [
           {
            "line": {
             "colorbar": {
              "outlinewidth": 0,
              "ticks": ""
             }
            },
            "type": "parcoords"
           }
          ],
          "pie": [
           {
            "automargin": true,
            "type": "pie"
           }
          ],
          "scatter": [
           {
            "fillpattern": {
             "fillmode": "overlay",
             "size": 10,
             "solidity": 0.2
            },
            "type": "scatter"
           }
          ],
          "scatter3d": [
           {
            "line": {
             "colorbar": {
              "outlinewidth": 0,
              "ticks": ""
             }
            },
            "marker": {
             "colorbar": {
              "outlinewidth": 0,
              "ticks": ""
             }
            },
            "type": "scatter3d"
           }
          ],
          "scattercarpet": [
           {
            "marker": {
             "colorbar": {
              "outlinewidth": 0,
              "ticks": ""
             }
            },
            "type": "scattercarpet"
           }
          ],
          "scattergeo": [
           {
            "marker": {
             "colorbar": {
              "outlinewidth": 0,
              "ticks": ""
             }
            },
            "type": "scattergeo"
           }
          ],
          "scattergl": [
           {
            "marker": {
             "colorbar": {
              "outlinewidth": 0,
              "ticks": ""
             }
            },
            "type": "scattergl"
           }
          ],
          "scattermapbox": [
           {
            "marker": {
             "colorbar": {
              "outlinewidth": 0,
              "ticks": ""
             }
            },
            "type": "scattermapbox"
           }
          ],
          "scatterpolar": [
           {
            "marker": {
             "colorbar": {
              "outlinewidth": 0,
              "ticks": ""
             }
            },
            "type": "scatterpolar"
           }
          ],
          "scatterpolargl": [
           {
            "marker": {
             "colorbar": {
              "outlinewidth": 0,
              "ticks": ""
             }
            },
            "type": "scatterpolargl"
           }
          ],
          "scatterternary": [
           {
            "marker": {
             "colorbar": {
              "outlinewidth": 0,
              "ticks": ""
             }
            },
            "type": "scatterternary"
           }
          ],
          "surface": [
           {
            "colorbar": {
             "outlinewidth": 0,
             "ticks": ""
            },
            "colorscale": [
             [
              0,
              "#0d0887"
             ],
             [
              0.1111111111111111,
              "#46039f"
             ],
             [
              0.2222222222222222,
              "#7201a8"
             ],
             [
              0.3333333333333333,
              "#9c179e"
             ],
             [
              0.4444444444444444,
              "#bd3786"
             ],
             [
              0.5555555555555556,
              "#d8576b"
             ],
             [
              0.6666666666666666,
              "#ed7953"
             ],
             [
              0.7777777777777778,
              "#fb9f3a"
             ],
             [
              0.8888888888888888,
              "#fdca26"
             ],
             [
              1,
              "#f0f921"
             ]
            ],
            "type": "surface"
           }
          ],
          "table": [
           {
            "cells": {
             "fill": {
              "color": "#EBF0F8"
             },
             "line": {
              "color": "white"
             }
            },
            "header": {
             "fill": {
              "color": "#C8D4E3"
             },
             "line": {
              "color": "white"
             }
            },
            "type": "table"
           }
          ]
         },
         "layout": {
          "annotationdefaults": {
           "arrowcolor": "#2a3f5f",
           "arrowhead": 0,
           "arrowwidth": 1
          },
          "autotypenumbers": "strict",
          "coloraxis": {
           "colorbar": {
            "outlinewidth": 0,
            "ticks": ""
           }
          },
          "colorscale": {
           "diverging": [
            [
             0,
             "#8e0152"
            ],
            [
             0.1,
             "#c51b7d"
            ],
            [
             0.2,
             "#de77ae"
            ],
            [
             0.3,
             "#f1b6da"
            ],
            [
             0.4,
             "#fde0ef"
            ],
            [
             0.5,
             "#f7f7f7"
            ],
            [
             0.6,
             "#e6f5d0"
            ],
            [
             0.7,
             "#b8e186"
            ],
            [
             0.8,
             "#7fbc41"
            ],
            [
             0.9,
             "#4d9221"
            ],
            [
             1,
             "#276419"
            ]
           ],
           "sequential": [
            [
             0,
             "#0d0887"
            ],
            [
             0.1111111111111111,
             "#46039f"
            ],
            [
             0.2222222222222222,
             "#7201a8"
            ],
            [
             0.3333333333333333,
             "#9c179e"
            ],
            [
             0.4444444444444444,
             "#bd3786"
            ],
            [
             0.5555555555555556,
             "#d8576b"
            ],
            [
             0.6666666666666666,
             "#ed7953"
            ],
            [
             0.7777777777777778,
             "#fb9f3a"
            ],
            [
             0.8888888888888888,
             "#fdca26"
            ],
            [
             1,
             "#f0f921"
            ]
           ],
           "sequentialminus": [
            [
             0,
             "#0d0887"
            ],
            [
             0.1111111111111111,
             "#46039f"
            ],
            [
             0.2222222222222222,
             "#7201a8"
            ],
            [
             0.3333333333333333,
             "#9c179e"
            ],
            [
             0.4444444444444444,
             "#bd3786"
            ],
            [
             0.5555555555555556,
             "#d8576b"
            ],
            [
             0.6666666666666666,
             "#ed7953"
            ],
            [
             0.7777777777777778,
             "#fb9f3a"
            ],
            [
             0.8888888888888888,
             "#fdca26"
            ],
            [
             1,
             "#f0f921"
            ]
           ]
          },
          "colorway": [
           "#636efa",
           "#EF553B",
           "#00cc96",
           "#ab63fa",
           "#FFA15A",
           "#19d3f3",
           "#FF6692",
           "#B6E880",
           "#FF97FF",
           "#FECB52"
          ],
          "font": {
           "color": "#2a3f5f"
          },
          "geo": {
           "bgcolor": "white",
           "lakecolor": "white",
           "landcolor": "#E5ECF6",
           "showlakes": true,
           "showland": true,
           "subunitcolor": "white"
          },
          "hoverlabel": {
           "align": "left"
          },
          "hovermode": "closest",
          "mapbox": {
           "style": "light"
          },
          "paper_bgcolor": "white",
          "plot_bgcolor": "#E5ECF6",
          "polar": {
           "angularaxis": {
            "gridcolor": "white",
            "linecolor": "white",
            "ticks": ""
           },
           "bgcolor": "#E5ECF6",
           "radialaxis": {
            "gridcolor": "white",
            "linecolor": "white",
            "ticks": ""
           }
          },
          "scene": {
           "xaxis": {
            "backgroundcolor": "#E5ECF6",
            "gridcolor": "white",
            "gridwidth": 2,
            "linecolor": "white",
            "showbackground": true,
            "ticks": "",
            "zerolinecolor": "white"
           },
           "yaxis": {
            "backgroundcolor": "#E5ECF6",
            "gridcolor": "white",
            "gridwidth": 2,
            "linecolor": "white",
            "showbackground": true,
            "ticks": "",
            "zerolinecolor": "white"
           },
           "zaxis": {
            "backgroundcolor": "#E5ECF6",
            "gridcolor": "white",
            "gridwidth": 2,
            "linecolor": "white",
            "showbackground": true,
            "ticks": "",
            "zerolinecolor": "white"
           }
          },
          "shapedefaults": {
           "line": {
            "color": "#2a3f5f"
           }
          },
          "ternary": {
           "aaxis": {
            "gridcolor": "white",
            "linecolor": "white",
            "ticks": ""
           },
           "baxis": {
            "gridcolor": "white",
            "linecolor": "white",
            "ticks": ""
           },
           "bgcolor": "#E5ECF6",
           "caxis": {
            "gridcolor": "white",
            "linecolor": "white",
            "ticks": ""
           }
          },
          "title": {
           "x": 0.05
          },
          "xaxis": {
           "automargin": true,
           "gridcolor": "white",
           "linecolor": "white",
           "ticks": "",
           "title": {
            "standoff": 15
           },
           "zerolinecolor": "white",
           "zerolinewidth": 2
          },
          "yaxis": {
           "automargin": true,
           "gridcolor": "white",
           "linecolor": "white",
           "ticks": "",
           "title": {
            "standoff": 15
           },
           "zerolinecolor": "white",
           "zerolinewidth": 2
          }
         }
        },
        "xaxis": {
         "anchor": "y",
         "domain": [
          0,
          1
         ],
         "title": {
          "text": "rsi_wp"
         }
        },
        "yaxis": {
         "anchor": "x",
         "domain": [
          0,
          1
         ],
         "title": {
          "text": "rs_wp"
         }
        }
       }
      }
     },
     "metadata": {},
     "output_type": "display_data"
    }
   ],
   "source": [
    "px.scatter(pit_careers.query('game_id>=100').reset_index(), x='rsi_wp', y='rs_wp', hover_data=['starting_pitcher_id', 'rsi', 'runs_scored_9'], trendline='ols')"
   ]
  },
  {
   "cell_type": "code",
   "execution_count": 24,
   "metadata": {},
   "outputs": [
    {
     "data": {
      "text/html": [
       "<div>\n",
       "<style scoped>\n",
       "    .dataframe tbody tr th:only-of-type {\n",
       "        vertical-align: middle;\n",
       "    }\n",
       "\n",
       "    .dataframe tbody tr th {\n",
       "        vertical-align: top;\n",
       "    }\n",
       "\n",
       "    .dataframe thead th {\n",
       "        text-align: right;\n",
       "    }\n",
       "</style>\n",
       "<table border=\"1\" class=\"dataframe\">\n",
       "  <thead>\n",
       "    <tr style=\"text-align: right;\">\n",
       "      <th></th>\n",
       "      <th>W</th>\n",
       "      <th>rs_wp</th>\n",
       "      <th>rsi</th>\n",
       "      <th>game_id</th>\n",
       "      <th>runs_scored_9</th>\n",
       "      <th>re_pred</th>\n",
       "      <th>rsi_agg2</th>\n",
       "      <th>rsi_wp</th>\n",
       "    </tr>\n",
       "  </thead>\n",
       "  <tbody>\n",
       "    <tr>\n",
       "      <th>W</th>\n",
       "      <td>1.000000</td>\n",
       "      <td>0.594205</td>\n",
       "      <td>0.570295</td>\n",
       "      <td>0.179712</td>\n",
       "      <td>0.498534</td>\n",
       "      <td>-0.025717</td>\n",
       "      <td>0.570643</td>\n",
       "      <td>0.572532</td>\n",
       "    </tr>\n",
       "    <tr>\n",
       "      <th>rs_wp</th>\n",
       "      <td>0.594205</td>\n",
       "      <td>1.000000</td>\n",
       "      <td>0.956676</td>\n",
       "      <td>0.027668</td>\n",
       "      <td>0.855240</td>\n",
       "      <td>-0.002201</td>\n",
       "      <td>0.956951</td>\n",
       "      <td>0.958765</td>\n",
       "    </tr>\n",
       "    <tr>\n",
       "      <th>rsi</th>\n",
       "      <td>0.570295</td>\n",
       "      <td>0.956676</td>\n",
       "      <td>1.000000</td>\n",
       "      <td>0.020040</td>\n",
       "      <td>0.869139</td>\n",
       "      <td>-0.043902</td>\n",
       "      <td>0.997843</td>\n",
       "      <td>0.995148</td>\n",
       "    </tr>\n",
       "    <tr>\n",
       "      <th>game_id</th>\n",
       "      <td>0.179712</td>\n",
       "      <td>0.027668</td>\n",
       "      <td>0.020040</td>\n",
       "      <td>1.000000</td>\n",
       "      <td>0.048716</td>\n",
       "      <td>0.059035</td>\n",
       "      <td>0.021071</td>\n",
       "      <td>0.025836</td>\n",
       "    </tr>\n",
       "    <tr>\n",
       "      <th>runs_scored_9</th>\n",
       "      <td>0.498534</td>\n",
       "      <td>0.855240</td>\n",
       "      <td>0.869139</td>\n",
       "      <td>0.048716</td>\n",
       "      <td>1.000000</td>\n",
       "      <td>0.447749</td>\n",
       "      <td>0.873498</td>\n",
       "      <td>0.865690</td>\n",
       "    </tr>\n",
       "    <tr>\n",
       "      <th>re_pred</th>\n",
       "      <td>-0.025717</td>\n",
       "      <td>-0.002201</td>\n",
       "      <td>-0.043902</td>\n",
       "      <td>0.059035</td>\n",
       "      <td>0.447749</td>\n",
       "      <td>1.000000</td>\n",
       "      <td>-0.038837</td>\n",
       "      <td>-0.042933</td>\n",
       "    </tr>\n",
       "    <tr>\n",
       "      <th>rsi_agg2</th>\n",
       "      <td>0.570643</td>\n",
       "      <td>0.956951</td>\n",
       "      <td>0.997843</td>\n",
       "      <td>0.021071</td>\n",
       "      <td>0.873498</td>\n",
       "      <td>-0.038837</td>\n",
       "      <td>1.000000</td>\n",
       "      <td>0.993070</td>\n",
       "    </tr>\n",
       "    <tr>\n",
       "      <th>rsi_wp</th>\n",
       "      <td>0.572532</td>\n",
       "      <td>0.958765</td>\n",
       "      <td>0.995148</td>\n",
       "      <td>0.025836</td>\n",
       "      <td>0.865690</td>\n",
       "      <td>-0.042933</td>\n",
       "      <td>0.993070</td>\n",
       "      <td>1.000000</td>\n",
       "    </tr>\n",
       "  </tbody>\n",
       "</table>\n",
       "</div>"
      ],
      "text/plain": [
       "                      W     rs_wp       rsi   game_id  runs_scored_9  \\\n",
       "W              1.000000  0.594205  0.570295  0.179712       0.498534   \n",
       "rs_wp          0.594205  1.000000  0.956676  0.027668       0.855240   \n",
       "rsi            0.570295  0.956676  1.000000  0.020040       0.869139   \n",
       "game_id        0.179712  0.027668  0.020040  1.000000       0.048716   \n",
       "runs_scored_9  0.498534  0.855240  0.869139  0.048716       1.000000   \n",
       "re_pred       -0.025717 -0.002201 -0.043902  0.059035       0.447749   \n",
       "rsi_agg2       0.570643  0.956951  0.997843  0.021071       0.873498   \n",
       "rsi_wp         0.572532  0.958765  0.995148  0.025836       0.865690   \n",
       "\n",
       "                re_pred  rsi_agg2    rsi_wp  \n",
       "W             -0.025717  0.570643  0.572532  \n",
       "rs_wp         -0.002201  0.956951  0.958765  \n",
       "rsi           -0.043902  0.997843  0.995148  \n",
       "game_id        0.059035  0.021071  0.025836  \n",
       "runs_scored_9  0.447749  0.873498  0.865690  \n",
       "re_pred        1.000000 -0.038837 -0.042933  \n",
       "rsi_agg2      -0.038837  1.000000  0.993070  \n",
       "rsi_wp        -0.042933  0.993070  1.000000  "
      ]
     },
     "execution_count": 24,
     "metadata": {},
     "output_type": "execute_result"
    }
   ],
   "source": [
    "pit_seasons.query('game_id>=25').corr()"
   ]
  },
  {
   "cell_type": "code",
   "execution_count": 25,
   "metadata": {},
   "outputs": [
    {
     "data": {
      "text/html": [
       "<div>\n",
       "<style scoped>\n",
       "    .dataframe tbody tr th:only-of-type {\n",
       "        vertical-align: middle;\n",
       "    }\n",
       "\n",
       "    .dataframe tbody tr th {\n",
       "        vertical-align: top;\n",
       "    }\n",
       "\n",
       "    .dataframe thead th {\n",
       "        text-align: right;\n",
       "    }\n",
       "</style>\n",
       "<table border=\"1\" class=\"dataframe\">\n",
       "  <thead>\n",
       "    <tr style=\"text-align: right;\">\n",
       "      <th></th>\n",
       "      <th>W</th>\n",
       "      <th>rs_wp</th>\n",
       "      <th>rsi</th>\n",
       "      <th>game_id</th>\n",
       "      <th>runs_scored_9</th>\n",
       "      <th>re_pred</th>\n",
       "      <th>rsi_agg2</th>\n",
       "      <th>rsi_wp</th>\n",
       "    </tr>\n",
       "  </thead>\n",
       "  <tbody>\n",
       "    <tr>\n",
       "      <th>W</th>\n",
       "      <td>1.000000</td>\n",
       "      <td>0.588720</td>\n",
       "      <td>0.593697</td>\n",
       "      <td>0.264743</td>\n",
       "      <td>0.439200</td>\n",
       "      <td>-0.084930</td>\n",
       "      <td>0.593079</td>\n",
       "      <td>0.591391</td>\n",
       "    </tr>\n",
       "    <tr>\n",
       "      <th>rs_wp</th>\n",
       "      <td>0.588720</td>\n",
       "      <td>1.000000</td>\n",
       "      <td>0.961590</td>\n",
       "      <td>0.093673</td>\n",
       "      <td>0.773145</td>\n",
       "      <td>-0.048762</td>\n",
       "      <td>0.962353</td>\n",
       "      <td>0.961705</td>\n",
       "    </tr>\n",
       "    <tr>\n",
       "      <th>rsi</th>\n",
       "      <td>0.593697</td>\n",
       "      <td>0.961590</td>\n",
       "      <td>1.000000</td>\n",
       "      <td>0.096988</td>\n",
       "      <td>0.741276</td>\n",
       "      <td>-0.140038</td>\n",
       "      <td>0.997144</td>\n",
       "      <td>0.998497</td>\n",
       "    </tr>\n",
       "    <tr>\n",
       "      <th>game_id</th>\n",
       "      <td>0.264743</td>\n",
       "      <td>0.093673</td>\n",
       "      <td>0.096988</td>\n",
       "      <td>1.000000</td>\n",
       "      <td>0.040549</td>\n",
       "      <td>-0.058564</td>\n",
       "      <td>0.090398</td>\n",
       "      <td>0.107381</td>\n",
       "    </tr>\n",
       "    <tr>\n",
       "      <th>runs_scored_9</th>\n",
       "      <td>0.439200</td>\n",
       "      <td>0.773145</td>\n",
       "      <td>0.741276</td>\n",
       "      <td>0.040549</td>\n",
       "      <td>1.000000</td>\n",
       "      <td>0.556791</td>\n",
       "      <td>0.755159</td>\n",
       "      <td>0.739835</td>\n",
       "    </tr>\n",
       "    <tr>\n",
       "      <th>re_pred</th>\n",
       "      <td>-0.084930</td>\n",
       "      <td>-0.048762</td>\n",
       "      <td>-0.140038</td>\n",
       "      <td>-0.058564</td>\n",
       "      <td>0.556791</td>\n",
       "      <td>1.000000</td>\n",
       "      <td>-0.122209</td>\n",
       "      <td>-0.141049</td>\n",
       "    </tr>\n",
       "    <tr>\n",
       "      <th>rsi_agg2</th>\n",
       "      <td>0.593079</td>\n",
       "      <td>0.962353</td>\n",
       "      <td>0.997144</td>\n",
       "      <td>0.090398</td>\n",
       "      <td>0.755159</td>\n",
       "      <td>-0.122209</td>\n",
       "      <td>1.000000</td>\n",
       "      <td>0.995785</td>\n",
       "    </tr>\n",
       "    <tr>\n",
       "      <th>rsi_wp</th>\n",
       "      <td>0.591391</td>\n",
       "      <td>0.961705</td>\n",
       "      <td>0.998497</td>\n",
       "      <td>0.107381</td>\n",
       "      <td>0.739835</td>\n",
       "      <td>-0.141049</td>\n",
       "      <td>0.995785</td>\n",
       "      <td>1.000000</td>\n",
       "    </tr>\n",
       "  </tbody>\n",
       "</table>\n",
       "</div>"
      ],
      "text/plain": [
       "                      W     rs_wp       rsi   game_id  runs_scored_9  \\\n",
       "W              1.000000  0.588720  0.593697  0.264743       0.439200   \n",
       "rs_wp          0.588720  1.000000  0.961590  0.093673       0.773145   \n",
       "rsi            0.593697  0.961590  1.000000  0.096988       0.741276   \n",
       "game_id        0.264743  0.093673  0.096988  1.000000       0.040549   \n",
       "runs_scored_9  0.439200  0.773145  0.741276  0.040549       1.000000   \n",
       "re_pred       -0.084930 -0.048762 -0.140038 -0.058564       0.556791   \n",
       "rsi_agg2       0.593079  0.962353  0.997144  0.090398       0.755159   \n",
       "rsi_wp         0.591391  0.961705  0.998497  0.107381       0.739835   \n",
       "\n",
       "                re_pred  rsi_agg2    rsi_wp  \n",
       "W             -0.084930  0.593079  0.591391  \n",
       "rs_wp         -0.048762  0.962353  0.961705  \n",
       "rsi           -0.140038  0.997144  0.998497  \n",
       "game_id       -0.058564  0.090398  0.107381  \n",
       "runs_scored_9  0.556791  0.755159  0.739835  \n",
       "re_pred        1.000000 -0.122209 -0.141049  \n",
       "rsi_agg2      -0.122209  1.000000  0.995785  \n",
       "rsi_wp        -0.141049  0.995785  1.000000  "
      ]
     },
     "execution_count": 25,
     "metadata": {},
     "output_type": "execute_result"
    }
   ],
   "source": [
    "pit_careers.query('game_id>=100').corr()"
   ]
  },
  {
   "cell_type": "code",
   "execution_count": 26,
   "metadata": {},
   "outputs": [
    {
     "data": {
      "text/html": [
       "<div>\n",
       "<style scoped>\n",
       "    .dataframe tbody tr th:only-of-type {\n",
       "        vertical-align: middle;\n",
       "    }\n",
       "\n",
       "    .dataframe tbody tr th {\n",
       "        vertical-align: top;\n",
       "    }\n",
       "\n",
       "    .dataframe thead th {\n",
       "        text-align: right;\n",
       "    }\n",
       "</style>\n",
       "<table border=\"1\" class=\"dataframe\">\n",
       "  <thead>\n",
       "    <tr style=\"text-align: right;\">\n",
       "      <th></th>\n",
       "      <th></th>\n",
       "      <th>W</th>\n",
       "      <th>rs_wp</th>\n",
       "      <th>rsi</th>\n",
       "      <th>game_id</th>\n",
       "      <th>runs_scored_9</th>\n",
       "      <th>re_pred</th>\n",
       "      <th>rsi_agg2</th>\n",
       "      <th>rsi_wp</th>\n",
       "    </tr>\n",
       "    <tr>\n",
       "      <th>starting_pitcher_id</th>\n",
       "      <th>yr</th>\n",
       "      <th></th>\n",
       "      <th></th>\n",
       "      <th></th>\n",
       "      <th></th>\n",
       "      <th></th>\n",
       "      <th></th>\n",
       "      <th></th>\n",
       "      <th></th>\n",
       "    </tr>\n",
       "  </thead>\n",
       "  <tbody>\n",
       "    <tr>\n",
       "      <th>turns003</th>\n",
       "      <th>2019</th>\n",
       "      <td>0.233333</td>\n",
       "      <td>0.285554</td>\n",
       "      <td>0.521977</td>\n",
       "      <td>30</td>\n",
       "      <td>2.533333</td>\n",
       "      <td>4.854781</td>\n",
       "      <td>0.521822</td>\n",
       "      <td>0.233305</td>\n",
       "    </tr>\n",
       "    <tr>\n",
       "      <th>mussm001</th>\n",
       "      <th>2000</th>\n",
       "      <td>0.470588</td>\n",
       "      <td>0.310974</td>\n",
       "      <td>0.603928</td>\n",
       "      <td>34</td>\n",
       "      <td>3.147059</td>\n",
       "      <td>5.239333</td>\n",
       "      <td>0.600660</td>\n",
       "      <td>0.284374</td>\n",
       "    </tr>\n",
       "    <tr>\n",
       "      <th>kellb003</th>\n",
       "      <th>2019</th>\n",
       "      <td>0.321429</td>\n",
       "      <td>0.312754</td>\n",
       "      <td>0.595848</td>\n",
       "      <td>28</td>\n",
       "      <td>2.928571</td>\n",
       "      <td>4.956748</td>\n",
       "      <td>0.590825</td>\n",
       "      <td>0.279384</td>\n",
       "    </tr>\n",
       "    <tr>\n",
       "      <th>blaiw001</th>\n",
       "      <th>1998</th>\n",
       "      <td>0.240000</td>\n",
       "      <td>0.318848</td>\n",
       "      <td>0.603856</td>\n",
       "      <td>25</td>\n",
       "      <td>2.920000</td>\n",
       "      <td>4.750303</td>\n",
       "      <td>0.614698</td>\n",
       "      <td>0.284329</td>\n",
       "    </tr>\n",
       "    <tr>\n",
       "      <th>hendm001</th>\n",
       "      <th>2006</th>\n",
       "      <td>0.360000</td>\n",
       "      <td>0.328761</td>\n",
       "      <td>0.615373</td>\n",
       "      <td>25</td>\n",
       "      <td>2.840000</td>\n",
       "      <td>4.674284</td>\n",
       "      <td>0.607580</td>\n",
       "      <td>0.291417</td>\n",
       "    </tr>\n",
       "    <tr>\n",
       "      <th>...</th>\n",
       "      <th>...</th>\n",
       "      <td>...</td>\n",
       "      <td>...</td>\n",
       "      <td>...</td>\n",
       "      <td>...</td>\n",
       "      <td>...</td>\n",
       "      <td>...</td>\n",
       "      <td>...</td>\n",
       "      <td>...</td>\n",
       "    </tr>\n",
       "    <tr>\n",
       "      <th>estes001</th>\n",
       "      <th>2000</th>\n",
       "      <td>0.666667</td>\n",
       "      <td>0.679095</td>\n",
       "      <td>1.491648</td>\n",
       "      <td>30</td>\n",
       "      <td>7.300000</td>\n",
       "      <td>4.867416</td>\n",
       "      <td>1.499769</td>\n",
       "      <td>0.675196</td>\n",
       "    </tr>\n",
       "    <tr>\n",
       "      <th>saunj001</th>\n",
       "      <th>2009</th>\n",
       "      <td>0.645161</td>\n",
       "      <td>0.685158</td>\n",
       "      <td>1.390514</td>\n",
       "      <td>31</td>\n",
       "      <td>6.290323</td>\n",
       "      <td>4.522383</td>\n",
       "      <td>1.390931</td>\n",
       "      <td>0.646411</td>\n",
       "    </tr>\n",
       "    <tr>\n",
       "      <th>paxtj001</th>\n",
       "      <th>2019</th>\n",
       "      <td>0.689655</td>\n",
       "      <td>0.688179</td>\n",
       "      <td>1.414483</td>\n",
       "      <td>29</td>\n",
       "      <td>6.827586</td>\n",
       "      <td>4.805286</td>\n",
       "      <td>1.420849</td>\n",
       "      <td>0.653527</td>\n",
       "    </tr>\n",
       "    <tr>\n",
       "      <th>abbop001</th>\n",
       "      <th>2001</th>\n",
       "      <td>0.814815</td>\n",
       "      <td>0.693427</td>\n",
       "      <td>1.518040</td>\n",
       "      <td>27</td>\n",
       "      <td>7.037037</td>\n",
       "      <td>4.668666</td>\n",
       "      <td>1.507291</td>\n",
       "      <td>0.682195</td>\n",
       "    </tr>\n",
       "    <tr>\n",
       "      <th>hutcd001</th>\n",
       "      <th>2015</th>\n",
       "      <td>0.642857</td>\n",
       "      <td>0.715920</td>\n",
       "      <td>1.509125</td>\n",
       "      <td>28</td>\n",
       "      <td>6.607143</td>\n",
       "      <td>4.383822</td>\n",
       "      <td>1.507165</td>\n",
       "      <td>0.679854</td>\n",
       "    </tr>\n",
       "  </tbody>\n",
       "</table>\n",
       "<p>2326 rows × 8 columns</p>\n",
       "</div>"
      ],
      "text/plain": [
       "                                 W     rs_wp       rsi  game_id  \\\n",
       "starting_pitcher_id yr                                            \n",
       "turns003            2019  0.233333  0.285554  0.521977       30   \n",
       "mussm001            2000  0.470588  0.310974  0.603928       34   \n",
       "kellb003            2019  0.321429  0.312754  0.595848       28   \n",
       "blaiw001            1998  0.240000  0.318848  0.603856       25   \n",
       "hendm001            2006  0.360000  0.328761  0.615373       25   \n",
       "...                            ...       ...       ...      ...   \n",
       "estes001            2000  0.666667  0.679095  1.491648       30   \n",
       "saunj001            2009  0.645161  0.685158  1.390514       31   \n",
       "paxtj001            2019  0.689655  0.688179  1.414483       29   \n",
       "abbop001            2001  0.814815  0.693427  1.518040       27   \n",
       "hutcd001            2015  0.642857  0.715920  1.509125       28   \n",
       "\n",
       "                          runs_scored_9   re_pred  rsi_agg2    rsi_wp  \n",
       "starting_pitcher_id yr                                                 \n",
       "turns003            2019       2.533333  4.854781  0.521822  0.233305  \n",
       "mussm001            2000       3.147059  5.239333  0.600660  0.284374  \n",
       "kellb003            2019       2.928571  4.956748  0.590825  0.279384  \n",
       "blaiw001            1998       2.920000  4.750303  0.614698  0.284329  \n",
       "hendm001            2006       2.840000  4.674284  0.607580  0.291417  \n",
       "...                                 ...       ...       ...       ...  \n",
       "estes001            2000       7.300000  4.867416  1.499769  0.675196  \n",
       "saunj001            2009       6.290323  4.522383  1.390931  0.646411  \n",
       "paxtj001            2019       6.827586  4.805286  1.420849  0.653527  \n",
       "abbop001            2001       7.037037  4.668666  1.507291  0.682195  \n",
       "hutcd001            2015       6.607143  4.383822  1.507165  0.679854  \n",
       "\n",
       "[2326 rows x 8 columns]"
      ]
     },
     "execution_count": 26,
     "metadata": {},
     "output_type": "execute_result"
    }
   ],
   "source": [
    "pit_seasons.query('game_id>=25').sort_values('rs_wp')"
   ]
  },
  {
   "cell_type": "code",
   "execution_count": 27,
   "metadata": {},
   "outputs": [
    {
     "data": {
      "application/vnd.plotly.v1+json": {
       "config": {
        "plotlyServerURL": "https://plot.ly"
       },
       "data": [
        {
         "customdata": [
          [
           "arrob001",
           2006,
           0.9212761561947372
          ],
          [
           "browk001",
           1998,
           0.9868776113108269
          ],
          [
           "browk001",
           1999,
           0.880233048496287
          ],
          [
           "buehm001",
           2003,
           0.959167167307373
          ],
          [
           "buehm001",
           2004,
           1.2051494833404004
          ],
          [
           "capuc001",
           2005,
           1.0840936916039987
          ],
          [
           "carpc002",
           2010,
           1.1202435028089124
          ],
          [
           "chacj001",
           2018,
           1.046915944094874
          ],
          [
           "david002",
           2005,
           1.0759457889950697
          ],
          [
           "erics001",
           1998,
           1.0564628288638267
          ],
          [
           "glavt001",
           1999,
           1.0340136585450002
          ],
          [
           "glavt001",
           2000,
           1.113363497072278
          ],
          [
           "glavt001",
           2001,
           1.0267141391198695
          ],
          [
           "glavt001",
           2002,
           1.0057773780331825
          ],
          [
           "hallr001",
           2003,
           1.1255961814578677
          ],
          [
           "haraa001",
           2006,
           0.9862852515929877
          ],
          [
           "hared001",
           2010,
           0.860108996590547
          ],
          [
           "hellr001",
           1999,
           1.0134449687467968
          ],
          [
           "hellr001",
           2000,
           1.0173936697033248
          ],
          [
           "hernl003",
           2004,
           0.766544430412349
          ],
          [
           "hernl003",
           2005,
           0.9974640272485471
          ],
          [
           "hudst001",
           2001,
           0.984996340029405
          ],
          [
           "hudst001",
           2006,
           1.2355931388342267
          ],
          [
           "johnr005",
           1999,
           0.9785120642855808
          ],
          [
           "johnr005",
           2000,
           0.7936163674226426
          ],
          [
           "johnr005",
           2002,
           1.1636924831178017
          ],
          [
           "johnr005",
           2004,
           0.726294618322908
          ],
          [
           "kiled001",
           1998,
           0.9035845591627035
          ],
          [
           "liebj001",
           2000,
           0.949294134481277
          ],
          [
           "liebj001",
           2005,
           1.005429181724129
          ],
          [
           "limaj001",
           1999,
           1.00833697503385
          ],
          [
           "loper001",
           2005,
           0.9454975415532805
          ],
          [
           "lowed001",
           2005,
           1.010980467656993
          ],
          [
           "maddg002",
           2000,
           0.8749843347250507
          ],
          [
           "maddg002",
           2003,
           0.9849129913279414
          ],
          [
           "maddg002",
           2005,
           1.0113178930785522
          ],
          [
           "millk004",
           2000,
           0.9739374833979105
          ],
          [
           "millk004",
           2003,
           0.9447485674022957
          ],
          [
           "oswar001",
           2004,
           1.0974947450317907
          ],
          [
           "oswar001",
           2005,
           0.8762151828031588
          ],
          [
           "parkc002",
           2001,
           0.9626969283258919
          ],
          [
           "petta001",
           2006,
           0.9568759762882789
          ],
          [
           "pricd001",
           2016,
           1.2155423743380513
          ],
          [
           "reyns001",
           1998,
           1.3517213814777165
          ],
          [
           "reyns001",
           1999,
           0.9339523854301807
          ],
          [
           "rogek001",
           2004,
           1.1279982280665273
          ],
          [
           "sabac001",
           2008,
           0.9598120678637163
          ],
          [
           "schic002",
           1998,
           0.7870445245982868
          ],
          [
           "schic002",
           2001,
           0.9920217249595703
          ],
          [
           "schic002",
           2002,
           1.1036254940830545
          ],
          [
           "smolj001",
           2006,
           1.071327959808865
          ],
          [
           "thomj005",
           2003,
           1.03922142777324
          ],
          [
           "verlj001",
           2009,
           0.9986220974728655
          ],
          [
           "webbb001",
           2004,
           0.8099392353815744
          ],
          [
           "welld001",
           2000,
           1.086140016738302
          ],
          [
           "willd003",
           2007,
           1.1625996551212192
          ],
          [
           "zitob001",
           2001,
           1.2174431725438277
          ],
          [
           "zitob001",
           2002,
           1.262829996931992
          ],
          [
           "zitob001",
           2003,
           0.8694255577645135
          ],
          [
           "zitob001",
           2005,
           1.0703925063770707
          ]
         ],
         "hovertemplate": "rsi_wp=%{x}<br>rs_wp=%{y}<br>starting_pitcher_id=%{customdata[0]}<br>yr=%{customdata[1]}<br>rsi=%{customdata[2]}<extra></extra>",
         "legendgroup": "",
         "marker": {
          "color": "#636efa",
          "symbol": "circle"
         },
         "mode": "markers",
         "name": "",
         "orientation": "v",
         "showlegend": false,
         "type": "scatter",
         "x": [
          0.4625573115157498,
          0.4939570633224717,
          0.44190099798424237,
          0.4809361143772168,
          0.584551107225824,
          0.5368734654925854,
          0.5517612245344673,
          0.520963458939216,
          0.5334390476449986,
          0.5251076805024957,
          0.5152976773870754,
          0.5489714185857845,
          0.5120589836345505,
          0.502635520082727,
          0.5539176583084816,
          0.493682414764493,
          0.43149014708477756,
          0.5061097855205293,
          0.5078885354691478,
          0.38071168361699453,
          0.4988383209372169,
          0.4930842518317248,
          0.595593678035793,
          0.49006341893018646,
          0.39579579222675854,
          0.5689147097341877,
          0.35772933669128426,
          0.4537486973792925,
          0.4762112354973853,
          0.5024771120396156,
          0.5037982815275036,
          0.47438232545662035,
          0.5049960173835648,
          0.43920350586665946,
          0.4930455447761468,
          0.5051486716569689,
          0.48792061636005335,
          0.4740207392670463,
          0.5424587602646189,
          0.4398372132338893,
          0.48261440214480705,
          0.4798436467324002,
          0.5883620739569491,
          0.6344889466545592,
          0.46877977586039576,
          0.5548813880806416,
          0.4812431734333644,
          0.3921625823229557,
          0.4963353662836261,
          0.5449878093436561,
          0.5314795828063635,
          0.5175935845977708,
          0.49936917522090746,
          0.4047391865783927,
          0.5377314219750693,
          0.5684929837124636,
          0.5890544271462183,
          0.6051666443960496,
          0.43633291304822314,
          0.5310814963807812
         ],
         "xaxis": "x",
         "y": [
          0.4768121374094802,
          0.5020543800503364,
          0.46928965129352734,
          0.4980067076823517,
          0.5725792384330165,
          0.5118030941723777,
          0.5665592269396066,
          0.5213798933212197,
          0.5245589763131809,
          0.5299167064677945,
          0.5151889861576997,
          0.5731966538469575,
          0.5208037509216902,
          0.5036022893145199,
          0.5731384075872294,
          0.49995391266933403,
          0.44690955647227526,
          0.5144258065781141,
          0.5294975527731013,
          0.4080477450160827,
          0.524198502116594,
          0.5100243815032869,
          0.5714175309375511,
          0.491805482666921,
          0.40984350139013676,
          0.5990316359574503,
          0.38201503633711326,
          0.4778218809708758,
          0.4913504056956907,
          0.4627286830504185,
          0.5345937331865421,
          0.47884166944531525,
          0.49596764365337154,
          0.4529894698363819,
          0.4965304498871872,
          0.49912800385178147,
          0.5150549400054585,
          0.46196603617082427,
          0.5480078893781364,
          0.45018075761975873,
          0.48715655795532586,
          0.4998697062839653,
          0.5751910465498146,
          0.6334805124129286,
          0.47829140290598876,
          0.5700727994936914,
          0.48018616437491357,
          0.405283684314422,
          0.5197253004571754,
          0.5425469358249841,
          0.5200800044913299,
          0.518568013044104,
          0.4944743460668697,
          0.4208273769706054,
          0.5482853380888605,
          0.5606319882512694,
          0.5971896163490142,
          0.6211127092569617,
          0.4477420378776956,
          0.5065950369193662
         ],
         "yaxis": "y"
        },
        {
         "hovertemplate": "<b>OLS trendline</b><br>rs_wp = 0.899975 * rsi_wp + 0.057086<br>R<sup>2</sup>=0.929366<br><br>rsi_wp=%{x}<br>rs_wp=%{y} <b>(trend)</b><extra></extra>",
         "legendgroup": "",
         "marker": {
          "color": "#636efa",
          "symbol": "circle"
         },
         "mode": "lines",
         "name": "",
         "showlegend": false,
         "type": "scatter",
         "x": [
          0.35772933669128426,
          0.38071168361699453,
          0.3921625823229557,
          0.39579579222675854,
          0.4047391865783927,
          0.43149014708477756,
          0.43633291304822314,
          0.43920350586665946,
          0.4398372132338893,
          0.44190099798424237,
          0.4537486973792925,
          0.4625573115157498,
          0.46877977586039576,
          0.4740207392670463,
          0.47438232545662035,
          0.4762112354973853,
          0.4798436467324002,
          0.4809361143772168,
          0.4812431734333644,
          0.48261440214480705,
          0.48792061636005335,
          0.49006341893018646,
          0.4930455447761468,
          0.4930842518317248,
          0.493682414764493,
          0.4939570633224717,
          0.4963353662836261,
          0.4988383209372169,
          0.49936917522090746,
          0.5024771120396156,
          0.502635520082727,
          0.5037982815275036,
          0.5049960173835648,
          0.5051486716569689,
          0.5061097855205293,
          0.5078885354691478,
          0.5120589836345505,
          0.5152976773870754,
          0.5175935845977708,
          0.520963458939216,
          0.5251076805024957,
          0.5310814963807812,
          0.5314795828063635,
          0.5334390476449986,
          0.5368734654925854,
          0.5377314219750693,
          0.5424587602646189,
          0.5449878093436561,
          0.5489714185857845,
          0.5517612245344673,
          0.5539176583084816,
          0.5548813880806416,
          0.5684929837124636,
          0.5689147097341877,
          0.584551107225824,
          0.5883620739569491,
          0.5890544271462183,
          0.595593678035793,
          0.6051666443960496,
          0.6344889466545592
         ],
         "xaxis": "x",
         "y": [
          0.37903331448301775,
          0.39971684334616786,
          0.41002236151884847,
          0.41329215820906906,
          0.4213409861118287,
          0.445416171537379,
          0.44977453797863887,
          0.4523579986498403,
          0.4529283191947028,
          0.4547856730841571,
          0.4654483018048691,
          0.473375830935149,
          0.4789758908980603,
          0.48369262493060167,
          0.48401804332293324,
          0.4856640159356758,
          0.4889330938442602,
          0.4899162869940574,
          0.490192632350389,
          0.4914267033842474,
          0.4962021614882379,
          0.4981306294097537,
          0.5008144669746399,
          0.5008493023421435,
          0.501387633798229,
          0.501634810528897,
          0.5037752228245326,
          0.5060278184792778,
          0.5065055738597153,
          0.509302638106565,
          0.5094452013244313,
          0.5104916571098972,
          0.51156958897775,
          0.5117069739489299,
          0.5125719520298015,
          0.5141727818328456,
          0.5179260793215752,
          0.5208408214898049,
          0.5229070797015113,
          0.5259398810699606,
          0.5296695752824995,
          0.5350458579372286,
          0.5354041256154678,
          0.5371675942323695,
          0.5402584831180128,
          0.5410306221744001,
          0.5452851066390999,
          0.5475611866143817,
          0.5511463338147705,
          0.5536570883538388,
          0.5555978240128414,
          0.556465156345052,
          0.5687152469051838,
          0.5690947896198973,
          0.5831671504575168,
          0.5865969237802556,
          0.5872200240763235,
          0.5931051838885526,
          0.6017206106183975,
          0.6281099383514769
         ],
         "yaxis": "y"
        }
       ],
       "layout": {
        "legend": {
         "tracegroupgap": 0
        },
        "margin": {
         "t": 60
        },
        "template": {
         "data": {
          "bar": [
           {
            "error_x": {
             "color": "#2a3f5f"
            },
            "error_y": {
             "color": "#2a3f5f"
            },
            "marker": {
             "line": {
              "color": "#E5ECF6",
              "width": 0.5
             },
             "pattern": {
              "fillmode": "overlay",
              "size": 10,
              "solidity": 0.2
             }
            },
            "type": "bar"
           }
          ],
          "barpolar": [
           {
            "marker": {
             "line": {
              "color": "#E5ECF6",
              "width": 0.5
             },
             "pattern": {
              "fillmode": "overlay",
              "size": 10,
              "solidity": 0.2
             }
            },
            "type": "barpolar"
           }
          ],
          "carpet": [
           {
            "aaxis": {
             "endlinecolor": "#2a3f5f",
             "gridcolor": "white",
             "linecolor": "white",
             "minorgridcolor": "white",
             "startlinecolor": "#2a3f5f"
            },
            "baxis": {
             "endlinecolor": "#2a3f5f",
             "gridcolor": "white",
             "linecolor": "white",
             "minorgridcolor": "white",
             "startlinecolor": "#2a3f5f"
            },
            "type": "carpet"
           }
          ],
          "choropleth": [
           {
            "colorbar": {
             "outlinewidth": 0,
             "ticks": ""
            },
            "type": "choropleth"
           }
          ],
          "contour": [
           {
            "colorbar": {
             "outlinewidth": 0,
             "ticks": ""
            },
            "colorscale": [
             [
              0,
              "#0d0887"
             ],
             [
              0.1111111111111111,
              "#46039f"
             ],
             [
              0.2222222222222222,
              "#7201a8"
             ],
             [
              0.3333333333333333,
              "#9c179e"
             ],
             [
              0.4444444444444444,
              "#bd3786"
             ],
             [
              0.5555555555555556,
              "#d8576b"
             ],
             [
              0.6666666666666666,
              "#ed7953"
             ],
             [
              0.7777777777777778,
              "#fb9f3a"
             ],
             [
              0.8888888888888888,
              "#fdca26"
             ],
             [
              1,
              "#f0f921"
             ]
            ],
            "type": "contour"
           }
          ],
          "contourcarpet": [
           {
            "colorbar": {
             "outlinewidth": 0,
             "ticks": ""
            },
            "type": "contourcarpet"
           }
          ],
          "heatmap": [
           {
            "colorbar": {
             "outlinewidth": 0,
             "ticks": ""
            },
            "colorscale": [
             [
              0,
              "#0d0887"
             ],
             [
              0.1111111111111111,
              "#46039f"
             ],
             [
              0.2222222222222222,
              "#7201a8"
             ],
             [
              0.3333333333333333,
              "#9c179e"
             ],
             [
              0.4444444444444444,
              "#bd3786"
             ],
             [
              0.5555555555555556,
              "#d8576b"
             ],
             [
              0.6666666666666666,
              "#ed7953"
             ],
             [
              0.7777777777777778,
              "#fb9f3a"
             ],
             [
              0.8888888888888888,
              "#fdca26"
             ],
             [
              1,
              "#f0f921"
             ]
            ],
            "type": "heatmap"
           }
          ],
          "heatmapgl": [
           {
            "colorbar": {
             "outlinewidth": 0,
             "ticks": ""
            },
            "colorscale": [
             [
              0,
              "#0d0887"
             ],
             [
              0.1111111111111111,
              "#46039f"
             ],
             [
              0.2222222222222222,
              "#7201a8"
             ],
             [
              0.3333333333333333,
              "#9c179e"
             ],
             [
              0.4444444444444444,
              "#bd3786"
             ],
             [
              0.5555555555555556,
              "#d8576b"
             ],
             [
              0.6666666666666666,
              "#ed7953"
             ],
             [
              0.7777777777777778,
              "#fb9f3a"
             ],
             [
              0.8888888888888888,
              "#fdca26"
             ],
             [
              1,
              "#f0f921"
             ]
            ],
            "type": "heatmapgl"
           }
          ],
          "histogram": [
           {
            "marker": {
             "pattern": {
              "fillmode": "overlay",
              "size": 10,
              "solidity": 0.2
             }
            },
            "type": "histogram"
           }
          ],
          "histogram2d": [
           {
            "colorbar": {
             "outlinewidth": 0,
             "ticks": ""
            },
            "colorscale": [
             [
              0,
              "#0d0887"
             ],
             [
              0.1111111111111111,
              "#46039f"
             ],
             [
              0.2222222222222222,
              "#7201a8"
             ],
             [
              0.3333333333333333,
              "#9c179e"
             ],
             [
              0.4444444444444444,
              "#bd3786"
             ],
             [
              0.5555555555555556,
              "#d8576b"
             ],
             [
              0.6666666666666666,
              "#ed7953"
             ],
             [
              0.7777777777777778,
              "#fb9f3a"
             ],
             [
              0.8888888888888888,
              "#fdca26"
             ],
             [
              1,
              "#f0f921"
             ]
            ],
            "type": "histogram2d"
           }
          ],
          "histogram2dcontour": [
           {
            "colorbar": {
             "outlinewidth": 0,
             "ticks": ""
            },
            "colorscale": [
             [
              0,
              "#0d0887"
             ],
             [
              0.1111111111111111,
              "#46039f"
             ],
             [
              0.2222222222222222,
              "#7201a8"
             ],
             [
              0.3333333333333333,
              "#9c179e"
             ],
             [
              0.4444444444444444,
              "#bd3786"
             ],
             [
              0.5555555555555556,
              "#d8576b"
             ],
             [
              0.6666666666666666,
              "#ed7953"
             ],
             [
              0.7777777777777778,
              "#fb9f3a"
             ],
             [
              0.8888888888888888,
              "#fdca26"
             ],
             [
              1,
              "#f0f921"
             ]
            ],
            "type": "histogram2dcontour"
           }
          ],
          "mesh3d": [
           {
            "colorbar": {
             "outlinewidth": 0,
             "ticks": ""
            },
            "type": "mesh3d"
           }
          ],
          "parcoords": [
           {
            "line": {
             "colorbar": {
              "outlinewidth": 0,
              "ticks": ""
             }
            },
            "type": "parcoords"
           }
          ],
          "pie": [
           {
            "automargin": true,
            "type": "pie"
           }
          ],
          "scatter": [
           {
            "fillpattern": {
             "fillmode": "overlay",
             "size": 10,
             "solidity": 0.2
            },
            "type": "scatter"
           }
          ],
          "scatter3d": [
           {
            "line": {
             "colorbar": {
              "outlinewidth": 0,
              "ticks": ""
             }
            },
            "marker": {
             "colorbar": {
              "outlinewidth": 0,
              "ticks": ""
             }
            },
            "type": "scatter3d"
           }
          ],
          "scattercarpet": [
           {
            "marker": {
             "colorbar": {
              "outlinewidth": 0,
              "ticks": ""
             }
            },
            "type": "scattercarpet"
           }
          ],
          "scattergeo": [
           {
            "marker": {
             "colorbar": {
              "outlinewidth": 0,
              "ticks": ""
             }
            },
            "type": "scattergeo"
           }
          ],
          "scattergl": [
           {
            "marker": {
             "colorbar": {
              "outlinewidth": 0,
              "ticks": ""
             }
            },
            "type": "scattergl"
           }
          ],
          "scattermapbox": [
           {
            "marker": {
             "colorbar": {
              "outlinewidth": 0,
              "ticks": ""
             }
            },
            "type": "scattermapbox"
           }
          ],
          "scatterpolar": [
           {
            "marker": {
             "colorbar": {
              "outlinewidth": 0,
              "ticks": ""
             }
            },
            "type": "scatterpolar"
           }
          ],
          "scatterpolargl": [
           {
            "marker": {
             "colorbar": {
              "outlinewidth": 0,
              "ticks": ""
             }
            },
            "type": "scatterpolargl"
           }
          ],
          "scatterternary": [
           {
            "marker": {
             "colorbar": {
              "outlinewidth": 0,
              "ticks": ""
             }
            },
            "type": "scatterternary"
           }
          ],
          "surface": [
           {
            "colorbar": {
             "outlinewidth": 0,
             "ticks": ""
            },
            "colorscale": [
             [
              0,
              "#0d0887"
             ],
             [
              0.1111111111111111,
              "#46039f"
             ],
             [
              0.2222222222222222,
              "#7201a8"
             ],
             [
              0.3333333333333333,
              "#9c179e"
             ],
             [
              0.4444444444444444,
              "#bd3786"
             ],
             [
              0.5555555555555556,
              "#d8576b"
             ],
             [
              0.6666666666666666,
              "#ed7953"
             ],
             [
              0.7777777777777778,
              "#fb9f3a"
             ],
             [
              0.8888888888888888,
              "#fdca26"
             ],
             [
              1,
              "#f0f921"
             ]
            ],
            "type": "surface"
           }
          ],
          "table": [
           {
            "cells": {
             "fill": {
              "color": "#EBF0F8"
             },
             "line": {
              "color": "white"
             }
            },
            "header": {
             "fill": {
              "color": "#C8D4E3"
             },
             "line": {
              "color": "white"
             }
            },
            "type": "table"
           }
          ]
         },
         "layout": {
          "annotationdefaults": {
           "arrowcolor": "#2a3f5f",
           "arrowhead": 0,
           "arrowwidth": 1
          },
          "autotypenumbers": "strict",
          "coloraxis": {
           "colorbar": {
            "outlinewidth": 0,
            "ticks": ""
           }
          },
          "colorscale": {
           "diverging": [
            [
             0,
             "#8e0152"
            ],
            [
             0.1,
             "#c51b7d"
            ],
            [
             0.2,
             "#de77ae"
            ],
            [
             0.3,
             "#f1b6da"
            ],
            [
             0.4,
             "#fde0ef"
            ],
            [
             0.5,
             "#f7f7f7"
            ],
            [
             0.6,
             "#e6f5d0"
            ],
            [
             0.7,
             "#b8e186"
            ],
            [
             0.8,
             "#7fbc41"
            ],
            [
             0.9,
             "#4d9221"
            ],
            [
             1,
             "#276419"
            ]
           ],
           "sequential": [
            [
             0,
             "#0d0887"
            ],
            [
             0.1111111111111111,
             "#46039f"
            ],
            [
             0.2222222222222222,
             "#7201a8"
            ],
            [
             0.3333333333333333,
             "#9c179e"
            ],
            [
             0.4444444444444444,
             "#bd3786"
            ],
            [
             0.5555555555555556,
             "#d8576b"
            ],
            [
             0.6666666666666666,
             "#ed7953"
            ],
            [
             0.7777777777777778,
             "#fb9f3a"
            ],
            [
             0.8888888888888888,
             "#fdca26"
            ],
            [
             1,
             "#f0f921"
            ]
           ],
           "sequentialminus": [
            [
             0,
             "#0d0887"
            ],
            [
             0.1111111111111111,
             "#46039f"
            ],
            [
             0.2222222222222222,
             "#7201a8"
            ],
            [
             0.3333333333333333,
             "#9c179e"
            ],
            [
             0.4444444444444444,
             "#bd3786"
            ],
            [
             0.5555555555555556,
             "#d8576b"
            ],
            [
             0.6666666666666666,
             "#ed7953"
            ],
            [
             0.7777777777777778,
             "#fb9f3a"
            ],
            [
             0.8888888888888888,
             "#fdca26"
            ],
            [
             1,
             "#f0f921"
            ]
           ]
          },
          "colorway": [
           "#636efa",
           "#EF553B",
           "#00cc96",
           "#ab63fa",
           "#FFA15A",
           "#19d3f3",
           "#FF6692",
           "#B6E880",
           "#FF97FF",
           "#FECB52"
          ],
          "font": {
           "color": "#2a3f5f"
          },
          "geo": {
           "bgcolor": "white",
           "lakecolor": "white",
           "landcolor": "#E5ECF6",
           "showlakes": true,
           "showland": true,
           "subunitcolor": "white"
          },
          "hoverlabel": {
           "align": "left"
          },
          "hovermode": "closest",
          "mapbox": {
           "style": "light"
          },
          "paper_bgcolor": "white",
          "plot_bgcolor": "#E5ECF6",
          "polar": {
           "angularaxis": {
            "gridcolor": "white",
            "linecolor": "white",
            "ticks": ""
           },
           "bgcolor": "#E5ECF6",
           "radialaxis": {
            "gridcolor": "white",
            "linecolor": "white",
            "ticks": ""
           }
          },
          "scene": {
           "xaxis": {
            "backgroundcolor": "#E5ECF6",
            "gridcolor": "white",
            "gridwidth": 2,
            "linecolor": "white",
            "showbackground": true,
            "ticks": "",
            "zerolinecolor": "white"
           },
           "yaxis": {
            "backgroundcolor": "#E5ECF6",
            "gridcolor": "white",
            "gridwidth": 2,
            "linecolor": "white",
            "showbackground": true,
            "ticks": "",
            "zerolinecolor": "white"
           },
           "zaxis": {
            "backgroundcolor": "#E5ECF6",
            "gridcolor": "white",
            "gridwidth": 2,
            "linecolor": "white",
            "showbackground": true,
            "ticks": "",
            "zerolinecolor": "white"
           }
          },
          "shapedefaults": {
           "line": {
            "color": "#2a3f5f"
           }
          },
          "ternary": {
           "aaxis": {
            "gridcolor": "white",
            "linecolor": "white",
            "ticks": ""
           },
           "baxis": {
            "gridcolor": "white",
            "linecolor": "white",
            "ticks": ""
           },
           "bgcolor": "#E5ECF6",
           "caxis": {
            "gridcolor": "white",
            "linecolor": "white",
            "ticks": ""
           }
          },
          "title": {
           "x": 0.05
          },
          "xaxis": {
           "automargin": true,
           "gridcolor": "white",
           "linecolor": "white",
           "ticks": "",
           "title": {
            "standoff": 15
           },
           "zerolinecolor": "white",
           "zerolinewidth": 2
          },
          "yaxis": {
           "automargin": true,
           "gridcolor": "white",
           "linecolor": "white",
           "ticks": "",
           "title": {
            "standoff": 15
           },
           "zerolinecolor": "white",
           "zerolinewidth": 2
          }
         }
        },
        "xaxis": {
         "anchor": "y",
         "domain": [
          0,
          1
         ],
         "title": {
          "text": "rsi_wp"
         }
        },
        "yaxis": {
         "anchor": "x",
         "domain": [
          0,
          1
         ],
         "title": {
          "text": "rs_wp"
         }
        }
       }
      }
     },
     "metadata": {},
     "output_type": "display_data"
    }
   ],
   "source": [
    "px.scatter(pit_seasons.query('game_id>=35').reset_index(), x='rsi_wp', y='rs_wp', hover_data=['starting_pitcher_id', 'yr', 'rsi'], trendline='ols')"
   ]
  }
 ],
 "metadata": {
  "interpreter": {
   "hash": "344443636c3027c5042750c9c609acdda283a9c43681b128a8c1053e7ad2aa7d"
  },
  "kernelspec": {
   "display_name": "Python 3.8.8 64-bit ('base': conda)",
   "name": "python3"
  },
  "language_info": {
   "codemirror_mode": {
    "name": "ipython",
    "version": 3
   },
   "file_extension": ".py",
   "mimetype": "text/x-python",
   "name": "python",
   "nbconvert_exporter": "python",
   "pygments_lexer": "ipython3",
   "version": "3.9.16"
  },
  "orig_nbformat": 4
 },
 "nbformat": 4,
 "nbformat_minor": 2
}
