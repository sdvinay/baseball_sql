{
 "cells": [
  {
   "cell_type": "code",
   "execution_count": null,
   "metadata": {},
   "outputs": [
    {
     "ename": "",
     "evalue": "",
     "output_type": "error",
     "traceback": [
      "\u001b[1;31mFailed to start the Kernel. \n",
      "\u001b[1;31mKernel base (Python 3.8.8) is not usable. Check the Jupyter output tab for more information. \n",
      "View Jupyter <a href='command:jupyter.viewOutput'>log</a> for further details."
     ]
    }
   ],
   "source": [
    "# What is the value of playoff seeds\n",
    "\n",
    "# Simplest model is that every game is a coin-flip.  So the #1 and #2 seeds are worth 1/8 and seeds 3-6 are worth 1/16 each\n",
    "\n",
    "# The next-most complex step is to include HFA \n",
    "# This is what we're implementing here\n",
    "\n",
    "# Next would be incorporating quality of opponents expected based on seed"
   ]
  },
  {
   "cell_type": "code",
   "execution_count": 5,
   "metadata": {},
   "outputs": [],
   "source": [
    "def wpct_to_odds(wpct):\n",
    "    return wpct/(1-wpct)\n",
    "\n",
    "def odds_to_wpct(odds):\n",
    "    return odds/(odds+1)\n",
    "\n"
   ]
  },
  {
   "cell_type": "code",
   "execution_count": 2,
   "metadata": {},
   "outputs": [
    {
     "data": {
      "text/plain": [
       "1.0"
      ]
     },
     "execution_count": 2,
     "metadata": {},
     "output_type": "execute_result"
    }
   ],
   "source": [
    "wpct_to_odds(.5)"
   ]
  },
  {
   "cell_type": "code",
   "execution_count": 3,
   "metadata": {},
   "outputs": [
    {
     "data": {
      "text/plain": [
       "1.173913043478261"
      ]
     },
     "execution_count": 3,
     "metadata": {},
     "output_type": "execute_result"
    }
   ],
   "source": [
    "wpct_to_odds(.540)"
   ]
  },
  {
   "cell_type": "code",
   "execution_count": 6,
   "metadata": {},
   "outputs": [
    {
     "data": {
      "text/plain": [
       "0.5"
      ]
     },
     "execution_count": 6,
     "metadata": {},
     "output_type": "execute_result"
    }
   ],
   "source": [
    "odds_to_wpct(1)"
   ]
  },
  {
   "cell_type": "code",
   "execution_count": 7,
   "metadata": {},
   "outputs": [
    {
     "data": {
      "text/plain": [
       "0.5400183992640294"
      ]
     },
     "execution_count": 7,
     "metadata": {},
     "output_type": "execute_result"
    }
   ],
   "source": [
    "odds_to_wpct(1.174)"
   ]
  },
  {
   "cell_type": "code",
   "execution_count": 8,
   "metadata": {},
   "outputs": [],
   "source": [
    "from scipy.stats import binom"
   ]
  },
  {
   "cell_type": "code",
   "execution_count": 9,
   "metadata": {},
   "outputs": [
    {
     "data": {
      "text/plain": [
       "(array(1.62), array(0.7452))"
      ]
     },
     "execution_count": 9,
     "metadata": {},
     "output_type": "execute_result"
    }
   ],
   "source": [
    "binom.stats(3, .54)"
   ]
  },
  {
   "cell_type": "code",
   "execution_count": 13,
   "metadata": {},
   "outputs": [
    {
     "data": {
      "text/plain": [
       "0.5598720000000001"
      ]
     },
     "execution_count": 13,
     "metadata": {},
     "output_type": "execute_result"
    }
   ],
   "source": [
    "# Estimate the value of HFA in the wild-card series\n",
    "# Binomial chance of winning at least 2 of 3 when all games are at .54\n",
    "sum([binom.pmf(i, 3, .54) for i in range(2, 4)])"
   ]
  },
  {
   "cell_type": "code",
   "execution_count": 19,
   "metadata": {},
   "outputs": [
    {
     "data": {
      "text/plain": [
       "{0: 0.125, 1: 0.125, 2: 0.0625, 3: 0.0625, 4: 0.0625, 5: 0.0625}"
      ]
     },
     "execution_count": 19,
     "metadata": {},
     "output_type": "execute_result"
    }
   ],
   "source": [
    "# As a first step, this is good enough. \n",
    "# The weights were 1, 1, .5, .5, .5, .5\n",
    "# Now they are 1, 1, .56, .56., 44., 44\n",
    "weights = dict(enumerate([i/8 for i in [1, 1, .5, .5, .5, .5]]))\n",
    "weights"
   ]
  },
  {
   "cell_type": "code",
   "execution_count": 18,
   "metadata": {},
   "outputs": [
    {
     "data": {
      "text/plain": [
       "[0.125, 0.125, 0.0625, 0.0625, 0.0625, 0.0625]"
      ]
     },
     "execution_count": 18,
     "metadata": {},
     "output_type": "execute_result"
    }
   ],
   "source": [
    "[i/8 for i in [1, 1, .5, .5, .5, .5] ]"
   ]
  },
  {
   "cell_type": "code",
   "execution_count": 22,
   "metadata": {},
   "outputs": [
    {
     "data": {
      "text/plain": [
       "{1: 1, 2: 1, 3: 1, 4: 1, 5: 0.44, 6: 0.44}"
      ]
     },
     "execution_count": 22,
     "metadata": {},
     "output_type": "execute_result"
    }
   ],
   "source": [
    "weights = dict(enumerate([1, 1, 1, 1, .44, .44], 1))\n",
    "weights"
   ]
  },
  {
   "cell_type": "code",
   "execution_count": 24,
   "metadata": {},
   "outputs": [],
   "source": [
    "# For regular 5- and 7-game series, the calculation is\n",
    "# P(series goes 5(or 7)) * HFA\n",
    "# start with estimating P(goes 5(or 7)) = .5\n",
    "HFA_game = .54\n",
    "HFA_s3 = .56 # These are all three home games\n",
    "HFA_s5 = .52\n",
    "HFA_s7 = .52"
   ]
  },
  {
   "cell_type": "code",
   "execution_count": 29,
   "metadata": {},
   "outputs": [
    {
     "data": {
      "text/plain": [
       "{1: 0.13520000000000001,\n",
       " 2: 0.1248,\n",
       " 3: 0.06451200000000001,\n",
       " 4: 0.06451200000000001,\n",
       " 5: 0.05068799999999999,\n",
       " 6: 0.05068799999999999}"
      ]
     },
     "execution_count": 29,
     "metadata": {},
     "output_type": "execute_result"
    }
   ],
   "source": [
    "weights[1] = HFA_s5 * HFA_s7 * .5\n",
    "weights[2] = HFA_s5 * (1 - HFA_s7) * .5\n",
    "weights[3] = HFA_s3 * (1 - HFA_s5) * (1 - HFA_s7) * .5\n",
    "weights[4] = HFA_s3 * (1 - HFA_s5) * (1 - HFA_s7) * .5\n",
    "weights[5] = (1 - HFA_s3) * (1 - HFA_s5) * (1 - HFA_s7) * .5\n",
    "weights[6] = (1 - HFA_s3) * (1 - HFA_s5) * (1 - HFA_s7) * .5\n",
    "\n",
    "weights"
   ]
  },
  {
   "cell_type": "code",
   "execution_count": 30,
   "metadata": {},
   "outputs": [
    {
     "data": {
      "text/plain": [
       "0.49040000000000006"
      ]
     },
     "execution_count": 30,
     "metadata": {},
     "output_type": "execute_result"
    }
   ],
   "source": [
    "sum(weights.values())\n",
    "# this is a little short of .5 because all seeds 2-6 are assumed to be on the road in the LCS, but if the #1 seed loses\n",
    "# one of the other teams will have HFA.  This is probably robbing the 2 and 3 seeds of any missing probability"
   ]
  },
  {
   "cell_type": "code",
   "execution_count": 33,
   "metadata": {},
   "outputs": [
    {
     "data": {
      "text/plain": [
       "0.5"
      ]
     },
     "execution_count": 33,
     "metadata": {},
     "output_type": "execute_result"
    }
   ],
   "source": [
    "# So let's take that 1% and split it between 2 and 3. This gives us:\n",
    "\n",
    "weights = dict(enumerate([.135, .13, .07, .065, .05, .05], 1))\n",
    "sum(weights.values())"
   ]
  },
  {
   "cell_type": "code",
   "execution_count": null,
   "metadata": {},
   "outputs": [],
   "source": []
  }
 ],
 "metadata": {
  "kernelspec": {
   "display_name": "Python 3.10.6 64-bit ('3.10.6')",
   "language": "python",
   "name": "python3"
  },
  "language_info": {
   "codemirror_mode": {
    "name": "ipython",
    "version": 3
   },
   "file_extension": ".py",
   "mimetype": "text/x-python",
   "name": "python",
   "nbconvert_exporter": "python",
   "pygments_lexer": "ipython3",
   "version": "3.10.6"
  },
  "orig_nbformat": 4,
  "vscode": {
   "interpreter": {
    "hash": "cd16be653e7212c8823498bfcc007b2d6eef9636d8c9052adca71d52ce59af73"
   }
  }
 },
 "nbformat": 4,
 "nbformat_minor": 2
}
