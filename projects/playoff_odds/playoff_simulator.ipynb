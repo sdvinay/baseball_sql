{
 "cells": [
  {
   "cell_type": "code",
   "execution_count": 1,
   "metadata": {},
   "outputs": [],
   "source": [
    "from scipy.stats import binom\n",
    "import pandas as pd\n",
    "\n",
    "import playoff_odds\n",
    "from playoff_simulator import *\n"
   ]
  },
  {
   "cell_type": "code",
   "execution_count": 2,
   "metadata": {},
   "outputs": [
    {
     "data": {
      "text/plain": [
       "team1\n",
       "LAD    1617.704399\n",
       "SEA    1529.693146\n",
       "SDP    1519.142656\n",
       "NYM    1556.350902\n",
       "MIL    1525.470851\n",
       "HOU    1571.863818\n",
       "FLA    1466.686669\n",
       "CLE    1506.165357\n",
       "CIN    1471.741730\n",
       "CHW    1512.886520\n",
       "BOS    1509.251216\n",
       "TEX    1470.160012\n",
       "PIT    1421.294978\n",
       "BAL    1489.584136\n",
       "OAK    1437.261167\n",
       "ANA    1494.235042\n",
       "SFG    1503.418642\n",
       "CHC    1466.378744\n",
       "STL    1534.425759\n",
       "TOR    1544.341328\n",
       "WSN    1443.642873\n",
       "NYY    1565.776876\n",
       "ATL    1578.080101\n",
       "DET    1444.361049\n",
       "MIN    1509.499468\n",
       "ARI    1485.637317\n",
       "COL    1450.550429\n",
       "KCR    1455.444731\n",
       "TBD    1539.519892\n",
       "PHI    1529.430192\n",
       "Name: rating, dtype: float64"
      ]
     },
     "execution_count": 2,
     "metadata": {},
     "output_type": "execute_result"
    }
   ],
   "source": [
    "(played, remain) = playoff_odds.get_games()\n",
    "ratings = remain[['team1', 'rating1_pre']].drop_duplicates().set_index('team1')['rating1_pre'].rename('rating')\n",
    "ratings"
   ]
  },
  {
   "cell_type": "code",
   "execution_count": 3,
   "metadata": {},
   "outputs": [
    {
     "data": {
      "text/plain": [
       "1617.7043994612"
      ]
     },
     "execution_count": 3,
     "metadata": {},
     "output_type": "execute_result"
    }
   ],
   "source": [
    "ratings['LAD']"
   ]
  },
  {
   "cell_type": "code",
   "execution_count": 4,
   "metadata": {},
   "outputs": [
    {
     "data": {
      "text/plain": [
       "0.6694109561248396"
      ]
     },
     "execution_count": 4,
     "metadata": {},
     "output_type": "execute_result"
    }
   ],
   "source": [
    "p_game(ratings['LAD'], ratings['SDP'])"
   ]
  },
  {
   "cell_type": "code",
   "execution_count": 5,
   "metadata": {},
   "outputs": [
    {
     "data": {
      "text/plain": [
       "0.5516439044456302"
      ]
     },
     "execution_count": 5,
     "metadata": {},
     "output_type": "execute_result"
    }
   ],
   "source": [
    "p_series3(1500, 1500)"
   ]
  },
  {
   "cell_type": "code",
   "execution_count": 6,
   "metadata": {},
   "outputs": [
    {
     "data": {
      "text/plain": [
       "0.5939773617521806"
      ]
     },
     "execution_count": 6,
     "metadata": {},
     "output_type": "execute_result"
    }
   ],
   "source": [
    "p_series3(1520, 1500)"
   ]
  },
  {
   "cell_type": "code",
   "execution_count": 7,
   "metadata": {},
   "outputs": [
    {
     "data": {
      "text/plain": [
       "0.7587817957990288"
      ]
     },
     "execution_count": 7,
     "metadata": {},
     "output_type": "execute_result"
    }
   ],
   "source": [
    "p_series5(1600, 1500)\n"
   ]
  },
  {
   "cell_type": "code",
   "execution_count": 8,
   "metadata": {},
   "outputs": [
    {
     "data": {
      "text/plain": [
       "0.5108071349156493"
      ]
     },
     "execution_count": 8,
     "metadata": {},
     "output_type": "execute_result"
    }
   ],
   "source": [
    "p_series7(1500, 1500)"
   ]
  },
  {
   "cell_type": "code",
   "execution_count": 9,
   "metadata": {},
   "outputs": [
    {
     "data": {
      "text/plain": [
       "[1617.7043994612,\n",
       " 1556.35090191654,\n",
       " 1534.42575931518,\n",
       " 1578.08010106132,\n",
       " 1529.43019221744,\n",
       " 1519.14265559203]"
      ]
     },
     "execution_count": 9,
     "metadata": {},
     "output_type": "execute_result"
    }
   ],
   "source": [
    "# OK now let's simulate a specific post-season\n",
    "\n",
    "# LAD, NYM, STL, ATL, PHI SDP\n",
    "seeds = dict(enumerate(['LAD', 'NYM', 'STL', 'ATL', 'PHI', 'SDP'], 1))\n",
    "[ratings[tm] for tm in seeds.values()]"
   ]
  },
  {
   "cell_type": "code",
   "execution_count": 10,
   "metadata": {},
   "outputs": [
    {
     "data": {
      "text/plain": [
       "3    0.584083\n",
       "6    0.415917\n",
       "dtype: float64"
      ]
     },
     "execution_count": 10,
     "metadata": {},
     "output_type": "execute_result"
    }
   ],
   "source": [
    "run_series(3, {3: 1}, {6: 1}, ratings, seeds)"
   ]
  },
  {
   "cell_type": "code",
   "execution_count": 11,
   "metadata": {},
   "outputs": [
    {
     "data": {
      "text/plain": [
       "2    0.588196\n",
       "3    0.250198\n",
       "6    0.161607\n",
       "dtype: float64"
      ]
     },
     "execution_count": 11,
     "metadata": {},
     "output_type": "execute_result"
    }
   ],
   "source": [
    "run_series(5, {3: .584, 6: 1-.584}, {2: 1}, ratings, seeds)"
   ]
  },
  {
   "cell_type": "code",
   "execution_count": 12,
   "metadata": {},
   "outputs": [
    {
     "data": {
      "text/plain": [
       "2    0.588193\n",
       "3    0.250233\n",
       "6    0.161574\n",
       "dtype: float64"
      ]
     },
     "execution_count": 12,
     "metadata": {},
     "output_type": "execute_result"
    }
   ],
   "source": [
    "d1 = run_series(5, run_series(3, {3: 1}, {6: 1}, ratings, seeds), {2: 1}, ratings, seeds)\n",
    "d1"
   ]
  },
  {
   "cell_type": "code",
   "execution_count": 13,
   "metadata": {},
   "outputs": [
    {
     "data": {
      "text/plain": [
       "1    0.658123\n",
       "4    0.249387\n",
       "5    0.092489\n",
       "dtype: float64"
      ]
     },
     "execution_count": 13,
     "metadata": {},
     "output_type": "execute_result"
    }
   ],
   "source": [
    "d2 = run_series(5, run_series(3, {4: 1}, {5: 1}, ratings, seeds), {1: 1}, ratings, seeds)\n",
    "d2"
   ]
  },
  {
   "cell_type": "code",
   "execution_count": 14,
   "metadata": {},
   "outputs": [
    {
     "data": {
      "text/plain": [
       "1    0.476355\n",
       "2    0.215538\n",
       "4    0.148402\n",
       "5    0.041139\n",
       "3    0.076559\n",
       "6    0.042007\n",
       "dtype: float64"
      ]
     },
     "execution_count": 14,
     "metadata": {},
     "output_type": "execute_result"
    }
   ],
   "source": [
    "nlcs = run_series(7, d1, d2, ratings, seeds)\n",
    "nlcs"
   ]
  },
  {
   "cell_type": "code",
   "execution_count": 15,
   "metadata": {},
   "outputs": [
    {
     "data": {
      "text/plain": [
       "{'LAD': 0.47635461637656207,\n",
       " 'NYM': 0.21553796157918859,\n",
       " 'STL': 0.07655899320357247,\n",
       " 'ATL': 0.14840240079557077,\n",
       " 'PHI': 0.0411392501052563,\n",
       " 'SDP': 0.0420067779398498}"
      ]
     },
     "execution_count": 15,
     "metadata": {},
     "output_type": "execute_result"
    }
   ],
   "source": [
    "{seeds[sd]: nlcs[sd] for sd in seeds}"
   ]
  },
  {
   "cell_type": "code",
   "execution_count": 16,
   "metadata": {},
   "outputs": [
    {
     "data": {
      "text/plain": [
       "{'LAD': 0.47635461637656207,\n",
       " 'NYM': 0.21553796157918859,\n",
       " 'STL': 0.07655899320357247,\n",
       " 'ATL': 0.14840240079557077,\n",
       " 'PHI': 0.0411392501052563,\n",
       " 'SDP': 0.0420067779398498}"
      ]
     },
     "execution_count": 16,
     "metadata": {},
     "output_type": "execute_result"
    }
   ],
   "source": [
    "run_league(ratings, seeds)"
   ]
  },
  {
   "cell_type": "code",
   "execution_count": 17,
   "metadata": {},
   "outputs": [
    {
     "data": {
      "text/plain": [
       "{'HOU': 0.34882883068589754,\n",
       " 'NYY': 0.3250097405154198,\n",
       " 'CLE': 0.05441815320976302,\n",
       " 'SEA': 0.08396036207673199,\n",
       " 'TOR': 0.09416207581221347,\n",
       " 'TBD': 0.09362083769997419}"
      ]
     },
     "execution_count": 17,
     "metadata": {},
     "output_type": "execute_result"
    }
   ],
   "source": [
    "run_league(ratings, dict(enumerate(['HOU', 'NYY', 'CLE', 'SEA', 'TOR', 'TBD'], 1)))"
   ]
  },
  {
   "cell_type": "code",
   "execution_count": 18,
   "metadata": {},
   "outputs": [
    {
     "data": {
      "text/plain": [
       "CLE    0.015078\n",
       "SDP    0.016113\n",
       "PHI    0.017048\n",
       "SEA    0.028472\n",
       "TBD    0.034322\n",
       "STL    0.032888\n",
       "TOR    0.035817\n",
       "ATL    0.083758\n",
       "NYM    0.107174\n",
       "NYY    0.144081\n",
       "HOU    0.161002\n",
       "LAD    0.324247\n",
       "dtype: float64"
      ]
     },
     "execution_count": 18,
     "metadata": {},
     "output_type": "execute_result"
    }
   ],
   "source": [
    "run_playoffs(ratings, seeds, dict(enumerate(['HOU', 'NYY', 'CLE', 'SEA', 'TOR', 'TBD'], 1)))"
   ]
  }
 ],
 "metadata": {
  "kernelspec": {
   "display_name": "Python 3.10.6 64-bit ('3.10.6')",
   "language": "python",
   "name": "python3"
  },
  "language_info": {
   "codemirror_mode": {
    "name": "ipython",
    "version": 3
   },
   "file_extension": ".py",
   "mimetype": "text/x-python",
   "name": "python",
   "nbconvert_exporter": "python",
   "pygments_lexer": "ipython3",
   "version": "3.10.6"
  },
  "orig_nbformat": 4,
  "vscode": {
   "interpreter": {
    "hash": "cd16be653e7212c8823498bfcc007b2d6eef9636d8c9052adca71d52ce59af73"
   }
  }
 },
 "nbformat": 4,
 "nbformat_minor": 2
}
