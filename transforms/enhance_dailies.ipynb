{
 "cells": [
  {
   "cell_type": "code",
   "execution_count": 1,
   "metadata": {
    "ExecuteTime": {
     "end_time": "2021-04-08T01:53:04.529817Z",
     "start_time": "2021-04-08T01:52:59.045024Z"
    }
   },
   "outputs": [],
   "source": [
    "import sys\n",
    "import pandas as pd\n",
    "\n",
    "sys.path.append('../')\n",
    "import pyretro.boxball_loader as bbl\n",
    "\n",
    "df = pd.read_parquet(f'{bbl.RETROSHEET_DIR}/daily.parquet')\n",
    "df.shape"
   ]
  },
  {
   "cell_type": "code",
   "execution_count": 3,
   "metadata": {
    "ExecuteTime": {
     "end_time": "2021-04-08T01:53:32.288276Z",
     "start_time": "2021-04-08T01:53:12.117878Z"
    }
   },
   "outputs": [
    {
     "data": {
      "text/plain": [
       "((6314255, 154), (5344339, 154))"
      ]
     },
     "execution_count": 3,
     "metadata": {},
     "output_type": "execute_result"
    }
   ],
   "source": [
    "# Drop duplicates (there are hundreds of thousands of dups in the daily table)\n",
    "dailies = df.sort_values(by=['game_id', 'player_id', 'b_pa']).drop_duplicates(subset=['game_id', 'player_id', 'team_id', 'slot_ct'], keep='first')\n",
    "\n",
    "df.shape, dailies.shape"
   ]
  },
  {
   "cell_type": "code",
   "execution_count": 4,
   "metadata": {
    "ExecuteTime": {
     "end_time": "2021-04-08T01:53:57.436659Z",
     "start_time": "2021-04-08T01:53:45.307469Z"
    }
   },
   "outputs": [
    {
     "data": {
      "text/plain": [
       "(5344339, 155)"
      ]
     },
     "execution_count": 4,
     "metadata": {},
     "output_type": "execute_result"
    }
   ],
   "source": [
    "# Add year\n",
    "dailies['yr'] = dailies['game_dt'].dt.year\n",
    "dailies.shape"
   ]
  },
  {
   "cell_type": "code",
   "execution_count": 8,
   "metadata": {
    "ExecuteTime": {
     "end_time": "2021-04-08T01:53:58.304641Z",
     "start_time": "2021-04-08T01:53:57.437823Z"
    }
   },
   "outputs": [
    {
     "data": {
      "text/plain": [
       "(Index(['game_id', 'team_id', 'game_type', 'team_game_number'], dtype='object'),\n",
       " (456386, 4))"
      ]
     },
     "execution_count": 8,
     "metadata": {},
     "output_type": "execute_result"
    }
   ],
   "source": [
    "# Add game_type and team_game_number from gl_teams\n",
    "glt = bbl.load_gamelog_teams(bbl.GameType.ALL, bbl.Eras.All)[['game_id', 'team', 'game_type', 'team_game_number']].rename(columns={'team': 'team_id'})\n",
    "glt.columns, glt.shape"
   ]
  },
  {
   "cell_type": "code",
   "execution_count": 9,
   "metadata": {
    "ExecuteTime": {
     "end_time": "2021-04-08T01:55:03.209906Z",
     "start_time": "2021-04-08T01:53:59.249716Z"
    }
   },
   "outputs": [
    {
     "data": {
      "text/html": [
       "<div>\n",
       "<style scoped>\n",
       "    .dataframe tbody tr th:only-of-type {\n",
       "        vertical-align: middle;\n",
       "    }\n",
       "\n",
       "    .dataframe tbody tr th {\n",
       "        vertical-align: top;\n",
       "    }\n",
       "\n",
       "    .dataframe thead th {\n",
       "        text-align: right;\n",
       "    }\n",
       "</style>\n",
       "<table border=\"1\" class=\"dataframe\">\n",
       "  <thead>\n",
       "    <tr style=\"text-align: right;\">\n",
       "      <th></th>\n",
       "      <th>game_id</th>\n",
       "      <th>game_dt</th>\n",
       "      <th>game_ct</th>\n",
       "      <th>appearance_dt</th>\n",
       "      <th>team_id</th>\n",
       "      <th>player_id</th>\n",
       "      <th>slot_ct</th>\n",
       "      <th>seq_ct</th>\n",
       "      <th>home_fl</th>\n",
       "      <th>opponent_id</th>\n",
       "      <th>...</th>\n",
       "      <th>f_rf_out</th>\n",
       "      <th>f_rf_tc</th>\n",
       "      <th>f_rf_po</th>\n",
       "      <th>f_rf_a</th>\n",
       "      <th>f_rf_e</th>\n",
       "      <th>f_rf_dp</th>\n",
       "      <th>f_rf_tp</th>\n",
       "      <th>yr</th>\n",
       "      <th>game_type</th>\n",
       "      <th>team_game_number</th>\n",
       "    </tr>\n",
       "  </thead>\n",
       "  <tbody>\n",
       "    <tr>\n",
       "      <th>0</th>\n",
       "      <td>ALS193307060</td>\n",
       "      <td>1933-07-06</td>\n",
       "      <td>0</td>\n",
       "      <td>1933-07-06</td>\n",
       "      <td>ALS</td>\n",
       "      <td>avere101</td>\n",
       "      <td>9</td>\n",
       "      <td>3</td>\n",
       "      <td>True</td>\n",
       "      <td>NLS</td>\n",
       "      <td>...</td>\n",
       "      <td>0.0</td>\n",
       "      <td>0.0</td>\n",
       "      <td>0.0</td>\n",
       "      <td>0.0</td>\n",
       "      <td>0.0</td>\n",
       "      <td>0</td>\n",
       "      <td>0.0</td>\n",
       "      <td>1933</td>\n",
       "      <td>ASG</td>\n",
       "      <td>1</td>\n",
       "    </tr>\n",
       "    <tr>\n",
       "      <th>1</th>\n",
       "      <td>ALS193307060</td>\n",
       "      <td>1933-07-06</td>\n",
       "      <td>0</td>\n",
       "      <td>1933-07-06</td>\n",
       "      <td>ALS</td>\n",
       "      <td>chapb102</td>\n",
       "      <td>1</td>\n",
       "      <td>1</td>\n",
       "      <td>True</td>\n",
       "      <td>NLS</td>\n",
       "      <td>...</td>\n",
       "      <td>3.0</td>\n",
       "      <td>1.0</td>\n",
       "      <td>1.0</td>\n",
       "      <td>0.0</td>\n",
       "      <td>0.0</td>\n",
       "      <td>0</td>\n",
       "      <td>0.0</td>\n",
       "      <td>1933</td>\n",
       "      <td>ASG</td>\n",
       "      <td>1</td>\n",
       "    </tr>\n",
       "    <tr>\n",
       "      <th>2</th>\n",
       "      <td>ALS193307060</td>\n",
       "      <td>1933-07-06</td>\n",
       "      <td>0</td>\n",
       "      <td>1933-07-06</td>\n",
       "      <td>ALS</td>\n",
       "      <td>cronj101</td>\n",
       "      <td>7</td>\n",
       "      <td>1</td>\n",
       "      <td>True</td>\n",
       "      <td>NLS</td>\n",
       "      <td>...</td>\n",
       "      <td>0.0</td>\n",
       "      <td>0.0</td>\n",
       "      <td>0.0</td>\n",
       "      <td>0.0</td>\n",
       "      <td>0.0</td>\n",
       "      <td>0</td>\n",
       "      <td>0.0</td>\n",
       "      <td>1933</td>\n",
       "      <td>ASG</td>\n",
       "      <td>1</td>\n",
       "    </tr>\n",
       "    <tr>\n",
       "      <th>3</th>\n",
       "      <td>ALS193307060</td>\n",
       "      <td>1933-07-06</td>\n",
       "      <td>0</td>\n",
       "      <td>1933-07-06</td>\n",
       "      <td>ALS</td>\n",
       "      <td>crowg102</td>\n",
       "      <td>9</td>\n",
       "      <td>2</td>\n",
       "      <td>True</td>\n",
       "      <td>NLS</td>\n",
       "      <td>...</td>\n",
       "      <td>0.0</td>\n",
       "      <td>0.0</td>\n",
       "      <td>0.0</td>\n",
       "      <td>0.0</td>\n",
       "      <td>0.0</td>\n",
       "      <td>0</td>\n",
       "      <td>0.0</td>\n",
       "      <td>1933</td>\n",
       "      <td>ASG</td>\n",
       "      <td>1</td>\n",
       "    </tr>\n",
       "    <tr>\n",
       "      <th>4</th>\n",
       "      <td>ALS193307060</td>\n",
       "      <td>1933-07-06</td>\n",
       "      <td>0</td>\n",
       "      <td>1933-07-06</td>\n",
       "      <td>ALS</td>\n",
       "      <td>dykej101</td>\n",
       "      <td>6</td>\n",
       "      <td>1</td>\n",
       "      <td>True</td>\n",
       "      <td>NLS</td>\n",
       "      <td>...</td>\n",
       "      <td>0.0</td>\n",
       "      <td>0.0</td>\n",
       "      <td>0.0</td>\n",
       "      <td>0.0</td>\n",
       "      <td>0.0</td>\n",
       "      <td>0</td>\n",
       "      <td>0.0</td>\n",
       "      <td>1933</td>\n",
       "      <td>ASG</td>\n",
       "      <td>1</td>\n",
       "    </tr>\n",
       "  </tbody>\n",
       "</table>\n",
       "<p>5 rows × 157 columns</p>\n",
       "</div>"
      ],
      "text/plain": [
       "        game_id    game_dt  game_ct appearance_dt team_id player_id  slot_ct  \\\n",
       "0  ALS193307060 1933-07-06        0    1933-07-06     ALS  avere101        9   \n",
       "1  ALS193307060 1933-07-06        0    1933-07-06     ALS  chapb102        1   \n",
       "2  ALS193307060 1933-07-06        0    1933-07-06     ALS  cronj101        7   \n",
       "3  ALS193307060 1933-07-06        0    1933-07-06     ALS  crowg102        9   \n",
       "4  ALS193307060 1933-07-06        0    1933-07-06     ALS  dykej101        6   \n",
       "\n",
       "   seq_ct  home_fl opponent_id  ... f_rf_out  f_rf_tc  f_rf_po  f_rf_a  \\\n",
       "0       3     True         NLS  ...      0.0      0.0      0.0     0.0   \n",
       "1       1     True         NLS  ...      3.0      1.0      1.0     0.0   \n",
       "2       1     True         NLS  ...      0.0      0.0      0.0     0.0   \n",
       "3       2     True         NLS  ...      0.0      0.0      0.0     0.0   \n",
       "4       1     True         NLS  ...      0.0      0.0      0.0     0.0   \n",
       "\n",
       "   f_rf_e  f_rf_dp  f_rf_tp    yr  game_type  team_game_number  \n",
       "0     0.0        0      0.0  1933        ASG                 1  \n",
       "1     0.0        0      0.0  1933        ASG                 1  \n",
       "2     0.0        0      0.0  1933        ASG                 1  \n",
       "3     0.0        0      0.0  1933        ASG                 1  \n",
       "4     0.0        0      0.0  1933        ASG                 1  \n",
       "\n",
       "[5 rows x 157 columns]"
      ]
     },
     "execution_count": 9,
     "metadata": {},
     "output_type": "execute_result"
    }
   ],
   "source": [
    "dailies = pd.merge(dailies, glt, on=['game_id', 'team_id'])\n",
    "dailies.head()"
   ]
  },
  {
   "cell_type": "code",
   "execution_count": 6,
   "metadata": {
    "ExecuteTime": {
     "end_time": "2021-04-08T01:55:24.639586Z",
     "start_time": "2021-04-08T01:55:03.213425Z"
    }
   },
   "outputs": [],
   "source": [
    "# Write\n",
    "dailies.to_parquet(f'{bbl.BASE_DATA_DIR}/mine/daily.parquet')"
   ]
  },
  {
   "cell_type": "code",
   "execution_count": 10,
   "metadata": {
    "ExecuteTime": {
     "end_time": "2021-04-08T01:55:24.659747Z",
     "start_time": "2021-04-08T01:55:24.641073Z"
    }
   },
   "outputs": [
    {
     "data": {
      "text/html": [
       "<div>\n",
       "<style scoped>\n",
       "    .dataframe tbody tr th:only-of-type {\n",
       "        vertical-align: middle;\n",
       "    }\n",
       "\n",
       "    .dataframe tbody tr th {\n",
       "        vertical-align: top;\n",
       "    }\n",
       "\n",
       "    .dataframe thead th {\n",
       "        text-align: right;\n",
       "    }\n",
       "</style>\n",
       "<table border=\"1\" class=\"dataframe\">\n",
       "  <thead>\n",
       "    <tr style=\"text-align: right;\">\n",
       "      <th></th>\n",
       "      <th>game_id</th>\n",
       "      <th>game_dt</th>\n",
       "      <th>game_ct</th>\n",
       "      <th>appearance_dt</th>\n",
       "      <th>team_id</th>\n",
       "      <th>player_id</th>\n",
       "      <th>slot_ct</th>\n",
       "      <th>seq_ct</th>\n",
       "      <th>home_fl</th>\n",
       "      <th>opponent_id</th>\n",
       "      <th>...</th>\n",
       "      <th>f_rf_out</th>\n",
       "      <th>f_rf_tc</th>\n",
       "      <th>f_rf_po</th>\n",
       "      <th>f_rf_a</th>\n",
       "      <th>f_rf_e</th>\n",
       "      <th>f_rf_dp</th>\n",
       "      <th>f_rf_tp</th>\n",
       "      <th>yr</th>\n",
       "      <th>game_type</th>\n",
       "      <th>team_game_number</th>\n",
       "    </tr>\n",
       "  </thead>\n",
       "  <tbody>\n",
       "    <tr>\n",
       "      <th>5344334</th>\n",
       "      <td>WS4187205170</td>\n",
       "      <td>1872-05-17</td>\n",
       "      <td>0</td>\n",
       "      <td>1872-05-17</td>\n",
       "      <td>WS4</td>\n",
       "      <td>hollh101</td>\n",
       "      <td>1</td>\n",
       "      <td>1</td>\n",
       "      <td>True</td>\n",
       "      <td>WS3</td>\n",
       "      <td>...</td>\n",
       "      <td>0.0</td>\n",
       "      <td>0.0</td>\n",
       "      <td>0.0</td>\n",
       "      <td>0.0</td>\n",
       "      <td>0.0</td>\n",
       "      <td>0</td>\n",
       "      <td>0.0</td>\n",
       "      <td>1872</td>\n",
       "      <td>RS</td>\n",
       "      <td>7</td>\n",
       "    </tr>\n",
       "    <tr>\n",
       "      <th>5344335</th>\n",
       "      <td>WS4187205170</td>\n",
       "      <td>1872-05-17</td>\n",
       "      <td>0</td>\n",
       "      <td>1872-05-17</td>\n",
       "      <td>WS4</td>\n",
       "      <td>lennb101</td>\n",
       "      <td>3</td>\n",
       "      <td>1</td>\n",
       "      <td>True</td>\n",
       "      <td>WS3</td>\n",
       "      <td>...</td>\n",
       "      <td>0.0</td>\n",
       "      <td>0.0</td>\n",
       "      <td>0.0</td>\n",
       "      <td>0.0</td>\n",
       "      <td>0.0</td>\n",
       "      <td>0</td>\n",
       "      <td>0.0</td>\n",
       "      <td>1872</td>\n",
       "      <td>RS</td>\n",
       "      <td>7</td>\n",
       "    </tr>\n",
       "    <tr>\n",
       "      <th>5344336</th>\n",
       "      <td>WS4187205170</td>\n",
       "      <td>1872-05-17</td>\n",
       "      <td>0</td>\n",
       "      <td>1872-05-17</td>\n",
       "      <td>WS4</td>\n",
       "      <td>mince101</td>\n",
       "      <td>2</td>\n",
       "      <td>1</td>\n",
       "      <td>True</td>\n",
       "      <td>WS3</td>\n",
       "      <td>...</td>\n",
       "      <td>0.0</td>\n",
       "      <td>0.0</td>\n",
       "      <td>0.0</td>\n",
       "      <td>0.0</td>\n",
       "      <td>0.0</td>\n",
       "      <td>0</td>\n",
       "      <td>0.0</td>\n",
       "      <td>1872</td>\n",
       "      <td>RS</td>\n",
       "      <td>7</td>\n",
       "    </tr>\n",
       "    <tr>\n",
       "      <th>5344337</th>\n",
       "      <td>WS4187205170</td>\n",
       "      <td>1872-05-17</td>\n",
       "      <td>0</td>\n",
       "      <td>1872-05-17</td>\n",
       "      <td>WS4</td>\n",
       "      <td>steab101</td>\n",
       "      <td>9</td>\n",
       "      <td>1</td>\n",
       "      <td>True</td>\n",
       "      <td>WS3</td>\n",
       "      <td>...</td>\n",
       "      <td>0.0</td>\n",
       "      <td>0.0</td>\n",
       "      <td>0.0</td>\n",
       "      <td>0.0</td>\n",
       "      <td>0.0</td>\n",
       "      <td>0</td>\n",
       "      <td>0.0</td>\n",
       "      <td>1872</td>\n",
       "      <td>RS</td>\n",
       "      <td>7</td>\n",
       "    </tr>\n",
       "    <tr>\n",
       "      <th>5344338</th>\n",
       "      <td>WS4187205170</td>\n",
       "      <td>1872-05-17</td>\n",
       "      <td>0</td>\n",
       "      <td>1872-05-17</td>\n",
       "      <td>WS4</td>\n",
       "      <td>whitw102</td>\n",
       "      <td>7</td>\n",
       "      <td>1</td>\n",
       "      <td>True</td>\n",
       "      <td>WS3</td>\n",
       "      <td>...</td>\n",
       "      <td>0.0</td>\n",
       "      <td>0.0</td>\n",
       "      <td>0.0</td>\n",
       "      <td>0.0</td>\n",
       "      <td>0.0</td>\n",
       "      <td>0</td>\n",
       "      <td>0.0</td>\n",
       "      <td>1872</td>\n",
       "      <td>RS</td>\n",
       "      <td>7</td>\n",
       "    </tr>\n",
       "  </tbody>\n",
       "</table>\n",
       "<p>5 rows × 157 columns</p>\n",
       "</div>"
      ],
      "text/plain": [
       "              game_id    game_dt  game_ct appearance_dt team_id player_id  \\\n",
       "5344334  WS4187205170 1872-05-17        0    1872-05-17     WS4  hollh101   \n",
       "5344335  WS4187205170 1872-05-17        0    1872-05-17     WS4  lennb101   \n",
       "5344336  WS4187205170 1872-05-17        0    1872-05-17     WS4  mince101   \n",
       "5344337  WS4187205170 1872-05-17        0    1872-05-17     WS4  steab101   \n",
       "5344338  WS4187205170 1872-05-17        0    1872-05-17     WS4  whitw102   \n",
       "\n",
       "         slot_ct  seq_ct  home_fl opponent_id  ... f_rf_out  f_rf_tc  f_rf_po  \\\n",
       "5344334        1       1     True         WS3  ...      0.0      0.0      0.0   \n",
       "5344335        3       1     True         WS3  ...      0.0      0.0      0.0   \n",
       "5344336        2       1     True         WS3  ...      0.0      0.0      0.0   \n",
       "5344337        9       1     True         WS3  ...      0.0      0.0      0.0   \n",
       "5344338        7       1     True         WS3  ...      0.0      0.0      0.0   \n",
       "\n",
       "         f_rf_a  f_rf_e  f_rf_dp  f_rf_tp    yr  game_type  team_game_number  \n",
       "5344334     0.0     0.0        0      0.0  1872         RS                 7  \n",
       "5344335     0.0     0.0        0      0.0  1872         RS                 7  \n",
       "5344336     0.0     0.0        0      0.0  1872         RS                 7  \n",
       "5344337     0.0     0.0        0      0.0  1872         RS                 7  \n",
       "5344338     0.0     0.0        0      0.0  1872         RS                 7  \n",
       "\n",
       "[5 rows x 157 columns]"
      ]
     },
     "execution_count": 10,
     "metadata": {},
     "output_type": "execute_result"
    }
   ],
   "source": [
    "dailies.tail()"
   ]
  },
  {
   "cell_type": "code",
   "execution_count": null,
   "metadata": {},
   "outputs": [],
   "source": []
  }
 ],
 "metadata": {
  "kernelspec": {
   "display_name": "Python 3.10.6 64-bit ('3.10.6')",
   "language": "python",
   "name": "python3"
  },
  "language_info": {
   "codemirror_mode": {
    "name": "ipython",
    "version": 3
   },
   "file_extension": ".py",
   "mimetype": "text/x-python",
   "name": "python",
   "nbconvert_exporter": "python",
   "pygments_lexer": "ipython3",
   "version": "3.9.16"
  },
  "vscode": {
   "interpreter": {
    "hash": "cd16be653e7212c8823498bfcc007b2d6eef9636d8c9052adca71d52ce59af73"
   }
  }
 },
 "nbformat": 4,
 "nbformat_minor": 4
}
