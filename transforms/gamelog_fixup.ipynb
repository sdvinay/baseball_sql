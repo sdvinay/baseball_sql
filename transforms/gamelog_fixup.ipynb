{
 "cells": [
  {
   "cell_type": "code",
   "execution_count": 1,
   "metadata": {},
   "outputs": [],
   "source": [
    "import sys\n",
    "sys.path.append('../')\n",
    "\n",
    "import pandas as pd\n",
    "import datetime as dt\n",
    "\n",
    "import pyretro.boxball_loader as bbl"
   ]
  },
  {
   "cell_type": "code",
   "execution_count": 2,
   "metadata": {},
   "outputs": [
    {
     "data": {
      "text/plain": [
       "'CLE193104140'"
      ]
     },
     "execution_count": 2,
     "metadata": {},
     "output_type": "execute_result"
    }
   ],
   "source": [
    "def generate_game_id(dt, home_team, double_header):\n",
    "    return(home_team + dt.strftime(\"%Y%m%d\") + str(double_header))\n",
    "\n",
    "def generate_game_id_from_row(row):\n",
    "    return (generate_game_id(row['date'], row['home_team'], row['double_header']))\n",
    "\n",
    "generate_game_id(dt.date(1931,4,14), 'CLE', 0)"
   ]
  },
  {
   "cell_type": "code",
   "execution_count": 3,
   "metadata": {},
   "outputs": [
    {
     "data": {
      "text/plain": [
       "'RS'"
      ]
     },
     "execution_count": 3,
     "metadata": {},
     "output_type": "execute_result"
    }
   ],
   "source": [
    "# classify the game as RS/PS/ASG\n",
    "# This simple logic might mis-classify some games.  Will likely need to handle edge cases\n",
    "# This logic will definitely break for 2020\n",
    "\n",
    "# There's value in further breaking down post-season games by round.  Also in having multiple fields\n",
    "# (e.g., boolean fields).  Let's start here, and figure out what makes sense for usability.\n",
    "def get_game_type(dt, home_team, home_team_game_number):\n",
    "    if home_team in ['ALS', 'AL1', 'AL2', 'NLS', 'NL1', 'NL2']:\n",
    "        return 'ASG'\n",
    "    if dt.month >= 9 and home_team_game_number <10:\n",
    "        return 'PS'\n",
    "    else:\n",
    "        return 'RS'\n",
    "    \n",
    "def get_game_type_from_row(row):\n",
    "    return get_game_type(row['date'], row['home_team'], row['home_team_game_number'])\n",
    "    \n",
    "get_game_type(dt.date(1931,6,14), 'CLE', 1)"
   ]
  },
  {
   "cell_type": "code",
   "execution_count": 4,
   "metadata": {},
   "outputs": [
    {
     "data": {
      "text/plain": [
       "(228193, 161)"
      ]
     },
     "execution_count": 4,
     "metadata": {},
     "output_type": "execute_result"
    }
   ],
   "source": [
    "gl = pd.read_parquet(f'{bbl.RETROSHEET_DIR}/gamelog.parquet')\n",
    "gl.shape"
   ]
  },
  {
   "cell_type": "code",
   "execution_count": 5,
   "metadata": {},
   "outputs": [
    {
     "data": {
      "text/plain": [
       "(228193, 164)"
      ]
     },
     "execution_count": 5,
     "metadata": {},
     "output_type": "execute_result"
    }
   ],
   "source": [
    "# Fix the typos in column names\n",
    "column_mapper = {'home_runs_score': 'home_runs_scored', 'vistor_line_score': 'visitor_line_score'}\n",
    "gl = gl.rename(columns=column_mapper)\n",
    "\n",
    "# Add game IDs and years\n",
    "gl['game_id'] = gl.apply(generate_game_id_from_row, axis=1)\n",
    "gl['yr'] = gl['date'].dt.year\n",
    "gl['game_type'] = gl.apply(get_game_type_from_row, axis=1)\n",
    "\n",
    "# Sort by date\n",
    "gl = gl.sort_values(by='date')\n",
    "gl.shape"
   ]
  },
  {
   "cell_type": "code",
   "execution_count": 7,
   "metadata": {},
   "outputs": [],
   "source": [
    "# Write out to parquet\n",
    "gl.to_parquet(f'{bbl.BASE_DATA_DIR}/mine/gamelog_enhanced.parquet')"
   ]
  },
  {
   "cell_type": "code",
   "execution_count": 8,
   "metadata": {},
   "outputs": [],
   "source": [
    "# Let's see if these game IDs match up with those in the game table\n",
    "g = pd.read_parquet(f'{bbl.RETROSHEET_DIR}/game.parquet')\n",
    "g['yr'] = g['game_dt'].dt.year"
   ]
  },
  {
   "cell_type": "code",
   "execution_count": 9,
   "metadata": {},
   "outputs": [
    {
     "data": {
      "text/plain": [
       "True    188294\n",
       "Name: game_id, dtype: int64"
      ]
     },
     "execution_count": 9,
     "metadata": {},
     "output_type": "execute_result"
    }
   ],
   "source": [
    "# Should see that there are no game IDs in game that aren't also in gamelog (e.g. no False values)\n",
    "g['game_id'].isin(gl['game_id']).value_counts()"
   ]
  },
  {
   "cell_type": "code",
   "execution_count": 10,
   "metadata": {},
   "outputs": [
    {
     "data": {
      "text/plain": [
       "True     165834\n",
       "False         3\n",
       "Name: game_id, dtype: int64"
      ]
     },
     "execution_count": 10,
     "metadata": {},
     "output_type": "execute_result"
    }
   ],
   "source": [
    "# We can see that some games in gamelog are missing in the game table\n",
    "gl[gl['yr']>=1934]['game_id'].isin(g[g['yr']>=1934]['game_id']).value_counts()"
   ]
  },
  {
   "cell_type": "code",
   "execution_count": 11,
   "metadata": {},
   "outputs": [
    {
     "data": {
      "text/plain": [
       "<AxesSubplot: >"
      ]
     },
     "execution_count": 11,
     "metadata": {},
     "output_type": "execute_result"
    },
    {
     "data": {
      "image/png": "[encoded data removed]",
      "text/plain": [
       "<Figure size 640x480 with 1 Axes>"
      ]
     },
     "metadata": {},
     "output_type": "display_data"
    }
   ],
   "source": [
    "# We can see that some games are missing in the game table.  How many by year?\n",
    "counts = {}\n",
    "for yr in range(1900, 2023):\n",
    "    counts[yr] = gl[gl['yr']==yr]['game_id'].isin(g[g['yr']==yr]['game_id']).value_counts()\n",
    "\n",
    "pd.DataFrame.from_dict(counts, orient='index').fillna(0).sort_index().plot.line()"
   ]
  },
  {
   "cell_type": "code",
   "execution_count": null,
   "metadata": {},
   "outputs": [],
   "source": []
  }
 ],
 "metadata": {
  "kernelspec": {
   "display_name": "Python 3.10.6 64-bit ('3.10.6')",
   "language": "python",
   "name": "python3"
  },
  "language_info": {
   "codemirror_mode": {
    "name": "ipython",
    "version": 3
   },
   "file_extension": ".py",
   "mimetype": "text/x-python",
   "name": "python",
   "nbconvert_exporter": "python",
   "pygments_lexer": "ipython3",
   "version": "3.9.16"
  },
  "vscode": {
   "interpreter": {
    "hash": "cd16be653e7212c8823498bfcc007b2d6eef9636d8c9052adca71d52ce59af73"
   }
  }
 },
 "nbformat": 4,
 "nbformat_minor": 4
}
